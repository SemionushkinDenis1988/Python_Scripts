{
 "cells": [
  {
   "cell_type": "markdown",
   "metadata": {},
   "source": [
    "# Операции со строками, bitearray"
   ]
  },
  {
   "cell_type": "code",
   "execution_count": 4,
   "metadata": {
    "collapsed": true
   },
   "outputs": [
    {
     "data": {
      "text/plain": [
       "['__add__',\n",
       " '__class__',\n",
       " '__contains__',\n",
       " '__delattr__',\n",
       " '__dir__',\n",
       " '__doc__',\n",
       " '__eq__',\n",
       " '__format__',\n",
       " '__ge__',\n",
       " '__getattribute__',\n",
       " '__getitem__',\n",
       " '__getnewargs__',\n",
       " '__gt__',\n",
       " '__hash__',\n",
       " '__init__',\n",
       " '__init_subclass__',\n",
       " '__iter__',\n",
       " '__le__',\n",
       " '__len__',\n",
       " '__lt__',\n",
       " '__mod__',\n",
       " '__mul__',\n",
       " '__ne__',\n",
       " '__new__',\n",
       " '__reduce__',\n",
       " '__reduce_ex__',\n",
       " '__repr__',\n",
       " '__rmod__',\n",
       " '__rmul__',\n",
       " '__setattr__',\n",
       " '__sizeof__',\n",
       " '__str__',\n",
       " '__subclasshook__',\n",
       " 'capitalize',\n",
       " 'casefold',\n",
       " 'center',\n",
       " 'count',\n",
       " 'encode',\n",
       " 'endswith',\n",
       " 'expandtabs',\n",
       " 'find',\n",
       " 'format',\n",
       " 'format_map',\n",
       " 'index',\n",
       " 'isalnum',\n",
       " 'isalpha',\n",
       " 'isascii',\n",
       " 'isdecimal',\n",
       " 'isdigit',\n",
       " 'isidentifier',\n",
       " 'islower',\n",
       " 'isnumeric',\n",
       " 'isprintable',\n",
       " 'isspace',\n",
       " 'istitle',\n",
       " 'isupper',\n",
       " 'join',\n",
       " 'ljust',\n",
       " 'lower',\n",
       " 'lstrip',\n",
       " 'maketrans',\n",
       " 'partition',\n",
       " 'replace',\n",
       " 'rfind',\n",
       " 'rindex',\n",
       " 'rjust',\n",
       " 'rpartition',\n",
       " 'rsplit',\n",
       " 'rstrip',\n",
       " 'split',\n",
       " 'splitlines',\n",
       " 'startswith',\n",
       " 'strip',\n",
       " 'swapcase',\n",
       " 'title',\n",
       " 'translate',\n",
       " 'upper',\n",
       " 'zfill']"
      ]
     },
     "execution_count": 4,
     "metadata": {},
     "output_type": "execute_result"
    }
   ],
   "source": [
    "dir(S)"
   ]
  },
  {
   "cell_type": "code",
   "execution_count": 1,
   "metadata": {
    "collapsed": true
   },
   "outputs": [
    {
     "data": {
      "text/plain": [
       "['__add__',\n",
       " '__alloc__',\n",
       " '__class__',\n",
       " '__contains__',\n",
       " '__delattr__',\n",
       " '__delitem__',\n",
       " '__dir__',\n",
       " '__doc__',\n",
       " '__eq__',\n",
       " '__format__',\n",
       " '__ge__',\n",
       " '__getattribute__',\n",
       " '__getitem__',\n",
       " '__gt__',\n",
       " '__hash__',\n",
       " '__iadd__',\n",
       " '__imul__',\n",
       " '__init__',\n",
       " '__init_subclass__',\n",
       " '__iter__',\n",
       " '__le__',\n",
       " '__len__',\n",
       " '__lt__',\n",
       " '__mod__',\n",
       " '__mul__',\n",
       " '__ne__',\n",
       " '__new__',\n",
       " '__reduce__',\n",
       " '__reduce_ex__',\n",
       " '__repr__',\n",
       " '__rmod__',\n",
       " '__rmul__',\n",
       " '__setattr__',\n",
       " '__setitem__',\n",
       " '__sizeof__',\n",
       " '__str__',\n",
       " '__subclasshook__',\n",
       " 'append',\n",
       " 'capitalize',\n",
       " 'center',\n",
       " 'clear',\n",
       " 'copy',\n",
       " 'count',\n",
       " 'decode',\n",
       " 'endswith',\n",
       " 'expandtabs',\n",
       " 'extend',\n",
       " 'find',\n",
       " 'fromhex',\n",
       " 'hex',\n",
       " 'index',\n",
       " 'insert',\n",
       " 'isalnum',\n",
       " 'isalpha',\n",
       " 'isascii',\n",
       " 'isdigit',\n",
       " 'islower',\n",
       " 'isspace',\n",
       " 'istitle',\n",
       " 'isupper',\n",
       " 'join',\n",
       " 'ljust',\n",
       " 'lower',\n",
       " 'lstrip',\n",
       " 'maketrans',\n",
       " 'partition',\n",
       " 'pop',\n",
       " 'remove',\n",
       " 'replace',\n",
       " 'reverse',\n",
       " 'rfind',\n",
       " 'rindex',\n",
       " 'rjust',\n",
       " 'rpartition',\n",
       " 'rsplit',\n",
       " 'rstrip',\n",
       " 'split',\n",
       " 'splitlines',\n",
       " 'startswith',\n",
       " 'strip',\n",
       " 'swapcase',\n",
       " 'title',\n",
       " 'translate',\n",
       " 'upper',\n",
       " 'zfill']"
      ]
     },
     "execution_count": 1,
     "metadata": {},
     "output_type": "execute_result"
    }
   ],
   "source": [
    "dir(bytearray) #Изменяемый!Тип данных bytearray является разновидностью типа bytes и поддерживает те же самые методы и операции."
   ]
  },
  {
   "cell_type": "code",
   "execution_count": 5,
   "metadata": {},
   "outputs": [],
   "source": [
    "s = bytearray(b'hello world!')"
   ]
  },
  {
   "cell_type": "code",
   "execution_count": 20,
   "metadata": {
    "collapsed": true
   },
   "outputs": [
    {
     "name": "stdout",
     "output_type": "stream",
     "text": [
      "1 None\n",
      "2 None\n",
      "3 None\n",
      "4 None\n",
      "5 None\n",
      "6 2\n"
     ]
    },
    {
     "ename": "TypeError",
     "evalue": "a bytes-like object is required, not 'int'",
     "output_type": "error",
     "traceback": [
      "\u001b[1;31m---------------------------------------------------------------------------\u001b[0m",
      "\u001b[1;31mTypeError\u001b[0m                                 Traceback (most recent call last)",
      "\u001b[1;32m<ipython-input-20-2aa25f49a4b6>\u001b[0m in \u001b[0;36m<module>\u001b[1;34m\u001b[0m\n\u001b[0;32m      5\u001b[0m \u001b[0mprint\u001b[0m\u001b[1;33m(\u001b[0m\u001b[1;36m5\u001b[0m\u001b[1;33m,\u001b[0m \u001b[0ms\u001b[0m\u001b[1;33m.\u001b[0m\u001b[0minsert\u001b[0m\u001b[1;33m(\u001b[0m\u001b[1;36m1\u001b[0m\u001b[1;33m,\u001b[0m\u001b[1;36m2\u001b[0m\u001b[1;33m)\u001b[0m\u001b[1;33m)\u001b[0m\u001b[1;33m\u001b[0m\u001b[1;33m\u001b[0m\u001b[0m\n\u001b[0;32m      6\u001b[0m \u001b[0mprint\u001b[0m\u001b[1;33m(\u001b[0m\u001b[1;36m6\u001b[0m\u001b[1;33m,\u001b[0m \u001b[0ms\u001b[0m\u001b[1;33m.\u001b[0m \u001b[0mpop\u001b[0m\u001b[1;33m(\u001b[0m\u001b[1;33m)\u001b[0m\u001b[1;33m)\u001b[0m\u001b[1;33m\u001b[0m\u001b[1;33m\u001b[0m\u001b[0m\n\u001b[1;32m----> 7\u001b[1;33m \u001b[0mprint\u001b[0m\u001b[1;33m(\u001b[0m\u001b[1;36m7\u001b[0m\u001b[1;33m,\u001b[0m \u001b[0ms\u001b[0m\u001b[1;33m.\u001b[0m\u001b[0mreplace\u001b[0m\u001b[1;33m(\u001b[0m\u001b[1;36m1\u001b[0m\u001b[1;33m,\u001b[0m\u001b[1;36m2\u001b[0m\u001b[1;33m)\u001b[0m\u001b[1;33m)\u001b[0m\u001b[1;33m\u001b[0m\u001b[1;33m\u001b[0m\u001b[0m\n\u001b[0m\u001b[0;32m      8\u001b[0m \u001b[0mprint\u001b[0m\u001b[1;33m(\u001b[0m\u001b[1;36m8\u001b[0m\u001b[1;33m,\u001b[0m \u001b[0ms\u001b[0m\u001b[1;33m.\u001b[0m\u001b[0mreverse\u001b[0m\u001b[1;33m(\u001b[0m\u001b[1;33m)\u001b[0m\u001b[1;33m)\u001b[0m\u001b[1;33m\u001b[0m\u001b[1;33m\u001b[0m\u001b[0m\n",
      "\u001b[1;31mTypeError\u001b[0m: a bytes-like object is required, not 'int'"
     ]
    }
   ],
   "source": [
    "print(1, s.append(1)) \n",
    "print(2, s.remove(1))\n",
    "print(3, s.extend([1,2,3]))\n",
    "print(4, s.clear())\n",
    "print(5, s.insert(1,2))\n",
    "print(6, s. pop())\n",
    "print(7, s.replace(1,2))\n",
    "print(8, s.reverse())"
   ]
  },
  {
   "cell_type": "code",
   "execution_count": 38,
   "metadata": {},
   "outputs": [
    {
     "name": "stdout",
     "output_type": "stream",
     "text": [
      "1 \tspam, eggs, and spam!{h}\n",
      "2 \tspam, eggs, and spam!{h}\n",
      "3 ww\tspam, eggs, and SPAM!{h}www\n",
      "4 2\n",
      "5 b'\\tspam, eggs, and SPAM!{h}'\n",
      "6 False\n",
      "7   spam, eggs, and SPAM!{h}\n",
      "8 1\n",
      "9 \tspam, eggs, and SPAM!fusk\n",
      "10 1\n",
      "11 False\n",
      "12 False\n",
      "13 True\n",
      "14 False\n",
      "15 False\n",
      "16 False\n",
      "17 False\n",
      "18 False\n",
      "19 False\n",
      "20 False\n",
      "21 False\n",
      "22 a\tspam, eggs, and SPAM!{h}b\n",
      "23 \tspam, eggs, and spam!{h}\n",
      "24 spam, eggs, and SPAM!{h}\n",
      "25 {103: 'l'}\n",
      "26 ('\\tspam,', ' ', 'eggs, and SPAM!{h}')\n",
      "27 \tbpam, eggb, and SPAM!{h}\n",
      "28 10\n",
      "29 10\n",
      "30 zzzzz\tspam, eggs, and SPAM!{h}\n",
      "31 ('\\tspam, eggs, and', ' ', 'SPAM!{h}')\n",
      "32 ['spam,', 'eggs,', 'and', 'SPAM!{h}']\n",
      "33 \tspam, eggs, and SPAM!{h}\n",
      "34 ['spam,', 'eggs,', 'and', 'SPAM!{h}']\n",
      "35 ['\\tspam, eggs, and SPAM!{h}']\n",
      "36 False\n",
      "37 spam, eggs, and SPAM!{h}\n",
      "38 \tSPAM, EGGS, AND spam!{H}\n",
      "39 \tSpam, Eggs, And Spam!{H}\n",
      "31 \tspam, ells, and SPAM!{h}\n",
      "32 \tSPAM, EGGS, AND SPAM!{H}\n",
      "33 00000\tspam, eggs, and SPAM!{h}\n",
      "34 ['\\t', ' ', ' ', ' ', '!', ',', ',', 'A', 'M', 'P', 'S', 'a', 'a', 'd', 'e', 'g', 'g', 'h', 'm', 'n', 'p', 's', 's', '{', '}']\n",
      "35 spam, eggs, and SPAM!\n",
      "36 spam, eggs, and SPAM!\n"
     ]
    }
   ],
   "source": [
    "S =\"\\tspam, eggs, and SPAM!{h}\"\n",
    "print(1, S.capitalize()) #делает первую букву заглавной\n",
    "print(2, S.casefold()) #агрессивно приводит к нижнему регистру\n",
    "print(3, S.center(30, 'w')) #расширяет строку до 30 символов символами в ковычках\n",
    "print(4, S.count('s')) #считает количество вхождений в строку\n",
    "print(5, S.encode()) #кодирует\n",
    "print(6, S.endswith('s')) #проверяет заканчивается ли строка символом в ковычках\n",
    "print(7, S.expandtabs(tabsize = 2)) #заменяет таб на количество пробелов\n",
    "print(8, S.find('ssss'[3:4])) #находит первое вхождение в строку\n",
    "print(9, S.format_map(dict(h = 'fusk'))) #вставляет в фигурные скобки символ из словаря\n",
    "print(10, S.index('ssss'[3:4])) #возвращает индекс вхождения\n",
    "print(11, S.isalpha()) # Проверка содержимого: isalpha, isdigit и так далее\n",
    "print(12, S.isalnum()) #проверяет все ли символы в строке буквы и цифры\n",
    "print(13, S.isascii()) #проверяет на вхождение в ASCII\n",
    "print(14, S.isdigit()) #проверяет все ли символы - цифры\n",
    "print(15, S.isidentifier()) #проверяет является ли строка идентификатором языка Python\n",
    "print(16, S.islower()) #проверяет все символы на нижний регистр\n",
    "print(17, S.isnumeric()) #проверяет все символы на цифры\n",
    "print(18, S.isprintable()) #проверяет можно ли вывести символы в печать\n",
    "print(19, S.isspace()) #проверяет является ли строка пустой\n",
    "print(20, S.istitle()) #проверяет первую букву на заглавие\n",
    "print(21, S.isupper()) #проверяет все буквы на заглавие\n",
    "print(22, S.join(['a','b'])) #объединяет строки \"а\" \"S\" и \"b\", или заменяет S на одну строку если 1 аргумент\n",
    "print(23, S.lower()) #переводит в нижний регистр\n",
    "print(24, S.lstrip()) #удаляет слева пробелы табы\n",
    "print(25, S.maketrans({'g':'l'})) #создает словарь для перевода в функции транслейт\n",
    "print(26, S.partition(' ')) #разбивает строку на кортеж из трех составных частей\n",
    "print(27, S.replace('s','b')) #заменяет 's' на 'b'\n",
    "print(28, S.rfind('s')) #ищет вхождение начиная справа\n",
    "print(29, S.rindex('s')) # ищет индекс начиная справа\n",
    "print(30, S.rjust(30,'z')) #добавляет символы 'z' слева до достижения длины 30\n",
    "print(31, S.rpartition(' ')) #разбивает на кортеж из трех частей начиная справа\n",
    "print(32, S.rsplit()) #создает список начиная справа\n",
    "print(33, S.rstrip()) #удаляет табы пробелы только справа\n",
    "print(34, S.split()) #создает список из строки по разделителю\n",
    "print(35, S.splitlines(True)) #разбивает строку по \\n \\r на множество строк\n",
    "print(36, S.startswith('s')) #проверяет начинается ли строка с 's'\n",
    "print(37, S.strip()) #удаляется табуляции и пробелы\n",
    "print(38, S.swapcase()) #обращает регистры в строке\n",
    "print(39, S.title()) #меняет первую букву в каждом слове на заглавную\n",
    "print(31, S.translate({103: 'l'})) #переводит по словарю из функции maketrans\n",
    "print(32, S.upper()) #поднимает строку в верхний регистр\n",
    "print(33, S.zfill(30)) #добавляет нули в начале строки чтобы она стала блиной указанной в скобках\n",
    "print(34, sorted(S)) #возвращает сортированный список разбитой по буквам строки\n",
    "print(35, '%s, eggs, and %s' % ('spam', 'SPAM!')) # Формат строки\n",
    "print(36, '{0}, eggs, and {1}'.format('spam', 'SPAM!')) # Формат строки"
   ]
  },
  {
   "cell_type": "code",
   "execution_count": 9,
   "metadata": {},
   "outputs": [
    {
     "data": {
      "text/plain": [
       "5"
      ]
     },
     "execution_count": 9,
     "metadata": {},
     "output_type": "execute_result"
    }
   ],
   "source": [
    ">>> S = 'A\\nB\\tC' # \\n – это символ “конец строки”, \\t – символ табуляции\n",
    ">>> len(S) # Каждая из этих пар соответствует единственному символу"
   ]
  },
  {
   "cell_type": "code",
   "execution_count": 10,
   "metadata": {},
   "outputs": [
    {
     "data": {
      "text/plain": [
       "10"
      ]
     },
     "execution_count": 10,
     "metadata": {},
     "output_type": "execute_result"
    }
   ],
   "source": [
    ">>> ord('\\n') # В ASCII \\n – это байт с числовым значением 10 ord Return the Unicode code point for a one-character string."
   ]
  },
  {
   "cell_type": "code",
   "execution_count": 11,
   "metadata": {},
   "outputs": [
    {
     "data": {
      "text/plain": [
       "' aaaaaaaaaaaaa\\nbbb\\'\\'\\'bbbbbbbbbb\"\"bbbbbbb\\'bbbb\\ncccccccccccccc'"
      ]
     },
     "execution_count": 11,
     "metadata": {},
     "output_type": "execute_result"
    }
   ],
   "source": [
    ">>> msg = \"\"\" aaaaaaaaaaaaa\n",
    "bbb'''bbbbbbbbbb\"\"bbbbbbb'bbbb\n",
    "cccccccccccccc\"\"\"\n",
    ">>> msg"
   ]
  },
  {
   "cell_type": "code",
   "execution_count": null,
   "metadata": {},
   "outputs": [],
   "source": [
    "r\"C:\\new\\test.spm\" #неформатированная(сырая) строка"
   ]
  },
  {
   "cell_type": "code",
   "execution_count": 12,
   "metadata": {},
   "outputs": [
    {
     "data": {
      "text/plain": [
       "5"
      ]
     },
     "execution_count": 12,
     "metadata": {},
     "output_type": "execute_result"
    }
   ],
   "source": [
    ">>> S = 'A\\0B\\0C' # \\0 – это двоичный ноль, не является завершителем строки\n",
    ">>> len(S)"
   ]
  },
  {
   "cell_type": "code",
   "execution_count": 24,
   "metadata": {},
   "outputs": [
    {
     "data": {
      "text/plain": [
       "'a\\nb\\tc'"
      ]
     },
     "execution_count": 24,
     "metadata": {},
     "output_type": "execute_result"
    }
   ],
   "source": [
    "'a\\nb\\tc' #код выводится как он есть в отличии от print('a\\nb\\tc')"
   ]
  },
  {
   "cell_type": "code",
   "execution_count": 25,
   "metadata": {},
   "outputs": [
    {
     "name": "stdout",
     "output_type": "stream",
     "text": [
      "a\n",
      "b\tc\n"
     ]
    }
   ],
   "source": [
    "print('a\\nb\\tc') #функция print обрабатывает служебные символы"
   ]
  },
  {
   "cell_type": "code",
   "execution_count": 20,
   "metadata": {},
   "outputs": [
    {
     "data": {
      "text/plain": [
       "5"
      ]
     },
     "execution_count": 20,
     "metadata": {},
     "output_type": "execute_result"
    }
   ],
   "source": [
    "len('a\\0b\\0c') #\\0 – это двоичный ноль"
   ]
  },
  {
   "cell_type": "code",
   "execution_count": 18,
   "metadata": {
    "scrolled": true
   },
   "outputs": [
    {
     "data": {
      "text/plain": [
       "3"
      ]
     },
     "execution_count": 18,
     "metadata": {},
     "output_type": "execute_result"
    }
   ],
   "source": [
    "len('\\001\\002\\x03') #кодированные символы"
   ]
  },
  {
   "cell_type": "code",
   "execution_count": 26,
   "metadata": {},
   "outputs": [
    {
     "data": {
      "text/plain": [
       "'C:\\\\py\\\\code'"
      ]
     },
     "execution_count": 26,
     "metadata": {},
     "output_type": "execute_result"
    }
   ],
   "source": [
    ">>> x = \"C:\\py\\code\" #если нет служебного символа в таблице, происходит автоматическое экранирование\n",
    "x"
   ]
  },
  {
   "cell_type": "code",
   "execution_count": 36,
   "metadata": {
    "scrolled": true
   },
   "outputs": [
    {
     "name": "stdout",
     "output_type": "stream",
     "text": [
      "115\n",
      "T\n"
     ]
    }
   ],
   "source": [
    "print(ord('s')) #возвращает фактическое числовое значение соответствующего байта в памяти\n",
    "print(chr(ord(\"S\") + 1)) #преобразование"
   ]
  },
  {
   "cell_type": "code",
   "execution_count": 37,
   "metadata": {},
   "outputs": [
    {
     "data": {
      "text/plain": [
       "13"
      ]
     },
     "execution_count": 37,
     "metadata": {},
     "output_type": "execute_result"
    }
   ],
   "source": [
    ">>> B = '1101' # Двоичные цифры преобразуются в числа с помощью функции ord\n",
    ">>> I = 0\n",
    ">>> while B != '':\n",
    "        I = I * 2 + (ord(B[0]) - ord('0'))\n",
    "        B = B[1:]\n",
    "I"
   ]
  },
  {
   "cell_type": "code",
   "execution_count": 33,
   "metadata": {},
   "outputs": [
    {
     "name": "stdout",
     "output_type": "stream",
     "text": [
      "s\n"
     ]
    }
   ],
   "source": [
    "print(chr(115)) #обратная операция к ord"
   ]
  },
  {
   "cell_type": "markdown",
   "metadata": {},
   "source": [
    "# Срезы (slices)"
   ]
  },
  {
   "cell_type": "code",
   "execution_count": 30,
   "metadata": {
    "scrolled": true
   },
   "outputs": [
    {
     "name": "stdout",
     "output_type": "stream",
     "text": [
      "TCGG\n",
      "fdec\n",
      "slice(1, 3, None)\n"
     ]
    }
   ],
   "source": [
    "print('ATTCGGAGCT'[1:-1:2]) # третий индекс - шаг смещения\n",
    "print('abcedfg'[5:1:-1]) # третий индекс - шаг смещения\n",
    "print(slice(1, 3)) #синтаксис объекта среза\n"
   ]
  },
  {
   "cell_type": "markdown",
   "metadata": {},
   "source": [
    "# Служебные символы. Экранирование"
   ]
  },
  {
   "cell_type": "code",
   "execution_count": null,
   "metadata": {},
   "outputs": [],
   "source": [
    "#\\newline Игнорируется (продолжение на новой строке)\n",
    "#\\\\ Сам символ обратного слеша (остается один символ \\)\n",
    "#\\’ Апостроф (остается один символ ‘)\n",
    "#\\” Кавычка (остается один символ “)\n",
    "#\\a Звонок\n",
    "#\\b Забой\n",
    "#\\f Перевод формата\n",
    "#\\n Новая строка (перевод строки)\n",
    "#\\r Возврат каретки\n",
    "#\\t Горизонтальная табуляция\n",
    "#\\v Вертикальная табуляция\n",
    "#\\xhh Символ с шестнадцатеричным кодом hh\n",
    "#(не более 2 цифр)\n",
    "#\\ooo Символ с восьмеричным кодом ooo (не более 3 цифр)\n",
    "#\\0 Символ Null (не признак конца строки)\n",
    "#\\N{id} Идентификатор ID базы данных Юникода\n",
    "#\\uhhhh 16-битный символ Юникода в шестнадцатеричном\n",
    "#представлении\n",
    "#\\Uhhhhhhhh 32-битный символ Юникода в шестнадцатеричном\n",
    "#представленииa\n",
    "#\\другое Не является экранированной последовательностью\n",
    "#(символ обратного слеша сохраняется)"
   ]
  },
  {
   "cell_type": "markdown",
   "metadata": {},
   "source": [
    "# Форматирование текста через % и по методу format(python 3.0)"
   ]
  },
  {
   "cell_type": "markdown",
   "metadata": {},
   "source": [
    "### %"
   ]
  },
  {
   "cell_type": "code",
   "execution_count": 4,
   "metadata": {},
   "outputs": [
    {
     "data": {
      "text/plain": [
       "'integers: ...1234...1234  ...001234'"
      ]
     },
     "execution_count": 4,
     "metadata": {},
     "output_type": "execute_result"
    }
   ],
   "source": [
    ">>> x = 1234\n",
    ">>> res = \"integers: ...%d...%-6d...%06d\" % (x, x, x) #-6 и 06 дополнительные параметры спецификатора \n",
    ">>> res"
   ]
  },
  {
   "cell_type": "code",
   "execution_count": 5,
   "metadata": {},
   "outputs": [
    {
     "data": {
      "text/plain": [
       "'1.234568e+00 | 1.234568 | 1.23457'"
      ]
     },
     "execution_count": 5,
     "metadata": {},
     "output_type": "execute_result"
    }
   ],
   "source": [
    ">>> x = 1.23456789\n",
    ">>> '%e | %f | %g' % (x, x, x) #разный спецификатор - разное отображение чисел\n"
   ]
  },
  {
   "cell_type": "code",
   "execution_count": 7,
   "metadata": {
    "scrolled": true
   },
   "outputs": [
    {
     "data": {
      "text/plain": [
       "'1.234568E+00'"
      ]
     },
     "execution_count": 7,
     "metadata": {},
     "output_type": "execute_result"
    }
   ],
   "source": [
    "'%E' % x #Е в верхнем регистре"
   ]
  },
  {
   "cell_type": "code",
   "execution_count": 10,
   "metadata": {},
   "outputs": [
    {
     "data": {
      "text/plain": [
       "'1.23   | 01.23 | +001.2'"
      ]
     },
     "execution_count": 10,
     "metadata": {},
     "output_type": "execute_result"
    }
   ],
   "source": [
    ">>> x = 1.23456789 \n",
    ">>> '%-6.2f | %05.2f | %+06.1f' % (x, x, x) #разные спецификаторы и их влияние"
   ]
  },
  {
   "cell_type": "code",
   "execution_count": 11,
   "metadata": {},
   "outputs": [
    {
     "data": {
      "text/plain": [
       "('1.23456789', '1.23456789')"
      ]
     },
     "execution_count": 11,
     "metadata": {},
     "output_type": "execute_result"
    }
   ],
   "source": [
    "'%s' % x, str(x)"
   ]
  },
  {
   "cell_type": "code",
   "execution_count": 15,
   "metadata": {},
   "outputs": [
    {
     "data": {
      "text/plain": [
       "'0.333333, 0.33, 0.3333'"
      ]
     },
     "execution_count": 15,
     "metadata": {},
     "output_type": "execute_result"
    }
   ],
   "source": [
    "'%f, %.2f, %.*f' % (1/3.0, 1/3.0, 4, 1/3.0) #число 4 в кортеже соответствует знаку \"*\" в идентификаторе \n",
    "#и определяет количество знаков после запятой"
   ]
  },
  {
   "cell_type": "code",
   "execution_count": 16,
   "metadata": {
    "scrolled": true
   },
   "outputs": [
    {
     "data": {
      "text/plain": [
       "'1 spam'"
      ]
     },
     "execution_count": 16,
     "metadata": {},
     "output_type": "execute_result"
    }
   ],
   "source": [
    ">>> \"%(n)d %(x)s\" % {\"n\":1, \"x\":\"spam\"} #форматирование из словаря, ключи словаря указаны в скобках спецификатора"
   ]
  },
  {
   "cell_type": "code",
   "execution_count": 21,
   "metadata": {},
   "outputs": [
    {
     "name": "stdout",
     "output_type": "stream",
     "text": [
      "\n",
      "Greetings...\n",
      "Hello Bob!\n",
      "Your age squared is 40\n",
      "\n"
     ]
    }
   ],
   "source": [
    ">>> reply = \"\"\"\n",
    "Greetings...\n",
    "Hello %(name)s!\n",
    "Your age squared is %(age)s\n",
    "\"\"\"\n",
    ">>> values = {'name': 'Bob', 'age': 40}\n",
    "print(reply % values)                            #форматирование из словаря"
   ]
  },
  {
   "cell_type": "markdown",
   "metadata": {},
   "source": [
    "### format"
   ]
  },
  {
   "cell_type": "code",
   "execution_count": 25,
   "metadata": {},
   "outputs": [
    {
     "data": {
      "text/plain": [
       "'spam, eggs and ham'"
      ]
     },
     "execution_count": 25,
     "metadata": {},
     "output_type": "execute_result"
    }
   ],
   "source": [
    "template = '{0}, {2} and {1}'              #Можно указывать порядковые номера позиционных аргументов\n",
    ">>> template.format('spam', 'ham', 'eggs')"
   ]
  },
  {
   "cell_type": "code",
   "execution_count": 29,
   "metadata": {},
   "outputs": [
    {
     "data": {
      "text/plain": [
       "'ham, spam and eggs'"
      ]
     },
     "execution_count": 29,
     "metadata": {},
     "output_type": "execute_result"
    }
   ],
   "source": [
    ">>> template = '{pork}, {0} and {food}' #Можно указывать Имена именованных аргументов или номера неименованных\n",
    ">>> template.format('spam', pork='ham', food='eggs')"
   ]
  },
  {
   "cell_type": "code",
   "execution_count": 30,
   "metadata": {},
   "outputs": [
    {
     "data": {
      "text/plain": [
       "'My laptop runs win32'"
      ]
     },
     "execution_count": 30,
     "metadata": {},
     "output_type": "execute_result"
    }
   ],
   "source": [
    ">>> import sys\n",
    ">>> 'My {1[spam]} runs {0.platform}'.format(sys, {'spam': 'laptop'}) #позиционные аргументы"
   ]
  },
  {
   "cell_type": "code",
   "execution_count": 31,
   "metadata": {},
   "outputs": [
    {
     "data": {
      "text/plain": [
       "'My laptop runs win32'"
      ]
     },
     "execution_count": 31,
     "metadata": {},
     "output_type": "execute_result"
    }
   ],
   "source": [
    ">>> import sys\n",
    ">>> 'My {config[spam]} runs {sys.platform}'.format(sys=sys,config={'spam': 'laptop'}) #именованные аргументы"
   ]
  },
  {
   "cell_type": "code",
   "execution_count": 42,
   "metadata": {},
   "outputs": [
    {
     "data": {
      "text/plain": [
       "'first=S, third=A'"
      ]
     },
     "execution_count": 42,
     "metadata": {},
     "output_type": "execute_result"
    }
   ],
   "source": [
    ">>> somelist = list('SPAM')\n",
    ">>> somelist\n",
    ">>> 'first={0[0]}, third={0[2]}'.format(somelist) #обращение по индексу (может быть только положительным)"
   ]
  },
  {
   "cell_type": "code",
   "execution_count": null,
   "metadata": {},
   "outputs": [],
   "source": [
    "#Спецификатор\n",
    "#{fieldname!conversionflag:formatspec}\n",
    "#Поля спецификатора имеют следующий смысл:\n",
    "#•• fieldname – порядковый номер или имя именованного аргумента, за кото-\n",
    "#рым может следовать необязательное имя «.name» атрибута или индекс\n",
    "#«[index]» элемента.\n",
    "#•• conversionflag – может быть r, s или a, которые определяют применение\n",
    "#к значению встроенной функции repr, str или ascii соответственно.\n",
    "#•• formatspec – определяет способ представления значения, описывает такие\n",
    "#характеристики представления, как ширина поля вывода, выравнивание,\n",
    "#дополнение, количество знаков после десятичной точки и так далее, и за-\n",
    "#вершается необязательным кодом типа значения.\n",
    "#Поле formatspec, следующее за двоеточием, в общем виде имеет следующий\n",
    "#синтаксис (квадратные скобки окружают необязательные компоненты и не\n",
    "#имеют отношения к синтаксису поля):\n",
    "#[[fill]align][sign][#][0][width][.precision][typecode]"
   ]
  },
  {
   "cell_type": "code",
   "execution_count": 47,
   "metadata": {},
   "outputs": [
    {
     "name": "stdout",
     "output_type": "stream",
     "text": [
      "spam       =   123.4567\n",
      "      spam = 123.4567  \n",
      "     win32 = laptop    \n"
     ]
    }
   ],
   "source": [
    "print('{0:10} = {1:10}'.format('spam', 123.4567)) #без дополнительных опций спецификатора\n",
    "print('{0:>10} = {1:<10}'.format('spam', 123.4567)) #выравнивание по краям\n",
    "print('{0.platform:>10} = {1[item]:<10}'.format(sys, dict(item = 'laptop'))) #выравнивание по краям"
   ]
  },
  {
   "cell_type": "code",
   "execution_count": 49,
   "metadata": {
    "scrolled": true
   },
   "outputs": [
    {
     "name": "stdout",
     "output_type": "stream",
     "text": [
      "3.141590e+00, 3.142e+00, 3.14159\n",
      "3.141590, 3.14, 003.14\n"
     ]
    }
   ],
   "source": [
    "print('{0:e}, {1:.3e}, {2:g}'.format(3.14159, 3.14159, 3.14159)) # второй идентификатор - 3 знака после точки\n",
    "print('{0:f}, {1:.2f}, {2:06.2f}'.format(3.14159, 3.14159, 3.14159)) #второй и третий идентиф задают настройки ширины и формата"
   ]
  },
  {
   "cell_type": "code",
   "execution_count": 50,
   "metadata": {
    "scrolled": true
   },
   "outputs": [
    {
     "name": "stdout",
     "output_type": "stream",
     "text": [
      "FF, 377, 11111111\n"
     ]
    }
   ],
   "source": [
    "print('{0:X}, {1:o}, {2:b}'.format(255, 255, 255)) # Шестнадцатеричное, восьмеричное и двоичное представление)"
   ]
  },
  {
   "cell_type": "code",
   "execution_count": 51,
   "metadata": {},
   "outputs": [
    {
     "data": {
      "text/plain": [
       "'1.23'"
      ]
     },
     "execution_count": 51,
     "metadata": {},
     "output_type": "execute_result"
    }
   ],
   "source": [
    "format(1.2345, '.2f') # Встроенная функция format"
   ]
  },
  {
   "cell_type": "code",
   "execution_count": 52,
   "metadata": {},
   "outputs": [
    {
     "data": {
      "text/plain": [
       "'My laptop   runs    win32'"
      ]
     },
     "execution_count": 52,
     "metadata": {},
     "output_type": "execute_result"
    }
   ],
   "source": [
    ">>> data = dict(platform=sys.platform, spam='laptop')\n",
    ">>> 'My {spam:<8} runs {platform:>8}'.format(**data) #аргумент **data????"
   ]
  },
  {
   "cell_type": "code",
   "execution_count": 54,
   "metadata": {},
   "outputs": [
    {
     "data": {
      "text/plain": [
       "10"
      ]
     },
     "execution_count": 54,
     "metadata": {},
     "output_type": "execute_result"
    }
   ],
   "source": [
    "ord(\"\\n\")"
   ]
  },
  {
   "cell_type": "markdown",
   "metadata": {},
   "source": [
    "# Спецификаторы форматирования"
   ]
  },
  {
   "cell_type": "code",
   "execution_count": null,
   "metadata": {},
   "outputs": [],
   "source": [
    "#Синтаксис спецификатора %[(name)][flags][width][.precision]code, где \n",
    "#code - это символ из списка ниже\n",
    "#name - это ключ в словаре\n",
    "#flag - список флагов\n",
    "#[width][.precision] ?????\n",
    "\n",
    "#s Строка (для объекта любого другого типа будет выполнен вызов функции str(X), чтобы получить строковое представление объекта)\n",
    "#r s, но использует функцию repr, а не str\n",
    "#c Символ\n",
    "#d Десятичное (целое) число\n",
    "#i Целое число\n",
    "#u То же, что и d (устарел: больше не является представлением целого без знака)\n",
    "#o Восьмеричное целое число\n",
    "#x Шестнадцатеричное целое число\n",
    "#X x, но шестнадцатеричные цифры возвращаются в верхнемрегистре\n",
    "#e Вещественное число в экспоненциальной форме\n",
    "#E e, но алфавитные символы возвращаются в верхнемрегистре\n",
    "#f Вещественное число в десятичном представлении\n",
    "#F Вещественное число в десятичном представлении\n",
    "#g Вещественное число e или f\n",
    "#G Вещественное число E или а\n",
    "#% Символ %"
   ]
  },
  {
   "cell_type": "code",
   "execution_count": null,
   "metadata": {},
   "outputs": [],
   "source": []
  }
 ],
 "metadata": {
  "kernelspec": {
   "display_name": "Python 3",
   "language": "python",
   "name": "python3"
  },
  "language_info": {
   "codemirror_mode": {
    "name": "ipython",
    "version": 3
   },
   "file_extension": ".py",
   "mimetype": "text/x-python",
   "name": "python",
   "nbconvert_exporter": "python",
   "pygments_lexer": "ipython3",
   "version": "3.7.3"
  }
 },
 "nbformat": 4,
 "nbformat_minor": 2
}
