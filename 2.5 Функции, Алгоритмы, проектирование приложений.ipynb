{
 "cells": [
  {
   "cell_type": "markdown",
   "metadata": {},
   "source": [
    "# Функции, проектирование приложений"
   ]
  },
  {
   "cell_type": "code",
   "execution_count": null,
   "metadata": {},
   "outputs": [],
   "source": [
    "#Проектирование приложения\n",
    "#Необходимо проектировать приложение, а не просто писать код\n",
    "#для этого надо использовать функции"
   ]
  },
  {
   "cell_type": "markdown",
   "metadata": {},
   "source": [
    "# Big O notation"
   ]
  },
  {
   "cell_type": "code",
   "execution_count": null,
   "metadata": {},
   "outputs": [],
   "source": [
    "#f(x) = O(g(x)) означает, что при увеличении x отношение f(x)/g(x) остается ограниченным по величине.\n",
    "\n",
    "#Определить точное время выполнения алгоритма по этой нотации нельзя, но кое-какие выводы о росте времени получить можно.\n",
    "\n",
    "#O(1) - затраты времени не зависят от размера задачи\n",
    "#O(log(n)) - при увеличении размера задачи вдвое, затраты времени меняются на постоянную величину\n",
    "#O(n) - при увеличении размера задачи в 2 раза, затраты времени возрастут тоже в два раза\n",
    "#O(n^2) - при увеличении размера задачи в 2 раза, затраты времени возрастут примерно в четыре раза\n",
    "#O(n*log(n)) - при увеличении задачи в два раза, затраты времени возрастут в два раза, плюс некоторая прибавка, относительный вклад которой уменьшается с ростом n. При малых n может вносить очень большой вклад. O(n*log(n)) начинает расти как квадрат при малых n, но потом рост замедляется почти до линейного\n",
    "#O(n^p) - полиномиальный алгоритмы, остающиеся мечтой для некоторых задач.\n",
    "#O(a^n), O(n!), O(n^n) - неполиномиальные алгоритмы, в порядке ускорения увеличения затрат времени"
   ]
  },
  {
   "cell_type": "markdown",
   "metadata": {},
   "source": [
    "# Атрибуты функции"
   ]
  },
  {
   "cell_type": "code",
   "execution_count": 28,
   "metadata": {
    "collapsed": true
   },
   "outputs": [
    {
     "data": {
      "text/plain": [
       "['__annotations__',\n",
       " '__call__',\n",
       " '__class__',\n",
       " '__closure__',\n",
       " '__code__',\n",
       " '__defaults__',\n",
       " '__delattr__',\n",
       " '__dict__',\n",
       " '__dir__',\n",
       " '__doc__',\n",
       " '__eq__',\n",
       " '__format__',\n",
       " '__ge__',\n",
       " '__get__',\n",
       " '__getattribute__',\n",
       " '__globals__',\n",
       " '__gt__',\n",
       " '__hash__',\n",
       " '__init__',\n",
       " '__init_subclass__',\n",
       " '__kwdefaults__',\n",
       " '__le__',\n",
       " '__lt__',\n",
       " '__module__',\n",
       " '__name__',\n",
       " '__ne__',\n",
       " '__new__',\n",
       " '__qualname__',\n",
       " '__reduce__',\n",
       " '__reduce_ex__',\n",
       " '__repr__',\n",
       " '__setattr__',\n",
       " '__sizeof__',\n",
       " '__str__',\n",
       " '__subclasshook__']"
      ]
     },
     "execution_count": 28,
     "metadata": {},
     "output_type": "execute_result"
    }
   ],
   "source": [
    "    def f():\n",
    "        a,b = 2,3\n",
    "dir(f) #функция это объект, у которого есть свои атрибуты\n",
    "#Атрибу-\n",
    "#ты связаны с объектами, а не с областями видимости, но конечный эффект от\n",
    "#их использования получается тот же."
   ]
  },
  {
   "cell_type": "code",
   "execution_count": 29,
   "metadata": {
    "collapsed": true
   },
   "outputs": [
    {
     "data": {
      "text/plain": [
       "['__class__',\n",
       " '__delattr__',\n",
       " '__dir__',\n",
       " '__doc__',\n",
       " '__eq__',\n",
       " '__format__',\n",
       " '__ge__',\n",
       " '__getattribute__',\n",
       " '__gt__',\n",
       " '__hash__',\n",
       " '__init__',\n",
       " '__init_subclass__',\n",
       " '__le__',\n",
       " '__lt__',\n",
       " '__ne__',\n",
       " '__new__',\n",
       " '__reduce__',\n",
       " '__reduce_ex__',\n",
       " '__repr__',\n",
       " '__setattr__',\n",
       " '__sizeof__',\n",
       " '__str__',\n",
       " '__subclasshook__',\n",
       " 'co_argcount',\n",
       " 'co_cellvars',\n",
       " 'co_code',\n",
       " 'co_consts',\n",
       " 'co_filename',\n",
       " 'co_firstlineno',\n",
       " 'co_flags',\n",
       " 'co_freevars',\n",
       " 'co_kwonlyargcount',\n",
       " 'co_lnotab',\n",
       " 'co_name',\n",
       " 'co_names',\n",
       " 'co_nlocals',\n",
       " 'co_stacksize',\n",
       " 'co_varnames']"
      ]
     },
     "execution_count": 29,
     "metadata": {},
     "output_type": "execute_result"
    }
   ],
   "source": [
    ">>> dir(f.__code__)"
   ]
  },
  {
   "cell_type": "code",
   "execution_count": 30,
   "metadata": {},
   "outputs": [
    {
     "data": {
      "text/plain": [
       "('a', 'b')"
      ]
     },
     "execution_count": 30,
     "metadata": {},
     "output_type": "execute_result"
    }
   ],
   "source": [
    ">>> f.__code__.co_varnames #имена переменных функции"
   ]
  },
  {
   "cell_type": "code",
   "execution_count": 27,
   "metadata": {
    "collapsed": true
   },
   "outputs": [
    {
     "data": {
      "text/plain": [
       "['__annotations__',\n",
       " '__call__',\n",
       " '__class__',\n",
       " '__closure__',\n",
       " '__code__',\n",
       " '__defaults__',\n",
       " '__delattr__',\n",
       " '__dict__',\n",
       " '__dir__',\n",
       " '__doc__',\n",
       " '__eq__',\n",
       " '__format__',\n",
       " '__ge__',\n",
       " '__get__',\n",
       " '__getattribute__',\n",
       " '__globals__',\n",
       " '__gt__',\n",
       " '__hash__',\n",
       " '__init__',\n",
       " '__init_subclass__',\n",
       " '__kwdefaults__',\n",
       " '__le__',\n",
       " '__lt__',\n",
       " '__module__',\n",
       " '__name__',\n",
       " '__ne__',\n",
       " '__new__',\n",
       " '__qualname__',\n",
       " '__reduce__',\n",
       " '__reduce_ex__',\n",
       " '__repr__',\n",
       " '__setattr__',\n",
       " '__sizeof__',\n",
       " '__str__',\n",
       " '__subclasshook__',\n",
       " 'count']"
      ]
     },
     "execution_count": 27,
     "metadata": {},
     "output_type": "execute_result"
    }
   ],
   "source": [
    ">>> f.count = 0 #функции присвоен дополнительный атрибут count\n",
    "dir(f) #функции присвоен дополнительный атрибут count"
   ]
  },
  {
   "cell_type": "markdown",
   "metadata": {},
   "source": [
    "# Рекурсивные функции"
   ]
  },
  {
   "cell_type": "markdown",
   "metadata": {},
   "source": [
    "## Прямая"
   ]
  },
  {
   "cell_type": "code",
   "execution_count": 16,
   "metadata": {},
   "outputs": [
    {
     "name": "stdout",
     "output_type": "stream",
     "text": [
      "36\n"
     ]
    }
   ],
   "source": [
    "def sumtree(L):\n",
    "    tot = 0\n",
    "    for x in L: # Обход элементов одного уровня\n",
    "        if not isinstance(x, list):\n",
    "            tot += x # Числа суммируются непосредственно\n",
    "        else:\n",
    "            tot += sumtree(x) # Списки обрабатываются рекурсивными вызовами\n",
    "    return tot\n",
    "L = [1, [2, [3, 4], 5], 6, [7, 8]] # Произвольная глубина вложения\n",
    "print(sumtree(L)) # Выведет 36"
   ]
  },
  {
   "cell_type": "code",
   "execution_count": 13,
   "metadata": {},
   "outputs": [
    {
     "name": "stdout",
     "output_type": "stream",
     "text": [
      "15\n"
     ]
    }
   ],
   "source": [
    "print(sumtree([1, [2, [3, [4, [5]]]]]))"
   ]
  },
  {
   "cell_type": "code",
   "execution_count": 14,
   "metadata": {},
   "outputs": [
    {
     "name": "stdout",
     "output_type": "stream",
     "text": [
      "15\n"
     ]
    }
   ],
   "source": [
    "print(sumtree([[[[[1], 2], 3], 4], 5]))"
   ]
  },
  {
   "cell_type": "code",
   "execution_count": 5,
   "metadata": {},
   "outputs": [
    {
     "name": "stdout",
     "output_type": "stream",
     "text": [
      "[1, 2, 3, 4, 5]\n",
      "[2, 3, 4, 5]\n",
      "[3, 4, 5]\n",
      "[4, 5]\n",
      "[5]\n",
      "[]\n"
     ]
    },
    {
     "data": {
      "text/plain": [
       "15"
      ]
     },
     "execution_count": 5,
     "metadata": {},
     "output_type": "execute_result"
    }
   ],
   "source": [
    "#Вычисление суммы с применением рекурсии\n",
    ">>> def mysum(L):\n",
    "        print(L)\n",
    "        if not L:\n",
    "            return 0\n",
    "        else:\n",
    "            return L[0] + mysum(L[1:]) # Вызывает себя сам\n",
    "        \n",
    "mysum([1, 2, 3, 4, 5])"
   ]
  },
  {
   "cell_type": "code",
   "execution_count": 7,
   "metadata": {},
   "outputs": [
    {
     "data": {
      "text/plain": [
       "15"
      ]
     },
     "execution_count": 7,
     "metadata": {},
     "output_type": "execute_result"
    }
   ],
   "source": [
    "    def mysum(L):\n",
    "        return 0 if not L else L[0] + mysum(L[1:]) # Трехместный оператор\n",
    "mysum([1, 2, 3, 4, 5])"
   ]
  },
  {
   "cell_type": "code",
   "execution_count": 9,
   "metadata": {},
   "outputs": [
    {
     "data": {
      "text/plain": [
       "15"
      ]
     },
     "execution_count": 9,
     "metadata": {},
     "output_type": "execute_result"
    }
   ],
   "source": [
    "    def mysum(L): # Использует расширенную\n",
    "        first, *rest = L # операцию присваивания\n",
    "        return first if not rest else first + mysum(rest) # последовательностей\n",
    "# в Python 3.0\n",
    "mysum([1, 2, 3, 4, 5])"
   ]
  },
  {
   "cell_type": "code",
   "execution_count": 8,
   "metadata": {},
   "outputs": [
    {
     "data": {
      "text/plain": [
       "15"
      ]
     },
     "execution_count": 8,
     "metadata": {},
     "output_type": "execute_result"
    }
   ],
   "source": [
    "    def mysum(L): # Суммирует любые типы\n",
    "        return L[0] if len(L) == 1 else L[0] + mysum(L[1:]) # предполагает наличие\n",
    "# хотя бы одного значения\n",
    "mysum([1, 2, 3, 4, 5])"
   ]
  },
  {
   "cell_type": "code",
   "execution_count": 4,
   "metadata": {},
   "outputs": [
    {
     "data": {
      "text/plain": [
       "125"
      ]
     },
     "execution_count": 4,
     "metadata": {},
     "output_type": "execute_result"
    }
   ],
   "source": [
    "#возведение в степень\n",
    "def ppow(a, n):\n",
    "    if n == 0:\n",
    "        return(1)\n",
    "    return ppow(a, n-1)*a\n",
    "ppow(5, 3)"
   ]
  },
  {
   "cell_type": "markdown",
   "metadata": {},
   "source": [
    "# Генерация всех перестановок, рекурентно"
   ]
  },
  {
   "cell_type": "code",
   "execution_count": 1,
   "metadata": {
    "collapsed": true
   },
   "outputs": [
    {
     "name": "stdout",
     "output_type": "stream",
     "text": [
      "1 2 3\n",
      "1 2 4\n",
      "1 2 5\n",
      "1 2 6\n",
      "1 3 2\n",
      "1 3 4\n",
      "1 3 5\n",
      "1 3 6\n",
      "1 4 2\n",
      "1 4 3\n",
      "1 4 5\n",
      "1 4 6\n",
      "1 5 2\n",
      "1 5 3\n",
      "1 5 4\n",
      "1 5 6\n",
      "1 6 2\n",
      "1 6 3\n",
      "1 6 4\n",
      "1 6 5\n",
      "2 1 3\n",
      "2 1 4\n",
      "2 1 5\n",
      "2 1 6\n",
      "2 3 1\n",
      "2 3 4\n",
      "2 3 5\n",
      "2 3 6\n",
      "2 4 1\n",
      "2 4 3\n",
      "2 4 5\n",
      "2 4 6\n",
      "2 5 1\n",
      "2 5 3\n",
      "2 5 4\n",
      "2 5 6\n",
      "2 6 1\n",
      "2 6 3\n",
      "2 6 4\n",
      "2 6 5\n",
      "3 1 2\n",
      "3 1 4\n",
      "3 1 5\n",
      "3 1 6\n",
      "3 2 1\n",
      "3 2 4\n",
      "3 2 5\n",
      "3 2 6\n",
      "3 4 1\n",
      "3 4 2\n",
      "3 4 5\n",
      "3 4 6\n",
      "3 5 1\n",
      "3 5 2\n",
      "3 5 4\n",
      "3 5 6\n",
      "3 6 1\n",
      "3 6 2\n",
      "3 6 4\n",
      "3 6 5\n",
      "4 1 2\n",
      "4 1 3\n",
      "4 1 5\n",
      "4 1 6\n",
      "4 2 1\n",
      "4 2 3\n",
      "4 2 5\n",
      "4 2 6\n",
      "4 3 1\n",
      "4 3 2\n",
      "4 3 5\n",
      "4 3 6\n",
      "4 5 1\n",
      "4 5 2\n",
      "4 5 3\n",
      "4 5 6\n",
      "4 6 1\n",
      "4 6 2\n",
      "4 6 3\n",
      "4 6 5\n",
      "5 1 2\n",
      "5 1 3\n",
      "5 1 4\n",
      "5 1 6\n",
      "5 2 1\n",
      "5 2 3\n",
      "5 2 4\n",
      "5 2 6\n",
      "5 3 1\n",
      "5 3 2\n",
      "5 3 4\n",
      "5 3 6\n",
      "5 4 1\n",
      "5 4 2\n",
      "5 4 3\n",
      "5 4 6\n",
      "5 6 1\n",
      "5 6 2\n",
      "5 6 3\n",
      "5 6 4\n",
      "6 1 2\n",
      "6 1 3\n",
      "6 1 4\n",
      "6 1 5\n",
      "6 2 1\n",
      "6 2 3\n",
      "6 2 4\n",
      "6 2 5\n",
      "6 3 1\n",
      "6 3 2\n",
      "6 3 4\n",
      "6 3 5\n",
      "6 4 1\n",
      "6 4 2\n",
      "6 4 3\n",
      "6 4 5\n",
      "6 5 1\n",
      "6 5 2\n",
      "6 5 3\n",
      "6 5 4\n"
     ]
    }
   ],
   "source": [
    "def find(number, A):\n",
    "    \"\"\"Ищет number в A и возвращает T rue, если есть\n",
    "    False если такого нет\"\"\"\n",
    "    for x in A:\n",
    "        if number == x:\n",
    "            return True\n",
    "    return False\n",
    "\n",
    "def generate_permutations(N:int, M:int=-1, prefix=None):\n",
    "    \"\"\"Генерация всех перестановок N чисел в M позициях\n",
    "    с префиксом\"\"\"\n",
    "    M = N if M == -1 else M \n",
    "    prefix = prefix or []\n",
    "    if M == 0:\n",
    "        print(*prefix)\n",
    "        return\n",
    "    for number in range(1, N+1):\n",
    "        if find(number, prefix):\n",
    "            continue\n",
    "        prefix.append(number)\n",
    "        generate_permutations(N, M-1, prefix)\n",
    "        prefix.pop()\n",
    "        \n",
    "generate_permutations(6, 3)"
   ]
  },
  {
   "cell_type": "code",
   "execution_count": 11,
   "metadata": {
    "collapsed": true
   },
   "outputs": [
    {
     "name": "stdout",
     "output_type": "stream",
     "text": [
      "[0, 0, 0, 0]\n",
      "[0, 0, 0, 1]\n",
      "[0, 0, 0, 2]\n",
      "[0, 0, 1, 0]\n",
      "[0, 0, 1, 1]\n",
      "[0, 0, 1, 2]\n",
      "[0, 0, 2, 0]\n",
      "[0, 0, 2, 1]\n",
      "[0, 0, 2, 2]\n",
      "[0, 1, 0, 0]\n",
      "[0, 1, 0, 1]\n",
      "[0, 1, 0, 2]\n",
      "[0, 1, 1, 0]\n",
      "[0, 1, 1, 1]\n",
      "[0, 1, 1, 2]\n",
      "[0, 1, 2, 0]\n",
      "[0, 1, 2, 1]\n",
      "[0, 1, 2, 2]\n",
      "[0, 2, 0, 0]\n",
      "[0, 2, 0, 1]\n",
      "[0, 2, 0, 2]\n",
      "[0, 2, 1, 0]\n",
      "[0, 2, 1, 1]\n",
      "[0, 2, 1, 2]\n",
      "[0, 2, 2, 0]\n",
      "[0, 2, 2, 1]\n",
      "[0, 2, 2, 2]\n",
      "[1, 0, 0, 0]\n",
      "[1, 0, 0, 1]\n",
      "[1, 0, 0, 2]\n",
      "[1, 0, 1, 0]\n",
      "[1, 0, 1, 1]\n",
      "[1, 0, 1, 2]\n",
      "[1, 0, 2, 0]\n",
      "[1, 0, 2, 1]\n",
      "[1, 0, 2, 2]\n",
      "[1, 1, 0, 0]\n",
      "[1, 1, 0, 1]\n",
      "[1, 1, 0, 2]\n",
      "[1, 1, 1, 0]\n",
      "[1, 1, 1, 1]\n",
      "[1, 1, 1, 2]\n",
      "[1, 1, 2, 0]\n",
      "[1, 1, 2, 1]\n",
      "[1, 1, 2, 2]\n",
      "[1, 2, 0, 0]\n",
      "[1, 2, 0, 1]\n",
      "[1, 2, 0, 2]\n",
      "[1, 2, 1, 0]\n",
      "[1, 2, 1, 1]\n",
      "[1, 2, 1, 2]\n",
      "[1, 2, 2, 0]\n",
      "[1, 2, 2, 1]\n",
      "[1, 2, 2, 2]\n",
      "[2, 0, 0, 0]\n",
      "[2, 0, 0, 1]\n",
      "[2, 0, 0, 2]\n",
      "[2, 0, 1, 0]\n",
      "[2, 0, 1, 1]\n",
      "[2, 0, 1, 2]\n",
      "[2, 0, 2, 0]\n",
      "[2, 0, 2, 1]\n",
      "[2, 0, 2, 2]\n",
      "[2, 1, 0, 0]\n",
      "[2, 1, 0, 1]\n",
      "[2, 1, 0, 2]\n",
      "[2, 1, 1, 0]\n",
      "[2, 1, 1, 1]\n",
      "[2, 1, 1, 2]\n",
      "[2, 1, 2, 0]\n",
      "[2, 1, 2, 1]\n",
      "[2, 1, 2, 2]\n",
      "[2, 2, 0, 0]\n",
      "[2, 2, 0, 1]\n",
      "[2, 2, 0, 2]\n",
      "[2, 2, 1, 0]\n",
      "[2, 2, 1, 1]\n",
      "[2, 2, 1, 2]\n",
      "[2, 2, 2, 0]\n",
      "[2, 2, 2, 1]\n",
      "[2, 2, 2, 2]\n"
     ]
    }
   ],
   "source": [
    "def generate_numbers(N:int,M:int, prefix=None):\n",
    "    \"\"\"генерирует все числа с лидирующими незначащими нулями \n",
    "    в N-ричной системе счисления N<=10 длины M\"\"\"\n",
    "    prefix = prefix or []\n",
    "    if M==0:\n",
    "        print(prefix)\n",
    "        return\n",
    "    for digit in range(N):\n",
    "        prefix.append(digit)\n",
    "        generate_numbers(N, M-1, prefix)\n",
    "        prefix.pop()\n",
    "generate_numbers(3, 4)"
   ]
  },
  {
   "cell_type": "code",
   "execution_count": 13,
   "metadata": {},
   "outputs": [
    {
     "data": {
      "text/plain": [
       "3"
      ]
     },
     "execution_count": 13,
     "metadata": {},
     "output_type": "execute_result"
    }
   ],
   "source": [
    "prefix = [1,2,3]\n",
    "prefix.pop()"
   ]
  },
  {
   "cell_type": "code",
   "execution_count": 4,
   "metadata": {
    "collapsed": true
   },
   "outputs": [
    {
     "name": "stdout",
     "output_type": "stream",
     "text": [
      "000\n",
      "001\n",
      "010\n",
      "011\n",
      "100\n",
      "101\n",
      "110\n",
      "111\n",
      "000\n",
      "001\n",
      "010\n",
      "011\n",
      "100\n",
      "101\n",
      "110\n",
      "111\n"
     ]
    }
   ],
   "source": [
    "def gen_bin(M, prefix=\"\"):\n",
    "    if M == 0:\n",
    "        print(prefix)\n",
    "    else:\n",
    "        gen_bin(M-1, prefix+\"0\")\n",
    "        gen_bin(M-1, prefix+\"1\")\n",
    "gen_bin(3)\n",
    "\n",
    "#Тоже самое\n",
    "def gen_bin(M, prefix=\"\"):\n",
    "    if M == 0:\n",
    "        print(prefix)\n",
    "        return\n",
    "    for digit in '0','1':\n",
    "        gen_bin(M-1, prefix+digit)\n",
    "gen_bin(3)"
   ]
  },
  {
   "cell_type": "markdown",
   "metadata": {},
   "source": [
    "# assert оператор проверки + рекурси"
   ]
  },
  {
   "cell_type": "code",
   "execution_count": 10,
   "metadata": {
    "scrolled": true
   },
   "outputs": [
    {
     "name": "stdout",
     "output_type": "stream",
     "text": [
      "5\n",
      "4\n",
      "3\n",
      "2\n",
      "1\n"
     ]
    },
    {
     "data": {
      "text/plain": [
       "120"
      ]
     },
     "execution_count": 10,
     "metadata": {},
     "output_type": "execute_result"
    }
   ],
   "source": [
    "    def f(n):\n",
    "        assert n>=0, \"n должно быть больше или равно нуля\"\n",
    "        if n==0:\n",
    "            return 1\n",
    "        print(n)\n",
    "        return f(n-1)*(n)\n",
    "f(5)\n",
    "#f(5) = f(4)*5 = f(3)*4*5 = f(2)*3*4*5= f(1)*2*3*4*5= 1*2*3*4*5, \n",
    "#или по-другому \n",
    "#return(return(return(return(return(1)*2)*3)*4)*5)"
   ]
  },
  {
   "cell_type": "markdown",
   "metadata": {},
   "source": [
    "## Косвенная"
   ]
  },
  {
   "cell_type": "code",
   "execution_count": 11,
   "metadata": {},
   "outputs": [
    {
     "data": {
      "text/plain": [
       "11.0"
      ]
     },
     "execution_count": 11,
     "metadata": {},
     "output_type": "execute_result"
    }
   ],
   "source": [
    ">>> def mysum(L):\n",
    "        if not L: return 0\n",
    "        return nonempty(L) # Вызов функции, которая вызовет эту функцию\n",
    "\n",
    ">>> def nonempty(L):\n",
    "        return L[0] + mysum(L[1:]) # Косвенная рекурсия\n",
    "    \n",
    "mysum([1.1, 2.2, 3.3, 4.4])"
   ]
  },
  {
   "cell_type": "markdown",
   "metadata": {},
   "source": [
    "# Аннотации"
   ]
  },
  {
   "cell_type": "code",
   "execution_count": 31,
   "metadata": {},
   "outputs": [
    {
     "data": {
      "text/plain": [
       "6"
      ]
     },
     "execution_count": 31,
     "metadata": {},
     "output_type": "execute_result"
    }
   ],
   "source": [
    ">>> def func(a: 'spam', b: (1, 10), c: float) -> int: #аннотация через двоеточие после аргумента и через -> для вывода\n",
    "        return a + b + c\n",
    "...\n",
    ">>> func(1, 2, 3)"
   ]
  },
  {
   "cell_type": "code",
   "execution_count": 35,
   "metadata": {},
   "outputs": [
    {
     "data": {
      "text/plain": [
       "11"
      ]
     },
     "execution_count": 35,
     "metadata": {},
     "output_type": "execute_result"
    }
   ],
   "source": [
    ">>> def func(a: 'spam' = 4, b: (1, 10) = 5, c: float = 6) -> int: \n",
    "    #аннотация через двоеточие после аргумента и через -> для вывода, со значениями по умолчанию\n",
    "        return a + b + c\n",
    "...\n",
    ">>> func(2, 3) "
   ]
  },
  {
   "cell_type": "code",
   "execution_count": 32,
   "metadata": {},
   "outputs": [
    {
     "data": {
      "text/plain": [
       "{'a': 'spam', 'b': (1, 10), 'c': float, 'return': int}"
      ]
     },
     "execution_count": 32,
     "metadata": {},
     "output_type": "execute_result"
    }
   ],
   "source": [
    "func.__annotations__"
   ]
  },
  {
   "cell_type": "markdown",
   "metadata": {},
   "source": [
    "# lambda выражения"
   ]
  },
  {
   "cell_type": "code",
   "execution_count": 36,
   "metadata": {},
   "outputs": [
    {
     "data": {
      "text/plain": [
       "9"
      ]
     },
     "execution_count": 36,
     "metadata": {},
     "output_type": "execute_result"
    }
   ],
   "source": [
    ">>> f = lambda x, y, z: x + y + z\n",
    ">>> f(2, 3, 4)"
   ]
  },
  {
   "cell_type": "code",
   "execution_count": 37,
   "metadata": {
    "scrolled": true
   },
   "outputs": [
    {
     "data": {
      "text/plain": [
       "'weefiefoe'"
      ]
     },
     "execution_count": 37,
     "metadata": {},
     "output_type": "execute_result"
    }
   ],
   "source": [
    ">>> x = (lambda a=\"fee\", b=\"fie\", c=\"foe\": a + b + c) #lambda выражение с аргументами по умолчанию\n",
    ">>> x(\"wee\")"
   ]
  },
  {
   "cell_type": "code",
   "execution_count": 38,
   "metadata": {},
   "outputs": [
    {
     "data": {
      "text/plain": [
       "'Sir robin'"
      ]
     },
     "execution_count": 38,
     "metadata": {},
     "output_type": "execute_result"
    }
   ],
   "source": [
    ">>> def knights():\n",
    "        title = 'Sir'\n",
    "        action = (lambda x: title + ' ' + x) # Заголовок в объемлющей def\n",
    "        return action # Возвращает функцию\n",
    "...\n",
    ">>> act = knights()\n",
    ">>> act('robin')"
   ]
  },
  {
   "cell_type": "code",
   "execution_count": 39,
   "metadata": {},
   "outputs": [
    {
     "name": "stdout",
     "output_type": "stream",
     "text": [
      "4\n",
      "8\n",
      "16\n"
     ]
    }
   ],
   "source": [
    "L = [lambda x: x**2, # Встроенные определения функций\n",
    "lambda x: x**3,\n",
    "lambda x: x**4] # Список из трех функций\n",
    "for f in L:\n",
    "    print(f(2)) # Выведет 4, 8, 16"
   ]
  },
  {
   "cell_type": "code",
   "execution_count": 41,
   "metadata": {},
   "outputs": [
    {
     "data": {
      "text/plain": [
       "8"
      ]
     },
     "execution_count": 41,
     "metadata": {},
     "output_type": "execute_result"
    }
   ],
   "source": [
    ">>> key = 'got'\n",
    ">>> {'already': (lambda: 2 + 2),\n",
    "... 'got': (lambda: 2 * 4),\n",
    "... 'one': (lambda: 2 ** 6)}[key]()"
   ]
  },
  {
   "cell_type": "code",
   "execution_count": 42,
   "metadata": {},
   "outputs": [
    {
     "data": {
      "text/plain": [
       "'aa'"
      ]
     },
     "execution_count": 42,
     "metadata": {},
     "output_type": "execute_result"
    }
   ],
   "source": [
    ">>> lower = (lambda x, y: x if x < y else y)\n",
    ">>> lower('bb', 'aa')"
   ]
  },
  {
   "cell_type": "code",
   "execution_count": 50,
   "metadata": {
    "scrolled": true
   },
   "outputs": [
    {
     "name": "stdout",
     "output_type": "stream",
     "text": [
      "spam\n",
      "toast\n",
      "eggs\n"
     ]
    }
   ],
   "source": [
    ">>> import sys\n",
    ">>> showall = lambda x: list(map(sys.stdout.write, x)) # map применяет функцию из 1го аргумента ко второму \n",
    "t = showall(['spam\\n', 'toast\\n', 'eggs\\n'])"
   ]
  },
  {
   "cell_type": "code",
   "execution_count": 51,
   "metadata": {
    "scrolled": true
   },
   "outputs": [
    {
     "name": "stdout",
     "output_type": "stream",
     "text": [
      "bright\n",
      "side\n",
      "of\n",
      "life\n"
     ]
    }
   ],
   "source": [
    ">>> showall = lambda x: [sys.stdout.write(line) for line in x]\n",
    ">>> t = showall(('bright\\n', 'side\\n', 'of\\n', 'life\\n'))"
   ]
  },
  {
   "cell_type": "code",
   "execution_count": 52,
   "metadata": {},
   "outputs": [
    {
     "data": {
      "text/plain": [
       "102"
      ]
     },
     "execution_count": 52,
     "metadata": {},
     "output_type": "execute_result"
    }
   ],
   "source": [
    ">>> action = (lambda x: (lambda y: x + y))\n",
    ">>> act = action(99)\n",
    ">>> act(3)"
   ]
  },
  {
   "cell_type": "code",
   "execution_count": 55,
   "metadata": {
    "scrolled": true
   },
   "outputs": [
    {
     "name": "stdout",
     "output_type": "stream",
     "text": [
      "Spam\n",
      "Spam\n",
      "Spam\n"
     ]
    }
   ],
   "source": [
    "import sys\n",
    "from tkinter import Button, mainloop # Tkinter в Python 2.6\n",
    "x = Button(\n",
    "text ='Press me',\n",
    "command=(lambda:sys.stdout.write('Spam\\n')))\n",
    "x.pack()\n",
    "mainloop()"
   ]
  },
  {
   "cell_type": "markdown",
   "metadata": {},
   "source": [
    "# Функция map"
   ]
  },
  {
   "cell_type": "code",
   "execution_count": 58,
   "metadata": {},
   "outputs": [
    {
     "data": {
      "text/plain": [
       "[11, 12, 13, 14]"
      ]
     },
     "execution_count": 58,
     "metadata": {},
     "output_type": "execute_result"
    }
   ],
   "source": [
    ">>> counters = [1, 2, 3, 4]\n",
    ">>> def inc(x): return x + 10 # Функция, которая должна быть вызвана\n",
    "\n",
    ">>> list(map(inc, counters)) # map применяет функцию к каждому элементу послдедовательности"
   ]
  },
  {
   "cell_type": "code",
   "execution_count": 59,
   "metadata": {},
   "outputs": [
    {
     "data": {
      "text/plain": [
       "[4, 5, 6, 7]"
      ]
     },
     "execution_count": 59,
     "metadata": {},
     "output_type": "execute_result"
    }
   ],
   "source": [
    "list(map((lambda x: x + 3), counters))"
   ]
  },
  {
   "cell_type": "code",
   "execution_count": 61,
   "metadata": {
    "scrolled": true
   },
   "outputs": [
    {
     "data": {
      "text/plain": [
       "[1, 8, 81]"
      ]
     },
     "execution_count": 61,
     "metadata": {},
     "output_type": "execute_result"
    }
   ],
   "source": [
    "list(map(pow, [1, 2, 3], [2, 3, 4])) # map передает аргументы попарно 1**2, 2**3, 3**4 # 1**2, 2**3, 3**4"
   ]
  },
  {
   "cell_type": "code",
   "execution_count": null,
   "metadata": {},
   "outputs": [],
   "source": [
    ">>> list(map((lambda x: x**2), filter((lambda x: x % 2 == 0), range(10)))) #жесть!"
   ]
  },
  {
   "cell_type": "code",
   "execution_count": 7,
   "metadata": {},
   "outputs": [
    {
     "data": {
      "text/plain": [
       "[35, 40]"
      ]
     },
     "execution_count": 7,
     "metadata": {},
     "output_type": "execute_result"
    }
   ],
   "source": [
    "listoftuple = [('bob', 35, 'mgr'), ('mel', 40, 'dev')]\n",
    ">>> [age for (name, age, job) in listoftuple]"
   ]
  },
  {
   "cell_type": "code",
   "execution_count": 30,
   "metadata": {},
   "outputs": [
    {
     "data": {
      "text/plain": [
       "<map at 0x50fa8d0>"
      ]
     },
     "execution_count": 30,
     "metadata": {},
     "output_type": "execute_result"
    }
   ],
   "source": [
    "map([1, 2, 3], [2, 3, 4])"
   ]
  },
  {
   "cell_type": "code",
   "execution_count": null,
   "metadata": {},
   "outputs": [],
   "source": [
    "# map(func, seqs...) на основе использования zip\n",
    "def mymap(func, *seqs):\n",
    "    res = []\n",
    "        for args in zip(*seqs):\n",
    "            res.append(func(*args))\n",
    "        return res"
   ]
  },
  {
   "cell_type": "code",
   "execution_count": 15,
   "metadata": {},
   "outputs": [],
   "source": [
    "def mymap(func, *seqs):\n",
    "    return [func(*args) for args in zip(*seqs)]"
   ]
  },
  {
   "cell_type": "code",
   "execution_count": 18,
   "metadata": {
    "scrolled": true
   },
   "outputs": [],
   "source": [
    "def mymap(func, *seqs):\n",
    "    res = []\n",
    "    for args in zip(*seqs):\n",
    "        yield func(*args)"
   ]
  },
  {
   "cell_type": "code",
   "execution_count": null,
   "metadata": {},
   "outputs": [],
   "source": [
    "def mymap(func, *seqs):\n",
    "    return (func(*args) for args in zip(*seqs))"
   ]
  },
  {
   "cell_type": "code",
   "execution_count": 26,
   "metadata": {},
   "outputs": [],
   "source": [
    "def mymapPad(*seqs, pad=None):\n",
    "    seqs = [list(S) for S in seqs]\n",
    "    res = []\n",
    "    while any(seqs):\n",
    "        res.append(tuple((S.pop(0) if S else pad) for S in seqs))\n",
    "    return res"
   ]
  },
  {
   "cell_type": "markdown",
   "metadata": {},
   "source": [
    "# Средства функционального программирования:filter и reduce"
   ]
  },
  {
   "cell_type": "code",
   "execution_count": 63,
   "metadata": {},
   "outputs": [
    {
     "data": {
      "text/plain": [
       "[1, 2, 3, 4]"
      ]
     },
     "execution_count": 63,
     "metadata": {},
     "output_type": "execute_result"
    }
   ],
   "source": [
    ">>> list(range(-5, 5)) # Итератор в Python 3.0\n",
    "[-5, -4, -3, -2, -1, 0, 1, 2, 3, 4]\n",
    ">>> list(filter((lambda x: x > 0), range(-5, 5))) #фильтрует"
   ]
  },
  {
   "cell_type": "code",
   "execution_count": 65,
   "metadata": {},
   "outputs": [
    {
     "data": {
      "text/plain": [
       "10"
      ]
     },
     "execution_count": 65,
     "metadata": {},
     "output_type": "execute_result"
    }
   ],
   "source": [
    ">>> from functools import reduce # В 3.0 требуется выполнить импортирование\n",
    ">>> reduce((lambda x, y: x + y), [1, 2, 3, 4]) #На каждом шаге функция reduce передает текущую сумму или произведение\n",
    "#вместе со следующим элементом списка lambda-функции. По умолчанию первый элемент последовательности принимается \n",
    "#в качестве начального значения."
   ]
  },
  {
   "cell_type": "code",
   "execution_count": 66,
   "metadata": {},
   "outputs": [
    {
     "data": {
      "text/plain": [
       "24"
      ]
     },
     "execution_count": 66,
     "metadata": {},
     "output_type": "execute_result"
    }
   ],
   "source": [
    ">>> reduce((lambda x, y: x * y), [1, 2, 3, 4]) #reduce как бы сохраняет результат в первом аргументе и добавляет следующий"
   ]
  },
  {
   "cell_type": "markdown",
   "metadata": {},
   "source": [
    "# sorted, zip, enumerate, filter, reduce, "
   ]
  },
  {
   "cell_type": "code",
   "execution_count": 79,
   "metadata": {},
   "outputs": [
    {
     "data": {
      "text/plain": [
       "(1, 2)"
      ]
     },
     "execution_count": 79,
     "metadata": {},
     "output_type": "execute_result"
    }
   ],
   "source": [
    ">>> X = (1, 2)\n",
    ">>> Y = (3, 4)\n",
    ">>>\n",
    ">>> list(zip(X, Y)) # Упаковать кортежи: возвратит итерируемый объект\n",
    "[(1, 3), (2, 4)]\n",
    ">>>\n",
    ">>> A, B = zip(*zip(X, Y)) # Распаковать упакованные кортежи!\n",
    "A"
   ]
  },
  {
   "cell_type": "code",
   "execution_count": 52,
   "metadata": {
    "scrolled": true
   },
   "outputs": [
    {
     "data": {
      "text/plain": [
       "['Hello\\n',\n",
       " 'Hello\\n',\n",
       " 'Hello\\n',\n",
       " 'Hello\\n',\n",
       " 'Hello\\n',\n",
       " 'Line 1\\n',\n",
       " 'Line 2\\n',\n",
       " 'Line 3\\n']"
      ]
     },
     "execution_count": 52,
     "metadata": {},
     "output_type": "execute_result"
    }
   ],
   "source": [
    ">>> sorted(open('test.txt')) #функция sorted сортирует элементы итерируемого объекта, функция"
   ]
  },
  {
   "cell_type": "code",
   "execution_count": 55,
   "metadata": {
    "scrolled": true
   },
   "outputs": [
    {
     "data": {
      "text/plain": [
       "[('Line 1\\n', 'Line 1\\n'),\n",
       " ('Line 2\\n', 'Line 2\\n'),\n",
       " ('Line 3\\n', 'Line 3\\n'),\n",
       " ('Hello\\n', 'Hello\\n'),\n",
       " ('Hello\\n', 'Hello\\n'),\n",
       " ('Hello\\n', 'Hello\\n'),\n",
       " ('Hello\\n', 'Hello\\n'),\n",
       " ('Hello\\n', 'Hello\\n')]"
      ]
     },
     "execution_count": 55,
     "metadata": {},
     "output_type": "execute_result"
    }
   ],
   "source": [
    "list(zip(open('test.txt'), open('test.txt'))) #zip объединяет элементы итерируемых объектов, надо оборачивать в list()"
   ]
  },
  {
   "cell_type": "code",
   "execution_count": 14,
   "metadata": {},
   "outputs": [
    {
     "data": {
      "text/plain": [
       "[(-2,), (-1,), (0,), (1,), (2,)]"
      ]
     },
     "execution_count": 14,
     "metadata": {},
     "output_type": "execute_result"
    }
   ],
   "source": [
    ">>> list(zip([-2, -1, 0, 1, 2]))"
   ]
  },
  {
   "cell_type": "code",
   "execution_count": 56,
   "metadata": {
    "scrolled": true
   },
   "outputs": [
    {
     "data": {
      "text/plain": [
       "[(0, 'Line 1\\n'),\n",
       " (1, 'Line 2\\n'),\n",
       " (2, 'Line 3\\n'),\n",
       " (3, 'Hello\\n'),\n",
       " (4, 'Hello\\n'),\n",
       " (5, 'Hello\\n'),\n",
       " (6, 'Hello\\n'),\n",
       " (7, 'Hello\\n')]"
      ]
     },
     "execution_count": 56,
     "metadata": {},
     "output_type": "execute_result"
    }
   ],
   "source": [
    "list(enumerate(open('test.txt'))) #функция enumerate создает пары из элементов итерируемых объектов и их позиций"
   ]
  },
  {
   "cell_type": "code",
   "execution_count": 57,
   "metadata": {
    "scrolled": true
   },
   "outputs": [
    {
     "data": {
      "text/plain": [
       "['Line 1\\n',\n",
       " 'Line 2\\n',\n",
       " 'Line 3\\n',\n",
       " 'Hello\\n',\n",
       " 'Hello\\n',\n",
       " 'Hello\\n',\n",
       " 'Hello\\n',\n",
       " 'Hello\\n']"
      ]
     },
     "execution_count": 57,
     "metadata": {},
     "output_type": "execute_result"
    }
   ],
   "source": [
    "list(filter(bool, open('test.txt')))#filter отбирает элементы, для которых указанная функция возвращает истинное значение"
   ]
  },
  {
   "cell_type": "code",
   "execution_count": 58,
   "metadata": {},
   "outputs": [
    {
     "data": {
      "text/plain": [
       "'Line 1\\nLine 2\\nLine 3\\nHello\\nHello\\nHello\\nHello\\nHello\\n'"
      ]
     },
     "execution_count": 58,
     "metadata": {},
     "output_type": "execute_result"
    }
   ],
   "source": [
    ">>> import functools, operator\n",
    ">>> functools.reduce(operator.add, open('test.txt')) #функция reduce выполняет указанную операцию, объединяя все элементы \n",
    "#в итерируемом объекте."
   ]
  },
  {
   "cell_type": "code",
   "execution_count": 25,
   "metadata": {},
   "outputs": [],
   "source": [
    "def myzip(*seqs):\n",
    "    seqs = [list(S) for S in seqs]\n",
    "    res = []\n",
    "    while all(seqs):\n",
    "        res.append(tuple(S.pop(0) for S in seqs))\n",
    "    return res"
   ]
  },
  {
   "cell_type": "markdown",
   "metadata": {},
   "source": [
    "# sum, any, all, max, min"
   ]
  },
  {
   "cell_type": "code",
   "execution_count": 60,
   "metadata": {},
   "outputs": [
    {
     "name": "stdout",
     "output_type": "stream",
     "text": [
      "15\n",
      "True\n",
      "False\n",
      "5\n",
      "1\n"
     ]
    }
   ],
   "source": [
    "print(sum([3, 2, 4, 1, 5, 0])) # sum работает только с числами\n",
    "\n",
    "print(any(['spam', '', 'ni']))\n",
    "\n",
    "print(all(['spam', '', 'ni']))\n",
    "\n",
    "print(max([3, 2, 5, 1, 4]))\n",
    "\n",
    "print(min([3, 2, 5, 1, 4]))"
   ]
  },
  {
   "cell_type": "code",
   "execution_count": 61,
   "metadata": {
    "scrolled": true
   },
   "outputs": [
    {
     "name": "stdout",
     "output_type": "stream",
     "text": [
      "['Line 1\\n', 'Line 2\\n', 'Line 3\\n', 'Hello\\n', 'Hello\\n', 'Hello\\n', 'Hello\\n', 'Hello\\n']\n",
      "('Line 1\\n', 'Line 2\\n', 'Line 3\\n', 'Hello\\n', 'Hello\\n', 'Hello\\n', 'Hello\\n', 'Hello\\n')\n",
      "Line 1\n",
      "xxLine 2\n",
      "xxLine 3\n",
      "xxHello\n",
      "xxHello\n",
      "xxHello\n",
      "xxHello\n",
      "xxHello\n",
      "\n",
      "Line 1\n",
      " ['Hello\\n', 'Hello\\n', 'Hello\\n', 'Hello\\n', 'Hello\\n']\n",
      "{'Line 1\\n', 'Line 3\\n', 'Hello\\n', 'Line 2\\n'}\n"
     ]
    }
   ],
   "source": [
    "print(list(open('test.txt')))             #у файлов есть встроенный итератор, поэтому их можно прямо загружать в функции\n",
    "print(tuple(open('test.txt')))          #у файлов есть встроенный итератор, поэтому их можно прямо загружать в функции\n",
    "print(\"xx\".join(open('test.txt')))        #у файлов есть встроенный итератор, поэтому их можно прямо загружать в функции\n",
    "a, b, c, *d = open('test.txt')            #у файлов есть встроенный итератор, поэтому их можно прямо загружать в функции\n",
    "print(a,d)\n",
    "print(set(open('test.txt')))          #у файлов есть встроенный итератор, поэтому их можно прямо загружать в функции"
   ]
  },
  {
   "cell_type": "code",
   "execution_count": 68,
   "metadata": {
    "scrolled": true
   },
   "outputs": [
    {
     "name": "stdout",
     "output_type": "stream",
     "text": [
      "1&2&3&4\n"
     ]
    }
   ],
   "source": [
    ">>> def f(a, b, c, d): print(a, b, c, d, sep='&')\n",
    "...\n",
    ">>> f(1, 2, 3, 4)"
   ]
  },
  {
   "cell_type": "markdown",
   "metadata": {},
   "source": [
    "# sorted, zip, enumerate, filter, reduce, "
   ]
  },
  {
   "cell_type": "code",
   "execution_count": 79,
   "metadata": {},
   "outputs": [
    {
     "data": {
      "text/plain": [
       "(1, 2)"
      ]
     },
     "execution_count": 79,
     "metadata": {},
     "output_type": "execute_result"
    }
   ],
   "source": [
    ">>> X = (1, 2)\n",
    ">>> Y = (3, 4)\n",
    ">>>\n",
    ">>> list(zip(X, Y)) # Упаковать кортежи: возвратит итерируемый объект\n",
    "[(1, 3), (2, 4)]\n",
    ">>>\n",
    ">>> A, B = zip(*zip(X, Y)) # Распаковать упакованные кортежи!\n",
    "A"
   ]
  },
  {
   "cell_type": "code",
   "execution_count": 52,
   "metadata": {
    "scrolled": true
   },
   "outputs": [
    {
     "data": {
      "text/plain": [
       "['Hello\\n',\n",
       " 'Hello\\n',\n",
       " 'Hello\\n',\n",
       " 'Hello\\n',\n",
       " 'Hello\\n',\n",
       " 'Line 1\\n',\n",
       " 'Line 2\\n',\n",
       " 'Line 3\\n']"
      ]
     },
     "execution_count": 52,
     "metadata": {},
     "output_type": "execute_result"
    }
   ],
   "source": [
    ">>> sorted(open('test.txt')) #функция sorted сортирует элементы итерируемого объекта, функция"
   ]
  },
  {
   "cell_type": "code",
   "execution_count": 55,
   "metadata": {
    "scrolled": true
   },
   "outputs": [
    {
     "data": {
      "text/plain": [
       "[('Line 1\\n', 'Line 1\\n'),\n",
       " ('Line 2\\n', 'Line 2\\n'),\n",
       " ('Line 3\\n', 'Line 3\\n'),\n",
       " ('Hello\\n', 'Hello\\n'),\n",
       " ('Hello\\n', 'Hello\\n'),\n",
       " ('Hello\\n', 'Hello\\n'),\n",
       " ('Hello\\n', 'Hello\\n'),\n",
       " ('Hello\\n', 'Hello\\n')]"
      ]
     },
     "execution_count": 55,
     "metadata": {},
     "output_type": "execute_result"
    }
   ],
   "source": [
    "list(zip(open('test.txt'), open('test.txt'))) #zip объединяет элементы итерируемых объектов, надо оборачивать в list()"
   ]
  },
  {
   "cell_type": "code",
   "execution_count": 56,
   "metadata": {
    "scrolled": true
   },
   "outputs": [
    {
     "data": {
      "text/plain": [
       "[(0, 'Line 1\\n'),\n",
       " (1, 'Line 2\\n'),\n",
       " (2, 'Line 3\\n'),\n",
       " (3, 'Hello\\n'),\n",
       " (4, 'Hello\\n'),\n",
       " (5, 'Hello\\n'),\n",
       " (6, 'Hello\\n'),\n",
       " (7, 'Hello\\n')]"
      ]
     },
     "execution_count": 56,
     "metadata": {},
     "output_type": "execute_result"
    }
   ],
   "source": [
    "list(enumerate(open('test.txt'))) #функция enumerate создает пары из элементов итерируемых объектов и их позиций"
   ]
  },
  {
   "cell_type": "code",
   "execution_count": 57,
   "metadata": {
    "scrolled": true
   },
   "outputs": [
    {
     "data": {
      "text/plain": [
       "['Line 1\\n',\n",
       " 'Line 2\\n',\n",
       " 'Line 3\\n',\n",
       " 'Hello\\n',\n",
       " 'Hello\\n',\n",
       " 'Hello\\n',\n",
       " 'Hello\\n',\n",
       " 'Hello\\n']"
      ]
     },
     "execution_count": 57,
     "metadata": {},
     "output_type": "execute_result"
    }
   ],
   "source": [
    "list(filter(bool, open('test.txt')))#filter отбирает элементы, для которых указанная функция возвращает истинное значение"
   ]
  },
  {
   "cell_type": "code",
   "execution_count": 58,
   "metadata": {},
   "outputs": [
    {
     "data": {
      "text/plain": [
       "'Line 1\\nLine 2\\nLine 3\\nHello\\nHello\\nHello\\nHello\\nHello\\n'"
      ]
     },
     "execution_count": 58,
     "metadata": {},
     "output_type": "execute_result"
    }
   ],
   "source": [
    ">>> import functools, operator\n",
    ">>> functools.reduce(operator.add, open('test.txt')) #функция reduce выполняет указанную операцию, объединяя все элементы \n",
    "#в итерируемом объекте."
   ]
  },
  {
   "cell_type": "markdown",
   "metadata": {},
   "source": [
    "# sum, any, all, max, min"
   ]
  },
  {
   "cell_type": "code",
   "execution_count": 60,
   "metadata": {},
   "outputs": [
    {
     "name": "stdout",
     "output_type": "stream",
     "text": [
      "15\n",
      "True\n",
      "False\n",
      "5\n",
      "1\n"
     ]
    }
   ],
   "source": [
    "print(sum([3, 2, 4, 1, 5, 0])) # sum работает только с числами\n",
    "\n",
    "print(any(['spam', '', 'ni']))\n",
    "\n",
    "print(all(['spam', '', 'ni']))\n",
    "\n",
    "print(max([3, 2, 5, 1, 4]))\n",
    "\n",
    "print(min([3, 2, 5, 1, 4]))"
   ]
  },
  {
   "cell_type": "code",
   "execution_count": 61,
   "metadata": {
    "scrolled": true
   },
   "outputs": [
    {
     "name": "stdout",
     "output_type": "stream",
     "text": [
      "['Line 1\\n', 'Line 2\\n', 'Line 3\\n', 'Hello\\n', 'Hello\\n', 'Hello\\n', 'Hello\\n', 'Hello\\n']\n",
      "('Line 1\\n', 'Line 2\\n', 'Line 3\\n', 'Hello\\n', 'Hello\\n', 'Hello\\n', 'Hello\\n', 'Hello\\n')\n",
      "Line 1\n",
      "xxLine 2\n",
      "xxLine 3\n",
      "xxHello\n",
      "xxHello\n",
      "xxHello\n",
      "xxHello\n",
      "xxHello\n",
      "\n",
      "Line 1\n",
      " ['Hello\\n', 'Hello\\n', 'Hello\\n', 'Hello\\n', 'Hello\\n']\n",
      "{'Line 1\\n', 'Line 3\\n', 'Hello\\n', 'Line 2\\n'}\n"
     ]
    }
   ],
   "source": [
    "print(list(open('test.txt')))             #у файлов есть встроенный итератор, поэтому их можно прямо загружать в функции\n",
    "print(tuple(open('test.txt')))          #у файлов есть встроенный итератор, поэтому их можно прямо загружать в функции\n",
    "print(\"xx\".join(open('test.txt')))        #у файлов есть встроенный итератор, поэтому их можно прямо загружать в функции\n",
    "a, b, c, *d = open('test.txt')            #у файлов есть встроенный итератор, поэтому их можно прямо загружать в функции\n",
    "print(a,d)\n",
    "print(set(open('test.txt')))          #у файлов есть встроенный итератор, поэтому их можно прямо загружать в функции"
   ]
  },
  {
   "cell_type": "code",
   "execution_count": 68,
   "metadata": {
    "scrolled": true
   },
   "outputs": [
    {
     "name": "stdout",
     "output_type": "stream",
     "text": [
      "1&2&3&4\n"
     ]
    }
   ],
   "source": [
    ">>> def f(a, b, c, d): print(a, b, c, d, sep='&')\n",
    "...\n",
    ">>> f(1, 2, 3, 4)"
   ]
  },
  {
   "cell_type": "code",
   "execution_count": null,
   "metadata": {},
   "outputs": [],
   "source": []
  },
  {
   "cell_type": "markdown",
   "metadata": {},
   "source": [
    "# Поиск пересечения"
   ]
  },
  {
   "cell_type": "code",
   "execution_count": 30,
   "metadata": {},
   "outputs": [
    {
     "data": {
      "text/plain": [
       "['S', 'A', 'M']"
      ]
     },
     "execution_count": 30,
     "metadata": {},
     "output_type": "execute_result"
    }
   ],
   "source": [
    "def intersect(seq1, seq2):\n",
    "    res = [] # Изначально пустой результат\n",
    "    for x in seq1: # Обход последовательности seq1\n",
    "        if x in seq2: # Общий элемент?\n",
    "            res.append(x) # Добавить в конец\n",
    "    return res\n",
    "s1 = \"SPAM\"\n",
    "s2 = \"SCAM\"\n",
    "intersect(s1, s2)         #но можно намного проще, множества поддерживают логические операции"
   ]
  },
  {
   "cell_type": "code",
   "execution_count": 35,
   "metadata": {},
   "outputs": [
    {
     "data": {
      "text/plain": [
       "{'A', 'M', 'S'}"
      ]
     },
     "execution_count": 35,
     "metadata": {},
     "output_type": "execute_result"
    }
   ],
   "source": [
    "def intersect(seq1, seq2):\n",
    "    return(set(seq1) & set(seq2))\n",
    "intersect(s1, s2) "
   ]
  },
  {
   "cell_type": "code",
   "execution_count": 5,
   "metadata": {},
   "outputs": [
    {
     "data": {
      "text/plain": [
       "<generator object func at 0x00000000051E7570>"
      ]
     },
     "execution_count": 5,
     "metadata": {},
     "output_type": "execute_result"
    }
   ],
   "source": [
    "def func(x):\n",
    "    yield x**2"
   ]
  },
  {
   "cell_type": "code",
   "execution_count": null,
   "metadata": {},
   "outputs": [],
   "source": [
    "def func():\n",
    "    \"\"\"документ строка\"\"\" #документ строка, возвращается при вызове help\n",
    "    pass #слово означает пустую функцию"
   ]
  },
  {
   "cell_type": "code",
   "execution_count": 1,
   "metadata": {},
   "outputs": [
    {
     "name": "stdout",
     "output_type": "stream",
     "text": [
      "25\n"
     ]
    }
   ],
   "source": [
    "def min2(a, b):\n",
    "    if a <= b:\n",
    "        return a\n",
    "    else:\n",
    "        return b\n",
    "    \n",
    "m = min2(42, 30)\n",
    "print(min2(min2(42, 30), 25))"
   ]
  },
  {
   "cell_type": "code",
   "execution_count": 3,
   "metadata": {},
   "outputs": [
    {
     "name": "stdout",
     "output_type": "stream",
     "text": [
      "5\n",
      "3\n",
      "3\n",
      "[5, 3, 6, 10]\n"
     ]
    }
   ],
   "source": [
    "def min(*a):\n",
    "    m = a[0]\n",
    "    for x in a:\n",
    "        if m > x:\n",
    "            m = x\n",
    "    return m\n",
    "\n",
    "print(min(5))\n",
    "print(min(5, 3))\n",
    "print(min(5, 3, 6, 10))\n",
    "print(min([5, 3, 6, 10]))"
   ]
  },
  {
   "cell_type": "code",
   "execution_count": 4,
   "metadata": {},
   "outputs": [
    {
     "name": "stdout",
     "output_type": "stream",
     "text": [
      "[2, 3, 4]\n",
      "[2, 5, 8, 11, 14]\n",
      "[15, 12, 9, 6, 3]\n"
     ]
    },
    {
     "data": {
      "text/plain": [
       "[15, 12, 9, 6, 3]"
      ]
     },
     "execution_count": 4,
     "metadata": {},
     "output_type": "execute_result"
    }
   ],
   "source": [
    "def my_range(start, stop, step=1):\n",
    "    res = []\n",
    "    if step > 0:\n",
    "        x = start\n",
    "        while x < stop:\n",
    "            res += [x]\n",
    "            x += step\n",
    "    elif step < 0:\n",
    "        x = start\n",
    "        while x > stop:\n",
    "            res += [x]\n",
    "            x += step\n",
    "    return res\n",
    "\n",
    "print(my_range(2, 5))\n",
    "print(my_range(2, 15, 3))\n",
    "print(my_range(15, 2, -3))\n",
    "[2, 3, 4]\n",
    "[2, 5, 8, 11, 14]\n",
    "[15, 12, 9, 6, 3]"
   ]
  },
  {
   "cell_type": "markdown",
   "metadata": {},
   "source": [
    "# Сортировка разными способами\n",
    "# Testing - drive development(сначала создается тестовая программа)"
   ]
  },
  {
   "cell_type": "code",
   "execution_count": null,
   "metadata": {},
   "outputs": [],
   "source": [
    "#Устойчивость сортировки - сортировка называется устойчивой, если она не меняет порядок равных элементов\n",
    "#Лучше соблюдать устойчивость"
   ]
  },
  {
   "cell_type": "code",
   "execution_count": null,
   "metadata": {},
   "outputs": [],
   "source": [
    "import timeit"
   ]
  },
  {
   "cell_type": "code",
   "execution_count": 54,
   "metadata": {
    "collapsed": true
   },
   "outputs": [
    {
     "data": {
      "text/plain": [
       "[594,\n",
       " 871,\n",
       " 42,\n",
       " 669,\n",
       " 68,\n",
       " 742,\n",
       " 882,\n",
       " 964,\n",
       " 247,\n",
       " 233,\n",
       " 343,\n",
       " 452,\n",
       " 385,\n",
       " 444,\n",
       " 115,\n",
       " 9,\n",
       " 935,\n",
       " 206,\n",
       " 996,\n",
       " 125,\n",
       " 152,\n",
       " 925,\n",
       " 989,\n",
       " 607,\n",
       " 29,\n",
       " 346,\n",
       " 492,\n",
       " 243,\n",
       " 62,\n",
       " 286,\n",
       " 119,\n",
       " 266,\n",
       " 751,\n",
       " 913,\n",
       " 645,\n",
       " 86,\n",
       " 515,\n",
       " 576,\n",
       " 134,\n",
       " 52,\n",
       " 987,\n",
       " 431,\n",
       " 864,\n",
       " 983,\n",
       " 596,\n",
       " 687,\n",
       " 982,\n",
       " 133,\n",
       " 281,\n",
       " 10,\n",
       " 469,\n",
       " 210,\n",
       " 536,\n",
       " 705,\n",
       " 109,\n",
       " 94,\n",
       " 848,\n",
       " 899,\n",
       " 58,\n",
       " 990,\n",
       " 927,\n",
       " 706,\n",
       " 29,\n",
       " 495,\n",
       " 689,\n",
       " 300,\n",
       " 509,\n",
       " 598,\n",
       " 800,\n",
       " 675,\n",
       " 131,\n",
       " 238,\n",
       " 410,\n",
       " 866,\n",
       " 761,\n",
       " 199,\n",
       " 547,\n",
       " 738,\n",
       " 555,\n",
       " 885,\n",
       " 807,\n",
       " 888,\n",
       " 286,\n",
       " 456,\n",
       " 499,\n",
       " 621,\n",
       " 104,\n",
       " 764,\n",
       " 165,\n",
       " 274,\n",
       " 6,\n",
       " 120,\n",
       " 584,\n",
       " 922,\n",
       " 515,\n",
       " 786,\n",
       " 698,\n",
       " 677,\n",
       " 984,\n",
       " 727,\n",
       " 489,\n",
       " 117,\n",
       " 520,\n",
       " 1,\n",
       " 885,\n",
       " 405,\n",
       " 200,\n",
       " 233,\n",
       " 303,\n",
       " 48,\n",
       " 692,\n",
       " 744,\n",
       " 609,\n",
       " 52,\n",
       " 308,\n",
       " 861,\n",
       " 300,\n",
       " 140,\n",
       " 322,\n",
       " 457,\n",
       " 92,\n",
       " 581,\n",
       " 635,\n",
       " 186,\n",
       " 130,\n",
       " 330,\n",
       " 635,\n",
       " 268,\n",
       " 355,\n",
       " 386,\n",
       " 157,\n",
       " 241,\n",
       " 555,\n",
       " 263,\n",
       " 695,\n",
       " 247,\n",
       " 911,\n",
       " 266,\n",
       " 793,\n",
       " 226,\n",
       " 234,\n",
       " 898,\n",
       " 583,\n",
       " 1000,\n",
       " 588,\n",
       " 590,\n",
       " 962,\n",
       " 50,\n",
       " 324,\n",
       " 833,\n",
       " 851,\n",
       " 650,\n",
       " 8,\n",
       " 961,\n",
       " 775,\n",
       " 665,\n",
       " 236,\n",
       " 560,\n",
       " 348,\n",
       " 704,\n",
       " 801,\n",
       " 523,\n",
       " 81,\n",
       " 255,\n",
       " 340,\n",
       " 669,\n",
       " 223,\n",
       " 971,\n",
       " 227,\n",
       " 231,\n",
       " 591,\n",
       " 160,\n",
       " 159,\n",
       " 749,\n",
       " 645,\n",
       " 248,\n",
       " 96,\n",
       " 440,\n",
       " 374,\n",
       " 381,\n",
       " 550,\n",
       " 52,\n",
       " 477,\n",
       " 232,\n",
       " 855,\n",
       " 374,\n",
       " 880,\n",
       " 855,\n",
       " 839,\n",
       " 635,\n",
       " 973,\n",
       " 293,\n",
       " 893,\n",
       " 539,\n",
       " 330,\n",
       " 620,\n",
       " 382,\n",
       " 484,\n",
       " 621,\n",
       " 189,\n",
       " 389,\n",
       " 136,\n",
       " 995,\n",
       " 169,\n",
       " 49,\n",
       " 678,\n",
       " 498,\n",
       " 367,\n",
       " 825,\n",
       " 527,\n",
       " 547,\n",
       " 795,\n",
       " 180,\n",
       " 740,\n",
       " 6,\n",
       " 943,\n",
       " 393,\n",
       " 66,\n",
       " 729,\n",
       " 891,\n",
       " 587,\n",
       " 722,\n",
       " 30,\n",
       " 871,\n",
       " 176,\n",
       " 931,\n",
       " 640,\n",
       " 131,\n",
       " 70,\n",
       " 49,\n",
       " 987,\n",
       " 998,\n",
       " 964,\n",
       " 50,\n",
       " 996,\n",
       " 270,\n",
       " 157,\n",
       " 507,\n",
       " 135,\n",
       " 206,\n",
       " 404,\n",
       " 35,\n",
       " 600,\n",
       " 827,\n",
       " 911,\n",
       " 14,\n",
       " 183,\n",
       " 183,\n",
       " 326,\n",
       " 793,\n",
       " 806,\n",
       " 594,\n",
       " 288,\n",
       " 243,\n",
       " 810,\n",
       " 532,\n",
       " 670,\n",
       " 242,\n",
       " 238,\n",
       " 913,\n",
       " 598,\n",
       " 260,\n",
       " 599,\n",
       " 535,\n",
       " 564,\n",
       " 551,\n",
       " 596,\n",
       " 68,\n",
       " 924,\n",
       " 163,\n",
       " 470,\n",
       " 457,\n",
       " 227,\n",
       " 45,\n",
       " 1,\n",
       " 730,\n",
       " 43,\n",
       " 69,\n",
       " 163,\n",
       " 235,\n",
       " 655,\n",
       " 639,\n",
       " 549,\n",
       " 717,\n",
       " 890,\n",
       " 838,\n",
       " 648,\n",
       " 777,\n",
       " 300,\n",
       " 166,\n",
       " 545,\n",
       " 884,\n",
       " 950,\n",
       " 110,\n",
       " 666,\n",
       " 237,\n",
       " 525,\n",
       " 212,\n",
       " 518,\n",
       " 48,\n",
       " 117,\n",
       " 151,\n",
       " 876,\n",
       " 624,\n",
       " 192,\n",
       " 688,\n",
       " 173,\n",
       " 85,\n",
       " 85,\n",
       " 490,\n",
       " 744,\n",
       " 375,\n",
       " 522,\n",
       " 373,\n",
       " 907,\n",
       " 906,\n",
       " 71,\n",
       " 82,\n",
       " 865,\n",
       " 568,\n",
       " 465,\n",
       " 188,\n",
       " 372,\n",
       " 40,\n",
       " 518,\n",
       " 362,\n",
       " 944,\n",
       " 815,\n",
       " 32,\n",
       " 918,\n",
       " 153,\n",
       " 455,\n",
       " 966,\n",
       " 573,\n",
       " 361,\n",
       " 283,\n",
       " 502,\n",
       " 643,\n",
       " 535,\n",
       " 366,\n",
       " 924,\n",
       " 878,\n",
       " 527,\n",
       " 904,\n",
       " 136,\n",
       " 691,\n",
       " 733,\n",
       " 255,\n",
       " 12,\n",
       " 915,\n",
       " 105,\n",
       " 656,\n",
       " 212,\n",
       " 901,\n",
       " 568,\n",
       " 168,\n",
       " 282,\n",
       " 379,\n",
       " 747,\n",
       " 841,\n",
       " 645,\n",
       " 787,\n",
       " 265,\n",
       " 852,\n",
       " 572,\n",
       " 865,\n",
       " 547,\n",
       " 484,\n",
       " 121,\n",
       " 872,\n",
       " 522,\n",
       " 930,\n",
       " 820,\n",
       " 727,\n",
       " 301,\n",
       " 591,\n",
       " 98,\n",
       " 742,\n",
       " 576,\n",
       " 970,\n",
       " 59,\n",
       " 112,\n",
       " 43,\n",
       " 933,\n",
       " 207,\n",
       " 281,\n",
       " 711,\n",
       " 178,\n",
       " 900,\n",
       " 455,\n",
       " 376,\n",
       " 402,\n",
       " 560,\n",
       " 849,\n",
       " 882,\n",
       " 379,\n",
       " 116,\n",
       " 433,\n",
       " 492,\n",
       " 964,\n",
       " 229,\n",
       " 94,\n",
       " 96,\n",
       " 152,\n",
       " 224,\n",
       " 749,\n",
       " 25,\n",
       " 499,\n",
       " 219,\n",
       " 637,\n",
       " 244,\n",
       " 565,\n",
       " 368,\n",
       " 40,\n",
       " 806,\n",
       " 146,\n",
       " 211,\n",
       " 518,\n",
       " 188,\n",
       " 380,\n",
       " 458,\n",
       " 596,\n",
       " 889,\n",
       " 412,\n",
       " 187,\n",
       " 379,\n",
       " 788,\n",
       " 883,\n",
       " 58,\n",
       " 818,\n",
       " 554,\n",
       " 594,\n",
       " 763,\n",
       " 193,\n",
       " 977,\n",
       " 283,\n",
       " 431,\n",
       " 891,\n",
       " 418,\n",
       " 257,\n",
       " 471,\n",
       " 509,\n",
       " 470,\n",
       " 729,\n",
       " 969,\n",
       " 794,\n",
       " 255,\n",
       " 522,\n",
       " 164,\n",
       " 206,\n",
       " 24,\n",
       " 533,\n",
       " 448,\n",
       " 285,\n",
       " 26,\n",
       " 510,\n",
       " 395,\n",
       " 767,\n",
       " 766,\n",
       " 329,\n",
       " 788,\n",
       " 917,\n",
       " 955,\n",
       " 855,\n",
       " 319,\n",
       " 84,\n",
       " 774,\n",
       " 313,\n",
       " 301,\n",
       " 630,\n",
       " 399,\n",
       " 249,\n",
       " 45,\n",
       " 221,\n",
       " 119,\n",
       " 451,\n",
       " 851,\n",
       " 853,\n",
       " 475,\n",
       " 221,\n",
       " 559,\n",
       " 519,\n",
       " 215,\n",
       " 580,\n",
       " 954,\n",
       " 684,\n",
       " 239,\n",
       " 833,\n",
       " 422,\n",
       " 471,\n",
       " 573,\n",
       " 248,\n",
       " 538,\n",
       " 754,\n",
       " 848,\n",
       " 483,\n",
       " 6,\n",
       " 284,\n",
       " 32,\n",
       " 385,\n",
       " 159,\n",
       " 677,\n",
       " 556,\n",
       " 920,\n",
       " 845,\n",
       " 806,\n",
       " 923,\n",
       " 212,\n",
       " 903,\n",
       " 58,\n",
       " 886,\n",
       " 697,\n",
       " 128,\n",
       " 801,\n",
       " 752,\n",
       " 635,\n",
       " 322,\n",
       " 738,\n",
       " 694,\n",
       " 713,\n",
       " 671,\n",
       " 469,\n",
       " 97,\n",
       " 186,\n",
       " 913,\n",
       " 584,\n",
       " 394,\n",
       " 668,\n",
       " 916,\n",
       " 569,\n",
       " 422,\n",
       " 91,\n",
       " 450,\n",
       " 940,\n",
       " 852,\n",
       " 256,\n",
       " 844,\n",
       " 5,\n",
       " 400,\n",
       " 245,\n",
       " 590,\n",
       " 974,\n",
       " 29,\n",
       " 832,\n",
       " 143,\n",
       " 9,\n",
       " 686,\n",
       " 817,\n",
       " 906,\n",
       " 714,\n",
       " 637,\n",
       " 589,\n",
       " 624,\n",
       " 20,\n",
       " 786,\n",
       " 703,\n",
       " 759,\n",
       " 61,\n",
       " 704,\n",
       " 274,\n",
       " 912,\n",
       " 845,\n",
       " 50,\n",
       " 791,\n",
       " 715,\n",
       " 720,\n",
       " 841,\n",
       " 399,\n",
       " 131,\n",
       " 925,\n",
       " 222,\n",
       " 635,\n",
       " 272,\n",
       " 929,\n",
       " 893,\n",
       " 207,\n",
       " 817,\n",
       " 925,\n",
       " 190,\n",
       " 904,\n",
       " 653,\n",
       " 88,\n",
       " 748,\n",
       " 532,\n",
       " 410,\n",
       " 667,\n",
       " 92,\n",
       " 870,\n",
       " 38,\n",
       " 581,\n",
       " 186,\n",
       " 42,\n",
       " 272,\n",
       " 228,\n",
       " 518,\n",
       " 532,\n",
       " 61,\n",
       " 768,\n",
       " 872,\n",
       " 472,\n",
       " 938,\n",
       " 310,\n",
       " 525,\n",
       " 785,\n",
       " 676,\n",
       " 954,\n",
       " 306,\n",
       " 78,\n",
       " 838,\n",
       " 606,\n",
       " 209,\n",
       " 928,\n",
       " 414,\n",
       " 119,\n",
       " 464,\n",
       " 343,\n",
       " 190,\n",
       " 673,\n",
       " 670,\n",
       " 184,\n",
       " 462,\n",
       " 128,\n",
       " 619,\n",
       " 69,\n",
       " 477,\n",
       " 136,\n",
       " 481,\n",
       " 745,\n",
       " 42,\n",
       " 327,\n",
       " 304,\n",
       " 999,\n",
       " 323,\n",
       " 76,\n",
       " 239,\n",
       " 342,\n",
       " 700,\n",
       " 539,\n",
       " 57,\n",
       " 990,\n",
       " 808,\n",
       " 551,\n",
       " 535,\n",
       " 350,\n",
       " 712,\n",
       " 502,\n",
       " 216,\n",
       " 320,\n",
       " 837,\n",
       " 68,\n",
       " 991,\n",
       " 263,\n",
       " 552,\n",
       " 844,\n",
       " 812,\n",
       " 935,\n",
       " 565,\n",
       " 779,\n",
       " 313,\n",
       " 317,\n",
       " 931,\n",
       " 337,\n",
       " 588,\n",
       " 852,\n",
       " 31,\n",
       " 594,\n",
       " 781,\n",
       " 249,\n",
       " 267,\n",
       " 738,\n",
       " 133,\n",
       " 590,\n",
       " 570,\n",
       " 407,\n",
       " 83,\n",
       " 365,\n",
       " 670,\n",
       " 397,\n",
       " 268,\n",
       " 721,\n",
       " 542,\n",
       " 854,\n",
       " 238,\n",
       " 112,\n",
       " 979,\n",
       " 256,\n",
       " 119,\n",
       " 784,\n",
       " 410,\n",
       " 228,\n",
       " 151,\n",
       " 339,\n",
       " 127,\n",
       " 463,\n",
       " 389,\n",
       " 662,\n",
       " 567,\n",
       " 37,\n",
       " 287,\n",
       " 400,\n",
       " 114,\n",
       " 832,\n",
       " 294,\n",
       " 574,\n",
       " 785,\n",
       " 820,\n",
       " 813,\n",
       " 796,\n",
       " 947,\n",
       " 27,\n",
       " 319,\n",
       " 322,\n",
       " 568,\n",
       " 375,\n",
       " 504,\n",
       " 20,\n",
       " 286,\n",
       " 3,\n",
       " 428,\n",
       " 242,\n",
       " 984,\n",
       " 455,\n",
       " 751,\n",
       " 849,\n",
       " 688,\n",
       " 930,\n",
       " 760,\n",
       " 572,\n",
       " 870,\n",
       " 236,\n",
       " 477,\n",
       " 623,\n",
       " 763,\n",
       " 299,\n",
       " 290,\n",
       " 345,\n",
       " 318,\n",
       " 546,\n",
       " 144,\n",
       " 556,\n",
       " 49,\n",
       " 190,\n",
       " 249,\n",
       " 602,\n",
       " 443,\n",
       " 500,\n",
       " 460,\n",
       " 619,\n",
       " 674,\n",
       " 448,\n",
       " 467,\n",
       " 273,\n",
       " 62,\n",
       " 931,\n",
       " 895,\n",
       " 194,\n",
       " 422,\n",
       " 627,\n",
       " 953,\n",
       " 458,\n",
       " 586,\n",
       " 474,\n",
       " 987,\n",
       " 878,\n",
       " 607,\n",
       " 371,\n",
       " 310,\n",
       " 267,\n",
       " 517,\n",
       " 321,\n",
       " 983,\n",
       " 26,\n",
       " 736,\n",
       " 585,\n",
       " 120,\n",
       " 316,\n",
       " 82,\n",
       " 333,\n",
       " 395,\n",
       " 207,\n",
       " 699,\n",
       " 290,\n",
       " 504,\n",
       " 858,\n",
       " 56,\n",
       " 407,\n",
       " 158,\n",
       " 72,\n",
       " 37,\n",
       " 864,\n",
       " 949,\n",
       " 399,\n",
       " 359,\n",
       " 745,\n",
       " 715,\n",
       " 569,\n",
       " 917,\n",
       " 358,\n",
       " 829,\n",
       " 580,\n",
       " 519,\n",
       " 891,\n",
       " 560,\n",
       " 721,\n",
       " 901,\n",
       " 530,\n",
       " 997,\n",
       " 386,\n",
       " 210,\n",
       " 350,\n",
       " 336,\n",
       " 54,\n",
       " 1000,\n",
       " 962,\n",
       " 847,\n",
       " 165,\n",
       " 455,\n",
       " 85,\n",
       " 726,\n",
       " 800,\n",
       " 237,\n",
       " 85,\n",
       " 984,\n",
       " 189,\n",
       " 56,\n",
       " 438,\n",
       " 971,\n",
       " 672,\n",
       " 26,\n",
       " 899,\n",
       " 969,\n",
       " 156,\n",
       " 269,\n",
       " 722,\n",
       " 517,\n",
       " 686,\n",
       " 197,\n",
       " 414,\n",
       " 398,\n",
       " 148,\n",
       " 939,\n",
       " 524,\n",
       " 952,\n",
       " 897,\n",
       " 265,\n",
       " 346,\n",
       " 139,\n",
       " 654,\n",
       " 892,\n",
       " 583,\n",
       " 673,\n",
       " 979,\n",
       " 170,\n",
       " 908,\n",
       " 779,\n",
       " 46,\n",
       " 16,\n",
       " 419,\n",
       " 605,\n",
       " 790,\n",
       " 605,\n",
       " 176,\n",
       " 757,\n",
       " 681,\n",
       " 894,\n",
       " 482,\n",
       " 390,\n",
       " 123,\n",
       " 506,\n",
       " 160,\n",
       " 375,\n",
       " 302,\n",
       " 312,\n",
       " 438,\n",
       " 49,\n",
       " 483,\n",
       " 342,\n",
       " 770,\n",
       " 42,\n",
       " 254,\n",
       " 47,\n",
       " 522,\n",
       " 109,\n",
       " 75,\n",
       " 788,\n",
       " 962,\n",
       " 391,\n",
       " 394,\n",
       " 862,\n",
       " 515,\n",
       " 602,\n",
       " 708,\n",
       " 733,\n",
       " 29,\n",
       " 669,\n",
       " 588,\n",
       " 747,\n",
       " 952,\n",
       " 614,\n",
       " 845,\n",
       " 127,\n",
       " 744,\n",
       " 155,\n",
       " 80,\n",
       " 224,\n",
       " 548,\n",
       " 632,\n",
       " 164,\n",
       " 43,\n",
       " 382,\n",
       " 274,\n",
       " 521,\n",
       " 867,\n",
       " 410,\n",
       " 475,\n",
       " 59,\n",
       " 474,\n",
       " 8,\n",
       " 30,\n",
       " 187,\n",
       " 337,\n",
       " 703,\n",
       " 565,\n",
       " 980,\n",
       " 527,\n",
       " 706,\n",
       " 342,\n",
       " 232,\n",
       " 633,\n",
       " 35,\n",
       " 810,\n",
       " 306,\n",
       " 199,\n",
       " 153,\n",
       " 172,\n",
       " 371,\n",
       " 367,\n",
       " 814,\n",
       " 806,\n",
       " 966,\n",
       " 926,\n",
       " 882,\n",
       " 130,\n",
       " 360,\n",
       " 727,\n",
       " 311,\n",
       " 973,\n",
       " 731,\n",
       " 946,\n",
       " 456,\n",
       " 83,\n",
       " 924,\n",
       " 487,\n",
       " 794,\n",
       " 385,\n",
       " 379,\n",
       " 333,\n",
       " 495,\n",
       " 602,\n",
       " 682,\n",
       " 107,\n",
       " 178,\n",
       " 879,\n",
       " 399,\n",
       " 920,\n",
       " 656,\n",
       " 659,\n",
       " 958,\n",
       " 267,\n",
       " 32,\n",
       " 714,\n",
       " 916,\n",
       " 555,\n",
       " 75,\n",
       " 538,\n",
       " 324,\n",
       " 66,\n",
       " 103,\n",
       " 824,\n",
       " 425,\n",
       " 215,\n",
       " 633,\n",
       " 923,\n",
       " 902,\n",
       " 168,\n",
       " 273,\n",
       " 840,\n",
       " 363,\n",
       " 485,\n",
       " 425,\n",
       " 225,\n",
       " 801,\n",
       " 332,\n",
       " 213,\n",
       " 208,\n",
       " 342,\n",
       " 92,\n",
       " 713,\n",
       " 621,\n",
       " 150]"
      ]
     },
     "execution_count": 54,
     "metadata": {},
     "output_type": "execute_result"
    }
   ],
   "source": [
    "import random\n",
    "A = [random.randint(1,1000) for i in range(1000)] \n",
    "A"
   ]
  },
  {
   "cell_type": "code",
   "execution_count": 55,
   "metadata": {},
   "outputs": [
    {
     "name": "stdout",
     "output_type": "stream",
     "text": [
      "4.87 ms ± 21.8 µs per loop (mean ± std. dev. of 7 runs, 100 loops each)\n"
     ]
    }
   ],
   "source": [
    "%%timeit\n",
    "def merge(A:list, B:list):\n",
    "    \"\"\"Сортировка слиянием\"\"\"\n",
    "    C = [0] * (len(A) + len(B))\n",
    "    i = k = n = 0\n",
    "    while i < len(A) and k < len(B):\n",
    "        if A[i] <= B[k]:\n",
    "            C[n] = A[i]\n",
    "            i += 1\n",
    "            n += 1\n",
    "        else:\n",
    "            C[n] = B[k]\n",
    "            k += 1\n",
    "            n += 1\n",
    "    while i < len(A):\n",
    "        C[n] = A[i]\n",
    "        i += 1\n",
    "        n += 1\n",
    "    while k < len(B):\n",
    "        C[n] = B[k]\n",
    "        k += 1\n",
    "        n += 1\n",
    "    return C\n",
    "\n",
    "def merge_sort(A):\n",
    "    if len(A)<=1:\n",
    "        return\n",
    "    middle = len(A)//2\n",
    "    L=[A[i] for i in range(0, middle)]\n",
    "    R=[A[i] for i in range(middle, len(A))]\n",
    "    merge_sort(L)\n",
    "    merge_sort(R)\n",
    "    C = merge(L, R)\n",
    "    for i in range(len(A)):\n",
    "        A[i] = C[i]\n",
    "        \n",
    "merge_sort(A)"
   ]
  },
  {
   "cell_type": "code",
   "execution_count": 56,
   "metadata": {},
   "outputs": [
    {
     "name": "stdout",
     "output_type": "stream",
     "text": [
      "5.52 µs ± 28.7 ns per loop (mean ± std. dev. of 7 runs, 100000 loops each)\n"
     ]
    }
   ],
   "source": [
    "%%timeit\n",
    "sorted(A)\n",
    "A"
   ]
  },
  {
   "cell_type": "code",
   "execution_count": 57,
   "metadata": {},
   "outputs": [
    {
     "name": "stdout",
     "output_type": "stream",
     "text": [
      "111 µs ± 306 ns per loop (mean ± std. dev. of 7 runs, 10000 loops each)\n"
     ]
    }
   ],
   "source": [
    "%%timeit\n",
    "\n",
    "def insert_sort(A):\n",
    "    \"\"\"Сортировка списка вставками\"\"\"\n",
    "    N=len(A)\n",
    "    for top in range(1, N):\n",
    "        k = top\n",
    "        while k > 0 and A[k-1] > A[k]:\n",
    "            A[k], A[k-1] = A[k-1], A[k]\n",
    "            k-=1\n",
    "insert_sort(A)"
   ]
  },
  {
   "cell_type": "code",
   "execution_count": 39,
   "metadata": {},
   "outputs": [],
   "source": [
    "def insert_sort(A):\n",
    "    \"\"\"Сортировка списка вставками\"\"\"\n",
    "    N=len(A)\n",
    "    for top in range(1, N):\n",
    "        k = top\n",
    "        while k > 0 and A[k-1] > A[k]:\n",
    "            A[k], A[k-1] = A[k-1], A[k]\n",
    "            k-=1\n",
    "def choice_sort(A):\n",
    "    \"\"\"Сортировка списка выбором\"\"\"\n",
    "    N = len(A)\n",
    "    for pos in range(0, N-1):\n",
    "        for k in range(pos+1, N):\n",
    "            if A[k] < A[pos]:\n",
    "                A[k], A[pos] = A[pos], A[k]\n",
    "def bubble_sort(A):\n",
    "    \"\"\"Сортировка списка пузырьками\"\"\"\n",
    "    N = len(A)\n",
    "    for bypass in range(1, N):\n",
    "        for k in range(0, N-bypass):\n",
    "            if A[k] > A[k+1]:\n",
    "                A[k], A[k+1] = A[k+1], A[k]"
   ]
  },
  {
   "cell_type": "code",
   "execution_count": 29,
   "metadata": {
    "scrolled": true
   },
   "outputs": [],
   "source": [
    "def test_sort(sort_algorithm):\n",
    "    print(\"Тестируем:\", sort_algorithm.__doc__)\n",
    "    print(\"testcase #1: \", end=\"\")\n",
    "    A = [4, 2, 5, 1, 3]\n",
    "    A_sorted = [1, 2, 3, 4, 5]\n",
    "    sort_algorithm(A)\n",
    "    print(\"OK\" if A == A_sorted else \"Fail\")\n",
    "    \n",
    "    print(\"testcase #2: \", end=\"\")\n",
    "    A = list(range(10, 20)) + list(range(0, 10))\n",
    "    A_sorted = list(range(20))\n",
    "    sort_algorithm(A)\n",
    "    print(\"OK\" if A == A_sorted else \"Fail\")\n",
    "    \n",
    "    print(\"testcase #3: \", end=\"\")\n",
    "    A = [4, 2, 4, 2, 1]\n",
    "    A_sorted = [1, 2, 2, 4, 4]\n",
    "    sort_algorithm(A)\n",
    "    print(\"OK\" if A == A_sorted else \"Fail\")"
   ]
  },
  {
   "cell_type": "code",
   "execution_count": 40,
   "metadata": {
    "scrolled": false
   },
   "outputs": [
    {
     "name": "stdout",
     "output_type": "stream",
     "text": [
      "Тестируем: Сортировка списка вставками\n",
      "testcase #1: OK\n",
      "testcase #2: OK\n",
      "testcase #3: OK\n",
      "Тестируем: Сортировка списка выбором\n",
      "testcase #1: OK\n",
      "testcase #2: OK\n",
      "testcase #3: OK\n",
      "Тестируем: Сортировка списка пузырьками\n",
      "testcase #1: OK\n",
      "testcase #2: OK\n",
      "testcase #3: OK\n"
     ]
    }
   ],
   "source": [
    "test_sort(insert_sort)\n",
    "test_sort(choice_sort)\n",
    "test_sort(bubble_sort)"
   ]
  },
  {
   "cell_type": "code",
   "execution_count": null,
   "metadata": {},
   "outputs": [],
   "source": []
  }
 ],
 "metadata": {
  "kernelspec": {
   "display_name": "Python 3",
   "language": "python",
   "name": "python3"
  },
  "language_info": {
   "codemirror_mode": {
    "name": "ipython",
    "version": 3
   },
   "file_extension": ".py",
   "mimetype": "text/x-python",
   "name": "python",
   "nbconvert_exporter": "python",
   "pygments_lexer": "ipython3",
   "version": "3.7.4"
  }
 },
 "nbformat": 4,
 "nbformat_minor": 2
}
