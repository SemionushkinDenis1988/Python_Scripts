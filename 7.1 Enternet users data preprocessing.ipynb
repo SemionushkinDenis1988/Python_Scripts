{
 "cells": [
  {
   "cell_type": "code",
   "execution_count": 10,
   "metadata": {},
   "outputs": [],
   "source": [
    "import pandas as pd"
   ]
  },
  {
   "cell_type": "code",
   "execution_count": 467,
   "metadata": {},
   "outputs": [],
   "source": [
    "tariff_broadband_df = pd.read_excel(r'Тариф.xlsx', names=['account','connected', 'tariff', 'IP', 'lease'])\n",
    "payment_broadband_df = pd.read_excel(r'Оплата.xlsx', names=['account', 'datetime', 'amount', 'method']);\n",
    "CC_call_df = pd.read_excel(r'Обращения в КЦ.xlsx', names=['date', 'time', 'duration', 'account', 'region', 'theme', 'type'])\n",
    "change_tariff_broadband_df = pd.read_excel(r'Изменения тарифов.xlsx', names=['account', 'datetime', 'new_tariff', 'old_tariff']);\n",
    "\n",
    "tariff_broadband_df['connected'] = tariff_broadband_df['connected'].astype('datetime64').dt.date\n",
    "payment_broadband_df['datetime'] = payment_broadband_df['datetime'].astype('datetime64').dt.date\n",
    "CC_call_df['date'] = CC_call_df['date'].astype('datetime64').dt.date\n",
    "change_tariff_broadband_df['datetime'] = change_tariff_broadband_df['datetime'].astype('datetime64').dt.date"
   ]
  },
  {
   "cell_type": "code",
   "execution_count": 58,
   "metadata": {
    "scrolled": false
   },
   "outputs": [
    {
     "data": {
      "text/plain": [
       "account      0\n",
       "connected    0\n",
       "tariff       0\n",
       "IP           0\n",
       "lease        0\n",
       "dtype: int64"
      ]
     },
     "execution_count": 58,
     "metadata": {},
     "output_type": "execute_result"
    }
   ],
   "source": [
    "tariff_broadband_df.isna().sum()"
   ]
  },
  {
   "cell_type": "code",
   "execution_count": 255,
   "metadata": {
    "scrolled": true
   },
   "outputs": [
    {
     "data": {
      "text/plain": [
       "account     0\n",
       "datetime    0\n",
       "amount      0\n",
       "method      0\n",
       "dtype: int64"
      ]
     },
     "execution_count": 255,
     "metadata": {},
     "output_type": "execute_result"
    }
   ],
   "source": [
    "payment_broadband_df.isna().sum()"
   ]
  },
  {
   "cell_type": "code",
   "execution_count": 256,
   "metadata": {
    "scrolled": true
   },
   "outputs": [
    {
     "data": {
      "text/plain": [
       "date        0\n",
       "time        0\n",
       "duration    0\n",
       "account     0\n",
       "region      0\n",
       "theme       0\n",
       "type        0\n",
       "dtype: int64"
      ]
     },
     "execution_count": 256,
     "metadata": {},
     "output_type": "execute_result"
    }
   ],
   "source": [
    "CC_call_df.isna().sum()"
   ]
  },
  {
   "cell_type": "code",
   "execution_count": 257,
   "metadata": {},
   "outputs": [
    {
     "data": {
      "text/plain": [
       "account           0\n",
       "datetime          0\n",
       "new_tariff        0\n",
       "old_tariff    16751\n",
       "dtype: int64"
      ]
     },
     "execution_count": 257,
     "metadata": {},
     "output_type": "execute_result"
    }
   ],
   "source": [
    "change_tariff_broadband_df.isna().sum()"
   ]
  },
  {
   "cell_type": "markdown",
   "metadata": {},
   "source": [
    "<h4>1. Укажите три самых частых тарифа</h4>"
   ]
  },
  {
   "cell_type": "code",
   "execution_count": 560,
   "metadata": {},
   "outputs": [
    {
     "data": {
      "text/plain": [
       "План А          10167\n",
       "Средний план     2397\n",
       "Камбэк 250       2396\n",
       "Крупный план      766\n",
       "Камбэк 450        591\n",
       "Гигаплан          267\n",
       "Космос            149\n",
       "Старт              94\n",
       "Name: tariff, dtype: int64"
      ]
     },
     "execution_count": 560,
     "metadata": {},
     "output_type": "execute_result"
    }
   ],
   "source": [
    "tariff_broadband_df.tariff.value_counts() #План А          10167\n",
    "                                          #Средний план     2397\n",
    "                                          #Камбэк 250       2396"
   ]
  },
  {
   "cell_type": "markdown",
   "metadata": {},
   "source": [
    "<h4>2. Укажите месяц с самым большим количеством подключений</h4>"
   ]
  },
  {
   "cell_type": "code",
   "execution_count": 155,
   "metadata": {},
   "outputs": [],
   "source": [
    "tariff_broadband_df_time = pd.read_excel(r'Тариф.xlsx', index_col = 'connected')"
   ]
  },
  {
   "cell_type": "code",
   "execution_count": 558,
   "metadata": {
    "scrolled": true
   },
   "outputs": [
    {
     "data": {
      "text/plain": [
       "connected\n",
       "2018-10-31    1916\n",
       "2018-08-31    1808\n",
       "2018-12-31    1708\n",
       "2018-09-30    1678\n",
       "2018-11-30    1614\n",
       "2018-07-31    1597\n",
       "2018-06-30    1501\n",
       "2018-05-31    1157\n",
       "2018-03-31    1074\n",
       "2018-04-30    1072\n",
       "2018-02-28     937\n",
       "2018-01-31     765\n",
       "Name: account, dtype: int64"
      ]
     },
     "execution_count": 558,
     "metadata": {},
     "output_type": "execute_result"
    }
   ],
   "source": [
    "tariff_broadband_df_time.account\\\n",
    "                        .resample('1m')\\\n",
    "                        .count()\\\n",
    "                        .sort_values(ascending=False) #самое большое количество подключений было в октябре"
   ]
  },
  {
   "cell_type": "markdown",
   "metadata": {},
   "source": [
    "<h4>3. Найдите корреляцию между наличием у абонента статического IP адреса и наличием роутера в аренде. Что можно сказать о связи друг с другом этих свойств?</h4>"
   ]
  },
  {
   "cell_type": "code",
   "execution_count": 195,
   "metadata": {
    "scrolled": true
   },
   "outputs": [
    {
     "name": "stdout",
     "output_type": "stream",
     "text": [
      "248\n",
      "3992\n"
     ]
    },
    {
     "data": {
      "text/html": [
       "<div>\n",
       "<style scoped>\n",
       "    .dataframe tbody tr th:only-of-type {\n",
       "        vertical-align: middle;\n",
       "    }\n",
       "\n",
       "    .dataframe tbody tr th {\n",
       "        vertical-align: top;\n",
       "    }\n",
       "\n",
       "    .dataframe thead th {\n",
       "        text-align: right;\n",
       "    }\n",
       "</style>\n",
       "<table border=\"1\" class=\"dataframe\">\n",
       "  <thead>\n",
       "    <tr style=\"text-align: right;\">\n",
       "      <th></th>\n",
       "      <th>IP</th>\n",
       "      <th>lease</th>\n",
       "    </tr>\n",
       "  </thead>\n",
       "  <tbody>\n",
       "    <tr>\n",
       "      <td>IP</td>\n",
       "      <td>1.000000</td>\n",
       "      <td>-0.040385</td>\n",
       "    </tr>\n",
       "    <tr>\n",
       "      <td>lease</td>\n",
       "      <td>-0.040385</td>\n",
       "      <td>1.000000</td>\n",
       "    </tr>\n",
       "  </tbody>\n",
       "</table>\n",
       "</div>"
      ],
      "text/plain": [
       "             IP     lease\n",
       "IP     1.000000 -0.040385\n",
       "lease -0.040385  1.000000"
      ]
     },
     "execution_count": 195,
     "metadata": {},
     "output_type": "execute_result"
    }
   ],
   "source": [
    "print(tariff_broadband_df.IP.sum())           #248 заявок на статический IP\n",
    "print(tariff_broadband_df.lease.sum())        #3992 заявки на роутер\n",
    "tariff_broadband_df[['IP', 'lease']].corr()   #переменные никак не связаны"
   ]
  },
  {
   "cell_type": "markdown",
   "metadata": {},
   "source": [
    "<h4>4. Определите среднее, моду, медиану, 1 и 3 квартили (Q1 и Q3) поступивших платежей</h4>"
   ]
  },
  {
   "cell_type": "code",
   "execution_count": 245,
   "metadata": {},
   "outputs": [
    {
     "data": {
      "text/plain": [
       "amount    500.0\n",
       "dtype: float64"
      ]
     },
     "execution_count": 245,
     "metadata": {},
     "output_type": "execute_result"
    }
   ],
   "source": [
    "payment_broadband_df[payment_broadband_df.amount>0]\\\n",
    "                                        [['amount']]\\\n",
    "                                        .median()"
   ]
  },
  {
   "cell_type": "code",
   "execution_count": 247,
   "metadata": {},
   "outputs": [
    {
     "data": {
      "text/html": [
       "<div>\n",
       "<style scoped>\n",
       "    .dataframe tbody tr th:only-of-type {\n",
       "        vertical-align: middle;\n",
       "    }\n",
       "\n",
       "    .dataframe tbody tr th {\n",
       "        vertical-align: top;\n",
       "    }\n",
       "\n",
       "    .dataframe thead th {\n",
       "        text-align: right;\n",
       "    }\n",
       "</style>\n",
       "<table border=\"1\" class=\"dataframe\">\n",
       "  <thead>\n",
       "    <tr style=\"text-align: right;\">\n",
       "      <th></th>\n",
       "      <th>amount</th>\n",
       "    </tr>\n",
       "  </thead>\n",
       "  <tbody>\n",
       "    <tr>\n",
       "      <td>0</td>\n",
       "      <td>500.0</td>\n",
       "    </tr>\n",
       "  </tbody>\n",
       "</table>\n",
       "</div>"
      ],
      "text/plain": [
       "   amount\n",
       "0   500.0"
      ]
     },
     "execution_count": 247,
     "metadata": {},
     "output_type": "execute_result"
    }
   ],
   "source": [
    "payment_broadband_df[payment_broadband_df.amount>0]\\\n",
    "                                        [['amount']]\\\n",
    "                                        .mode()"
   ]
  },
  {
   "cell_type": "code",
   "execution_count": 246,
   "metadata": {
    "scrolled": false
   },
   "outputs": [
    {
     "data": {
      "text/html": [
       "<div>\n",
       "<style scoped>\n",
       "    .dataframe tbody tr th:only-of-type {\n",
       "        vertical-align: middle;\n",
       "    }\n",
       "\n",
       "    .dataframe tbody tr th {\n",
       "        vertical-align: top;\n",
       "    }\n",
       "\n",
       "    .dataframe thead th {\n",
       "        text-align: right;\n",
       "    }\n",
       "</style>\n",
       "<table border=\"1\" class=\"dataframe\">\n",
       "  <thead>\n",
       "    <tr style=\"text-align: right;\">\n",
       "      <th></th>\n",
       "      <th>amount</th>\n",
       "    </tr>\n",
       "  </thead>\n",
       "  <tbody>\n",
       "    <tr>\n",
       "      <td>count</td>\n",
       "      <td>160631.000000</td>\n",
       "    </tr>\n",
       "    <tr>\n",
       "      <td>mean</td>\n",
       "      <td>482.156944</td>\n",
       "    </tr>\n",
       "    <tr>\n",
       "      <td>std</td>\n",
       "      <td>392.443483</td>\n",
       "    </tr>\n",
       "    <tr>\n",
       "      <td>min</td>\n",
       "      <td>0.120000</td>\n",
       "    </tr>\n",
       "    <tr>\n",
       "      <td>25%</td>\n",
       "      <td>250.000000</td>\n",
       "    </tr>\n",
       "    <tr>\n",
       "      <td>50%</td>\n",
       "      <td>500.000000</td>\n",
       "    </tr>\n",
       "    <tr>\n",
       "      <td>75%</td>\n",
       "      <td>590.000000</td>\n",
       "    </tr>\n",
       "    <tr>\n",
       "      <td>max</td>\n",
       "      <td>15000.000000</td>\n",
       "    </tr>\n",
       "  </tbody>\n",
       "</table>\n",
       "</div>"
      ],
      "text/plain": [
       "              amount\n",
       "count  160631.000000\n",
       "mean      482.156944\n",
       "std       392.443483\n",
       "min         0.120000\n",
       "25%       250.000000\n",
       "50%       500.000000\n",
       "75%       590.000000\n",
       "max     15000.000000"
      ]
     },
     "execution_count": 246,
     "metadata": {},
     "output_type": "execute_result"
    }
   ],
   "source": [
    "payment_broadband_df[payment_broadband_df.amount>0]\\\n",
    "                                        [['amount']]\\\n",
    "                                        .describe()"
   ]
  },
  {
   "cell_type": "markdown",
   "metadata": {},
   "source": [
    "<h4>5. Определите месяц с наибольшей суммой платежей</h4>"
   ]
  },
  {
   "cell_type": "code",
   "execution_count": 250,
   "metadata": {},
   "outputs": [],
   "source": [
    "payment_broadband_df_time = pd.read_excel(r'Оплата.xlsx', index_col = 'datetime')"
   ]
  },
  {
   "cell_type": "code",
   "execution_count": 259,
   "metadata": {},
   "outputs": [
    {
     "data": {
      "text/plain": [
       "datetime\n",
       "2018-12-31    11129519.09\n",
       "2018-11-30     9873420.65\n",
       "2018-10-31     9034717.60\n",
       "2018-09-30     8342754.22\n",
       "2018-08-31     7268916.62\n",
       "2018-07-31     6418289.29\n",
       "2018-06-30     5579337.87\n",
       "2018-05-31     4980803.09\n",
       "2018-04-30     4410217.18\n",
       "2018-03-31     4045453.52\n",
       "2018-02-28     3415200.55\n",
       "2018-01-31     2890035.06\n",
       "Name: amount, dtype: float64"
      ]
     },
     "execution_count": 259,
     "metadata": {},
     "output_type": "execute_result"
    }
   ],
   "source": [
    "payment_broadband_df_time.amount\\\n",
    "                         .resample('1m')\\\n",
    "                         .sum()\\\n",
    "                         .sort_values(ascending=False) #декабрь месяц с наибольшей суммой платежей"
   ]
  },
  {
   "cell_type": "markdown",
   "metadata": {},
   "source": [
    "<h4>6. Найдите 3 договора, заплативших наибольшую сумму</h4>"
   ]
  },
  {
   "cell_type": "code",
   "execution_count": 263,
   "metadata": {},
   "outputs": [
    {
     "data": {
      "text/html": [
       "<div>\n",
       "<style scoped>\n",
       "    .dataframe tbody tr th:only-of-type {\n",
       "        vertical-align: middle;\n",
       "    }\n",
       "\n",
       "    .dataframe tbody tr th {\n",
       "        vertical-align: top;\n",
       "    }\n",
       "\n",
       "    .dataframe thead th {\n",
       "        text-align: right;\n",
       "    }\n",
       "</style>\n",
       "<table border=\"1\" class=\"dataframe\">\n",
       "  <thead>\n",
       "    <tr style=\"text-align: right;\">\n",
       "      <th></th>\n",
       "      <th>account</th>\n",
       "      <th>amount</th>\n",
       "      <th>method</th>\n",
       "    </tr>\n",
       "    <tr>\n",
       "      <th>datetime</th>\n",
       "      <th></th>\n",
       "      <th></th>\n",
       "      <th></th>\n",
       "    </tr>\n",
       "  </thead>\n",
       "  <tbody>\n",
       "    <tr>\n",
       "      <td>2018-05-20</td>\n",
       "      <td>100667</td>\n",
       "      <td>15000.0</td>\n",
       "      <td>Сбербанк</td>\n",
       "    </tr>\n",
       "    <tr>\n",
       "      <td>2018-03-23</td>\n",
       "      <td>781442</td>\n",
       "      <td>13000.0</td>\n",
       "      <td>OSMP</td>\n",
       "    </tr>\n",
       "    <tr>\n",
       "      <td>2018-04-24</td>\n",
       "      <td>184287</td>\n",
       "      <td>11246.7</td>\n",
       "      <td>OSMP</td>\n",
       "    </tr>\n",
       "  </tbody>\n",
       "</table>\n",
       "</div>"
      ],
      "text/plain": [
       "            account   amount    method\n",
       "datetime                              \n",
       "2018-05-20   100667  15000.0  Сбербанк\n",
       "2018-03-23   781442  13000.0      OSMP\n",
       "2018-04-24   184287  11246.7      OSMP"
      ]
     },
     "execution_count": 263,
     "metadata": {},
     "output_type": "execute_result"
    }
   ],
   "source": [
    "payment_broadband_df_time.sort_values(by='amount', ascending=False).head(3)"
   ]
  },
  {
   "cell_type": "markdown",
   "metadata": {},
   "source": [
    "<h4>7. Найдите самый частый метод оплаты у клиентов, подключившихся в октябре</h4>"
   ]
  },
  {
   "cell_type": "code",
   "execution_count": 273,
   "metadata": {},
   "outputs": [
    {
     "data": {
      "text/plain": [
       "Альфа                 7761\n",
       "yandex                5431\n",
       "Сбербанк              3238\n",
       "OSMP                  1175\n",
       "Inplat                 980\n",
       "МКБ                    202\n",
       "Банковский перевод      15\n",
       "Name: method, dtype: int64"
      ]
     },
     "execution_count": 273,
     "metadata": {},
     "output_type": "execute_result"
    }
   ],
   "source": [
    "payment_broadband_df_time.method['2018-10'].value_counts() #Альфа банк самый частый метод оплаты в октябре"
   ]
  },
  {
   "cell_type": "markdown",
   "metadata": {},
   "source": [
    "<h4>8. Найдите 3 договора, на которых наиболее часто меняли тарифы</h4>"
   ]
  },
  {
   "cell_type": "code",
   "execution_count": 818,
   "metadata": {
    "scrolled": true
   },
   "outputs": [
    {
     "data": {
      "text/plain": [
       "105594    26\n",
       "157175    22\n",
       "298677    20\n",
       "157790    19\n",
       "194453    16\n",
       "Name: account, dtype: int64"
      ]
     },
     "execution_count": 818,
     "metadata": {},
     "output_type": "execute_result"
    }
   ],
   "source": [
    "change_tariff_broadband_df.account.value_counts().head(5)\n",
    "#договор №105594    26 раз менял тариф за 2018 год\n",
    "#договор №157175    22 раз менял тариф за 2018 год\n",
    "#договор №298677    20 раз менял тариф за 2018 год"
   ]
  },
  {
   "cell_type": "markdown",
   "metadata": {},
   "source": [
    "<h4>9. Укажите тариф, с которого \"уходили\" (переключались на другой) чащей всего</h4>"
   ]
  },
  {
   "cell_type": "code",
   "execution_count": 817,
   "metadata": {},
   "outputs": [
    {
     "data": {
      "text/plain": [
       "План А          1501\n",
       "Средний план    1081\n",
       "Камбэк 250       699\n",
       "Крупный план     493\n",
       "Камбэк 450       226\n",
       "Name: old_tariff, dtype: int64"
      ]
     },
     "execution_count": 817,
     "metadata": {},
     "output_type": "execute_result"
    }
   ],
   "source": [
    "change_tariff_broadband_df.old_tariff.value_counts().head(5)\n",
    "#не считая пропущенных значений, самый частый тариф, который меняли - План А"
   ]
  },
  {
   "cell_type": "markdown",
   "metadata": {},
   "source": [
    "<h4>10. Укажите договор клиента, который подключившись в 2018 году, обращался в КЦ чаще всего</h4>"
   ]
  },
  {
   "cell_type": "code",
   "execution_count": 816,
   "metadata": {},
   "outputs": [
    {
     "data": {
      "text/plain": [
       "270504     218\n",
       "1220565    179\n",
       "125703     100\n",
       "224455      91\n",
       "2288513     90\n",
       "Name: account, dtype: int64"
      ]
     },
     "execution_count": 816,
     "metadata": {},
     "output_type": "execute_result"
    }
   ],
   "source": [
    "CC_call_df.account.value_counts().head(5)"
   ]
  },
  {
   "cell_type": "code",
   "execution_count": 410,
   "metadata": {},
   "outputs": [],
   "source": [
    "cnct_accs = list(tariff_broadband_df.account) #все договоры подключившиеся в 2018 году"
   ]
  },
  {
   "cell_type": "code",
   "execution_count": 411,
   "metadata": {},
   "outputs": [],
   "source": [
    "sprt_accs = list(CC_call_df.account.value_counts().index) #все договоры обращавшиеся в поддержку \n",
    "                                                          #отсортированные по количеству обращений в порядке убывания"
   ]
  },
  {
   "cell_type": "code",
   "execution_count": 661,
   "metadata": {
    "scrolled": false
   },
   "outputs": [
    {
     "name": "stdout",
     "output_type": "stream",
     "text": [
      "1.69 ms ± 11.2 µs per loop (mean ± std. dev. of 7 runs, 1000 loops each)\n"
     ]
    }
   ],
   "source": [
    "%%timeit\n",
    "top_account, flag = 0, 0\n",
    "for account in sprt_accs:\n",
    "    if account in cnct_accs and flag<1:\n",
    "        top_account = account\n",
    "        flag+=1\n",
    "    elif flag==1:\n",
    "        break"
   ]
  },
  {
   "cell_type": "code",
   "execution_count": 408,
   "metadata": {},
   "outputs": [
    {
     "data": {
      "text/plain": [
       "244516"
      ]
     },
     "execution_count": 408,
     "metadata": {},
     "output_type": "execute_result"
    }
   ],
   "source": [
    "top_account #договор клиента, который подключившись в 2018 году, обращался в КЦ чаще всего"
   ]
  },
  {
   "cell_type": "code",
   "execution_count": 394,
   "metadata": {},
   "outputs": [
    {
     "data": {
      "text/plain": [
       "72"
      ]
     },
     "execution_count": 394,
     "metadata": {},
     "output_type": "execute_result"
    }
   ],
   "source": [
    "sum(CC_call_df.account == top_account) #договор 244516 обращался в КЦ 72 раза"
   ]
  },
  {
   "cell_type": "markdown",
   "metadata": {},
   "source": [
    "<h4>11. Укажите шестичасовой интервал, в котором было больше всего обращений в КЦ</h4>"
   ]
  },
  {
   "cell_type": "code",
   "execution_count": 516,
   "metadata": {
    "scrolled": true
   },
   "outputs": [],
   "source": [
    "CC_call_df_time = pd.read_excel(r'Обращения в КЦ.xlsx', \n",
    "                                parse_dates={'datetime': ['date', 'time']}, \n",
    "                                index_col='datetime')"
   ]
  },
  {
   "cell_type": "code",
   "execution_count": 815,
   "metadata": {
    "scrolled": false
   },
   "outputs": [
    {
     "data": {
      "text/html": [
       "<div>\n",
       "<style scoped>\n",
       "    .dataframe tbody tr th:only-of-type {\n",
       "        vertical-align: middle;\n",
       "    }\n",
       "\n",
       "    .dataframe tbody tr th {\n",
       "        vertical-align: top;\n",
       "    }\n",
       "\n",
       "    .dataframe thead th {\n",
       "        text-align: right;\n",
       "    }\n",
       "</style>\n",
       "<table border=\"1\" class=\"dataframe\">\n",
       "  <thead>\n",
       "    <tr style=\"text-align: right;\">\n",
       "      <th></th>\n",
       "      <th>duration</th>\n",
       "      <th>account</th>\n",
       "      <th>region</th>\n",
       "      <th>theme</th>\n",
       "      <th>type</th>\n",
       "    </tr>\n",
       "    <tr>\n",
       "      <th>datetime</th>\n",
       "      <th></th>\n",
       "      <th></th>\n",
       "      <th></th>\n",
       "      <th></th>\n",
       "      <th></th>\n",
       "    </tr>\n",
       "  </thead>\n",
       "  <tbody>\n",
       "    <tr>\n",
       "      <td>2018-06-23 12:00:00</td>\n",
       "      <td>434</td>\n",
       "      <td>434</td>\n",
       "      <td>434</td>\n",
       "      <td>434</td>\n",
       "      <td>434</td>\n",
       "    </tr>\n",
       "    <tr>\n",
       "      <td>2018-11-24 12:00:00</td>\n",
       "      <td>395</td>\n",
       "      <td>395</td>\n",
       "      <td>395</td>\n",
       "      <td>395</td>\n",
       "      <td>395</td>\n",
       "    </tr>\n",
       "    <tr>\n",
       "      <td>2018-10-07 12:00:00</td>\n",
       "      <td>319</td>\n",
       "      <td>319</td>\n",
       "      <td>319</td>\n",
       "      <td>319</td>\n",
       "      <td>319</td>\n",
       "    </tr>\n",
       "    <tr>\n",
       "      <td>2018-11-24 18:00:00</td>\n",
       "      <td>301</td>\n",
       "      <td>301</td>\n",
       "      <td>301</td>\n",
       "      <td>301</td>\n",
       "      <td>301</td>\n",
       "    </tr>\n",
       "    <tr>\n",
       "      <td>2018-10-19 12:00:00</td>\n",
       "      <td>291</td>\n",
       "      <td>291</td>\n",
       "      <td>291</td>\n",
       "      <td>291</td>\n",
       "      <td>291</td>\n",
       "    </tr>\n",
       "  </tbody>\n",
       "</table>\n",
       "</div>"
      ],
      "text/plain": [
       "                     duration  account  region  theme  type\n",
       "datetime                                                   \n",
       "2018-06-23 12:00:00       434      434     434    434   434\n",
       "2018-11-24 12:00:00       395      395     395    395   395\n",
       "2018-10-07 12:00:00       319      319     319    319   319\n",
       "2018-11-24 18:00:00       301      301     301    301   301\n",
       "2018-10-19 12:00:00       291      291     291    291   291"
      ]
     },
     "execution_count": 815,
     "metadata": {},
     "output_type": "execute_result"
    }
   ],
   "source": [
    "CC_call_df_time.resample('6h')\\\n",
    "               .count()\\\n",
    "               .sort_values(by='duration', \n",
    "                            ascending=False)\\\n",
    "                .head(5)"
   ]
  },
  {
   "cell_type": "code",
   "execution_count": 557,
   "metadata": {
    "scrolled": false
   },
   "outputs": [
    {
     "data": {
      "text/plain": [
       "434"
      ]
     },
     "execution_count": 557,
     "metadata": {},
     "output_type": "execute_result"
    }
   ],
   "source": [
    "len(CC_call_df_time['2018-06-23 12':'2018-06-23 17']) #check"
   ]
  },
  {
   "cell_type": "code",
   "execution_count": null,
   "metadata": {},
   "outputs": [],
   "source": [
    "#Шестичасовой интервал, в котором было больше всего обращений в КЦ: [2018-06-23 12:00:00 -> 2018-06-23 18:00:00)"
   ]
  },
  {
   "cell_type": "markdown",
   "metadata": {},
   "source": [
    "<h4>12. Определите среднее время разговора с КЦ клиентов из г. Обнинск</h4>"
   ]
  },
  {
   "cell_type": "code",
   "execution_count": 572,
   "metadata": {},
   "outputs": [
    {
     "data": {
      "text/plain": [
       "232.44"
      ]
     },
     "execution_count": 572,
     "metadata": {},
     "output_type": "execute_result"
    }
   ],
   "source": [
    "CC_call_df_time[CC_call_df_time.region=='г. Обнинск'].duration.mean()"
   ]
  },
  {
   "cell_type": "markdown",
   "metadata": {},
   "source": [
    "<h4>13. Укажите 5 наиболее часто встречающихся типов обращений в КЦ (в порядке убывания их кол-ва) клиентов, которые подключились в 2018 году и сделали платежей на сумму от 10 000 руб.</h4>"
   ]
  },
  {
   "cell_type": "code",
   "execution_count": 735,
   "metadata": {
    "scrolled": false
   },
   "outputs": [],
   "source": [
    "cnctd_2018 = list(tariff_broadband_df.account) #все подключившиеся в 2018"
   ]
  },
  {
   "cell_type": "code",
   "execution_count": 736,
   "metadata": {
    "scrolled": true
   },
   "outputs": [],
   "source": [
    "pmnt_df = payment_broadband_df[['amount', 'account']]\\\n",
    "                                    .groupby('account')\\\n",
    "                                    .sum()\n",
    "pmnt_df = pmnt_df[pmnt_df>10000].dropna()"
   ]
  },
  {
   "cell_type": "code",
   "execution_count": 737,
   "metadata": {
    "scrolled": true
   },
   "outputs": [],
   "source": [
    "pmnt_10k = pmnt_df.index #все заплатившие более 10000 руб."
   ]
  },
  {
   "cell_type": "code",
   "execution_count": 812,
   "metadata": {
    "scrolled": true
   },
   "outputs": [
    {
     "name": "stdout",
     "output_type": "stream",
     "text": [
      "10.7 ms ± 47.5 µs per loop (mean ± std. dev. of 7 runs, 100 loops each)\n"
     ]
    }
   ],
   "source": [
    "%%timeit\n",
    "cnctd_and_pmnt = [account for account in pmnt_10k if account in cnctd_2018]          \n",
    "#подключившиеся в 2018 и заплатившие более 10000 руб"
   ]
  },
  {
   "cell_type": "code",
   "execution_count": 795,
   "metadata": {
    "scrolled": false
   },
   "outputs": [],
   "source": [
    "CC_call_df_subset = CC_call_df[['account', 'type']].set_index('account')"
   ]
  },
  {
   "cell_type": "code",
   "execution_count": 820,
   "metadata": {
    "scrolled": false
   },
   "outputs": [
    {
     "data": {
      "text/plain": [
       "Проблема с Интернет                       39\n",
       "Иная консультация                         29\n",
       "Общая проблема                            12\n",
       "Повторное обращение по техническому ТТ    11\n",
       "Вопрос по настройке оборудования          11\n",
       "Name: type, dtype: int64"
      ]
     },
     "execution_count": 820,
     "metadata": {},
     "output_type": "execute_result"
    }
   ],
   "source": [
    "CC_call_df_subset[CC_call_subset.index.isin(cnctd_and_pmnt)].type.value_counts().head(5)\n",
    "#Проблема с Интернет                             39\n",
    "#Иная консультация                               29\n",
    "#Общая проблема                                  12\n",
    "#Повторное обращение по техническому ТТ          11\n",
    "#Вопрос по настройке оборудования                11"
   ]
  }
 ],
 "metadata": {
  "kernelspec": {
   "display_name": "Python 3",
   "language": "python",
   "name": "python3"
  },
  "language_info": {
   "codemirror_mode": {
    "name": "ipython",
    "version": 3
   },
   "file_extension": ".py",
   "mimetype": "text/x-python",
   "name": "python",
   "nbconvert_exporter": "python",
   "pygments_lexer": "ipython3",
   "version": "3.7.4"
  }
 },
 "nbformat": 4,
 "nbformat_minor": 4
}
