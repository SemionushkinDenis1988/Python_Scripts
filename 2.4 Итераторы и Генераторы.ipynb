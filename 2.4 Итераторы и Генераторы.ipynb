{
 "cells": [
  {
   "cell_type": "markdown",
   "metadata": {},
   "source": [
    "# Итераторы и Генераторы"
   ]
  },
  {
   "cell_type": "markdown",
   "metadata": {},
   "source": [
    "# timer"
   ]
  },
  {
   "cell_type": "code",
   "execution_count": 9,
   "metadata": {},
   "outputs": [],
   "source": [
    "import sys\n",
    "import time\n",
    "reps = 1000\n",
    "repslist = range(reps)\n",
    "def timer(func, *pargs, **kargs):\n",
    "    start = time.process_time()\n",
    "    for i in repslist:\n",
    "        ret = func(*pargs, **kargs)\n",
    "    elapsed = time.process_time() - start\n",
    "    return (elapsed, ret)"
   ]
  },
  {
   "cell_type": "code",
   "execution_count": 15,
   "metadata": {},
   "outputs": [],
   "source": [
    "def forLoop():\n",
    "    res = []\n",
    "    for x in repslist:\n",
    "        res.append(abs(x))\n",
    "    return res\n",
    "def listComp():\n",
    "    return [abs(x) for x in repslist]\n",
    "def mapCall():\n",
    "    return list(map(abs, repslist)) # Вызов list необходим только в 3.0\n",
    "def genExpr():\n",
    "    return list(abs(x) for x in repslist) # Функция list вынуждает"
   ]
  },
  {
   "cell_type": "code",
   "execution_count": 16,
   "metadata": {
    "scrolled": true
   },
   "outputs": [
    {
     "name": "stdout",
     "output_type": "stream",
     "text": [
      "3.7.3 (default, Apr 24 2019, 15:29:51) [MSC v.1915 64 bit (AMD64)]\n",
      "---------------------------------\n",
      "forLoop  : 0.09360 => [0...999]\n",
      "---------------------------------\n",
      "listComp : 0.06240 => [0...999]\n",
      "---------------------------------\n",
      "mapCall  : 0.03120 => [0...999]\n",
      "---------------------------------\n",
      "genExpr  : 0.07800 => [0...999]\n"
     ]
    }
   ],
   "source": [
    "print(sys.version)\n",
    "for test in (forLoop, listComp, mapCall, genExpr):\n",
    "    elapsed, result = timer(test)\n",
    "    print ('-' * 33)\n",
    "    print ('%-9s: %.5f => [%s...%s]' %\n",
    "            (test.__name__, elapsed, result[0], result[-1]))"
   ]
  },
  {
   "cell_type": "markdown",
   "metadata": {},
   "source": [
    "# Итераторы"
   ]
  },
  {
   "cell_type": "code",
   "execution_count": 9,
   "metadata": {
    "scrolled": true
   },
   "outputs": [
    {
     "data": {
      "text/plain": [
       "1"
      ]
     },
     "execution_count": 9,
     "metadata": {},
     "output_type": "execute_result"
    }
   ],
   "source": [
    ">>> L = [1, 2, 3]\n",
    ">>> I = iter(L) # Получить объект-итератор\n",
    ">>> I.__next__() # вызвать next можно только от объекта итератора\n",
    "#объект итератор имеет метода __next__, который вызывает функция next()"
   ]
  },
  {
   "cell_type": "code",
   "execution_count": 12,
   "metadata": {},
   "outputs": [
    {
     "data": {
      "text/plain": [
       "'Line 1\\n'"
      ]
     },
     "execution_count": 12,
     "metadata": {},
     "output_type": "execute_result"
    }
   ],
   "source": [
    ">>> f = open('test.txt')\n",
    ">>> iter(f) is f   #объекты-файлы имеют свой собственный итератор То есть объекты файлов имеют собственный метод __next__\n",
    "\n",
    "True\n",
    ">>> f.__next__()"
   ]
  },
  {
   "cell_type": "code",
   "execution_count": 16,
   "metadata": {},
   "outputs": [
    {
     "name": "stdout",
     "output_type": "stream",
     "text": [
      "1 4 9 "
     ]
    }
   ],
   "source": [
    "L = [1, 2, 3]\n",
    ">>> I = iter(L) # Ручной способ итераций: имитация цикла for\n",
    ">>> while True:\n",
    "...  try: # Инструкция try обрабатывает исключения\n",
    "...   X = next(I) # Или I.__next__\n",
    "...  except StopIteration:\n",
    "...   break\n",
    "...  print(X ** 2, end=' ')"
   ]
  },
  {
   "cell_type": "code",
   "execution_count": 18,
   "metadata": {},
   "outputs": [
    {
     "data": {
      "text/plain": [
       "1"
      ]
     },
     "execution_count": 18,
     "metadata": {},
     "output_type": "execute_result"
    }
   ],
   "source": [
    "L = [1, 2, 3]\n",
    "I=iter(L)               #функция iter\n",
    "next(I)                 #функция next аналог методу __next__"
   ]
  },
  {
   "cell_type": "code",
   "execution_count": 19,
   "metadata": {},
   "outputs": [
    {
     "data": {
      "text/plain": [
       "'a'"
      ]
     },
     "execution_count": 19,
     "metadata": {},
     "output_type": "execute_result"
    }
   ],
   "source": [
    ">>> D = {'a':1, 'b':2, 'c':3} \n",
    ">>> I = iter(D)                   #итератор словаря\n",
    ">>> next(I)              "
   ]
  },
  {
   "cell_type": "code",
   "execution_count": 24,
   "metadata": {},
   "outputs": [
    {
     "data": {
      "text/plain": [
       "' ’®¬ ў гбва®©бвўҐ C \\xadҐ Ё¬ҐҐв ¬ҐвЄЁ.\\n'"
      ]
     },
     "execution_count": 24,
     "metadata": {},
     "output_type": "execute_result"
    }
   ],
   "source": [
    ">>> import os\n",
    ">>> P = os.popen('dir')\n",
    ">>> P.__next__()"
   ]
  },
  {
   "cell_type": "markdown",
   "metadata": {},
   "source": [
    "# Функции генераторы yield"
   ]
  },
  {
   "cell_type": "code",
   "execution_count": 7,
   "metadata": {},
   "outputs": [],
   "source": [
    "#Функции-генераторы – выглядят как обычные инструкции def, но для воз-\n",
    "#врата результатов по одному значению за раз используют инструкцию yield,\n",
    "#которая приостанавливает выполнение функции.\n",
    "#Функции-генераторы: инструкция yield вместо return\n",
    "#Такие функции известны как функции-генераторы, потому что они гене-\n",
    "#рируют последовательность значений с течением времени.\n",
    "#Замораживание состояния\n",
    "#В отличие от обычных функций, которые возвращают значение и завершают\n",
    "#работу, функции-генераторы автоматически приостанавливают и возобнов-\n",
    "#ляют свое выполнение, при этом сохраняя информацию, необходимую для\n",
    "#генерации значений.\n",
    "#Функции-генераторы при приоста-\n",
    "#новке автоматически сохраняют информацию о своем состоянии, под которым\n",
    "#понимается вся локальная область видимости, со всеми локальными перемен-\n",
    "#ными, которая становится доступной сразу же, как только функция возобнов-\n",
    "#ляет работу."
   ]
  },
  {
   "cell_type": "code",
   "execution_count": 15,
   "metadata": {},
   "outputs": [
    {
     "data": {
      "text/plain": [
       "<generator object gensquares at 0x000000000501C408>"
      ]
     },
     "execution_count": 15,
     "metadata": {},
     "output_type": "execute_result"
    }
   ],
   "source": [
    ">>> def gensquares(N):\n",
    "        for i in range(N):\n",
    "            yield i ** 2 # Позднее продолжить работу с этого места\n",
    "gensquares(5) #возвращает генератор"
   ]
  },
  {
   "cell_type": "code",
   "execution_count": 16,
   "metadata": {},
   "outputs": [
    {
     "data": {
      "text/plain": [
       "[0, 1, 4, 9, 16]"
      ]
     },
     "execution_count": 16,
     "metadata": {},
     "output_type": "execute_result"
    }
   ],
   "source": [
    "list(gensquares(5))"
   ]
  },
  {
   "cell_type": "code",
   "execution_count": 14,
   "metadata": {},
   "outputs": [
    {
     "name": "stdout",
     "output_type": "stream",
     "text": [
      "0 : 1 : 4 : 9 : 16 : "
     ]
    }
   ],
   "source": [
    ">>> for i in gensquares(5): # Возобновить работу функции\n",
    "         print(i, end = ' : ') # Вывести последнее полученное значение"
   ]
  },
  {
   "cell_type": "code",
   "execution_count": 40,
   "metadata": {},
   "outputs": [],
   "source": [
    ">>> def gen():\n",
    "        for i in range(10):\n",
    "            X = yield i\n",
    "            print(X)\n",
    "G = gen()            "
   ]
  },
  {
   "cell_type": "code",
   "execution_count": 42,
   "metadata": {
    "scrolled": true
   },
   "outputs": [
    {
     "name": "stdout",
     "output_type": "stream",
     "text": [
      "None\n"
     ]
    },
    {
     "data": {
      "text/plain": [
       "1"
      ]
     },
     "execution_count": 42,
     "metadata": {},
     "output_type": "execute_result"
    }
   ],
   "source": [
    ">>> next(G)"
   ]
  },
  {
   "cell_type": "code",
   "execution_count": 43,
   "metadata": {},
   "outputs": [
    {
     "name": "stdout",
     "output_type": "stream",
     "text": [
      "77\n"
     ]
    },
    {
     "data": {
      "text/plain": [
       "2"
      ]
     },
     "execution_count": 43,
     "metadata": {},
     "output_type": "execute_result"
    }
   ],
   "source": [
    ">>> G.send(77)"
   ]
  },
  {
   "cell_type": "code",
   "execution_count": 44,
   "metadata": {
    "scrolled": false
   },
   "outputs": [
    {
     "name": "stdout",
     "output_type": "stream",
     "text": [
      "88\n"
     ]
    },
    {
     "data": {
      "text/plain": [
       "3"
      ]
     },
     "execution_count": 44,
     "metadata": {},
     "output_type": "execute_result"
    }
   ],
   "source": [
    ">>> G.send(88)"
   ]
  },
  {
   "cell_type": "code",
   "execution_count": 45,
   "metadata": {},
   "outputs": [
    {
     "name": "stdout",
     "output_type": "stream",
     "text": [
      "88\n"
     ]
    },
    {
     "data": {
      "text/plain": [
       "4"
      ]
     },
     "execution_count": 45,
     "metadata": {},
     "output_type": "execute_result"
    }
   ],
   "source": [
    ">>> G.send(88)"
   ]
  },
  {
   "cell_type": "code",
   "execution_count": 46,
   "metadata": {},
   "outputs": [
    {
     "name": "stdout",
     "output_type": "stream",
     "text": [
      "None\n"
     ]
    },
    {
     "data": {
      "text/plain": [
       "5"
      ]
     },
     "execution_count": 46,
     "metadata": {},
     "output_type": "execute_result"
    }
   ],
   "source": [
    ">>> next(G)"
   ]
  },
  {
   "cell_type": "code",
   "execution_count": 47,
   "metadata": {
    "scrolled": true
   },
   "outputs": [
    {
     "name": "stdout",
     "output_type": "stream",
     "text": [
      "None\n"
     ]
    },
    {
     "data": {
      "text/plain": [
       "6"
      ]
     },
     "execution_count": 47,
     "metadata": {},
     "output_type": "execute_result"
    }
   ],
   "source": [
    ">>> next(G)"
   ]
  },
  {
   "cell_type": "code",
   "execution_count": 55,
   "metadata": {},
   "outputs": [
    {
     "data": {
      "text/plain": [
       "['ssss', 'pppp', 'aaaa', 'mmmm']"
      ]
     },
     "execution_count": 55,
     "metadata": {},
     "output_type": "execute_result"
    }
   ],
   "source": [
    ">>> def timesfour(S): # Функция-генератор\n",
    "        for c in S:\n",
    "            yield c * 4\n",
    "...\n",
    ">>> G = timesfour('spam')\n",
    ">>> list(G) # Выполнит итерации автоматически"
   ]
  },
  {
   "cell_type": "code",
   "execution_count": 61,
   "metadata": {},
   "outputs": [
    {
     "data": {
      "text/plain": [
       "True"
      ]
     },
     "execution_count": 61,
     "metadata": {},
     "output_type": "execute_result"
    }
   ],
   "source": [
    ">>> def timesfour(S):\n",
    "        for c in S:\n",
    "            yield c * 4\n",
    "...\n",
    ">>> G = timesfour('spam') # Функция-генератор действует точно так же\n",
    ">>> iter(G) is G"
   ]
  },
  {
   "cell_type": "code",
   "execution_count": 62,
   "metadata": {},
   "outputs": [
    {
     "data": {
      "text/plain": [
       "'ssss'"
      ]
     },
     "execution_count": 62,
     "metadata": {},
     "output_type": "execute_result"
    }
   ],
   "source": [
    ">>> I1, I2 = iter(G), iter(G)\n",
    ">>> next(I1)"
   ]
  },
  {
   "cell_type": "code",
   "execution_count": 63,
   "metadata": {
    "scrolled": false
   },
   "outputs": [
    {
     "data": {
      "text/plain": [
       "'pppp'"
      ]
     },
     "execution_count": 63,
     "metadata": {},
     "output_type": "execute_result"
    }
   ],
   "source": [
    ">>> next(I2)"
   ]
  },
  {
   "cell_type": "code",
   "execution_count": 65,
   "metadata": {},
   "outputs": [],
   "source": [
    "def mymap(func, *seqs):\n",
    "    res = []\n",
    "    for args in zip(*seqs):\n",
    "        yield func(*args)"
   ]
  },
  {
   "cell_type": "markdown",
   "metadata": {},
   "source": [
    "# Выражения генераторы"
   ]
  },
  {
   "cell_type": "code",
   "execution_count": null,
   "metadata": {},
   "outputs": [],
   "source": [
    "#Выражения-генераторы – напоминают генераторы списков, о которых рас-\n",
    "#сказывалось в предыдущем разделе, но они не конструируют список с ре-\n",
    "#зультатами, а возвращают объект, который будет воспроизводить результа-\n",
    "#ты по требованию."
   ]
  },
  {
   "cell_type": "code",
   "execution_count": 107,
   "metadata": {},
   "outputs": [
    {
     "data": {
      "text/plain": [
       "[(0, 0),\n",
       " (1, 1),\n",
       " (2, 4),\n",
       " (3, 9),\n",
       " (4, 16),\n",
       " (5, 25),\n",
       " (6, 36),\n",
       " (7, 49),\n",
       " (8, 64),\n",
       " (9, 81)]"
      ]
     },
     "execution_count": 107,
     "metadata": {},
     "output_type": "execute_result"
    }
   ],
   "source": [
    "G = ((x, x * x) for x in range(10))\n",
    "list(G)"
   ]
  },
  {
   "cell_type": "code",
   "execution_count": 48,
   "metadata": {},
   "outputs": [
    {
     "data": {
      "text/plain": [
       "<generator object <genexpr> at 0x000000000501C570>"
      ]
     },
     "execution_count": 48,
     "metadata": {},
     "output_type": "execute_result"
    }
   ],
   "source": [
    ">>> (x ** 2 for x in range(4)) # Выражение-генератор: создает итерируемый объект"
   ]
  },
  {
   "cell_type": "code",
   "execution_count": 50,
   "metadata": {},
   "outputs": [
    {
     "data": {
      "text/plain": [
       "0"
      ]
     },
     "execution_count": 50,
     "metadata": {},
     "output_type": "execute_result"
    }
   ],
   "source": [
    ">>> G = (x ** 2 for x in range(4))\n",
    ">>> next(G)"
   ]
  },
  {
   "cell_type": "code",
   "execution_count": 51,
   "metadata": {},
   "outputs": [
    {
     "data": {
      "text/plain": [
       "1"
      ]
     },
     "execution_count": 51,
     "metadata": {},
     "output_type": "execute_result"
    }
   ],
   "source": [
    ">>> next(G)"
   ]
  },
  {
   "cell_type": "code",
   "execution_count": 53,
   "metadata": {},
   "outputs": [
    {
     "name": "stdout",
     "output_type": "stream",
     "text": [
      "0, 0.0\n",
      "1, 0.5\n",
      "4, 2.0\n",
      "9, 4.5\n"
     ]
    }
   ],
   "source": [
    ">>> for num in (x ** 2 for x in range(4)):\n",
    "        print('%s, %s' % (num, num / 2.0))"
   ]
  },
  {
   "cell_type": "code",
   "execution_count": 54,
   "metadata": {},
   "outputs": [
    {
     "data": {
      "text/plain": [
       "14"
      ]
     },
     "execution_count": 54,
     "metadata": {},
     "output_type": "execute_result"
    }
   ],
   "source": [
    ">>> sum(x ** 2 for x in range(4))"
   ]
  },
  {
   "cell_type": "code",
   "execution_count": 57,
   "metadata": {},
   "outputs": [
    {
     "data": {
      "text/plain": [
       "True"
      ]
     },
     "execution_count": 57,
     "metadata": {},
     "output_type": "execute_result"
    }
   ],
   "source": [
    ">>> G = (c * 4 for c in 'SPAM')\n",
    ">>> iter(G) is G # Итератором генератора является сам генератор:\n",
    "True               # G имеет метод __next__"
   ]
  },
  {
   "cell_type": "code",
   "execution_count": 58,
   "metadata": {},
   "outputs": [
    {
     "data": {
      "text/plain": [
       "'SSSS'"
      ]
     },
     "execution_count": 58,
     "metadata": {},
     "output_type": "execute_result"
    }
   ],
   "source": [
    ">>> G = (c * 4 for c in 'SPAM') # Создать новый генератор\n",
    ">>> I1 = iter(G) # Выполнить итерацию вручную\n",
    ">>> next(I1)"
   ]
  },
  {
   "cell_type": "code",
   "execution_count": 59,
   "metadata": {},
   "outputs": [
    {
     "data": {
      "text/plain": [
       "'PPPP'"
      ]
     },
     "execution_count": 59,
     "metadata": {},
     "output_type": "execute_result"
    }
   ],
   "source": [
    ">>> I2 = iter(G) # Второй итератор\n",
    ">>> next(I2) # ссылается на ту же позицию!"
   ]
  },
  {
   "cell_type": "code",
   "execution_count": 64,
   "metadata": {},
   "outputs": [],
   "source": [
    "def mymap(func, *seqs):\n",
    "    return (func(*args) for args in zip(*seqs))"
   ]
  },
  {
   "cell_type": "markdown",
   "metadata": {},
   "source": [
    "# Генераторы"
   ]
  },
  {
   "cell_type": "code",
   "execution_count": 6,
   "metadata": {},
   "outputs": [
    {
     "data": {
      "text/plain": [
       "[35, 40]"
      ]
     },
     "execution_count": 6,
     "metadata": {},
     "output_type": "execute_result"
    }
   ],
   "source": [
    "listoftuple = [('bob', 35, 'mgr'), ('mel', 40, 'dev')]\n",
    ">>> [age for (name, age, job) in listoftuple]"
   ]
  },
  {
   "cell_type": "code",
   "execution_count": 3,
   "metadata": {},
   "outputs": [
    {
     "data": {
      "text/plain": [
       "[100, 200, 300, 101, 201, 301, 102, 202, 302]"
      ]
     },
     "execution_count": 3,
     "metadata": {},
     "output_type": "execute_result"
    }
   ],
   "source": [
    "res = [x + y for x in [0, 1, 2] for y in [100, 200, 300]] #вложенный генератор\n",
    "res"
   ]
  },
  {
   "cell_type": "code",
   "execution_count": 4,
   "metadata": {
    "collapsed": true
   },
   "outputs": [
    {
     "data": {
      "text/plain": [
       "['sS',\n",
       " 'sP',\n",
       " 'sA',\n",
       " 'sM',\n",
       " 'pS',\n",
       " 'pP',\n",
       " 'pA',\n",
       " 'pM',\n",
       " 'aS',\n",
       " 'aP',\n",
       " 'aA',\n",
       " 'aM',\n",
       " 'mS',\n",
       " 'mP',\n",
       " 'mA',\n",
       " 'mM']"
      ]
     },
     "execution_count": 4,
     "metadata": {},
     "output_type": "execute_result"
    }
   ],
   "source": [
    ">>> [x + y for x in 'spam' for y in 'SPAM'] #вложенный генератор"
   ]
  },
  {
   "cell_type": "code",
   "execution_count": 5,
   "metadata": {},
   "outputs": [
    {
     "data": {
      "text/plain": [
       "[(0, 1), (0, 3), (2, 1), (2, 3), (4, 1), (4, 3)]"
      ]
     },
     "execution_count": 5,
     "metadata": {},
     "output_type": "execute_result"
    }
   ],
   "source": [
    ">>> [(x, y) for x in range(5) if x % 2 == 0 for y in range(5) if y % 2 == 1] #вложенный генератор"
   ]
  },
  {
   "cell_type": "code",
   "execution_count": 27,
   "metadata": {
    "scrolled": true
   },
   "outputs": [
    {
     "data": {
      "text/plain": [
       "[11, 12, 13, 14, 15]"
      ]
     },
     "execution_count": 27,
     "metadata": {},
     "output_type": "execute_result"
    }
   ],
   "source": [
    ">>> L = [1, 2, 3, 4, 5]\n",
    ">>> L = [x + 10 for x in L]        #генератор списка\n",
    "L"
   ]
  },
  {
   "cell_type": "code",
   "execution_count": 30,
   "metadata": {},
   "outputs": [
    {
     "data": {
      "text/plain": [
       "['Line 1', 'Line 2', 'Line 3', 'Hello', 'Hello', 'Hello', 'Hello', 'Hello']"
      ]
     },
     "execution_count": 30,
     "metadata": {},
     "output_type": "execute_result"
    }
   ],
   "source": [
    ">>> lines = [line.rstrip() for line in open('test.txt')] #генератор из файла\n",
    "lines"
   ]
  },
  {
   "cell_type": "code",
   "execution_count": 32,
   "metadata": {},
   "outputs": [
    {
     "data": {
      "text/plain": [
       "['LINE 1\\n',\n",
       " 'LINE 2\\n',\n",
       " 'LINE 3\\n',\n",
       " 'HELLO\\n',\n",
       " 'HELLO\\n',\n",
       " 'HELLO\\n',\n",
       " 'HELLO\\n',\n",
       " 'HELLO\\n']"
      ]
     },
     "execution_count": 32,
     "metadata": {},
     "output_type": "execute_result"
    }
   ],
   "source": [
    "with open('test.txt') as f:\n",
    "    s=[line.upper() for line in f]       #генерация из файла\n",
    "s"
   ]
  },
  {
   "cell_type": "code",
   "execution_count": 36,
   "metadata": {},
   "outputs": [
    {
     "data": {
      "text/plain": [
       "[(False, 'L'),\n",
       " (False, 'L'),\n",
       " (False, 'L'),\n",
       " (True, 'H'),\n",
       " (True, 'H'),\n",
       " (True, 'H'),\n",
       " (True, 'H'),\n",
       " (True, 'H')]"
      ]
     },
     "execution_count": 36,
     "metadata": {},
     "output_type": "execute_result"
    }
   ],
   "source": [
    "with open('test.txt') as f:\n",
    "    s=[('H' in line, line[0]) for line in open('test.txt')] #генерация из файла\n",
    "s"
   ]
  },
  {
   "cell_type": "code",
   "execution_count": 37,
   "metadata": {},
   "outputs": [
    {
     "data": {
      "text/plain": [
       "['LINE 1\\n', 'LINE 2\\n', 'LINE 3\\n']"
      ]
     },
     "execution_count": 37,
     "metadata": {},
     "output_type": "execute_result"
    }
   ],
   "source": [
    "with open('test.txt') as f:\n",
    "    s=[line.upper() for line in f if line[0]=='L']   #условный генератор генерация из файла\n",
    "s"
   ]
  },
  {
   "cell_type": "code",
   "execution_count": 38,
   "metadata": {
    "scrolled": true
   },
   "outputs": [
    {
     "data": {
      "text/plain": [
       "['al', 'am', 'an', 'bl', 'bm', 'bn', 'cl', 'cm', 'cn']"
      ]
     },
     "execution_count": 38,
     "metadata": {},
     "output_type": "execute_result"
    }
   ],
   "source": [
    ">>> [x + y for x in 'abc' for y in 'lmn'] #вложенный генератор"
   ]
  },
  {
   "cell_type": "code",
   "execution_count": 42,
   "metadata": {
    "scrolled": false
   },
   "outputs": [
    {
     "data": {
      "text/plain": [
       "['LINE 1\\n',\n",
       " 'LINE 2\\n',\n",
       " 'LINE 3\\n',\n",
       " 'HELLO\\n',\n",
       " 'HELLO\\n',\n",
       " 'HELLO\\n',\n",
       " 'HELLO\\n',\n",
       " 'HELLO\\n']"
      ]
     },
     "execution_count": 42,
     "metadata": {},
     "output_type": "execute_result"
    }
   ],
   "source": [
    "list(map(str.upper, open('test.txt'))) #функция map применяет функцию ко всем объектам, map принимает только функцию,\n",
    "#а не произвольное выражение"
   ]
  },
  {
   "cell_type": "code",
   "execution_count": 51,
   "metadata": {
    "scrolled": true
   },
   "outputs": [
    {
     "data": {
      "text/plain": [
       "['A', 'B', 'C']"
      ]
     },
     "execution_count": 51,
     "metadata": {},
     "output_type": "execute_result"
    }
   ],
   "source": [
    "L = ['a', 'b', 'c']\n",
    "I = iter(L)\n",
    "list(map(str.upper, I)))#map вызывает заданную функцию к заданному итератору списка ей можно передать только функцию, \n",
    "#а не произвольное выражение"
   ]
  },
  {
   "cell_type": "code",
   "execution_count": 66,
   "metadata": {},
   "outputs": [
    {
     "data": {
      "text/plain": [
       "{'Hello\\n'}"
      ]
     },
     "execution_count": 66,
     "metadata": {},
     "output_type": "execute_result"
    }
   ],
   "source": [
    "{line for line in open('test.txt') if line[0] == 'H'} #генератор множества с условием"
   ]
  },
  {
   "cell_type": "code",
   "execution_count": 62,
   "metadata": {
    "scrolled": true
   },
   "outputs": [
    {
     "data": {
      "text/plain": [
       "{3: 'Hello\\n', 4: 'Hello\\n', 5: 'Hello\\n', 6: 'Hello\\n', 7: 'Hello\\n'}"
      ]
     },
     "execution_count": 62,
     "metadata": {},
     "output_type": "execute_result"
    }
   ],
   "source": [
    "{ix: line for (ix, line) in enumerate(open('test.txt')) if line[0]=='H'} #генератор словаря"
   ]
  },
  {
   "cell_type": "markdown",
   "metadata": {},
   "source": [
    "# sorted, zip, enumerate, filter, reduce, "
   ]
  },
  {
   "cell_type": "code",
   "execution_count": 79,
   "metadata": {},
   "outputs": [
    {
     "data": {
      "text/plain": [
       "(1, 2)"
      ]
     },
     "execution_count": 79,
     "metadata": {},
     "output_type": "execute_result"
    }
   ],
   "source": [
    ">>> X = (1, 2)\n",
    ">>> Y = (3, 4)\n",
    ">>>\n",
    ">>> list(zip(X, Y)) # Упаковать кортежи: возвратит итерируемый объект\n",
    "[(1, 3), (2, 4)]\n",
    ">>>\n",
    ">>> A, B = zip(*zip(X, Y)) # Распаковать упакованные кортежи!\n",
    "A"
   ]
  },
  {
   "cell_type": "code",
   "execution_count": 52,
   "metadata": {
    "scrolled": true
   },
   "outputs": [
    {
     "data": {
      "text/plain": [
       "['Hello\\n',\n",
       " 'Hello\\n',\n",
       " 'Hello\\n',\n",
       " 'Hello\\n',\n",
       " 'Hello\\n',\n",
       " 'Line 1\\n',\n",
       " 'Line 2\\n',\n",
       " 'Line 3\\n']"
      ]
     },
     "execution_count": 52,
     "metadata": {},
     "output_type": "execute_result"
    }
   ],
   "source": [
    ">>> sorted(open('test.txt')) #функция sorted сортирует элементы итерируемого объекта, функция"
   ]
  },
  {
   "cell_type": "code",
   "execution_count": 55,
   "metadata": {
    "scrolled": true
   },
   "outputs": [
    {
     "data": {
      "text/plain": [
       "[('Line 1\\n', 'Line 1\\n'),\n",
       " ('Line 2\\n', 'Line 2\\n'),\n",
       " ('Line 3\\n', 'Line 3\\n'),\n",
       " ('Hello\\n', 'Hello\\n'),\n",
       " ('Hello\\n', 'Hello\\n'),\n",
       " ('Hello\\n', 'Hello\\n'),\n",
       " ('Hello\\n', 'Hello\\n'),\n",
       " ('Hello\\n', 'Hello\\n')]"
      ]
     },
     "execution_count": 55,
     "metadata": {},
     "output_type": "execute_result"
    }
   ],
   "source": [
    "list(zip(open('test.txt'), open('test.txt'))) #zip объединяет элементы итерируемых объектов, надо оборачивать в list()"
   ]
  },
  {
   "cell_type": "code",
   "execution_count": 56,
   "metadata": {
    "scrolled": true
   },
   "outputs": [
    {
     "data": {
      "text/plain": [
       "[(0, 'Line 1\\n'),\n",
       " (1, 'Line 2\\n'),\n",
       " (2, 'Line 3\\n'),\n",
       " (3, 'Hello\\n'),\n",
       " (4, 'Hello\\n'),\n",
       " (5, 'Hello\\n'),\n",
       " (6, 'Hello\\n'),\n",
       " (7, 'Hello\\n')]"
      ]
     },
     "execution_count": 56,
     "metadata": {},
     "output_type": "execute_result"
    }
   ],
   "source": [
    "list(enumerate(open('test.txt'))) #функция enumerate создает пары из элементов итерируемых объектов и их позиций"
   ]
  },
  {
   "cell_type": "code",
   "execution_count": 57,
   "metadata": {
    "scrolled": true
   },
   "outputs": [
    {
     "data": {
      "text/plain": [
       "['Line 1\\n',\n",
       " 'Line 2\\n',\n",
       " 'Line 3\\n',\n",
       " 'Hello\\n',\n",
       " 'Hello\\n',\n",
       " 'Hello\\n',\n",
       " 'Hello\\n',\n",
       " 'Hello\\n']"
      ]
     },
     "execution_count": 57,
     "metadata": {},
     "output_type": "execute_result"
    }
   ],
   "source": [
    "list(filter(bool, open('test.txt')))#filter отбирает элементы, для которых указанная функция возвращает истинное значение"
   ]
  },
  {
   "cell_type": "code",
   "execution_count": 58,
   "metadata": {},
   "outputs": [
    {
     "data": {
      "text/plain": [
       "'Line 1\\nLine 2\\nLine 3\\nHello\\nHello\\nHello\\nHello\\nHello\\n'"
      ]
     },
     "execution_count": 58,
     "metadata": {},
     "output_type": "execute_result"
    }
   ],
   "source": [
    ">>> import functools, operator\n",
    ">>> functools.reduce(operator.add, open('test.txt')) #функция reduce выполняет указанную операцию, объединяя все элементы \n",
    "#в итерируемом объекте."
   ]
  },
  {
   "cell_type": "markdown",
   "metadata": {},
   "source": [
    "# sum, any, all, max, min"
   ]
  },
  {
   "cell_type": "code",
   "execution_count": 60,
   "metadata": {},
   "outputs": [
    {
     "name": "stdout",
     "output_type": "stream",
     "text": [
      "15\n",
      "True\n",
      "False\n",
      "5\n",
      "1\n"
     ]
    }
   ],
   "source": [
    "print(sum([3, 2, 4, 1, 5, 0])) # sum работает только с числами\n",
    "\n",
    "print(any(['spam', '', 'ni']))\n",
    "\n",
    "print(all(['spam', '', 'ni']))\n",
    "\n",
    "print(max([3, 2, 5, 1, 4]))\n",
    "\n",
    "print(min([3, 2, 5, 1, 4]))"
   ]
  },
  {
   "cell_type": "code",
   "execution_count": 61,
   "metadata": {
    "scrolled": true
   },
   "outputs": [
    {
     "name": "stdout",
     "output_type": "stream",
     "text": [
      "['Line 1\\n', 'Line 2\\n', 'Line 3\\n', 'Hello\\n', 'Hello\\n', 'Hello\\n', 'Hello\\n', 'Hello\\n']\n",
      "('Line 1\\n', 'Line 2\\n', 'Line 3\\n', 'Hello\\n', 'Hello\\n', 'Hello\\n', 'Hello\\n', 'Hello\\n')\n",
      "Line 1\n",
      "xxLine 2\n",
      "xxLine 3\n",
      "xxHello\n",
      "xxHello\n",
      "xxHello\n",
      "xxHello\n",
      "xxHello\n",
      "\n",
      "Line 1\n",
      " ['Hello\\n', 'Hello\\n', 'Hello\\n', 'Hello\\n', 'Hello\\n']\n",
      "{'Line 1\\n', 'Line 3\\n', 'Hello\\n', 'Line 2\\n'}\n"
     ]
    }
   ],
   "source": [
    "print(list(open('test.txt')))             #у файлов есть встроенный итератор, поэтому их можно прямо загружать в функции\n",
    "print(tuple(open('test.txt')))          #у файлов есть встроенный итератор, поэтому их можно прямо загружать в функции\n",
    "print(\"xx\".join(open('test.txt')))        #у файлов есть встроенный итератор, поэтому их можно прямо загружать в функции\n",
    "a, b, c, *d = open('test.txt')            #у файлов есть встроенный итератор, поэтому их можно прямо загружать в функции\n",
    "print(a,d)\n",
    "print(set(open('test.txt')))          #у файлов есть встроенный итератор, поэтому их можно прямо загружать в функции"
   ]
  },
  {
   "cell_type": "code",
   "execution_count": 68,
   "metadata": {
    "scrolled": true
   },
   "outputs": [
    {
     "name": "stdout",
     "output_type": "stream",
     "text": [
      "1&2&3&4\n"
     ]
    }
   ],
   "source": [
    ">>> def f(a, b, c, d): print(a, b, c, d, sep='&')\n",
    "...\n",
    ">>> f(1, 2, 3, 4)"
   ]
  },
  {
   "cell_type": "markdown",
   "metadata": {},
   "source": [
    "# знак \"*\" распаковывает последовательности"
   ]
  },
  {
   "cell_type": "code",
   "execution_count": 75,
   "metadata": {
    "scrolled": true
   },
   "outputs": [
    {
     "name": "stdout",
     "output_type": "stream",
     "text": [
      "Line 1\n",
      "&Line 2\n",
      "&Line 3\n",
      "&Hello\n",
      "&Hello\n",
      "&Hello\n",
      "&Hello\n",
      "&Hello\n",
      "\n"
     ]
    }
   ],
   "source": [
    "def f(a, b, c, d, e, f, g, h): print(a, b, c, d, e, f, g, h, sep='&')\n",
    ">>> f(*open('test.txt'))                                   # Можно даже выполнить обход строк в файле!"
   ]
  },
  {
   "cell_type": "code",
   "execution_count": 77,
   "metadata": {
    "scrolled": true
   },
   "outputs": [
    {
     "name": "stdout",
     "output_type": "stream",
     "text": [
      "1&2&3&4&5&6&7&8\n"
     ]
    }
   ],
   "source": [
    "def f(a, b, c, d, e, f, g, h): print(a, b, c, d, e, f, g, h, sep='&')\n",
    "f(*[1, 2, 3, 4,5,6,7,8]) #знак \"*\" распаковывает последовательности"
   ]
  },
  {
   "cell_type": "code",
   "execution_count": 81,
   "metadata": {},
   "outputs": [
    {
     "name": "stdout",
     "output_type": "stream",
     "text": [
      "['a', 'b', 'c']\n"
     ]
    }
   ],
   "source": []
  }
 ],
 "metadata": {
  "kernelspec": {
   "display_name": "Python 3",
   "language": "python",
   "name": "python3"
  },
  "language_info": {
   "codemirror_mode": {
    "name": "ipython",
    "version": 3
   },
   "file_extension": ".py",
   "mimetype": "text/x-python",
   "name": "python",
   "nbconvert_exporter": "python",
   "pygments_lexer": "ipython3",
   "version": "3.7.4"
  }
 },
 "nbformat": 4,
 "nbformat_minor": 2
}
