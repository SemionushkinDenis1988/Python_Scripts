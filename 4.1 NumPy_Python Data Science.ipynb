{
 "cells": [
  {
   "cell_type": "markdown",
   "metadata": {},
   "source": [
    "# 1. NumPy"
   ]
  },
  {
   "cell_type": "code",
   "execution_count": 1,
   "metadata": {},
   "outputs": [
    {
     "data": {
      "text/plain": [
       "'1.17.4'"
      ]
     },
     "execution_count": 1,
     "metadata": {},
     "output_type": "execute_result"
    }
   ],
   "source": [
    "import numpy as np\n",
    "np.__version__"
   ]
  },
  {
   "cell_type": "code",
   "execution_count": 2,
   "metadata": {
    "collapsed": true
   },
   "outputs": [
    {
     "name": "stderr",
     "output_type": "stream",
     "text": [
      "C:\\Users\\Titan\\Anaconda3\\lib\\site-packages\\IPython\\lib\\pretty.py:620: VisibleDeprecationWarning: sctypeNA and typeNA will be removed in v1.18 of numpy\n",
      "  p.pretty(obj[key])\n"
     ]
    },
    {
     "data": {
      "text/plain": [
       "{'__name__': 'numpy',\n",
       " '__doc__': '\\nNumPy\\n=====\\n\\nProvides\\n  1. An array object of arbitrary homogeneous items\\n  2. Fast mathematical operations over arrays\\n  3. Linear Algebra, Fourier Transforms, Random Number Generation\\n\\nHow to use the documentation\\n----------------------------\\nDocumentation is available in two forms: docstrings provided\\nwith the code, and a loose standing reference guide, available from\\n`the NumPy homepage <https://www.scipy.org>`_.\\n\\nWe recommend exploring the docstrings using\\n`IPython <https://ipython.org>`_, an advanced Python shell with\\nTAB-completion and introspection capabilities.  See below for further\\ninstructions.\\n\\nThe docstring examples assume that `numpy` has been imported as `np`::\\n\\n  >>> import numpy as np\\n\\nCode snippets are indicated by three greater-than signs::\\n\\n  >>> x = 42\\n  >>> x = x + 1\\n\\nUse the built-in ``help`` function to view a function\\'s docstring::\\n\\n  >>> help(np.sort)\\n  ... # doctest: +SKIP\\n\\nFor some objects, ``np.info(obj)`` may provide additional help.  This is\\nparticularly true if you see the line \"Help on ufunc object:\" at the top\\nof the help() page.  Ufuncs are implemented in C, not Python, for speed.\\nThe native Python help() does not know how to view their help, but our\\nnp.info() function does.\\n\\nTo search for documents containing a keyword, do::\\n\\n  >>> np.lookfor(\\'keyword\\')\\n  ... # doctest: +SKIP\\n\\nGeneral-purpose documents like a glossary and help on the basic concepts\\nof numpy are available under the ``doc`` sub-module::\\n\\n  >>> from numpy import doc\\n  >>> help(doc)\\n  ... # doctest: +SKIP\\n\\nAvailable subpackages\\n---------------------\\ndoc\\n    Topical documentation on broadcasting, indexing, etc.\\nlib\\n    Basic functions used by several sub-packages.\\nrandom\\n    Core Random Tools\\nlinalg\\n    Core Linear Algebra Tools\\nfft\\n    Core FFT routines\\npolynomial\\n    Polynomial tools\\ntesting\\n    NumPy testing tools\\nf2py\\n    Fortran to Python Interface Generator.\\ndistutils\\n    Enhancements to distutils with support for\\n    Fortran compilers support and more.\\n\\nUtilities\\n---------\\ntest\\n    Run numpy unittests\\nshow_config\\n    Show numpy build configuration\\ndual\\n    Overwrite certain functions with high-performance Scipy tools\\nmatlib\\n    Make everything matrices.\\n__version__\\n    NumPy version string\\n\\nViewing documentation using IPython\\n-----------------------------------\\nStart IPython with the NumPy profile (``ipython -p numpy``), which will\\nimport `numpy` under the alias `np`.  Then, use the ``cpaste`` command to\\npaste examples into the shell.  To see which functions are available in\\n`numpy`, type ``np.<TAB>`` (where ``<TAB>`` refers to the TAB key), or use\\n``np.*cos*?<ENTER>`` (where ``<ENTER>`` refers to the ENTER key) to narrow\\ndown the list.  To view the docstring for a function, use\\n``np.cos?<ENTER>`` (to view the docstring) and ``np.cos??<ENTER>`` (to view\\nthe source code).\\n\\nCopies vs. in-place operation\\n-----------------------------\\nMost of the functions in `numpy` return a copy of the array argument\\n(e.g., `np.sort`).  In-place versions of these functions are often\\navailable as array methods, i.e. ``x = np.array([1,2,3]); x.sort()``.\\nExceptions to this rule are documented.\\n\\n',\n",
       " '__package__': 'numpy',\n",
       " '__loader__': <_frozen_importlib_external.SourceFileLoader at 0x525e388>,\n",
       " '__spec__': ModuleSpec(name='numpy', loader=<_frozen_importlib_external.SourceFileLoader object at 0x000000000525E388>, origin='C:\\\\Users\\\\Titan\\\\Anaconda3\\\\lib\\\\site-packages\\\\numpy\\\\__init__.py', submodule_search_locations=['C:\\\\Users\\\\Titan\\\\Anaconda3\\\\lib\\\\site-packages\\\\numpy']),\n",
       " '__path__': ['C:\\\\Users\\\\Titan\\\\Anaconda3\\\\lib\\\\site-packages\\\\numpy'],\n",
       " '__file__': 'C:\\\\Users\\\\Titan\\\\Anaconda3\\\\lib\\\\site-packages\\\\numpy\\\\__init__.py',\n",
       " '__cached__': 'C:\\\\Users\\\\Titan\\\\Anaconda3\\\\lib\\\\site-packages\\\\numpy\\\\__pycache__\\\\__init__.cpython-37.pyc',\n",
       " '__builtins__': {'__name__': 'builtins',\n",
       "  '__doc__': \"Built-in functions, exceptions, and other objects.\\n\\nNoteworthy: None is the `nil' object; Ellipsis represents `...' in slices.\",\n",
       "  '__package__': '',\n",
       "  '__loader__': _frozen_importlib.BuiltinImporter,\n",
       "  '__spec__': ModuleSpec(name='builtins', loader=<class '_frozen_importlib.BuiltinImporter'>),\n",
       "  '__build_class__': <function __build_class__>,\n",
       "  '__import__': <function __import__>,\n",
       "  'abs': <function abs(x, /)>,\n",
       "  'all': <function all(iterable, /)>,\n",
       "  'any': <function any(iterable, /)>,\n",
       "  'ascii': <function ascii(obj, /)>,\n",
       "  'bin': <function bin(number, /)>,\n",
       "  'breakpoint': <function breakpoint>,\n",
       "  'callable': <function callable(obj, /)>,\n",
       "  'chr': <function chr(i, /)>,\n",
       "  'compile': <function compile(source, filename, mode, flags=0, dont_inherit=False, optimize=-1)>,\n",
       "  'delattr': <function delattr(obj, name, /)>,\n",
       "  'dir': <function dir>,\n",
       "  'divmod': <function divmod(x, y, /)>,\n",
       "  'eval': <function eval(source, globals=None, locals=None, /)>,\n",
       "  'exec': <function exec(source, globals=None, locals=None, /)>,\n",
       "  'format': <function format(value, format_spec='', /)>,\n",
       "  'getattr': <function getattr>,\n",
       "  'globals': <function globals()>,\n",
       "  'hasattr': <function hasattr(obj, name, /)>,\n",
       "  'hash': <function hash(obj, /)>,\n",
       "  'hex': <function hex(number, /)>,\n",
       "  'id': <function id(obj, /)>,\n",
       "  'input': <bound method Kernel.raw_input of <ipykernel.ipkernel.IPythonKernel object at 0x0000000004EEBDC8>>,\n",
       "  'isinstance': <function isinstance(obj, class_or_tuple, /)>,\n",
       "  'issubclass': <function issubclass(cls, class_or_tuple, /)>,\n",
       "  'iter': <function iter>,\n",
       "  'len': <function len(obj, /)>,\n",
       "  'locals': <function locals()>,\n",
       "  'max': <function max>,\n",
       "  'min': <function min>,\n",
       "  'next': <function next>,\n",
       "  'oct': <function oct(number, /)>,\n",
       "  'ord': <function ord(c, /)>,\n",
       "  'pow': <function pow(x, y, z=None, /)>,\n",
       "  'print': <function print>,\n",
       "  'repr': <function repr(obj, /)>,\n",
       "  'round': <function round(number, ndigits=None)>,\n",
       "  'setattr': <function setattr(obj, name, value, /)>,\n",
       "  'sorted': <function sorted(iterable, /, *, key=None, reverse=False)>,\n",
       "  'sum': <function sum(iterable, start=0, /)>,\n",
       "  'vars': <function vars>,\n",
       "  'None': None,\n",
       "  'Ellipsis': Ellipsis,\n",
       "  'NotImplemented': NotImplemented,\n",
       "  'False': False,\n",
       "  'True': True,\n",
       "  'bool': bool,\n",
       "  'memoryview': memoryview,\n",
       "  'bytearray': bytearray,\n",
       "  'bytes': bytes,\n",
       "  'classmethod': classmethod,\n",
       "  'complex': complex,\n",
       "  'dict': dict,\n",
       "  'enumerate': enumerate,\n",
       "  'filter': filter,\n",
       "  'float': float,\n",
       "  'frozenset': frozenset,\n",
       "  'property': property,\n",
       "  'int': int,\n",
       "  'list': list,\n",
       "  'map': map,\n",
       "  'object': object,\n",
       "  'range': range,\n",
       "  'reversed': reversed,\n",
       "  'set': set,\n",
       "  'slice': slice,\n",
       "  'staticmethod': staticmethod,\n",
       "  'str': str,\n",
       "  'super': super,\n",
       "  'tuple': tuple,\n",
       "  'type': type,\n",
       "  'zip': zip,\n",
       "  '__debug__': True,\n",
       "  'BaseException': BaseException,\n",
       "  'Exception': Exception,\n",
       "  'TypeError': TypeError,\n",
       "  'StopAsyncIteration': StopAsyncIteration,\n",
       "  'StopIteration': StopIteration,\n",
       "  'GeneratorExit': GeneratorExit,\n",
       "  'SystemExit': SystemExit,\n",
       "  'KeyboardInterrupt': KeyboardInterrupt,\n",
       "  'ImportError': ImportError,\n",
       "  'ModuleNotFoundError': ModuleNotFoundError,\n",
       "  'OSError': OSError,\n",
       "  'EnvironmentError': OSError,\n",
       "  'IOError': OSError,\n",
       "  'WindowsError': OSError,\n",
       "  'EOFError': EOFError,\n",
       "  'RuntimeError': RuntimeError,\n",
       "  'RecursionError': RecursionError,\n",
       "  'NotImplementedError': NotImplementedError,\n",
       "  'NameError': NameError,\n",
       "  'UnboundLocalError': UnboundLocalError,\n",
       "  'AttributeError': AttributeError,\n",
       "  'SyntaxError': SyntaxError,\n",
       "  'IndentationError': IndentationError,\n",
       "  'TabError': TabError,\n",
       "  'LookupError': LookupError,\n",
       "  'IndexError': IndexError,\n",
       "  'KeyError': KeyError,\n",
       "  'ValueError': ValueError,\n",
       "  'UnicodeError': UnicodeError,\n",
       "  'UnicodeEncodeError': UnicodeEncodeError,\n",
       "  'UnicodeDecodeError': UnicodeDecodeError,\n",
       "  'UnicodeTranslateError': UnicodeTranslateError,\n",
       "  'AssertionError': AssertionError,\n",
       "  'ArithmeticError': ArithmeticError,\n",
       "  'FloatingPointError': FloatingPointError,\n",
       "  'OverflowError': OverflowError,\n",
       "  'ZeroDivisionError': ZeroDivisionError,\n",
       "  'SystemError': SystemError,\n",
       "  'ReferenceError': ReferenceError,\n",
       "  'MemoryError': MemoryError,\n",
       "  'BufferError': BufferError,\n",
       "  'Warning': Warning,\n",
       "  'UserWarning': UserWarning,\n",
       "  'DeprecationWarning': DeprecationWarning,\n",
       "  'PendingDeprecationWarning': PendingDeprecationWarning,\n",
       "  'SyntaxWarning': SyntaxWarning,\n",
       "  'RuntimeWarning': RuntimeWarning,\n",
       "  'FutureWarning': FutureWarning,\n",
       "  'ImportWarning': ImportWarning,\n",
       "  'UnicodeWarning': UnicodeWarning,\n",
       "  'BytesWarning': BytesWarning,\n",
       "  'ResourceWarning': ResourceWarning,\n",
       "  'ConnectionError': ConnectionError,\n",
       "  'BlockingIOError': BlockingIOError,\n",
       "  'BrokenPipeError': BrokenPipeError,\n",
       "  'ChildProcessError': ChildProcessError,\n",
       "  'ConnectionAbortedError': ConnectionAbortedError,\n",
       "  'ConnectionRefusedError': ConnectionRefusedError,\n",
       "  'ConnectionResetError': ConnectionResetError,\n",
       "  'FileExistsError': FileExistsError,\n",
       "  'FileNotFoundError': FileNotFoundError,\n",
       "  'IsADirectoryError': IsADirectoryError,\n",
       "  'NotADirectoryError': NotADirectoryError,\n",
       "  'InterruptedError': InterruptedError,\n",
       "  'PermissionError': PermissionError,\n",
       "  'ProcessLookupError': ProcessLookupError,\n",
       "  'TimeoutError': TimeoutError,\n",
       "  'open': <function io.open(file, mode='r', buffering=-1, encoding=None, errors=None, newline=None, closefd=True, opener=None)>,\n",
       "  'copyright': Copyright (c) 2001-2019 Python Software Foundation.\n",
       "  All Rights Reserved.\n",
       "  \n",
       "  Copyright (c) 2000 BeOpen.com.\n",
       "  All Rights Reserved.\n",
       "  \n",
       "  Copyright (c) 1995-2001 Corporation for National Research Initiatives.\n",
       "  All Rights Reserved.\n",
       "  \n",
       "  Copyright (c) 1991-1995 Stichting Mathematisch Centrum, Amsterdam.\n",
       "  All Rights Reserved.,\n",
       "  'credits':     Thanks to CWI, CNRI, BeOpen.com, Zope Corporation and a cast of thousands\n",
       "      for supporting Python development.  See www.python.org for more information.,\n",
       "  'license': See https://www.python.org/psf/license/,\n",
       "  'help': Type help() for interactive help, or help(object) for help about object.,\n",
       "  '__IPYTHON__': True,\n",
       "  'display': <function IPython.core.display.display(*objs, include=None, exclude=None, metadata=None, transient=None, display_id=None, **kwargs)>,\n",
       "  'get_ipython': <bound method InteractiveShell.get_ipython of <ipykernel.zmqshell.ZMQInteractiveShell object at 0x0000000004EEBF88>>},\n",
       " 'division': _Feature((2, 2, 0, 'alpha', 2), (3, 0, 0, 'alpha', 0), 8192),\n",
       " 'absolute_import': _Feature((2, 5, 0, 'alpha', 1), (3, 0, 0, 'alpha', 0), 16384),\n",
       " 'print_function': _Feature((2, 6, 0, 'alpha', 2), (3, 0, 0, 'alpha', 0), 65536),\n",
       " 'sys': <module 'sys' (built-in)>,\n",
       " 'warnings': <module 'warnings' from 'C:\\\\Users\\\\Titan\\\\Anaconda3\\\\lib\\\\warnings.py'>,\n",
       " '_globals': <module 'numpy._globals' from 'C:\\\\Users\\\\Titan\\\\Anaconda3\\\\lib\\\\site-packages\\\\numpy\\\\_globals.py'>,\n",
       " 'ModuleDeprecationWarning': numpy.ModuleDeprecationWarning,\n",
       " 'VisibleDeprecationWarning': numpy.VisibleDeprecationWarning,\n",
       " '_NoValue': <no value>,\n",
       " '__NUMPY_SETUP__': False,\n",
       " '__config__': <module 'numpy.__config__' from 'C:\\\\Users\\\\Titan\\\\Anaconda3\\\\lib\\\\site-packages\\\\numpy\\\\__config__.py'>,\n",
       " 'show_config': <function numpy.__config__.show()>,\n",
       " 'version': <module 'numpy.version' from 'C:\\\\Users\\\\Titan\\\\Anaconda3\\\\lib\\\\site-packages\\\\numpy\\\\version.py'>,\n",
       " '__git_revision__': 'cbdc3b7477aa0b497406bbb2df1025bed290f3cb',\n",
       " '__version__': '1.16.5',\n",
       " '__all__': ['ModuleDeprecationWarning',\n",
       "  'VisibleDeprecationWarning',\n",
       "  '__version__',\n",
       "  'show_config',\n",
       "  'char',\n",
       "  'rec',\n",
       "  'memmap',\n",
       "  'newaxis',\n",
       "  'ndarray',\n",
       "  'flatiter',\n",
       "  'nditer',\n",
       "  'nested_iters',\n",
       "  'ufunc',\n",
       "  'arange',\n",
       "  'array',\n",
       "  'zeros',\n",
       "  'count_nonzero',\n",
       "  'empty',\n",
       "  'broadcast',\n",
       "  'dtype',\n",
       "  'fromstring',\n",
       "  'fromfile',\n",
       "  'frombuffer',\n",
       "  'int_asbuffer',\n",
       "  'where',\n",
       "  'argwhere',\n",
       "  'copyto',\n",
       "  'concatenate',\n",
       "  'fastCopyAndTranspose',\n",
       "  'lexsort',\n",
       "  'set_numeric_ops',\n",
       "  'can_cast',\n",
       "  'promote_types',\n",
       "  'min_scalar_type',\n",
       "  'result_type',\n",
       "  'asarray',\n",
       "  'asanyarray',\n",
       "  'ascontiguousarray',\n",
       "  'asfortranarray',\n",
       "  'isfortran',\n",
       "  'empty_like',\n",
       "  'zeros_like',\n",
       "  'ones_like',\n",
       "  'correlate',\n",
       "  'convolve',\n",
       "  'inner',\n",
       "  'dot',\n",
       "  'outer',\n",
       "  'vdot',\n",
       "  'roll',\n",
       "  'rollaxis',\n",
       "  'moveaxis',\n",
       "  'cross',\n",
       "  'tensordot',\n",
       "  'little_endian',\n",
       "  'require',\n",
       "  'fromiter',\n",
       "  'array_equal',\n",
       "  'array_equiv',\n",
       "  'indices',\n",
       "  'fromfunction',\n",
       "  'isclose',\n",
       "  'load',\n",
       "  'loads',\n",
       "  'isscalar',\n",
       "  'binary_repr',\n",
       "  'base_repr',\n",
       "  'ones',\n",
       "  'identity',\n",
       "  'allclose',\n",
       "  'compare_chararrays',\n",
       "  'putmask',\n",
       "  'seterr',\n",
       "  'geterr',\n",
       "  'setbufsize',\n",
       "  'getbufsize',\n",
       "  'seterrcall',\n",
       "  'geterrcall',\n",
       "  'errstate',\n",
       "  'flatnonzero',\n",
       "  'Inf',\n",
       "  'inf',\n",
       "  'infty',\n",
       "  'Infinity',\n",
       "  'nan',\n",
       "  'NaN',\n",
       "  'False_',\n",
       "  'True_',\n",
       "  'bitwise_not',\n",
       "  'CLIP',\n",
       "  'RAISE',\n",
       "  'WRAP',\n",
       "  'MAXDIMS',\n",
       "  'BUFSIZE',\n",
       "  'ALLOW_THREADS',\n",
       "  'ComplexWarning',\n",
       "  'full',\n",
       "  'full_like',\n",
       "  'matmul',\n",
       "  'shares_memory',\n",
       "  'may_share_memory',\n",
       "  'MAY_SHARE_BOUNDS',\n",
       "  'MAY_SHARE_EXACT',\n",
       "  'TooHardError',\n",
       "  'AxisError',\n",
       "  'alen',\n",
       "  'all',\n",
       "  'alltrue',\n",
       "  'amax',\n",
       "  'amin',\n",
       "  'any',\n",
       "  'argmax',\n",
       "  'argmin',\n",
       "  'argpartition',\n",
       "  'argsort',\n",
       "  'around',\n",
       "  'choose',\n",
       "  'clip',\n",
       "  'compress',\n",
       "  'cumprod',\n",
       "  'cumproduct',\n",
       "  'cumsum',\n",
       "  'diagonal',\n",
       "  'mean',\n",
       "  'ndim',\n",
       "  'nonzero',\n",
       "  'partition',\n",
       "  'prod',\n",
       "  'product',\n",
       "  'ptp',\n",
       "  'put',\n",
       "  'rank',\n",
       "  'ravel',\n",
       "  'repeat',\n",
       "  'reshape',\n",
       "  'resize',\n",
       "  'round_',\n",
       "  'searchsorted',\n",
       "  'shape',\n",
       "  'size',\n",
       "  'sometrue',\n",
       "  'sort',\n",
       "  'squeeze',\n",
       "  'std',\n",
       "  'sum',\n",
       "  'swapaxes',\n",
       "  'take',\n",
       "  'trace',\n",
       "  'transpose',\n",
       "  'var',\n",
       "  '_UFUNC_API',\n",
       "  'ERR_CALL',\n",
       "  'ERR_DEFAULT',\n",
       "  'ERR_IGNORE',\n",
       "  'ERR_LOG',\n",
       "  'ERR_PRINT',\n",
       "  'ERR_RAISE',\n",
       "  'ERR_WARN',\n",
       "  'FLOATING_POINT_SUPPORT',\n",
       "  'FPE_DIVIDEBYZERO',\n",
       "  'FPE_INVALID',\n",
       "  'FPE_OVERFLOW',\n",
       "  'FPE_UNDERFLOW',\n",
       "  'NAN',\n",
       "  'NINF',\n",
       "  'NZERO',\n",
       "  'PINF',\n",
       "  'PZERO',\n",
       "  'SHIFT_DIVIDEBYZERO',\n",
       "  'SHIFT_INVALID',\n",
       "  'SHIFT_OVERFLOW',\n",
       "  'SHIFT_UNDERFLOW',\n",
       "  'UFUNC_BUFSIZE_DEFAULT',\n",
       "  'UFUNC_PYVALS_NAME',\n",
       "  '_add_newdoc_ufunc',\n",
       "  '_arg',\n",
       "  'absolute',\n",
       "  'add',\n",
       "  'arccos',\n",
       "  'arccosh',\n",
       "  'arcsin',\n",
       "  'arcsinh',\n",
       "  'arctan',\n",
       "  'arctan2',\n",
       "  'arctanh',\n",
       "  'bitwise_and',\n",
       "  'bitwise_or',\n",
       "  'bitwise_xor',\n",
       "  'cbrt',\n",
       "  'ceil',\n",
       "  'conj',\n",
       "  'conjugate',\n",
       "  'copysign',\n",
       "  'cos',\n",
       "  'cosh',\n",
       "  'deg2rad',\n",
       "  'degrees',\n",
       "  'divide',\n",
       "  'divmod',\n",
       "  'e',\n",
       "  'equal',\n",
       "  'euler_gamma',\n",
       "  'exp',\n",
       "  'exp2',\n",
       "  'expm1',\n",
       "  'fabs',\n",
       "  'floor',\n",
       "  'floor_divide',\n",
       "  'float_power',\n",
       "  'fmax',\n",
       "  'fmin',\n",
       "  'fmod',\n",
       "  'frexp',\n",
       "  'frompyfunc',\n",
       "  'gcd',\n",
       "  'geterrobj',\n",
       "  'greater',\n",
       "  'greater_equal',\n",
       "  'heaviside',\n",
       "  'hypot',\n",
       "  'invert',\n",
       "  'isfinite',\n",
       "  'isinf',\n",
       "  'isnan',\n",
       "  'isnat',\n",
       "  'lcm',\n",
       "  'ldexp',\n",
       "  'left_shift',\n",
       "  'less',\n",
       "  'less_equal',\n",
       "  'log',\n",
       "  'log10',\n",
       "  'log1p',\n",
       "  'log2',\n",
       "  'logaddexp',\n",
       "  'logaddexp2',\n",
       "  'logical_and',\n",
       "  'logical_not',\n",
       "  'logical_or',\n",
       "  'logical_xor',\n",
       "  'maximum',\n",
       "  'minimum',\n",
       "  'mod',\n",
       "  'modf',\n",
       "  'multiply',\n",
       "  'negative',\n",
       "  'nextafter',\n",
       "  'not_equal',\n",
       "  'pi',\n",
       "  'positive',\n",
       "  'power',\n",
       "  'rad2deg',\n",
       "  'radians',\n",
       "  'reciprocal',\n",
       "  'remainder',\n",
       "  'right_shift',\n",
       "  'rint',\n",
       "  'seterrobj',\n",
       "  'sign',\n",
       "  'signbit',\n",
       "  'sin',\n",
       "  'sinh',\n",
       "  'spacing',\n",
       "  'sqrt',\n",
       "  'square',\n",
       "  'subtract',\n",
       "  'tan',\n",
       "  'tanh',\n",
       "  'true_divide',\n",
       "  'trunc',\n",
       "  'sctypeDict',\n",
       "  'sctypeNA',\n",
       "  'typeDict',\n",
       "  'typeNA',\n",
       "  'sctypes',\n",
       "  'ScalarType',\n",
       "  'obj2sctype',\n",
       "  'cast',\n",
       "  'nbytes',\n",
       "  'sctype2char',\n",
       "  'maximum_sctype',\n",
       "  'issctype',\n",
       "  'typecodes',\n",
       "  'find_common_type',\n",
       "  'issubdtype',\n",
       "  'datetime_data',\n",
       "  'datetime_as_string',\n",
       "  'busday_offset',\n",
       "  'busday_count',\n",
       "  'is_busday',\n",
       "  'busdaycalendar',\n",
       "  'byte',\n",
       "  'ubyte',\n",
       "  'short',\n",
       "  'ushort',\n",
       "  'uint',\n",
       "  'intp',\n",
       "  'uintp',\n",
       "  'long',\n",
       "  'longlong',\n",
       "  'ulonglong',\n",
       "  'half',\n",
       "  'double',\n",
       "  'longdouble',\n",
       "  'cfloat',\n",
       "  'cdouble',\n",
       "  'clongdouble',\n",
       "  'unicode',\n",
       "  'void',\n",
       "  'generic',\n",
       "  'number',\n",
       "  'integer',\n",
       "  'inexact',\n",
       "  'signedinteger',\n",
       "  'unsignedinteger',\n",
       "  'floating',\n",
       "  'complexfloating',\n",
       "  'flexible',\n",
       "  'character',\n",
       "  'bool8',\n",
       "  'int64',\n",
       "  'uint64',\n",
       "  'float16',\n",
       "  'float32',\n",
       "  'float64',\n",
       "  'complex64',\n",
       "  'complex128',\n",
       "  'object0',\n",
       "  'bytes0',\n",
       "  'str0',\n",
       "  'void0',\n",
       "  'datetime64',\n",
       "  'timedelta64',\n",
       "  'int32',\n",
       "  'uint32',\n",
       "  'int16',\n",
       "  'uint16',\n",
       "  'int8',\n",
       "  'uint8',\n",
       "  'complex_',\n",
       "  'int0',\n",
       "  'uint0',\n",
       "  'single',\n",
       "  'csingle',\n",
       "  'singlecomplex',\n",
       "  'float_',\n",
       "  'intc',\n",
       "  'uintc',\n",
       "  'int_',\n",
       "  'longfloat',\n",
       "  'clongfloat',\n",
       "  'longcomplex',\n",
       "  'bool_',\n",
       "  'bytes_',\n",
       "  'string_',\n",
       "  'unicode_',\n",
       "  'object_',\n",
       "  'str_',\n",
       "  'array2string',\n",
       "  'array_str',\n",
       "  'array_repr',\n",
       "  'set_string_function',\n",
       "  'set_printoptions',\n",
       "  'get_printoptions',\n",
       "  'printoptions',\n",
       "  'format_float_positional',\n",
       "  'format_float_scientific',\n",
       "  'alen',\n",
       "  'all',\n",
       "  'alltrue',\n",
       "  'amax',\n",
       "  'amin',\n",
       "  'any',\n",
       "  'argmax',\n",
       "  'argmin',\n",
       "  'argpartition',\n",
       "  'argsort',\n",
       "  'around',\n",
       "  'choose',\n",
       "  'clip',\n",
       "  'compress',\n",
       "  'cumprod',\n",
       "  'cumproduct',\n",
       "  'cumsum',\n",
       "  'diagonal',\n",
       "  'mean',\n",
       "  'ndim',\n",
       "  'nonzero',\n",
       "  'partition',\n",
       "  'prod',\n",
       "  'product',\n",
       "  'ptp',\n",
       "  'put',\n",
       "  'rank',\n",
       "  'ravel',\n",
       "  'repeat',\n",
       "  'reshape',\n",
       "  'resize',\n",
       "  'round_',\n",
       "  'searchsorted',\n",
       "  'shape',\n",
       "  'size',\n",
       "  'sometrue',\n",
       "  'sort',\n",
       "  'squeeze',\n",
       "  'std',\n",
       "  'sum',\n",
       "  'swapaxes',\n",
       "  'take',\n",
       "  'trace',\n",
       "  'transpose',\n",
       "  'var',\n",
       "  'record',\n",
       "  'recarray',\n",
       "  'format_parser',\n",
       "  'chararray',\n",
       "  'logspace',\n",
       "  'linspace',\n",
       "  'geomspace',\n",
       "  'MachAr',\n",
       "  'finfo',\n",
       "  'iinfo',\n",
       "  'atleast_1d',\n",
       "  'atleast_2d',\n",
       "  'atleast_3d',\n",
       "  'block',\n",
       "  'hstack',\n",
       "  'stack',\n",
       "  'vstack',\n",
       "  'einsum',\n",
       "  'einsum_path',\n",
       "  'matrix',\n",
       "  'bmat',\n",
       "  'mat',\n",
       "  'asmatrix',\n",
       "  'emath',\n",
       "  'math',\n",
       "  'tracemalloc_domain',\n",
       "  'iscomplexobj',\n",
       "  'isrealobj',\n",
       "  'imag',\n",
       "  'iscomplex',\n",
       "  'isreal',\n",
       "  'nan_to_num',\n",
       "  'real',\n",
       "  'real_if_close',\n",
       "  'typename',\n",
       "  'asfarray',\n",
       "  'mintypecode',\n",
       "  'asscalar',\n",
       "  'common_type',\n",
       "  'ravel_multi_index',\n",
       "  'unravel_index',\n",
       "  'mgrid',\n",
       "  'ogrid',\n",
       "  'r_',\n",
       "  'c_',\n",
       "  's_',\n",
       "  'index_exp',\n",
       "  'ix_',\n",
       "  'ndenumerate',\n",
       "  'ndindex',\n",
       "  'fill_diagonal',\n",
       "  'diag_indices',\n",
       "  'diag_indices_from',\n",
       "  'select',\n",
       "  'piecewise',\n",
       "  'trim_zeros',\n",
       "  'copy',\n",
       "  'iterable',\n",
       "  'percentile',\n",
       "  'diff',\n",
       "  'gradient',\n",
       "  'angle',\n",
       "  'unwrap',\n",
       "  'sort_complex',\n",
       "  'disp',\n",
       "  'flip',\n",
       "  'rot90',\n",
       "  'extract',\n",
       "  'place',\n",
       "  'vectorize',\n",
       "  'asarray_chkfinite',\n",
       "  'average',\n",
       "  'bincount',\n",
       "  'digitize',\n",
       "  'cov',\n",
       "  'corrcoef',\n",
       "  'msort',\n",
       "  'median',\n",
       "  'sinc',\n",
       "  'hamming',\n",
       "  'hanning',\n",
       "  'bartlett',\n",
       "  'blackman',\n",
       "  'kaiser',\n",
       "  'trapz',\n",
       "  'i0',\n",
       "  'add_newdoc',\n",
       "  'add_docstring',\n",
       "  'meshgrid',\n",
       "  'delete',\n",
       "  'insert',\n",
       "  'append',\n",
       "  'interp',\n",
       "  'add_newdoc_ufunc',\n",
       "  'quantile',\n",
       "  'column_stack',\n",
       "  'row_stack',\n",
       "  'dstack',\n",
       "  'array_split',\n",
       "  'split',\n",
       "  'hsplit',\n",
       "  'vsplit',\n",
       "  'dsplit',\n",
       "  'apply_over_axes',\n",
       "  'expand_dims',\n",
       "  'apply_along_axis',\n",
       "  'kron',\n",
       "  'tile',\n",
       "  'get_array_wrap',\n",
       "  'take_along_axis',\n",
       "  'put_along_axis',\n",
       "  'broadcast_to',\n",
       "  'broadcast_arrays',\n",
       "  'diag',\n",
       "  'diagflat',\n",
       "  'eye',\n",
       "  'fliplr',\n",
       "  'flipud',\n",
       "  'tri',\n",
       "  'triu',\n",
       "  'tril',\n",
       "  'vander',\n",
       "  'histogram2d',\n",
       "  'mask_indices',\n",
       "  'tril_indices',\n",
       "  'tril_indices_from',\n",
       "  'triu_indices',\n",
       "  'triu_indices_from',\n",
       "  'fix',\n",
       "  'isneginf',\n",
       "  'isposinf',\n",
       "  'pad',\n",
       "  'poly',\n",
       "  'roots',\n",
       "  'polyint',\n",
       "  'polyder',\n",
       "  'polyadd',\n",
       "  'polysub',\n",
       "  'polymul',\n",
       "  'polydiv',\n",
       "  'polyval',\n",
       "  'poly1d',\n",
       "  'polyfit',\n",
       "  'RankWarning',\n",
       "  'issubclass_',\n",
       "  'issubsctype',\n",
       "  'issubdtype',\n",
       "  'deprecate',\n",
       "  'deprecate_with_doc',\n",
       "  'get_include',\n",
       "  'info',\n",
       "  'source',\n",
       "  'who',\n",
       "  'lookfor',\n",
       "  'byte_bounds',\n",
       "  'safe_eval',\n",
       "  'ediff1d',\n",
       "  'intersect1d',\n",
       "  'setxor1d',\n",
       "  'union1d',\n",
       "  'setdiff1d',\n",
       "  'unique',\n",
       "  'in1d',\n",
       "  'isin',\n",
       "  'savetxt',\n",
       "  'loadtxt',\n",
       "  'genfromtxt',\n",
       "  'ndfromtxt',\n",
       "  'mafromtxt',\n",
       "  'recfromtxt',\n",
       "  'recfromcsv',\n",
       "  'load',\n",
       "  'loads',\n",
       "  'save',\n",
       "  'savez',\n",
       "  'savez_compressed',\n",
       "  'packbits',\n",
       "  'unpackbits',\n",
       "  'fromregex',\n",
       "  'DataSource',\n",
       "  'fv',\n",
       "  'pmt',\n",
       "  'nper',\n",
       "  'ipmt',\n",
       "  'ppmt',\n",
       "  'pv',\n",
       "  'rate',\n",
       "  'irr',\n",
       "  'npv',\n",
       "  'mirr',\n",
       "  'nansum',\n",
       "  'nanmax',\n",
       "  'nanmin',\n",
       "  'nanargmax',\n",
       "  'nanargmin',\n",
       "  'nanmean',\n",
       "  'nanmedian',\n",
       "  'nanpercentile',\n",
       "  'nanvar',\n",
       "  'nanstd',\n",
       "  'nanprod',\n",
       "  'nancumsum',\n",
       "  'nancumprod',\n",
       "  'nanquantile',\n",
       "  'histogram',\n",
       "  'histogramdd',\n",
       "  'histogram_bin_edges',\n",
       "  'linalg',\n",
       "  'fft',\n",
       "  'random',\n",
       "  'ctypeslib',\n",
       "  'ma'],\n",
       " '_mklinit': <module 'numpy._mklinit' from 'C:\\\\Users\\\\Titan\\\\Anaconda3\\\\lib\\\\site-packages\\\\numpy\\\\_mklinit.cp37-win_amd64.pyd'>,\n",
       " '_distributor_init': <module 'numpy._distributor_init' from 'C:\\\\Users\\\\Titan\\\\Anaconda3\\\\lib\\\\site-packages\\\\numpy\\\\_distributor_init.py'>,\n",
       " 'compat': <module 'numpy.compat' from 'C:\\\\Users\\\\Titan\\\\Anaconda3\\\\lib\\\\site-packages\\\\numpy\\\\compat\\\\__init__.py'>,\n",
       " '_pytesttester': <module 'numpy._pytesttester' from 'C:\\\\Users\\\\Titan\\\\Anaconda3\\\\lib\\\\site-packages\\\\numpy\\\\_pytesttester.py'>,\n",
       " 'core': <module 'numpy.core' from 'C:\\\\Users\\\\Titan\\\\Anaconda3\\\\lib\\\\site-packages\\\\numpy\\\\core\\\\__init__.py'>,\n",
       " 'char': <module 'numpy.core.defchararray' from 'C:\\\\Users\\\\Titan\\\\Anaconda3\\\\lib\\\\site-packages\\\\numpy\\\\core\\\\defchararray.py'>,\n",
       " 'rec': <module 'numpy.core.records' from 'C:\\\\Users\\\\Titan\\\\Anaconda3\\\\lib\\\\site-packages\\\\numpy\\\\core\\\\records.py'>,\n",
       " 'memmap': numpy.memmap,\n",
       " 'newaxis': None,\n",
       " 'ndarray': numpy.ndarray,\n",
       " 'flatiter': numpy.flatiter,\n",
       " 'nditer': numpy.nditer,\n",
       " 'nested_iters': <function numpy.nested_iters>,\n",
       " 'ufunc': numpy.ufunc,\n",
       " 'arange': <function numpy.arange>,\n",
       " 'array': <function numpy.array>,\n",
       " 'zeros': <function numpy.zeros>,\n",
       " 'count_nonzero': <function numpy.count_nonzero(a, axis=None)>,\n",
       " 'empty': <function numpy.empty>,\n",
       " 'broadcast': numpy.broadcast,\n",
       " 'dtype': numpy.dtype,\n",
       " 'fromstring': <function numpy.fromstring>,\n",
       " 'fromfile': <function numpy.fromfile>,\n",
       " 'frombuffer': <function numpy.frombuffer>,\n",
       " 'int_asbuffer': <function numpy.core._multiarray_umath.int_asbuffer>,\n",
       " 'where': <function numpy.where>,\n",
       " 'argwhere': <function numpy.argwhere(a)>,\n",
       " 'copyto': <function numpy.copyto>,\n",
       " 'concatenate': <function numpy.concatenate>,\n",
       " 'fastCopyAndTranspose': <function numpy.core._multiarray_umath._fastCopyAndTranspose>,\n",
       " 'lexsort': <function numpy.lexsort>,\n",
       " 'set_numeric_ops': <function numpy.set_numeric_ops>,\n",
       " 'can_cast': <function numpy.can_cast>,\n",
       " 'promote_types': <function numpy.promote_types>,\n",
       " 'min_scalar_type': <function numpy.min_scalar_type>,\n",
       " 'result_type': <function numpy.result_type>,\n",
       " 'asarray': <function numpy.asarray(a, dtype=None, order=None)>,\n",
       " 'asanyarray': <function numpy.asanyarray(a, dtype=None, order=None)>,\n",
       " 'ascontiguousarray': <function numpy.ascontiguousarray(a, dtype=None)>,\n",
       " 'asfortranarray': <function numpy.asfortranarray(a, dtype=None)>,\n",
       " 'isfortran': <function numpy.isfortran(a)>,\n",
       " 'empty_like': <function numpy.empty_like>,\n",
       " 'zeros_like': <function numpy.zeros_like(a, dtype=None, order='K', subok=True)>,\n",
       " 'ones_like': <function numpy.ones_like(a, dtype=None, order='K', subok=True)>,\n",
       " 'correlate': <function numpy.correlate(a, v, mode='valid')>,\n",
       " 'convolve': <function numpy.convolve(a, v, mode='full')>,\n",
       " 'inner': <function numpy.inner>,\n",
       " 'dot': <function numpy.dot>,\n",
       " 'outer': <function numpy.outer(a, b, out=None)>,\n",
       " 'vdot': <function numpy.vdot>,\n",
       " 'roll': <function numpy.roll(a, shift, axis=None)>,\n",
       " 'rollaxis': <function numpy.rollaxis(a, axis, start=0)>,\n",
       " 'moveaxis': <function numpy.moveaxis(a, source, destination)>,\n",
       " 'cross': <function numpy.cross(a, b, axisa=-1, axisb=-1, axisc=-1, axis=None)>,\n",
       " 'tensordot': <function numpy.tensordot(a, b, axes=2)>,\n",
       " 'little_endian': True,\n",
       " 'require': <function numpy.require(a, dtype=None, requirements=None)>,\n",
       " 'fromiter': <function numpy.fromiter>,\n",
       " 'array_equal': <function numpy.array_equal(a1, a2)>,\n",
       " 'array_equiv': <function numpy.array_equiv(a1, a2)>,\n",
       " 'indices': <function numpy.indices(dimensions, dtype=<class 'int'>)>,\n",
       " 'fromfunction': <function numpy.fromfunction(function, shape, **kwargs)>,\n",
       " 'isclose': <function numpy.isclose(a, b, rtol=1e-05, atol=1e-08, equal_nan=False)>,\n",
       " 'load': <function numpy.load(file, mmap_mode=None, allow_pickle=False, fix_imports=True, encoding='ASCII')>,\n",
       " 'loads': <function numpy.loads(*args, **kwargs)>,\n",
       " 'isscalar': <function numpy.isscalar(num)>,\n",
       " 'binary_repr': <function numpy.binary_repr(num, width=None)>,\n",
       " 'base_repr': <function numpy.base_repr(number, base=2, padding=0)>,\n",
       " 'ones': <function numpy.ones(shape, dtype=None, order='C')>,\n",
       " 'identity': <function numpy.identity(n, dtype=None)>,\n",
       " 'allclose': <function numpy.allclose(a, b, rtol=1e-05, atol=1e-08, equal_nan=False)>,\n",
       " 'compare_chararrays': <function numpy.core._multiarray_umath.compare_chararrays>,\n",
       " 'putmask': <function numpy.putmask>,\n",
       " 'seterr': <function numpy.seterr(all=None, divide=None, over=None, under=None, invalid=None)>,\n",
       " 'geterr': <function numpy.geterr()>,\n",
       " 'setbufsize': <function numpy.setbufsize(size)>,\n",
       " 'getbufsize': <function numpy.getbufsize()>,\n",
       " 'seterrcall': <function numpy.seterrcall(func)>,\n",
       " 'geterrcall': <function numpy.geterrcall()>,\n",
       " 'errstate': numpy.errstate,\n",
       " 'flatnonzero': <function numpy.flatnonzero(a)>,\n",
       " 'Inf': inf,\n",
       " 'inf': inf,\n",
       " 'infty': inf,\n",
       " 'Infinity': inf,\n",
       " 'nan': nan,\n",
       " 'NaN': nan,\n",
       " 'False_': False,\n",
       " 'True_': True,\n",
       " 'bitwise_not': <ufunc 'invert'>,\n",
       " 'CLIP': 0,\n",
       " 'RAISE': 2,\n",
       " 'WRAP': 1,\n",
       " 'MAXDIMS': 32,\n",
       " 'BUFSIZE': 8192,\n",
       " 'ALLOW_THREADS': 1,\n",
       " 'ComplexWarning': numpy.ComplexWarning,\n",
       " 'full': <function numpy.full(shape, fill_value, dtype=None, order='C')>,\n",
       " 'full_like': <function numpy.full_like(a, fill_value, dtype=None, order='K', subok=True)>,\n",
       " 'matmul': <ufunc 'matmul'>,\n",
       " 'shares_memory': <function numpy.shares_memory>,\n",
       " 'may_share_memory': <function numpy.may_share_memory>,\n",
       " 'MAY_SHARE_BOUNDS': 0,\n",
       " 'MAY_SHARE_EXACT': -1,\n",
       " 'TooHardError': numpy.TooHardError,\n",
       " 'AxisError': numpy.AxisError,\n",
       " 'alen': <function numpy.alen(a)>,\n",
       " 'all': <function numpy.all(a, axis=None, out=None, keepdims=<no value>)>,\n",
       " 'alltrue': <function numpy.alltrue(*args, **kwargs)>,\n",
       " 'amax': <function numpy.amax(a, axis=None, out=None, keepdims=<no value>, initial=<no value>)>,\n",
       " 'amin': <function numpy.amin(a, axis=None, out=None, keepdims=<no value>, initial=<no value>)>,\n",
       " 'any': <function numpy.any(a, axis=None, out=None, keepdims=<no value>)>,\n",
       " 'argmax': <function numpy.argmax(a, axis=None, out=None)>,\n",
       " 'argmin': <function numpy.argmin(a, axis=None, out=None)>,\n",
       " 'argpartition': <function numpy.argpartition(a, kth, axis=-1, kind='introselect', order=None)>,\n",
       " 'argsort': <function numpy.argsort(a, axis=-1, kind='quicksort', order=None)>,\n",
       " 'around': <function numpy.around(a, decimals=0, out=None)>,\n",
       " 'choose': <function numpy.choose(a, choices, out=None, mode='raise')>,\n",
       " 'clip': <function numpy.clip(a, a_min, a_max, out=None)>,\n",
       " 'compress': <function numpy.compress(condition, a, axis=None, out=None)>,\n",
       " 'cumprod': <function numpy.cumprod(a, axis=None, dtype=None, out=None)>,\n",
       " 'cumproduct': <function numpy.cumproduct(*args, **kwargs)>,\n",
       " 'cumsum': <function numpy.cumsum(a, axis=None, dtype=None, out=None)>,\n",
       " 'diagonal': <function numpy.diagonal(a, offset=0, axis1=0, axis2=1)>,\n",
       " 'mean': <function numpy.mean(a, axis=None, dtype=None, out=None, keepdims=<no value>)>,\n",
       " 'ndim': <function numpy.ndim(a)>,\n",
       " 'nonzero': <function numpy.nonzero(a)>,\n",
       " 'partition': <function numpy.partition(a, kth, axis=-1, kind='introselect', order=None)>,\n",
       " 'prod': <function numpy.prod(a, axis=None, dtype=None, out=None, keepdims=<no value>, initial=<no value>)>,\n",
       " 'product': <function numpy.product(*args, **kwargs)>,\n",
       " 'ptp': <function numpy.ptp(a, axis=None, out=None, keepdims=<no value>)>,\n",
       " 'put': <function numpy.put(a, ind, v, mode='raise')>,\n",
       " 'rank': <function numpy.rank(a)>,\n",
       " 'ravel': <function numpy.ravel(a, order='C')>,\n",
       " 'repeat': <function numpy.repeat(a, repeats, axis=None)>,\n",
       " 'reshape': <function numpy.reshape(a, newshape, order='C')>,\n",
       " 'resize': <function numpy.resize(a, new_shape)>,\n",
       " 'round_': <function numpy.round_(a, decimals=0, out=None)>,\n",
       " 'searchsorted': <function numpy.searchsorted(a, v, side='left', sorter=None)>,\n",
       " 'shape': <function numpy.shape(a)>,\n",
       " 'size': <function numpy.size(a, axis=None)>,\n",
       " 'sometrue': <function numpy.sometrue(*args, **kwargs)>,\n",
       " 'sort': <function numpy.sort(a, axis=-1, kind='quicksort', order=None)>,\n",
       " 'squeeze': <function numpy.squeeze(a, axis=None)>,\n",
       " 'std': <function numpy.std(a, axis=None, dtype=None, out=None, ddof=0, keepdims=<no value>)>,\n",
       " 'sum': <function numpy.sum(a, axis=None, dtype=None, out=None, keepdims=<no value>, initial=<no value>)>,\n",
       " 'swapaxes': <function numpy.swapaxes(a, axis1, axis2)>,\n",
       " 'take': <function numpy.take(a, indices, axis=None, out=None, mode='raise')>,\n",
       " 'trace': <function numpy.trace(a, offset=0, axis1=0, axis2=1, dtype=None, out=None)>,\n",
       " 'transpose': <function numpy.transpose(a, axes=None)>,\n",
       " 'var': <function numpy.var(a, axis=None, dtype=None, out=None, ddof=0, keepdims=<no value>)>,\n",
       " '_UFUNC_API': <capsule object NULL at 0x000000000525C540>,\n",
       " 'ERR_CALL': 3,\n",
       " 'ERR_DEFAULT': 521,\n",
       " 'ERR_IGNORE': 0,\n",
       " 'ERR_LOG': 5,\n",
       " 'ERR_PRINT': 4,\n",
       " 'ERR_RAISE': 2,\n",
       " 'ERR_WARN': 1,\n",
       " 'FLOATING_POINT_SUPPORT': 1,\n",
       " 'FPE_DIVIDEBYZERO': 1,\n",
       " 'FPE_INVALID': 8,\n",
       " 'FPE_OVERFLOW': 2,\n",
       " 'FPE_UNDERFLOW': 4,\n",
       " 'NAN': nan,\n",
       " 'NINF': -inf,\n",
       " 'NZERO': -0.0,\n",
       " 'PINF': inf,\n",
       " 'PZERO': 0.0,\n",
       " 'SHIFT_DIVIDEBYZERO': 0,\n",
       " 'SHIFT_INVALID': 9,\n",
       " 'SHIFT_OVERFLOW': 3,\n",
       " 'SHIFT_UNDERFLOW': 6,\n",
       " 'UFUNC_BUFSIZE_DEFAULT': 8192,\n",
       " 'UFUNC_PYVALS_NAME': 'UFUNC_PYVALS',\n",
       " '_add_newdoc_ufunc': <function numpy.core._multiarray_umath._add_newdoc_ufunc>,\n",
       " '_arg': <ufunc '_arg'>,\n",
       " 'absolute': <ufunc 'absolute'>,\n",
       " 'add': <ufunc 'add'>,\n",
       " 'arccos': <ufunc 'arccos'>,\n",
       " 'arccosh': <ufunc 'arccosh'>,\n",
       " 'arcsin': <ufunc 'arcsin'>,\n",
       " 'arcsinh': <ufunc 'arcsinh'>,\n",
       " 'arctan': <ufunc 'arctan'>,\n",
       " 'arctan2': <ufunc 'arctan2'>,\n",
       " 'arctanh': <ufunc 'arctanh'>,\n",
       " 'bitwise_and': <ufunc 'bitwise_and'>,\n",
       " 'bitwise_or': <ufunc 'bitwise_or'>,\n",
       " 'bitwise_xor': <ufunc 'bitwise_xor'>,\n",
       " 'cbrt': <ufunc 'cbrt'>,\n",
       " 'ceil': <ufunc 'ceil'>,\n",
       " 'conj': <ufunc 'conjugate'>,\n",
       " 'conjugate': <ufunc 'conjugate'>,\n",
       " 'copysign': <ufunc 'copysign'>,\n",
       " 'cos': <ufunc 'cos'>,\n",
       " 'cosh': <ufunc 'cosh'>,\n",
       " 'deg2rad': <ufunc 'deg2rad'>,\n",
       " 'degrees': <ufunc 'degrees'>,\n",
       " 'divide': <ufunc 'true_divide'>,\n",
       " 'divmod': <ufunc 'divmod'>,\n",
       " 'e': 2.718281828459045,\n",
       " 'equal': <ufunc 'equal'>,\n",
       " 'euler_gamma': 0.5772156649015329,\n",
       " 'exp': <ufunc 'exp'>,\n",
       " 'exp2': <ufunc 'exp2'>,\n",
       " 'expm1': <ufunc 'expm1'>,\n",
       " 'fabs': <ufunc 'fabs'>,\n",
       " 'floor': <ufunc 'floor'>,\n",
       " 'floor_divide': <ufunc 'floor_divide'>,\n",
       " 'float_power': <ufunc 'float_power'>,\n",
       " 'fmax': <ufunc 'fmax'>,\n",
       " 'fmin': <ufunc 'fmin'>,\n",
       " 'fmod': <ufunc 'fmod'>,\n",
       " 'frexp': <ufunc 'frexp'>,\n",
       " 'frompyfunc': <function numpy.frompyfunc>,\n",
       " 'gcd': <ufunc 'gcd'>,\n",
       " 'geterrobj': <function numpy.geterrobj>,\n",
       " 'greater': <ufunc 'greater'>,\n",
       " 'greater_equal': <ufunc 'greater_equal'>,\n",
       " 'heaviside': <ufunc 'heaviside'>,\n",
       " 'hypot': <ufunc 'hypot'>,\n",
       " 'invert': <ufunc 'invert'>,\n",
       " 'isfinite': <ufunc 'isfinite'>,\n",
       " 'isinf': <ufunc 'isinf'>,\n",
       " 'isnan': <ufunc 'isnan'>,\n",
       " 'isnat': <ufunc 'isnat'>,\n",
       " 'lcm': <ufunc 'lcm'>,\n",
       " 'ldexp': <ufunc 'ldexp'>,\n",
       " 'left_shift': <ufunc 'left_shift'>,\n",
       " 'less': <ufunc 'less'>,\n",
       " 'less_equal': <ufunc 'less_equal'>,\n",
       " 'log': <ufunc 'log'>,\n",
       " 'log10': <ufunc 'log10'>,\n",
       " 'log1p': <ufunc 'log1p'>,\n",
       " 'log2': <ufunc 'log2'>,\n",
       " 'logaddexp': <ufunc 'logaddexp'>,\n",
       " 'logaddexp2': <ufunc 'logaddexp2'>,\n",
       " 'logical_and': <ufunc 'logical_and'>,\n",
       " 'logical_not': <ufunc 'logical_not'>,\n",
       " 'logical_or': <ufunc 'logical_or'>,\n",
       " 'logical_xor': <ufunc 'logical_xor'>,\n",
       " 'maximum': <ufunc 'maximum'>,\n",
       " 'minimum': <ufunc 'minimum'>,\n",
       " 'mod': <ufunc 'remainder'>,\n",
       " 'modf': <ufunc 'modf'>,\n",
       " 'multiply': <ufunc 'multiply'>,\n",
       " 'negative': <ufunc 'negative'>,\n",
       " 'nextafter': <ufunc 'nextafter'>,\n",
       " 'not_equal': <ufunc 'not_equal'>,\n",
       " 'pi': 3.141592653589793,\n",
       " 'positive': <ufunc 'positive'>,\n",
       " 'power': <ufunc 'power'>,\n",
       " 'rad2deg': <ufunc 'rad2deg'>,\n",
       " 'radians': <ufunc 'radians'>,\n",
       " 'reciprocal': <ufunc 'reciprocal'>,\n",
       " 'remainder': <ufunc 'remainder'>,\n",
       " 'right_shift': <ufunc 'right_shift'>,\n",
       " 'rint': <ufunc 'rint'>,\n",
       " 'seterrobj': <function numpy.seterrobj>,\n",
       " 'sign': <ufunc 'sign'>,\n",
       " 'signbit': <ufunc 'signbit'>,\n",
       " 'sin': <ufunc 'sin'>,\n",
       " 'sinh': <ufunc 'sinh'>,\n",
       " 'spacing': <ufunc 'spacing'>,\n",
       " 'sqrt': <ufunc 'sqrt'>,\n",
       " 'square': <ufunc 'square'>,\n",
       " 'subtract': <ufunc 'subtract'>,\n",
       " 'tan': <ufunc 'tan'>,\n",
       " 'tanh': <ufunc 'tanh'>,\n",
       " 'true_divide': <ufunc 'true_divide'>,\n",
       " 'trunc': <ufunc 'trunc'>,\n",
       " 'sctypeDict': {'?': numpy.bool_,\n",
       "  0: numpy.bool_,\n",
       "  'byte': numpy.int8,\n",
       "  'b': numpy.int8,\n",
       "  1: numpy.int8,\n",
       "  'ubyte': numpy.uint8,\n",
       "  'B': numpy.uint8,\n",
       "  2: numpy.uint8,\n",
       "  'short': numpy.int16,\n",
       "  'h': numpy.int16,\n",
       "  3: numpy.int16,\n",
       "  'ushort': numpy.uint16,\n",
       "  'H': numpy.uint16,\n",
       "  4: numpy.uint16,\n",
       "  'i': numpy.int32,\n",
       "  5: numpy.int32,\n",
       "  'uint': numpy.uint32,\n",
       "  'I': numpy.uint32,\n",
       "  6: numpy.uint32,\n",
       "  'intp': numpy.int64,\n",
       "  'p': numpy.int64,\n",
       "  9: numpy.int64,\n",
       "  'uintp': numpy.uint64,\n",
       "  'P': numpy.uint64,\n",
       "  10: numpy.uint64,\n",
       "  'long': numpy.int32,\n",
       "  'l': numpy.int32,\n",
       "  7: numpy.int32,\n",
       "  'L': numpy.uint32,\n",
       "  8: numpy.uint32,\n",
       "  'longlong': numpy.int64,\n",
       "  'q': numpy.int64,\n",
       "  'ulonglong': numpy.uint64,\n",
       "  'Q': numpy.uint64,\n",
       "  'half': numpy.float16,\n",
       "  'e': numpy.float16,\n",
       "  23: numpy.float16,\n",
       "  'f': numpy.float32,\n",
       "  11: numpy.float32,\n",
       "  'double': numpy.float64,\n",
       "  'd': numpy.float64,\n",
       "  12: numpy.float64,\n",
       "  'longdouble': numpy.float64,\n",
       "  'g': numpy.float64,\n",
       "  13: numpy.float64,\n",
       "  'cfloat': numpy.complex128,\n",
       "  'F': numpy.complex64,\n",
       "  14: numpy.complex64,\n",
       "  'cdouble': numpy.complex128,\n",
       "  'D': numpy.complex128,\n",
       "  15: numpy.complex128,\n",
       "  'clongdouble': numpy.complex128,\n",
       "  'G': numpy.complex128,\n",
       "  16: numpy.complex128,\n",
       "  'O': numpy.object_,\n",
       "  17: numpy.object_,\n",
       "  'S': numpy.bytes_,\n",
       "  18: numpy.bytes_,\n",
       "  'unicode': numpy.str_,\n",
       "  'U': numpy.str_,\n",
       "  19: numpy.str_,\n",
       "  'void': numpy.void,\n",
       "  'V': numpy.void,\n",
       "  20: numpy.void,\n",
       "  'M': numpy.datetime64,\n",
       "  21: numpy.datetime64,\n",
       "  'm': numpy.timedelta64,\n",
       "  22: numpy.timedelta64,\n",
       "  'bool8': numpy.bool_,\n",
       "  'Bool': numpy.bool_,\n",
       "  'b1': numpy.bool_,\n",
       "  'int64': numpy.int64,\n",
       "  'Int64': numpy.int64,\n",
       "  'i8': numpy.int64,\n",
       "  'uint64': numpy.uint64,\n",
       "  'Uint64': numpy.uint64,\n",
       "  'u8': numpy.uint64,\n",
       "  'float16': numpy.float16,\n",
       "  'Float16': numpy.float16,\n",
       "  'f2': numpy.float16,\n",
       "  'float32': numpy.float32,\n",
       "  'Float32': numpy.float32,\n",
       "  'f4': numpy.float32,\n",
       "  'float64': numpy.float64,\n",
       "  'Float64': numpy.float64,\n",
       "  'f8': numpy.float64,\n",
       "  'complex64': numpy.complex64,\n",
       "  'Complex32': numpy.complex64,\n",
       "  'c8': numpy.complex64,\n",
       "  'complex128': numpy.complex128,\n",
       "  'Complex64': numpy.complex128,\n",
       "  'c16': numpy.complex128,\n",
       "  'object0': numpy.object_,\n",
       "  'Object0': numpy.object_,\n",
       "  'bytes0': numpy.bytes_,\n",
       "  'Bytes0': numpy.bytes_,\n",
       "  'str0': numpy.str_,\n",
       "  'Str0': numpy.str_,\n",
       "  'void0': numpy.void,\n",
       "  'Void0': numpy.void,\n",
       "  'datetime64': numpy.datetime64,\n",
       "  'Datetime64': numpy.datetime64,\n",
       "  'M8': numpy.datetime64,\n",
       "  'timedelta64': numpy.timedelta64,\n",
       "  'Timedelta64': numpy.timedelta64,\n",
       "  'm8': numpy.timedelta64,\n",
       "  'int32': numpy.int32,\n",
       "  'Int32': numpy.int32,\n",
       "  'i4': numpy.int32,\n",
       "  'uint32': numpy.uint32,\n",
       "  'UInt32': numpy.uint32,\n",
       "  'u4': numpy.uint32,\n",
       "  'UInt64': numpy.uint64,\n",
       "  'int16': numpy.int16,\n",
       "  'Int16': numpy.int16,\n",
       "  'i2': numpy.int16,\n",
       "  'uint16': numpy.uint16,\n",
       "  'UInt16': numpy.uint16,\n",
       "  'u2': numpy.uint16,\n",
       "  'int8': numpy.int8,\n",
       "  'Int8': numpy.int8,\n",
       "  'i1': numpy.int8,\n",
       "  'uint8': numpy.uint8,\n",
       "  'UInt8': numpy.uint8,\n",
       "  'u1': numpy.uint8,\n",
       "  'complex_': numpy.complex128,\n",
       "  'int0': numpy.int64,\n",
       "  'uint0': numpy.uint64,\n",
       "  'single': numpy.float32,\n",
       "  'csingle': numpy.complex64,\n",
       "  'singlecomplex': numpy.complex64,\n",
       "  'float_': numpy.float64,\n",
       "  'intc': numpy.int32,\n",
       "  'uintc': numpy.uint32,\n",
       "  'int_': numpy.int32,\n",
       "  'longfloat': numpy.float64,\n",
       "  'clongfloat': numpy.complex128,\n",
       "  'longcomplex': numpy.complex128,\n",
       "  'bool_': numpy.bool_,\n",
       "  'bytes_': numpy.bytes_,\n",
       "  'string_': numpy.bytes_,\n",
       "  'unicode_': numpy.str_,\n",
       "  'object_': numpy.object_,\n",
       "  'str_': numpy.str_,\n",
       "  'int': numpy.int32,\n",
       "  'float': numpy.float64,\n",
       "  'complex': numpy.complex128,\n",
       "  'bool': numpy.bool_,\n",
       "  'object': numpy.object_,\n",
       "  'str': numpy.str_,\n",
       "  'bytes': numpy.bytes_,\n",
       "  'a': numpy.bytes_},\n",
       " 'sctypeNA': {'Bool': numpy.bool_,\n",
       "  numpy.bool_: 'Bool',\n",
       "  '?': 'Bool',\n",
       "  'b1': 'Bool',\n",
       "  'Int64': numpy.int64,\n",
       "  numpy.int64: 'Int64',\n",
       "  'p': 'Int64',\n",
       "  'i8': numpy.int64,\n",
       "  'Uint64': numpy.uint64,\n",
       "  numpy.uint64: 'UInt64',\n",
       "  'P': 'Uint64',\n",
       "  'u8': numpy.uint64,\n",
       "  'Float16': numpy.float16,\n",
       "  numpy.float16: 'Float16',\n",
       "  'e': 'Float16',\n",
       "  'f2': 'Float16',\n",
       "  'Float32': numpy.float32,\n",
       "  numpy.float32: 'Float32',\n",
       "  'f': 'Float32',\n",
       "  'f4': 'Float32',\n",
       "  'Float64': numpy.float64,\n",
       "  numpy.float64: 'Float64',\n",
       "  'd': 'Float64',\n",
       "  'f8': 'Float64',\n",
       "  'Complex32': numpy.complex64,\n",
       "  numpy.complex64: 'Complex32',\n",
       "  'F': 'Complex32',\n",
       "  'c8': 'Complex32',\n",
       "  'Complex64': numpy.complex128,\n",
       "  numpy.complex128: 'Complex64',\n",
       "  'D': 'Complex64',\n",
       "  'c16': 'Complex64',\n",
       "  'Object0': numpy.object_,\n",
       "  numpy.object_: 'Object0',\n",
       "  'O': 'Object0',\n",
       "  'Bytes0': numpy.bytes_,\n",
       "  numpy.bytes_: 'Bytes0',\n",
       "  'S': 'Bytes0',\n",
       "  'Str0': numpy.str_,\n",
       "  numpy.str_: 'Str0',\n",
       "  'U': 'Str0',\n",
       "  'Void0': numpy.void,\n",
       "  numpy.void: 'Void0',\n",
       "  'V': 'Void0',\n",
       "  'Datetime64': numpy.datetime64,\n",
       "  numpy.datetime64: 'Datetime64',\n",
       "  'M': 'Datetime64',\n",
       "  'M8': 'Datetime64',\n",
       "  'Timedelta64': numpy.timedelta64,\n",
       "  numpy.timedelta64: 'Timedelta64',\n",
       "  'm': 'Timedelta64',\n",
       "  'm8': 'Timedelta64',\n",
       "  'Int32': numpy.int32,\n",
       "  'i4': numpy.int32,\n",
       "  numpy.int32: 'Int32',\n",
       "  'l': 'Int32',\n",
       "  'UInt32': numpy.uint32,\n",
       "  'u4': numpy.uint32,\n",
       "  numpy.uint32: 'UInt32',\n",
       "  'L': 'UInt32',\n",
       "  'q': 'Int64',\n",
       "  'UInt64': numpy.uint64,\n",
       "  'Q': 'UInt64',\n",
       "  numpy.int32: 'Int32',\n",
       "  'i': 'Int32',\n",
       "  numpy.uint32: 'UInt32',\n",
       "  'I': 'UInt32',\n",
       "  'Int16': numpy.int16,\n",
       "  'i2': numpy.int16,\n",
       "  numpy.int16: 'Int16',\n",
       "  'h': 'Int16',\n",
       "  'UInt16': numpy.uint16,\n",
       "  'u2': numpy.uint16,\n",
       "  numpy.uint16: 'UInt16',\n",
       "  'H': 'UInt16',\n",
       "  'Int8': numpy.int8,\n",
       "  'i1': numpy.int8,\n",
       "  numpy.int8: 'Int8',\n",
       "  'b': 'Int8',\n",
       "  'UInt8': numpy.uint8,\n",
       "  'u1': numpy.uint8,\n",
       "  numpy.uint8: 'UInt8',\n",
       "  'B': 'UInt8'},\n",
       " 'typeDict': {'?': numpy.bool_,\n",
       "  0: numpy.bool_,\n",
       "  'byte': numpy.int8,\n",
       "  'b': numpy.int8,\n",
       "  1: numpy.int8,\n",
       "  'ubyte': numpy.uint8,\n",
       "  'B': numpy.uint8,\n",
       "  2: numpy.uint8,\n",
       "  'short': numpy.int16,\n",
       "  'h': numpy.int16,\n",
       "  3: numpy.int16,\n",
       "  'ushort': numpy.uint16,\n",
       "  'H': numpy.uint16,\n",
       "  4: numpy.uint16,\n",
       "  'i': numpy.int32,\n",
       "  5: numpy.int32,\n",
       "  'uint': numpy.uint32,\n",
       "  'I': numpy.uint32,\n",
       "  6: numpy.uint32,\n",
       "  'intp': numpy.int64,\n",
       "  'p': numpy.int64,\n",
       "  9: numpy.int64,\n",
       "  'uintp': numpy.uint64,\n",
       "  'P': numpy.uint64,\n",
       "  10: numpy.uint64,\n",
       "  'long': numpy.int32,\n",
       "  'l': numpy.int32,\n",
       "  7: numpy.int32,\n",
       "  'L': numpy.uint32,\n",
       "  8: numpy.uint32,\n",
       "  'longlong': numpy.int64,\n",
       "  'q': numpy.int64,\n",
       "  'ulonglong': numpy.uint64,\n",
       "  'Q': numpy.uint64,\n",
       "  'half': numpy.float16,\n",
       "  'e': numpy.float16,\n",
       "  23: numpy.float16,\n",
       "  'f': numpy.float32,\n",
       "  11: numpy.float32,\n",
       "  'double': numpy.float64,\n",
       "  'd': numpy.float64,\n",
       "  12: numpy.float64,\n",
       "  'longdouble': numpy.float64,\n",
       "  'g': numpy.float64,\n",
       "  13: numpy.float64,\n",
       "  'cfloat': numpy.complex128,\n",
       "  'F': numpy.complex64,\n",
       "  14: numpy.complex64,\n",
       "  'cdouble': numpy.complex128,\n",
       "  'D': numpy.complex128,\n",
       "  15: numpy.complex128,\n",
       "  'clongdouble': numpy.complex128,\n",
       "  'G': numpy.complex128,\n",
       "  16: numpy.complex128,\n",
       "  'O': numpy.object_,\n",
       "  17: numpy.object_,\n",
       "  'S': numpy.bytes_,\n",
       "  18: numpy.bytes_,\n",
       "  'unicode': numpy.str_,\n",
       "  'U': numpy.str_,\n",
       "  19: numpy.str_,\n",
       "  'void': numpy.void,\n",
       "  'V': numpy.void,\n",
       "  20: numpy.void,\n",
       "  'M': numpy.datetime64,\n",
       "  21: numpy.datetime64,\n",
       "  'm': numpy.timedelta64,\n",
       "  22: numpy.timedelta64,\n",
       "  'bool8': numpy.bool_,\n",
       "  'Bool': numpy.bool_,\n",
       "  'b1': numpy.bool_,\n",
       "  'int64': numpy.int64,\n",
       "  'Int64': numpy.int64,\n",
       "  'i8': numpy.int64,\n",
       "  'uint64': numpy.uint64,\n",
       "  'Uint64': numpy.uint64,\n",
       "  'u8': numpy.uint64,\n",
       "  'float16': numpy.float16,\n",
       "  'Float16': numpy.float16,\n",
       "  'f2': numpy.float16,\n",
       "  'float32': numpy.float32,\n",
       "  'Float32': numpy.float32,\n",
       "  'f4': numpy.float32,\n",
       "  'float64': numpy.float64,\n",
       "  'Float64': numpy.float64,\n",
       "  'f8': numpy.float64,\n",
       "  'complex64': numpy.complex64,\n",
       "  'Complex32': numpy.complex64,\n",
       "  'c8': numpy.complex64,\n",
       "  'complex128': numpy.complex128,\n",
       "  'Complex64': numpy.complex128,\n",
       "  'c16': numpy.complex128,\n",
       "  'object0': numpy.object_,\n",
       "  'Object0': numpy.object_,\n",
       "  'bytes0': numpy.bytes_,\n",
       "  'Bytes0': numpy.bytes_,\n",
       "  'str0': numpy.str_,\n",
       "  'Str0': numpy.str_,\n",
       "  'void0': numpy.void,\n",
       "  'Void0': numpy.void,\n",
       "  'datetime64': numpy.datetime64,\n",
       "  'Datetime64': numpy.datetime64,\n",
       "  'M8': numpy.datetime64,\n",
       "  'timedelta64': numpy.timedelta64,\n",
       "  'Timedelta64': numpy.timedelta64,\n",
       "  'm8': numpy.timedelta64,\n",
       "  'int32': numpy.int32,\n",
       "  'Int32': numpy.int32,\n",
       "  'i4': numpy.int32,\n",
       "  'uint32': numpy.uint32,\n",
       "  'UInt32': numpy.uint32,\n",
       "  'u4': numpy.uint32,\n",
       "  'UInt64': numpy.uint64,\n",
       "  'int16': numpy.int16,\n",
       "  'Int16': numpy.int16,\n",
       "  'i2': numpy.int16,\n",
       "  'uint16': numpy.uint16,\n",
       "  'UInt16': numpy.uint16,\n",
       "  'u2': numpy.uint16,\n",
       "  'int8': numpy.int8,\n",
       "  'Int8': numpy.int8,\n",
       "  'i1': numpy.int8,\n",
       "  'uint8': numpy.uint8,\n",
       "  'UInt8': numpy.uint8,\n",
       "  'u1': numpy.uint8,\n",
       "  'complex_': numpy.complex128,\n",
       "  'int0': numpy.int64,\n",
       "  'uint0': numpy.uint64,\n",
       "  'single': numpy.float32,\n",
       "  'csingle': numpy.complex64,\n",
       "  'singlecomplex': numpy.complex64,\n",
       "  'float_': numpy.float64,\n",
       "  'intc': numpy.int32,\n",
       "  'uintc': numpy.uint32,\n",
       "  'int_': numpy.int32,\n",
       "  'longfloat': numpy.float64,\n",
       "  'clongfloat': numpy.complex128,\n",
       "  'longcomplex': numpy.complex128,\n",
       "  'bool_': numpy.bool_,\n",
       "  'bytes_': numpy.bytes_,\n",
       "  'string_': numpy.bytes_,\n",
       "  'unicode_': numpy.str_,\n",
       "  'object_': numpy.object_,\n",
       "  'str_': numpy.str_,\n",
       "  'int': numpy.int32,\n",
       "  'float': numpy.float64,\n",
       "  'complex': numpy.complex128,\n",
       "  'bool': numpy.bool_,\n",
       "  'object': numpy.object_,\n",
       "  'str': numpy.str_,\n",
       "  'bytes': numpy.bytes_,\n",
       "  'a': numpy.bytes_},\n",
       " 'typeNA': {'Bool': numpy.bool_,\n",
       "  numpy.bool_: 'Bool',\n",
       "  '?': 'Bool',\n",
       "  'b1': 'Bool',\n",
       "  'Int64': numpy.int64,\n",
       "  numpy.int64: 'Int64',\n",
       "  'p': 'Int64',\n",
       "  'i8': numpy.int64,\n",
       "  'Uint64': numpy.uint64,\n",
       "  numpy.uint64: 'UInt64',\n",
       "  'P': 'Uint64',\n",
       "  'u8': numpy.uint64,\n",
       "  'Float16': numpy.float16,\n",
       "  numpy.float16: 'Float16',\n",
       "  'e': 'Float16',\n",
       "  'f2': 'Float16',\n",
       "  'Float32': numpy.float32,\n",
       "  numpy.float32: 'Float32',\n",
       "  'f': 'Float32',\n",
       "  'f4': 'Float32',\n",
       "  'Float64': numpy.float64,\n",
       "  numpy.float64: 'Float64',\n",
       "  'd': 'Float64',\n",
       "  'f8': 'Float64',\n",
       "  'Complex32': numpy.complex64,\n",
       "  numpy.complex64: 'Complex32',\n",
       "  'F': 'Complex32',\n",
       "  'c8': 'Complex32',\n",
       "  'Complex64': numpy.complex128,\n",
       "  numpy.complex128: 'Complex64',\n",
       "  'D': 'Complex64',\n",
       "  'c16': 'Complex64',\n",
       "  'Object0': numpy.object_,\n",
       "  numpy.object_: 'Object0',\n",
       "  'O': 'Object0',\n",
       "  'Bytes0': numpy.bytes_,\n",
       "  numpy.bytes_: 'Bytes0',\n",
       "  'S': 'Bytes0',\n",
       "  'Str0': numpy.str_,\n",
       "  numpy.str_: 'Str0',\n",
       "  'U': 'Str0',\n",
       "  'Void0': numpy.void,\n",
       "  numpy.void: 'Void0',\n",
       "  'V': 'Void0',\n",
       "  'Datetime64': numpy.datetime64,\n",
       "  numpy.datetime64: 'Datetime64',\n",
       "  'M': 'Datetime64',\n",
       "  'M8': 'Datetime64',\n",
       "  'Timedelta64': numpy.timedelta64,\n",
       "  numpy.timedelta64: 'Timedelta64',\n",
       "  'm': 'Timedelta64',\n",
       "  'm8': 'Timedelta64',\n",
       "  'Int32': numpy.int32,\n",
       "  'i4': numpy.int32,\n",
       "  numpy.int32: 'Int32',\n",
       "  'l': 'Int32',\n",
       "  'UInt32': numpy.uint32,\n",
       "  'u4': numpy.uint32,\n",
       "  numpy.uint32: 'UInt32',\n",
       "  'L': 'UInt32',\n",
       "  'q': 'Int64',\n",
       "  'UInt64': numpy.uint64,\n",
       "  'Q': 'UInt64',\n",
       "  numpy.int32: 'Int32',\n",
       "  'i': 'Int32',\n",
       "  numpy.uint32: 'UInt32',\n",
       "  'I': 'UInt32',\n",
       "  'Int16': numpy.int16,\n",
       "  'i2': numpy.int16,\n",
       "  numpy.int16: 'Int16',\n",
       "  'h': 'Int16',\n",
       "  'UInt16': numpy.uint16,\n",
       "  'u2': numpy.uint16,\n",
       "  numpy.uint16: 'UInt16',\n",
       "  'H': 'UInt16',\n",
       "  'Int8': numpy.int8,\n",
       "  'i1': numpy.int8,\n",
       "  numpy.int8: 'Int8',\n",
       "  'b': 'Int8',\n",
       "  'UInt8': numpy.uint8,\n",
       "  'u1': numpy.uint8,\n",
       "  numpy.uint8: 'UInt8',\n",
       "  'B': 'UInt8'},\n",
       " 'sctypes': {'int': [numpy.int8, numpy.int16, numpy.int32, numpy.int64],\n",
       "  'uint': [numpy.uint8, numpy.uint16, numpy.uint32, numpy.uint64],\n",
       "  'float': [numpy.float16, numpy.float32, numpy.float64],\n",
       "  'complex': [numpy.complex64, numpy.complex128],\n",
       "  'others': [bool, object, bytes, str, numpy.void]},\n",
       " 'ScalarType': (int,\n",
       "  float,\n",
       "  complex,\n",
       "  int,\n",
       "  bool,\n",
       "  bytes,\n",
       "  str,\n",
       "  memoryview,\n",
       "  numpy.float64,\n",
       "  numpy.complex128,\n",
       "  numpy.float16,\n",
       "  numpy.bytes_,\n",
       "  numpy.uint16,\n",
       "  numpy.complex64,\n",
       "  numpy.complex128,\n",
       "  numpy.timedelta64,\n",
       "  numpy.int32,\n",
       "  numpy.uint8,\n",
       "  numpy.float64,\n",
       "  numpy.void,\n",
       "  numpy.int64,\n",
       "  numpy.uint32,\n",
       "  numpy.object_,\n",
       "  numpy.int8,\n",
       "  numpy.int32,\n",
       "  numpy.uint64,\n",
       "  numpy.int16,\n",
       "  numpy.uint32,\n",
       "  numpy.str_,\n",
       "  numpy.datetime64,\n",
       "  numpy.float32,\n",
       "  numpy.bool_),\n",
       " 'obj2sctype': <function numpy.obj2sctype(rep, default=None)>,\n",
       " 'cast': {numpy.float64: <function numpy.core.numerictypes.<lambda>(x, k=<class 'numpy.float64'>)>,\n",
       "  numpy.complex128: <function numpy.core.numerictypes.<lambda>(x, k=<class 'numpy.complex128'>)>,\n",
       "  numpy.float16: <function numpy.core.numerictypes.<lambda>(x, k=<class 'numpy.float16'>)>,\n",
       "  numpy.bytes_: <function numpy.core.numerictypes.<lambda>(x, k=<class 'numpy.bytes_'>)>,\n",
       "  numpy.uint16: <function numpy.core.numerictypes.<lambda>(x, k=<class 'numpy.uint16'>)>,\n",
       "  numpy.complex64: <function numpy.core.numerictypes.<lambda>(x, k=<class 'numpy.complex64'>)>,\n",
       "  numpy.complex128: <function numpy.core.numerictypes.<lambda>(x, k=<class 'numpy.complex128'>)>,\n",
       "  numpy.timedelta64: <function numpy.core.numerictypes.<lambda>(x, k=<class 'numpy.timedelta64'>)>,\n",
       "  numpy.int32: <function numpy.core.numerictypes.<lambda>(x, k=<class 'numpy.int32'>)>,\n",
       "  numpy.uint8: <function numpy.core.numerictypes.<lambda>(x, k=<class 'numpy.uint8'>)>,\n",
       "  numpy.float64: <function numpy.core.numerictypes.<lambda>(x, k=<class 'numpy.float64'>)>,\n",
       "  numpy.void: <function numpy.core.numerictypes.<lambda>(x, k=<class 'numpy.void'>)>,\n",
       "  numpy.int64: <function numpy.core.numerictypes.<lambda>(x, k=<class 'numpy.int64'>)>,\n",
       "  numpy.uint32: <function numpy.core.numerictypes.<lambda>(x, k=<class 'numpy.uint32'>)>,\n",
       "  numpy.object_: <function numpy.core.numerictypes.<lambda>(x, k=<class 'numpy.object_'>)>,\n",
       "  numpy.int8: <function numpy.core.numerictypes.<lambda>(x, k=<class 'numpy.int8'>)>,\n",
       "  numpy.int32: <function numpy.core.numerictypes.<lambda>(x, k=<class 'numpy.int32'>)>,\n",
       "  numpy.uint64: <function numpy.core.numerictypes.<lambda>(x, k=<class 'numpy.uint64'>)>,\n",
       "  numpy.int16: <function numpy.core.numerictypes.<lambda>(x, k=<class 'numpy.int16'>)>,\n",
       "  numpy.uint32: <function numpy.core.numerictypes.<lambda>(x, k=<class 'numpy.uint32'>)>,\n",
       "  numpy.str_: <function numpy.core.numerictypes.<lambda>(x, k=<class 'numpy.str_'>)>,\n",
       "  numpy.datetime64: <function numpy.core.numerictypes.<lambda>(x, k=<class 'numpy.datetime64'>)>,\n",
       "  numpy.float32: <function numpy.core.numerictypes.<lambda>(x, k=<class 'numpy.float32'>)>,\n",
       "  numpy.bool_: <function numpy.core.numerictypes.<lambda>(x, k=<class 'numpy.bool_'>)>},\n",
       " 'nbytes': {numpy.bool_: 1,\n",
       "  numpy.int8: 1,\n",
       "  numpy.uint8: 1,\n",
       "  numpy.int16: 2,\n",
       "  numpy.uint16: 2,\n",
       "  numpy.int32: 4,\n",
       "  numpy.uint32: 4,\n",
       "  numpy.int64: 8,\n",
       "  numpy.uint64: 8,\n",
       "  numpy.int32: 4,\n",
       "  numpy.uint32: 4,\n",
       "  numpy.float16: 2,\n",
       "  numpy.float32: 4,\n",
       "  numpy.float64: 8,\n",
       "  numpy.float64: 8,\n",
       "  numpy.complex64: 8,\n",
       "  numpy.complex128: 16,\n",
       "  numpy.complex128: 16,\n",
       "  numpy.object_: 8,\n",
       "  numpy.bytes_: 0,\n",
       "  numpy.str_: 0,\n",
       "  numpy.void: 0,\n",
       "  numpy.datetime64: 8,\n",
       "  numpy.timedelta64: 8},\n",
       " 'sctype2char': <function numpy.sctype2char(sctype)>,\n",
       " 'maximum_sctype': <function numpy.core.numerictypes.maximum_sctype(t)>,\n",
       " 'issctype': <function numpy.issctype(rep)>,\n",
       " 'typecodes': {'Character': 'c',\n",
       "  'Integer': 'bhilqp',\n",
       "  'UnsignedInteger': 'BHILQP',\n",
       "  'Float': 'efdg',\n",
       "  'Complex': 'FDG',\n",
       "  'AllInteger': 'bBhHiIlLqQpP',\n",
       "  'AllFloat': 'efdgFDG',\n",
       "  'Datetime': 'Mm',\n",
       "  'All': '?bhilqpBHILQPefdgFDGSUVOMm'},\n",
       " 'find_common_type': <function numpy.find_common_type(array_types, scalar_types)>,\n",
       " 'issubdtype': <function numpy.issubdtype(arg1, arg2)>,\n",
       " 'datetime_data': <function numpy.datetime_data>,\n",
       " 'datetime_as_string': <function numpy.datetime_as_string>,\n",
       " 'busday_offset': <function numpy.busday_offset>,\n",
       " 'busday_count': <function numpy.busday_count>,\n",
       " 'is_busday': <function numpy.is_busday>,\n",
       " 'busdaycalendar': numpy.busdaycalendar,\n",
       " 'byte': numpy.int8,\n",
       " 'ubyte': numpy.uint8,\n",
       " 'short': numpy.int16,\n",
       " 'ushort': numpy.uint16,\n",
       " 'uint': numpy.uint32,\n",
       " 'intp': numpy.int64,\n",
       " 'uintp': numpy.uint64,\n",
       " 'long': int,\n",
       " 'longlong': numpy.int64,\n",
       " 'ulonglong': numpy.uint64,\n",
       " 'half': numpy.float16,\n",
       " 'double': numpy.float64,\n",
       " 'longdouble': numpy.float64,\n",
       " 'cfloat': numpy.complex128,\n",
       " 'cdouble': numpy.complex128,\n",
       " 'clongdouble': numpy.complex128,\n",
       " 'unicode': str,\n",
       " 'void': numpy.void,\n",
       " 'generic': numpy.generic,\n",
       " 'number': numpy.number,\n",
       " 'integer': numpy.integer,\n",
       " 'inexact': numpy.inexact,\n",
       " 'signedinteger': numpy.signedinteger,\n",
       " 'unsignedinteger': numpy.unsignedinteger,\n",
       " 'floating': numpy.floating,\n",
       " 'complexfloating': numpy.complexfloating,\n",
       " 'flexible': numpy.flexible,\n",
       " 'character': numpy.character,\n",
       " 'bool8': numpy.bool_,\n",
       " 'int64': numpy.int64,\n",
       " 'uint64': numpy.uint64,\n",
       " 'float16': numpy.float16,\n",
       " 'float32': numpy.float32,\n",
       " 'float64': numpy.float64,\n",
       " 'complex64': numpy.complex64,\n",
       " 'complex128': numpy.complex128,\n",
       " 'object0': numpy.object_,\n",
       " 'bytes0': numpy.bytes_,\n",
       " 'str0': numpy.str_,\n",
       " 'void0': numpy.void,\n",
       " 'datetime64': numpy.datetime64,\n",
       " 'timedelta64': numpy.timedelta64,\n",
       " 'int32': numpy.int32,\n",
       " 'uint32': numpy.uint32,\n",
       " 'int16': numpy.int16,\n",
       " 'uint16': numpy.uint16,\n",
       " 'int8': numpy.int8,\n",
       " 'uint8': numpy.uint8,\n",
       " 'complex_': numpy.complex128,\n",
       " 'int0': numpy.int64,\n",
       " 'uint0': numpy.uint64,\n",
       " 'single': numpy.float32,\n",
       " 'csingle': numpy.complex64,\n",
       " 'singlecomplex': numpy.complex64,\n",
       " 'float_': numpy.float64,\n",
       " 'intc': numpy.int32,\n",
       " 'uintc': numpy.uint32,\n",
       " 'int_': numpy.int32,\n",
       " 'longfloat': numpy.float64,\n",
       " 'clongfloat': numpy.complex128,\n",
       " 'longcomplex': numpy.complex128,\n",
       " 'bool_': numpy.bool_,\n",
       " 'bytes_': numpy.bytes_,\n",
       " 'string_': numpy.bytes_,\n",
       " 'unicode_': numpy.str_,\n",
       " 'object_': numpy.object_,\n",
       " 'str_': numpy.str_,\n",
       " 'array2string': <function numpy.array2string(a, max_line_width=None, precision=None, suppress_small=None, separator=' ', prefix='', style=<no value>, formatter=None, threshold=None, edgeitems=None, sign=None, floatmode=None, suffix='', **kwarg)>,\n",
       " 'array_str': <function numpy.array_str(a, max_line_width=None, precision=None, suppress_small=None)>,\n",
       " 'array_repr': <function numpy.array_repr(arr, max_line_width=None, precision=None, suppress_small=None)>,\n",
       " 'set_string_function': <function numpy.core.arrayprint.set_string_function(f, repr=True)>,\n",
       " 'set_printoptions': <function numpy.set_printoptions(precision=None, threshold=None, edgeitems=None, linewidth=None, suppress=None, nanstr=None, infstr=None, formatter=None, sign=None, floatmode=None, **kwarg)>,\n",
       " 'get_printoptions': <function numpy.get_printoptions()>,\n",
       " 'printoptions': <function numpy.printoptions(*args, **kwargs)>,\n",
       " 'format_float_positional': <function numpy.format_float_positional(x, precision=None, unique=True, fractional=True, trim='k', sign=False, pad_left=None, pad_right=None)>,\n",
       " 'format_float_scientific': <function numpy.format_float_scientific(x, precision=None, unique=True, trim='k', sign=False, pad_left=None, exp_digits=None)>,\n",
       " 'record': numpy.record,\n",
       " 'recarray': numpy.recarray,\n",
       " 'format_parser': numpy.format_parser,\n",
       " 'chararray': numpy.chararray,\n",
       " 'logspace': <function numpy.logspace(start, stop, num=50, endpoint=True, base=10.0, dtype=None, axis=0)>,\n",
       " 'linspace': <function numpy.linspace(start, stop, num=50, endpoint=True, retstep=False, dtype=None, axis=0)>,\n",
       " 'geomspace': <function numpy.geomspace(start, stop, num=50, endpoint=True, dtype=None, axis=0)>,\n",
       " 'MachAr': numpy.MachAr,\n",
       " 'finfo': numpy.finfo,\n",
       " 'iinfo': numpy.iinfo,\n",
       " 'atleast_1d': <function numpy.atleast_1d(*arys)>,\n",
       " 'atleast_2d': <function numpy.atleast_2d(*arys)>,\n",
       " 'atleast_3d': <function numpy.atleast_3d(*arys)>,\n",
       " 'block': <function numpy.block(arrays)>,\n",
       " 'hstack': <function numpy.hstack(tup)>,\n",
       " 'stack': <function numpy.stack(arrays, axis=0, out=None)>,\n",
       " 'vstack': <function numpy.vstack(tup)>,\n",
       " 'einsum': <function numpy.einsum(*operands, **kwargs)>,\n",
       " 'einsum_path': <function numpy.einsum_path(*operands, **kwargs)>,\n",
       " 'linalg': <module 'numpy.linalg' from 'C:\\\\Users\\\\Titan\\\\Anaconda3\\\\lib\\\\site-packages\\\\numpy\\\\linalg\\\\__init__.py'>,\n",
       " 'matrixlib': <module 'numpy.matrixlib' from 'C:\\\\Users\\\\Titan\\\\Anaconda3\\\\lib\\\\site-packages\\\\numpy\\\\matrixlib\\\\__init__.py'>,\n",
       " 'lib': <module 'numpy.lib' from 'C:\\\\Users\\\\Titan\\\\Anaconda3\\\\lib\\\\site-packages\\\\numpy\\\\lib\\\\__init__.py'>,\n",
       " 'emath': <module 'numpy.lib.scimath' from 'C:\\\\Users\\\\Titan\\\\Anaconda3\\\\lib\\\\site-packages\\\\numpy\\\\lib\\\\scimath.py'>,\n",
       " 'math': <module 'math' (built-in)>,\n",
       " 'tracemalloc_domain': 389047,\n",
       " 'iscomplexobj': <function numpy.iscomplexobj(x)>,\n",
       " 'isrealobj': <function numpy.isrealobj(x)>,\n",
       " 'imag': <function numpy.imag(val)>,\n",
       " 'iscomplex': <function numpy.iscomplex(x)>,\n",
       " 'isreal': <function numpy.isreal(x)>,\n",
       " 'nan_to_num': <function numpy.nan_to_num(x, copy=True)>,\n",
       " 'real': <function numpy.real(val)>,\n",
       " 'real_if_close': <function numpy.real_if_close(a, tol=100)>,\n",
       " 'typename': <function numpy.typename(char)>,\n",
       " 'asfarray': <function numpy.asfarray(a, dtype=<class 'numpy.float64'>)>,\n",
       " 'mintypecode': <function numpy.mintypecode(typechars, typeset='GDFgdf', default='d')>,\n",
       " 'asscalar': <function numpy.asscalar(a)>,\n",
       " 'common_type': <function numpy.common_type(*arrays)>,\n",
       " 'ravel_multi_index': <function numpy.ravel_multi_index>,\n",
       " 'unravel_index': <function numpy.unravel_index>,\n",
       " 'mgrid': <numpy.lib.index_tricks.MGridClass at 0x5b76848>,\n",
       " 'ogrid': <numpy.lib.index_tricks.OGridClass at 0x5b9dc88>,\n",
       " 'r_': <numpy.lib.index_tricks.RClass at 0x5bc4c48>,\n",
       " 'c_': <numpy.lib.index_tricks.CClass at 0x5bc4cc8>,\n",
       " 's_': <numpy.lib.index_tricks.IndexExpression at 0x5bc4ec8>,\n",
       " 'index_exp': <numpy.lib.index_tricks.IndexExpression at 0x5bc4e88>,\n",
       " 'ix_': <function numpy.ix_(*args)>,\n",
       " 'ndenumerate': numpy.ndenumerate,\n",
       " 'ndindex': numpy.ndindex,\n",
       " 'fill_diagonal': <function numpy.fill_diagonal(a, val, wrap=False)>,\n",
       " 'diag_indices': <function numpy.diag_indices(n, ndim=2)>,\n",
       " 'diag_indices_from': <function numpy.diag_indices_from(arr)>,\n",
       " 'select': <function numpy.select(condlist, choicelist, default=0)>,\n",
       " 'piecewise': <function numpy.piecewise(x, condlist, funclist, *args, **kw)>,\n",
       " 'trim_zeros': <function numpy.trim_zeros(filt, trim='fb')>,\n",
       " 'copy': <function numpy.copy(a, order='K')>,\n",
       " 'iterable': <function numpy.iterable(y)>,\n",
       " 'percentile': <function numpy.percentile(a, q, axis=None, out=None, overwrite_input=False, interpolation='linear', keepdims=False)>,\n",
       " 'diff': <function numpy.diff(a, n=1, axis=-1, prepend=<no value>, append=<no value>)>,\n",
       " 'gradient': <function numpy.gradient(f, *varargs, **kwargs)>,\n",
       " 'angle': <function numpy.angle(z, deg=False)>,\n",
       " 'unwrap': <function numpy.unwrap(p, discont=3.141592653589793, axis=-1)>,\n",
       " 'sort_complex': <function numpy.sort_complex(a)>,\n",
       " 'disp': <function numpy.lib.function_base.disp(mesg, device=None, linefeed=True)>,\n",
       " 'flip': <function numpy.flip(m, axis=None)>,\n",
       " 'rot90': <function numpy.rot90(m, k=1, axes=(0, 1))>,\n",
       " 'extract': <function numpy.extract(condition, arr)>,\n",
       " 'place': <function numpy.place(arr, mask, vals)>,\n",
       " 'vectorize': numpy.vectorize,\n",
       " 'asarray_chkfinite': <function numpy.asarray_chkfinite(a, dtype=None, order=None)>,\n",
       " 'average': <function numpy.average(a, axis=None, weights=None, returned=False)>,\n",
       " 'bincount': <function numpy.bincount>,\n",
       " 'digitize': <function numpy.digitize(x, bins, right=False)>,\n",
       " 'cov': <function numpy.cov(m, y=None, rowvar=True, bias=False, ddof=None, fweights=None, aweights=None)>,\n",
       " 'corrcoef': <function numpy.corrcoef(x, y=None, rowvar=True, bias=<no value>, ddof=<no value>)>,\n",
       " 'msort': <function numpy.msort(a)>,\n",
       " 'median': <function numpy.median(a, axis=None, out=None, overwrite_input=False, keepdims=False)>,\n",
       " 'sinc': <function numpy.sinc(x)>,\n",
       " 'hamming': <function numpy.hamming(M)>,\n",
       " 'hanning': <function numpy.hanning(M)>,\n",
       " 'bartlett': <function numpy.bartlett(M)>,\n",
       " 'blackman': <function numpy.blackman(M)>,\n",
       " 'kaiser': <function numpy.kaiser(M, beta)>,\n",
       " 'trapz': <function numpy.trapz(y, x=None, dx=1.0, axis=-1)>,\n",
       " 'i0': <function numpy.i0(x)>,\n",
       " 'add_newdoc': <function numpy.core.function_base.add_newdoc(place, obj, doc)>,\n",
       " 'add_docstring': <function numpy.core._multiarray_umath.add_docstring>,\n",
       " 'meshgrid': <function numpy.meshgrid(*xi, **kwargs)>,\n",
       " 'delete': <function numpy.delete(arr, obj, axis=None)>,\n",
       " 'insert': <function numpy.insert(arr, obj, values, axis=None)>,\n",
       " 'append': <function numpy.append(arr, values, axis=None)>,\n",
       " 'interp': <function numpy.interp(x, xp, fp, left=None, right=None, period=None)>,\n",
       " 'add_newdoc_ufunc': <function numpy.core._multiarray_umath._add_newdoc_ufunc>,\n",
       " 'quantile': <function numpy.quantile(a, q, axis=None, out=None, overwrite_input=False, interpolation='linear', keepdims=False)>,\n",
       " 'column_stack': <function numpy.column_stack(tup)>,\n",
       " 'row_stack': <function numpy.vstack(tup)>,\n",
       " 'dstack': <function numpy.dstack(tup)>,\n",
       " 'array_split': <function numpy.array_split(ary, indices_or_sections, axis=0)>,\n",
       " 'split': <function numpy.split(ary, indices_or_sections, axis=0)>,\n",
       " 'hsplit': <function numpy.hsplit(ary, indices_or_sections)>,\n",
       " 'vsplit': <function numpy.vsplit(ary, indices_or_sections)>,\n",
       " 'dsplit': <function numpy.dsplit(ary, indices_or_sections)>,\n",
       " 'apply_over_axes': <function numpy.apply_over_axes(func, a, axes)>,\n",
       " 'expand_dims': <function numpy.expand_dims(a, axis)>,\n",
       " 'apply_along_axis': <function numpy.apply_along_axis(func1d, axis, arr, *args, **kwargs)>,\n",
       " 'kron': <function numpy.kron(a, b)>,\n",
       " 'tile': <function numpy.tile(A, reps)>,\n",
       " 'get_array_wrap': <function numpy.lib.shape_base.get_array_wrap(*args)>,\n",
       " 'take_along_axis': <function numpy.take_along_axis(arr, indices, axis)>,\n",
       " 'put_along_axis': <function numpy.put_along_axis(arr, indices, values, axis)>,\n",
       " 'broadcast_to': <function numpy.broadcast_to(array, shape, subok=False)>,\n",
       " 'broadcast_arrays': <function numpy.broadcast_arrays(*args, **kwargs)>,\n",
       " 'diag': <function numpy.diag(v, k=0)>,\n",
       " 'diagflat': <function numpy.diagflat(v, k=0)>,\n",
       " 'eye': <function numpy.eye(N, M=None, k=0, dtype=<class 'float'>, order='C')>,\n",
       " 'fliplr': <function numpy.fliplr(m)>,\n",
       " 'flipud': <function numpy.flipud(m)>,\n",
       " 'tri': <function numpy.tri(N, M=None, k=0, dtype=<class 'float'>)>,\n",
       " 'triu': <function numpy.triu(m, k=0)>,\n",
       " 'tril': <function numpy.tril(m, k=0)>,\n",
       " 'vander': <function numpy.vander(x, N=None, increasing=False)>,\n",
       " 'histogram2d': <function numpy.histogram2d(x, y, bins=10, range=None, normed=None, weights=None, density=None)>,\n",
       " 'mask_indices': <function numpy.mask_indices(n, mask_func, k=0)>,\n",
       " 'tril_indices': <function numpy.tril_indices(n, k=0, m=None)>,\n",
       " 'tril_indices_from': <function numpy.tril_indices_from(arr, k=0)>,\n",
       " 'triu_indices': <function numpy.triu_indices(n, k=0, m=None)>,\n",
       " 'triu_indices_from': <function numpy.triu_indices_from(arr, k=0)>,\n",
       " 'fix': <function numpy.fix(x, out=None)>,\n",
       " 'isneginf': <function numpy.isneginf(x, out=None)>,\n",
       " 'isposinf': <function numpy.isposinf(x, out=None)>,\n",
       " 'pad': <function numpy.pad(array, pad_width, mode, **kwargs)>,\n",
       " 'poly': <function numpy.poly(seq_of_zeros)>,\n",
       " 'roots': <function numpy.roots(p)>,\n",
       " 'polyint': <function numpy.polyint(p, m=1, k=None)>,\n",
       " 'polyder': <function numpy.polyder(p, m=1)>,\n",
       " 'polyadd': <function numpy.polyadd(a1, a2)>,\n",
       " 'polysub': <function numpy.polysub(a1, a2)>,\n",
       " 'polymul': <function numpy.polymul(a1, a2)>,\n",
       " 'polydiv': <function numpy.polydiv(u, v)>,\n",
       " 'polyval': <function numpy.polyval(p, x)>,\n",
       " 'poly1d': numpy.poly1d,\n",
       " 'polyfit': <function numpy.polyfit(x, y, deg, rcond=None, full=False, w=None, cov=False)>,\n",
       " 'RankWarning': numpy.RankWarning,\n",
       " 'issubclass_': <function numpy.issubclass_(arg1, arg2)>,\n",
       " 'issubsctype': <function numpy.issubsctype(arg1, arg2)>,\n",
       " 'deprecate': <function numpy.lib.utils.deprecate(*args, **kwargs)>,\n",
       " 'deprecate_with_doc': <function numpy.lib.utils.<lambda>(msg)>,\n",
       " 'get_include': <function numpy.lib.utils.get_include()>,\n",
       " 'info': <function numpy.info(object=None, maxwidth=76, output=<ipykernel.iostream.OutStream object at 0x0000000004E99EC8>, toplevel='numpy')>,\n",
       " 'source': <function numpy.source(object, output=<ipykernel.iostream.OutStream object at 0x0000000004E99EC8>)>,\n",
       " 'who': <function numpy.lib.utils.who(vardict=None)>,\n",
       " 'lookfor': <function numpy.lookfor(what, module=None, import_modules=True, regenerate=False, output=None)>,\n",
       " 'byte_bounds': <function numpy.lib.utils.byte_bounds(a)>,\n",
       " 'safe_eval': <function numpy.lib.utils.safe_eval(source)>,\n",
       " 'ediff1d': <function numpy.ediff1d(ary, to_end=None, to_begin=None)>,\n",
       " 'intersect1d': <function numpy.intersect1d(ar1, ar2, assume_unique=False, return_indices=False)>,\n",
       " 'setxor1d': <function numpy.setxor1d(ar1, ar2, assume_unique=False)>,\n",
       " 'union1d': <function numpy.union1d(ar1, ar2)>,\n",
       " 'setdiff1d': <function numpy.setdiff1d(ar1, ar2, assume_unique=False)>,\n",
       " 'unique': <function numpy.unique(ar, return_index=False, return_inverse=False, return_counts=False, axis=None)>,\n",
       " 'in1d': <function numpy.in1d(ar1, ar2, assume_unique=False, invert=False)>,\n",
       " 'isin': <function numpy.isin(element, test_elements, assume_unique=False, invert=False)>,\n",
       " 'savetxt': <function numpy.savetxt(fname, X, fmt='%.18e', delimiter=' ', newline='\\n', header='', footer='', comments='# ', encoding=None)>,\n",
       " 'loadtxt': <function numpy.loadtxt(fname, dtype=<class 'float'>, comments='#', delimiter=None, converters=None, skiprows=0, usecols=None, unpack=False, ndmin=0, encoding='bytes', max_rows=None)>,\n",
       " 'genfromtxt': <function numpy.genfromtxt(fname, dtype=<class 'float'>, comments='#', delimiter=None, skip_header=0, skip_footer=0, converters=None, missing_values=None, filling_values=None, usecols=None, names=None, excludelist=None, deletechars=None, replace_space='_', autostrip=False, case_sensitive=True, defaultfmt='f%i', unpack=None, usemask=False, loose=True, invalid_raise=True, max_rows=None, encoding='bytes')>,\n",
       " 'ndfromtxt': <function numpy.lib.npyio.ndfromtxt(fname, **kwargs)>,\n",
       " 'mafromtxt': <function numpy.lib.npyio.mafromtxt(fname, **kwargs)>,\n",
       " 'recfromtxt': <function numpy.lib.npyio.recfromtxt(fname, **kwargs)>,\n",
       " 'recfromcsv': <function numpy.lib.npyio.recfromcsv(fname, **kwargs)>,\n",
       " 'save': <function numpy.save(file, arr, allow_pickle=True, fix_imports=True)>,\n",
       " 'savez': <function numpy.savez(file, *args, **kwds)>,\n",
       " 'savez_compressed': <function numpy.savez_compressed(file, *args, **kwds)>,\n",
       " 'packbits': <function numpy.packbits>,\n",
       " 'unpackbits': <function numpy.unpackbits>,\n",
       " 'fromregex': <function numpy.fromregex(file, regexp, dtype, encoding=None)>,\n",
       " 'DataSource': numpy.DataSource,\n",
       " 'fv': <function numpy.fv(rate, nper, pmt, pv, when='end')>,\n",
       " 'pmt': <function numpy.pmt(rate, nper, pv, fv=0, when='end')>,\n",
       " 'nper': <function numpy.nper(rate, pmt, pv, fv=0, when='end')>,\n",
       " 'ipmt': <function numpy.ipmt(rate, per, nper, pv, fv=0, when='end')>,\n",
       " 'ppmt': <function numpy.ppmt(rate, per, nper, pv, fv=0, when='end')>,\n",
       " 'pv': <function numpy.pv(rate, nper, pmt, fv=0, when='end')>,\n",
       " 'rate': <function numpy.rate(nper, pmt, pv, fv, when='end', guess=None, tol=None, maxiter=100)>,\n",
       " 'irr': <function numpy.irr(values)>,\n",
       " 'npv': <function numpy.npv(rate, values)>,\n",
       " 'mirr': <function numpy.mirr(values, finance_rate, reinvest_rate)>,\n",
       " 'nansum': <function numpy.nansum(a, axis=None, dtype=None, out=None, keepdims=<no value>)>,\n",
       " 'nanmax': <function numpy.nanmax(a, axis=None, out=None, keepdims=<no value>)>,\n",
       " 'nanmin': <function numpy.nanmin(a, axis=None, out=None, keepdims=<no value>)>,\n",
       " 'nanargmax': <function numpy.nanargmax(a, axis=None)>,\n",
       " 'nanargmin': <function numpy.nanargmin(a, axis=None)>,\n",
       " 'nanmean': <function numpy.nanmean(a, axis=None, dtype=None, out=None, keepdims=<no value>)>,\n",
       " 'nanmedian': <function numpy.nanmedian(a, axis=None, out=None, overwrite_input=False, keepdims=<no value>)>,\n",
       " 'nanpercentile': <function numpy.nanpercentile(a, q, axis=None, out=None, overwrite_input=False, interpolation='linear', keepdims=<no value>)>,\n",
       " 'nanvar': <function numpy.nanvar(a, axis=None, dtype=None, out=None, ddof=0, keepdims=<no value>)>,\n",
       " 'nanstd': <function numpy.nanstd(a, axis=None, dtype=None, out=None, ddof=0, keepdims=<no value>)>,\n",
       " 'nanprod': <function numpy.nanprod(a, axis=None, dtype=None, out=None, keepdims=<no value>)>,\n",
       " 'nancumsum': <function numpy.nancumsum(a, axis=None, dtype=None, out=None)>,\n",
       " 'nancumprod': <function numpy.nancumprod(a, axis=None, dtype=None, out=None)>,\n",
       " 'nanquantile': <function numpy.nanquantile(a, q, axis=None, out=None, overwrite_input=False, interpolation='linear', keepdims=<no value>)>,\n",
       " 'histogram': <function numpy.histogram(a, bins=10, range=None, normed=None, weights=None, density=None)>,\n",
       " 'histogramdd': <function numpy.histogramdd(sample, bins=10, range=None, normed=None, weights=None, density=None)>,\n",
       " 'histogram_bin_edges': <function numpy.histogram_bin_edges(a, bins=10, range=None, weights=None)>,\n",
       " 'fft': <module 'numpy.fft' from 'C:\\\\Users\\\\Titan\\\\Anaconda3\\\\lib\\\\site-packages\\\\numpy\\\\fft\\\\__init__.py'>,\n",
       " 'polynomial': <module 'numpy.polynomial' from 'C:\\\\Users\\\\Titan\\\\Anaconda3\\\\lib\\\\site-packages\\\\numpy\\\\polynomial\\\\__init__.py'>,\n",
       " 'random': <module 'numpy.random' from 'C:\\\\Users\\\\Titan\\\\Anaconda3\\\\lib\\\\site-packages\\\\numpy\\\\random\\\\__init__.py'>,\n",
       " 'ctypeslib': <module 'numpy.ctypeslib' from 'C:\\\\Users\\\\Titan\\\\Anaconda3\\\\lib\\\\site-packages\\\\numpy\\\\ctypeslib.py'>,\n",
       " 'ma': <module 'numpy.ma' from 'C:\\\\Users\\\\Titan\\\\Anaconda3\\\\lib\\\\site-packages\\\\numpy\\\\ma\\\\__init__.py'>,\n",
       " '_mat': <module 'numpy.matrixlib' from 'C:\\\\Users\\\\Titan\\\\Anaconda3\\\\lib\\\\site-packages\\\\numpy\\\\matrixlib\\\\__init__.py'>,\n",
       " 'matrix': numpy.matrix,\n",
       " 'bmat': <function numpy.bmat(obj, ldict=None, gdict=None)>,\n",
       " 'mat': <function numpy.asmatrix(data, dtype=None)>,\n",
       " 'asmatrix': <function numpy.asmatrix(data, dtype=None)>,\n",
       " 'bool': bool,\n",
       " 'int': int,\n",
       " 'float': float,\n",
       " 'complex': complex,\n",
       " 'object': object,\n",
       " 'str': str,\n",
       " 'round': <function numpy.round_(a, decimals=0, out=None)>,\n",
       " 'abs': <ufunc 'absolute'>,\n",
       " 'max': <function numpy.amax(a, axis=None, out=None, keepdims=<no value>, initial=<no value>)>,\n",
       " 'min': <function numpy.amin(a, axis=None, out=None, keepdims=<no value>, initial=<no value>)>,\n",
       " 'oldnumeric': 'removed',\n",
       " 'numarray': 'removed',\n",
       " 'testing': <module 'numpy.testing' from 'C:\\\\Users\\\\Titan\\\\Anaconda3\\\\lib\\\\site-packages\\\\numpy\\\\testing\\\\__init__.py'>,\n",
       " 'Tester': numpy.testing._private.nosetester.NoseTester,\n",
       " 'test': <numpy._pytesttester.PytestTester at 0x613c108>,\n",
       " '__mkl_version__': '__MKL_VERSION__'}"
      ]
     },
     "execution_count": 2,
     "metadata": {},
     "output_type": "execute_result"
    }
   ],
   "source": [
    "np.__dict__ #full np content"
   ]
  },
  {
   "cell_type": "markdown",
   "metadata": {},
   "source": [
    "# 1.1 arrays + linalg"
   ]
  },
  {
   "cell_type": "code",
   "execution_count": null,
   "metadata": {},
   "outputs": [],
   "source": [
    "#a.flatten() — превращает массив в одномерный.\n",
    "#a.T или a.transpose(*axes) — транспонирование(или смена порядка осей в случае, когда размерность массива больше двух)\n",
    "#a.reshape(shape) — смена формы массива. Массив \"распрямляется\" и построчно заполняется в новую форму."
   ]
  },
  {
   "cell_type": "code",
   "execution_count": 8,
   "metadata": {},
   "outputs": [
    {
     "name": "stdout",
     "output_type": "stream",
     "text": [
      "[[[711 349 978]\n",
      "  [501 961 871]]\n",
      "\n",
      " [[358 302 855]\n",
      "  [772  86 432]]]\n"
     ]
    }
   ],
   "source": [
    "import random\n",
    "w = np.array(random.sample(range(1000), 12)) # одномерный массив из 12 случайных чисел от 1 до 1000\n",
    "w = w.reshape((2,2,3))                       # превратим w в трёхмерную матрицу\n",
    "print(w)"
   ]
  },
  {
   "cell_type": "code",
   "execution_count": 9,
   "metadata": {},
   "outputs": [
    {
     "name": "stdout",
     "output_type": "stream",
     "text": [
      "[[[711 501]\n",
      "  [349 961]\n",
      "  [978 871]]\n",
      "\n",
      " [[358 772]\n",
      "  [302  86]\n",
      "  [855 432]]]\n"
     ]
    }
   ],
   "source": [
    "print(w.transpose(0,2,1))"
   ]
  },
  {
   "cell_type": "code",
   "execution_count": 3,
   "metadata": {},
   "outputs": [
    {
     "data": {
      "text/plain": [
       "array('i', [0, 1, 2, 3, 4, 5, 6, 7, 8, 9])"
      ]
     },
     "execution_count": 3,
     "metadata": {},
     "output_type": "execute_result"
    }
   ],
   "source": [
    "import array\n",
    "L = list(range(10))\n",
    "A = array.array('i', L) #i - integer\n",
    "A #fixed-type array"
   ]
  },
  {
   "cell_type": "code",
   "execution_count": 4,
   "metadata": {},
   "outputs": [
    {
     "data": {
      "text/plain": [
       "array([3.14, 4.  , 2.  , 3.  ])"
      ]
     },
     "execution_count": 4,
     "metadata": {},
     "output_type": "execute_result"
    }
   ],
   "source": [
    "import numpy as np\n",
    "np.array([3.14, 4, 2, 3]) #only same type objects"
   ]
  },
  {
   "cell_type": "code",
   "execution_count": 5,
   "metadata": {},
   "outputs": [
    {
     "data": {
      "text/plain": [
       "array([1., 2., 3., 4.], dtype=float32)"
      ]
     },
     "execution_count": 5,
     "metadata": {},
     "output_type": "execute_result"
    }
   ],
   "source": [
    "np.array([1, 2, 3, 4], dtype='float32') #only same type objects"
   ]
  },
  {
   "cell_type": "code",
   "execution_count": 6,
   "metadata": {},
   "outputs": [
    {
     "data": {
      "text/plain": [
       "array([[2, 3, 4],\n",
       "       [4, 5, 6],\n",
       "       [6, 7, 8]])"
      ]
     },
     "execution_count": 6,
     "metadata": {},
     "output_type": "execute_result"
    }
   ],
   "source": [
    "np.array([range(i, i + 3) for i in [2, 4, 6]]) #creating"
   ]
  },
  {
   "cell_type": "code",
   "execution_count": 7,
   "metadata": {},
   "outputs": [
    {
     "data": {
      "text/plain": [
       "array([0, 0, 0, 0, 0, 0, 0, 0, 0, 0])"
      ]
     },
     "execution_count": 7,
     "metadata": {},
     "output_type": "execute_result"
    }
   ],
   "source": [
    "np.zeros(10, dtype=int)"
   ]
  },
  {
   "cell_type": "code",
   "execution_count": 8,
   "metadata": {},
   "outputs": [
    {
     "data": {
      "text/plain": [
       "array([[1., 1., 1., 1., 1.],\n",
       "       [1., 1., 1., 1., 1.],\n",
       "       [1., 1., 1., 1., 1.]])"
      ]
     },
     "execution_count": 8,
     "metadata": {},
     "output_type": "execute_result"
    }
   ],
   "source": [
    "np.ones((3, 5), dtype=float)"
   ]
  },
  {
   "cell_type": "code",
   "execution_count": 9,
   "metadata": {},
   "outputs": [
    {
     "data": {
      "text/plain": [
       "array([[3.14, 3.14, 3.14, 3.14, 3.14],\n",
       "       [3.14, 3.14, 3.14, 3.14, 3.14],\n",
       "       [3.14, 3.14, 3.14, 3.14, 3.14]])"
      ]
     },
     "execution_count": 9,
     "metadata": {},
     "output_type": "execute_result"
    }
   ],
   "source": [
    "np.full((3, 5), 3.14) "
   ]
  },
  {
   "cell_type": "code",
   "execution_count": 10,
   "metadata": {},
   "outputs": [
    {
     "data": {
      "text/plain": [
       "array([ 0,  2,  4,  6,  8, 10, 12, 14, 16, 18])"
      ]
     },
     "execution_count": 10,
     "metadata": {},
     "output_type": "execute_result"
    }
   ],
   "source": [
    "np.arange(0, 20, 2) #"
   ]
  },
  {
   "cell_type": "code",
   "execution_count": 11,
   "metadata": {},
   "outputs": [
    {
     "data": {
      "text/plain": [
       "array([0.  , 0.25, 0.5 , 0.75, 1.  ])"
      ]
     },
     "execution_count": 11,
     "metadata": {},
     "output_type": "execute_result"
    }
   ],
   "source": [
    "np.linspace(0, 1, 5) #sequance array"
   ]
  },
  {
   "cell_type": "code",
   "execution_count": 12,
   "metadata": {},
   "outputs": [
    {
     "data": {
      "text/plain": [
       "array([[0.75394535, 0.23662541, 0.82235327],\n",
       "       [0.97468549, 0.24579121, 0.86912893],\n",
       "       [0.46891771, 0.87640452, 0.93877547]])"
      ]
     },
     "execution_count": 12,
     "metadata": {},
     "output_type": "execute_result"
    }
   ],
   "source": [
    "np.random.random((3, 3))"
   ]
  },
  {
   "cell_type": "code",
   "execution_count": 13,
   "metadata": {},
   "outputs": [
    {
     "data": {
      "text/plain": [
       "array([[ 0.01363077, -0.12507536,  1.04335635],\n",
       "       [ 1.81957679, -1.00471406,  0.33287185],\n",
       "       [ 0.29950642, -1.16085188,  1.3201466 ]])"
      ]
     },
     "execution_count": 13,
     "metadata": {},
     "output_type": "execute_result"
    }
   ],
   "source": [
    "np.random.normal(0, 1, (3, 3)) #array with normal distribution"
   ]
  },
  {
   "cell_type": "code",
   "execution_count": 14,
   "metadata": {},
   "outputs": [
    {
     "data": {
      "text/plain": [
       "array([[0, 5, 0],\n",
       "       [8, 2, 9],\n",
       "       [4, 5, 3]])"
      ]
     },
     "execution_count": 14,
     "metadata": {},
     "output_type": "execute_result"
    }
   ],
   "source": [
    "np.random.randint(0, 10, (3, 3)) #random integers in the interval"
   ]
  },
  {
   "cell_type": "code",
   "execution_count": 15,
   "metadata": {},
   "outputs": [
    {
     "data": {
      "text/plain": [
       "array([[1., 0., 0.],\n",
       "       [0., 1., 0.],\n",
       "       [0., 0., 1.]])"
      ]
     },
     "execution_count": 15,
     "metadata": {},
     "output_type": "execute_result"
    }
   ],
   "source": [
    "np.eye(3) #identity matrix"
   ]
  },
  {
   "cell_type": "code",
   "execution_count": 16,
   "metadata": {},
   "outputs": [
    {
     "data": {
      "text/plain": [
       "array([1., 1., 1.])"
      ]
     },
     "execution_count": 16,
     "metadata": {},
     "output_type": "execute_result"
    }
   ],
   "source": [
    "np.empty(3) # Create an uninitialized array of three integers\n",
    "# The values will be whatever happens to already exist at that"
   ]
  },
  {
   "cell_type": "code",
   "execution_count": 7,
   "metadata": {
    "scrolled": true
   },
   "outputs": [
    {
     "data": {
      "text/plain": [
       "array([[2., 1., 0., 0.],\n",
       "       [0., 2., 1., 0.],\n",
       "       [0., 0., 2., 1.]])"
      ]
     },
     "execution_count": 7,
     "metadata": {},
     "output_type": "execute_result"
    }
   ],
   "source": [
    "print(2*np.eye(3, 4) + np.eye(3, 4, k=1))"
   ]
  },
  {
   "cell_type": "code",
   "execution_count": null,
   "metadata": {},
   "outputs": [],
   "source": [
    "print(array([roll([2,1,0,0],i) for i in range(3)]))"
   ]
  },
  {
   "cell_type": "code",
   "execution_count": 14,
   "metadata": {},
   "outputs": [
    {
     "name": "stdout",
     "output_type": "stream",
     "text": [
      "[[2.]\n",
      " [1.]\n",
      " [0.]\n",
      " [0.]\n",
      " [0.]\n",
      " [2.]\n",
      " [1.]\n",
      " [0.]\n",
      " [0.]\n",
      " [0.]\n",
      " [2.]\n",
      " [1.]]\n"
     ]
    }
   ],
   "source": [
    "mat=2*np.eye(3, 4) + np.eye(3, 4, k=1)\n",
    "mat.reshape(12,1)\n",
    "print(mat.reshape(-1,1)) #-1 - неопределенное значение"
   ]
  },
  {
   "cell_type": "code",
   "execution_count": null,
   "metadata": {
    "collapsed": true
   },
   "outputs": [],
   "source": [
    "import numpy as np\n",
    "\n",
    "x_shape = tuple(map(int, input().split()))\n",
    "X = np.fromiter(map(int, input().split()), np.int).reshape(x_shape)\n",
    "y_shape = tuple(map(int, input().split()))\n",
    "Y = np.fromiter(map(int, input().split()), np.int).reshape(y_shape)\n",
    "\n",
    "if x_shape[0] == y_shape[1]:\n",
    "    print(np.linalg.matmul(X, np.transpose(Y)))\n",
    "else:\n",
    "    print(\"matrix shapes do not match\")"
   ]
  },
  {
   "cell_type": "code",
   "execution_count": 21,
   "metadata": {},
   "outputs": [
    {
     "data": {
      "text/plain": [
       "False"
      ]
     },
     "execution_count": 21,
     "metadata": {},
     "output_type": "execute_result"
    }
   ],
   "source": [
    "try:\n",
    "    print(X.dot(Y.T))\n",
    "except ValueError:\n",
    "    print(\"matrix shapes do not match\")"
   ]
  },
  {
   "cell_type": "code",
   "execution_count": 30,
   "metadata": {},
   "outputs": [
    {
     "name": "stdout",
     "output_type": "stream",
     "text": [
      "https://stepic.org/media/attachments/lesson/16462/boston_houses.csv\n"
     ]
    },
    {
     "data": {
      "text/plain": [
       "array([22.53280632,  3.61352356, 11.36363636,  0.06916996,  0.55469506,\n",
       "        6.28463439,  3.79504269])"
      ]
     },
     "execution_count": 30,
     "metadata": {},
     "output_type": "execute_result"
    }
   ],
   "source": [
    "from urllib.request import urlopen\n",
    "import numpy as np\n",
    "filename = input()\n",
    "f = urlopen(filename)\n",
    "sbux = np.loadtxt(f, skiprows=1, delimiter=\",\")\n",
    "sbux.mean(axis=0)"
   ]
  },
  {
   "cell_type": "markdown",
   "metadata": {},
   "source": [
    "# 1.2 NumPy Array Attributes"
   ]
  },
  {
   "cell_type": "code",
   "execution_count": 17,
   "metadata": {},
   "outputs": [],
   "source": [
    "x1 = np.random.randint(10, size=6) # One-dimensional array\n",
    "x2 = np.random.randint(10, size=(3, 4)) # Two-dimensional array\n",
    "x3 = np.random.randint(10, size=(3, 4, 5)) # Three-dimensional array"
   ]
  },
  {
   "cell_type": "code",
   "execution_count": 18,
   "metadata": {},
   "outputs": [
    {
     "name": "stdout",
     "output_type": "stream",
     "text": [
      "x3 ndim:  3\n",
      "x3 shape: (3, 4, 5)\n",
      "x3 size:  60\n"
     ]
    }
   ],
   "source": [
    "print(\"x3 ndim: \", x3.ndim) #number of dimensions\n",
    "print(\"x3 shape:\", x3.shape) #shape\n",
    "print(\"x3 size: \", x3.size) #size "
   ]
  },
  {
   "cell_type": "code",
   "execution_count": 19,
   "metadata": {},
   "outputs": [
    {
     "name": "stdout",
     "output_type": "stream",
     "text": [
      "dtype: int32\n"
     ]
    }
   ],
   "source": [
    "print(\"dtype:\", x3.dtype) "
   ]
  },
  {
   "cell_type": "code",
   "execution_count": 20,
   "metadata": {},
   "outputs": [
    {
     "name": "stdout",
     "output_type": "stream",
     "text": [
      "itemsize: 4 bytes\n",
      "nbytes: 240 bytes\n"
     ]
    }
   ],
   "source": [
    "print(\"itemsize:\", x3.itemsize, \"bytes\")\n",
    "print(\"nbytes:\", x3.nbytes, \"bytes\")"
   ]
  },
  {
   "cell_type": "code",
   "execution_count": 21,
   "metadata": {},
   "outputs": [
    {
     "data": {
      "text/plain": [
       "7"
      ]
     },
     "execution_count": 21,
     "metadata": {},
     "output_type": "execute_result"
    }
   ],
   "source": [
    "x2 = np.random.randint(10, size=(3, 4)) # Two-dimensional array\n",
    "x2[0, 0] #indexing"
   ]
  },
  {
   "cell_type": "code",
   "execution_count": 22,
   "metadata": {},
   "outputs": [
    {
     "data": {
      "text/plain": [
       "7"
      ]
     },
     "execution_count": 22,
     "metadata": {},
     "output_type": "execute_result"
    }
   ],
   "source": [
    "x3 = np.random.randint(10, size=(3, 4, 5)) # Three-dimensional array\n",
    "x3[1,2,3] #indexing"
   ]
  },
  {
   "cell_type": "code",
   "execution_count": 23,
   "metadata": {},
   "outputs": [
    {
     "data": {
      "text/plain": [
       "array([[0, 8, 8],\n",
       "       [3, 1, 4]])"
      ]
     },
     "execution_count": 23,
     "metadata": {},
     "output_type": "execute_result"
    }
   ],
   "source": [
    "x2 = np.random.randint(10, size=(3, 4)) # Two-dimensional array\n",
    "x2[:2, :3] #slicing"
   ]
  },
  {
   "cell_type": "code",
   "execution_count": 24,
   "metadata": {},
   "outputs": [
    {
     "data": {
      "text/plain": [
       "array([[[7, 5],\n",
       "        [6, 7],\n",
       "        [1, 6]],\n",
       "\n",
       "       [[4, 2],\n",
       "        [3, 6],\n",
       "        [7, 0]]])"
      ]
     },
     "execution_count": 24,
     "metadata": {},
     "output_type": "execute_result"
    }
   ],
   "source": [
    "x3 = np.random.randint(10, size=(3, 4, 5)) # Three-dimensional array\n",
    "x3[:2, :3, :2] #slicing"
   ]
  },
  {
   "cell_type": "code",
   "execution_count": 25,
   "metadata": {},
   "outputs": [
    {
     "name": "stdout",
     "output_type": "stream",
     "text": [
      "[[1 2 3]\n",
      " [4 5 6]\n",
      " [7 8 9]]\n"
     ]
    }
   ],
   "source": [
    "grid = np.arange(1, 10).reshape((3, 3)) #reshape\n",
    "print(grid) "
   ]
  },
  {
   "cell_type": "code",
   "execution_count": 26,
   "metadata": {},
   "outputs": [
    {
     "data": {
      "text/plain": [
       "array([[1, 2, 3]])"
      ]
     },
     "execution_count": 26,
     "metadata": {},
     "output_type": "execute_result"
    }
   ],
   "source": [
    "x = np.array([1, 2, 3])\n",
    "x[np.newaxis, :]# row vector via reshape\n",
    "x.reshape((1, 3)) # row vector via reshape"
   ]
  },
  {
   "cell_type": "code",
   "execution_count": 27,
   "metadata": {},
   "outputs": [
    {
     "data": {
      "text/plain": [
       "array([[1],\n",
       "       [2],\n",
       "       [3]])"
      ]
     },
     "execution_count": 27,
     "metadata": {},
     "output_type": "execute_result"
    }
   ],
   "source": [
    "x[:, np.newaxis] # column vector via reshape\n",
    "x.reshape((3, 1)) # column vector via reshape"
   ]
  },
  {
   "cell_type": "markdown",
   "metadata": {},
   "source": [
    "# 1.3 Array Concatenation and Splitting"
   ]
  },
  {
   "cell_type": "code",
   "execution_count": 28,
   "metadata": {},
   "outputs": [
    {
     "data": {
      "text/plain": [
       "array([1, 2, 3, 3, 2, 1])"
      ]
     },
     "execution_count": 28,
     "metadata": {},
     "output_type": "execute_result"
    }
   ],
   "source": [
    "x = np.array([1, 2, 3])\n",
    "y = np.array([3, 2, 1])\n",
    "np.concatenate([x, y])"
   ]
  },
  {
   "cell_type": "code",
   "execution_count": 29,
   "metadata": {},
   "outputs": [
    {
     "name": "stdout",
     "output_type": "stream",
     "text": [
      "[ 1  2  3  3  2  1 99 99 99]\n"
     ]
    }
   ],
   "source": [
    "z = [99, 99, 99]\n",
    "print(np.concatenate([x, y, z]))"
   ]
  },
  {
   "cell_type": "code",
   "execution_count": 30,
   "metadata": {},
   "outputs": [],
   "source": [
    "grid = np.array([[1, 2, 3],\n",
    "                [4, 5, 6]])"
   ]
  },
  {
   "cell_type": "code",
   "execution_count": 31,
   "metadata": {
    "scrolled": true
   },
   "outputs": [
    {
     "data": {
      "text/plain": [
       "array([[1, 2, 3],\n",
       "       [4, 5, 6],\n",
       "       [1, 2, 3],\n",
       "       [4, 5, 6]])"
      ]
     },
     "execution_count": 31,
     "metadata": {},
     "output_type": "execute_result"
    }
   ],
   "source": [
    "# concatenate along the first axis\n",
    "np.concatenate([grid, grid])"
   ]
  },
  {
   "cell_type": "code",
   "execution_count": 32,
   "metadata": {},
   "outputs": [
    {
     "data": {
      "text/plain": [
       "array([[1, 2, 3, 1, 2, 3],\n",
       "       [4, 5, 6, 4, 5, 6]])"
      ]
     },
     "execution_count": 32,
     "metadata": {},
     "output_type": "execute_result"
    }
   ],
   "source": [
    "# concatenate along the second axis (zero-indexed)\n",
    "np.concatenate([grid, grid], axis=1)"
   ]
  },
  {
   "cell_type": "code",
   "execution_count": 33,
   "metadata": {},
   "outputs": [
    {
     "data": {
      "text/plain": [
       "array([[1, 2, 3],\n",
       "       [9, 8, 7],\n",
       "       [6, 5, 4]])"
      ]
     },
     "execution_count": 33,
     "metadata": {},
     "output_type": "execute_result"
    }
   ],
   "source": [
    "x = np.array([1, 2, 3])\n",
    "grid = np.array([[9, 8, 7],\n",
    "                 [6, 5, 4]])\n",
    "# vertically stack the arrays(sum) сумма массивов\n",
    "np.vstack([x, grid])"
   ]
  },
  {
   "cell_type": "code",
   "execution_count": 34,
   "metadata": {},
   "outputs": [
    {
     "data": {
      "text/plain": [
       "array([[ 9,  8,  7, 99],\n",
       "       [ 6,  5,  4, 99]])"
      ]
     },
     "execution_count": 34,
     "metadata": {},
     "output_type": "execute_result"
    }
   ],
   "source": [
    "# horizontally stack the arrays\n",
    "y = np.array([[99],\n",
    "              [99]])\n",
    "np.hstack([grid, y])"
   ]
  },
  {
   "cell_type": "code",
   "execution_count": 35,
   "metadata": {},
   "outputs": [],
   "source": [
    "#Similarly, np.dstack will stack arrays along the third axis."
   ]
  },
  {
   "cell_type": "code",
   "execution_count": 36,
   "metadata": {},
   "outputs": [
    {
     "name": "stdout",
     "output_type": "stream",
     "text": [
      "[1 2 3] [99 99] [3 2 1]\n"
     ]
    }
   ],
   "source": [
    "x = [1, 2, 3, 99, 99, 3, 2, 1]\n",
    "x1, x2, x3 = np.split(x, [3, 5])\n",
    "print(x1, x2, x3)"
   ]
  },
  {
   "cell_type": "code",
   "execution_count": 37,
   "metadata": {},
   "outputs": [
    {
     "data": {
      "text/plain": [
       "array([[ 0,  1,  2,  3],\n",
       "       [ 4,  5,  6,  7],\n",
       "       [ 8,  9, 10, 11],\n",
       "       [12, 13, 14, 15]])"
      ]
     },
     "execution_count": 37,
     "metadata": {},
     "output_type": "execute_result"
    }
   ],
   "source": [
    "grid = np.arange(16).reshape((4, 4))\n",
    "grid"
   ]
  },
  {
   "cell_type": "code",
   "execution_count": 38,
   "metadata": {},
   "outputs": [
    {
     "name": "stdout",
     "output_type": "stream",
     "text": [
      "[[0 1 2 3]\n",
      " [4 5 6 7]]\n",
      "[[ 8  9 10 11]\n",
      " [12 13 14 15]]\n"
     ]
    }
   ],
   "source": [
    "upper, lower = np.vsplit(grid, [2])\n",
    "print(upper)\n",
    "print(lower)"
   ]
  },
  {
   "cell_type": "code",
   "execution_count": 39,
   "metadata": {},
   "outputs": [
    {
     "name": "stdout",
     "output_type": "stream",
     "text": [
      "[[ 0  1]\n",
      " [ 4  5]\n",
      " [ 8  9]\n",
      " [12 13]]\n",
      "[[ 2  3]\n",
      " [ 6  7]\n",
      " [10 11]\n",
      " [14 15]]\n"
     ]
    }
   ],
   "source": [
    "left, right = np.hsplit(grid, [2])\n",
    "print(left)\n",
    "print(right)"
   ]
  },
  {
   "cell_type": "code",
   "execution_count": 40,
   "metadata": {},
   "outputs": [],
   "source": [
    "#Similarly, np.dsplit will split arrays along the third axis."
   ]
  },
  {
   "cell_type": "markdown",
   "metadata": {},
   "source": [
    "# Computation on NumPy Arrays: Universal Functions (UFuncs)"
   ]
  },
  {
   "cell_type": "code",
   "execution_count": 41,
   "metadata": {},
   "outputs": [
    {
     "data": {
      "text/plain": [
       "array([0.        , 0.5       , 0.66666667, 0.75      , 0.8       ])"
      ]
     },
     "execution_count": 41,
     "metadata": {},
     "output_type": "execute_result"
    }
   ],
   "source": [
    "np.arange(5) / np.arange(1, 6) #vectorized"
   ]
  },
  {
   "cell_type": "code",
   "execution_count": 42,
   "metadata": {},
   "outputs": [
    {
     "data": {
      "text/plain": [
       "array([[  1,   2,   4],\n",
       "       [  8,  16,  32],\n",
       "       [ 64, 128, 256]], dtype=int32)"
      ]
     },
     "execution_count": 42,
     "metadata": {},
     "output_type": "execute_result"
    }
   ],
   "source": [
    "x = np.arange(9).reshape((3, 3))\n",
    "2 ** x"
   ]
  },
  {
   "cell_type": "code",
   "execution_count": 43,
   "metadata": {},
   "outputs": [
    {
     "name": "stdout",
     "output_type": "stream",
     "text": [
      "x = [0 1 2 3]\n",
      "x + 5 = [5 6 7 8]\n",
      "x - 5 = [-5 -4 -3 -2]\n",
      "x * 2 = [0 2 4 6]\n",
      "x / 2 = [0.  0.5 1.  1.5]\n",
      "x // 2 = [0 0 1 1]\n",
      "-x =  [ 0 -1 -2 -3]\n",
      "x ** 2 =  [0 1 4 9]\n",
      "x % 2 =  [0 1 0 1]\n"
     ]
    }
   ],
   "source": [
    "x = np.arange(4)\n",
    "print(\"x =\", x)\n",
    "print(\"x + 5 =\", x + 5)\n",
    "print(\"x - 5 =\", x - 5)\n",
    "print(\"x * 2 =\", x * 2)\n",
    "print(\"x / 2 =\", x / 2)\n",
    "print(\"x // 2 =\", x // 2) # floor division\n",
    "print(\"-x = \", -x)\n",
    "print(\"x ** 2 = \", x ** 2)\n",
    "print(\"x % 2 = \", x % 2)"
   ]
  },
  {
   "cell_type": "code",
   "execution_count": 44,
   "metadata": {},
   "outputs": [
    {
     "data": {
      "text/plain": [
       "array([-1.  , -2.25, -4.  , -6.25])"
      ]
     },
     "execution_count": 44,
     "metadata": {},
     "output_type": "execute_result"
    }
   ],
   "source": [
    "-(0.5*x + 1) ** 2"
   ]
  },
  {
   "cell_type": "code",
   "execution_count": 45,
   "metadata": {},
   "outputs": [
    {
     "name": "stdout",
     "output_type": "stream",
     "text": [
      "[2 3 4 5]\n",
      "[-2 -1  0  1]\n",
      "[0 2 4 6]\n",
      "[0.  0.5 1.  1.5]\n",
      "[0 0 1 1]\n",
      "[0 1 4 9]\n",
      "[0 1 0 1]\n",
      "[ 0 -1 -2 -3]\n"
     ]
    }
   ],
   "source": [
    "print(np.add(x, 2))           #+ arithmetic ufuncs\n",
    "print(np.subtract(x, 2))      #-\n",
    "print(np.multiply(x, 2))      #*\n",
    "print(np.divide(x, 2))        #/\n",
    "print(np.floor_divide(x, 2))  #%\n",
    "print(np.power(x, 2))         #**\n",
    "print(np.mod(x, 2))           #%%\n",
    "print(np.negative(x))         #+/-"
   ]
  },
  {
   "cell_type": "code",
   "execution_count": 46,
   "metadata": {},
   "outputs": [
    {
     "name": "stdout",
     "output_type": "stream",
     "text": [
      "[2 1 0 1 2]\n",
      "[2 1 0 1 2]\n",
      "[2 1 0 1 2]\n"
     ]
    }
   ],
   "source": [
    "x = np.array([-2, -1, 0, 1, 2]) #abs\n",
    "print(abs(x))\n",
    "print(np.abs(x))\n",
    "print(np.absolute(x))"
   ]
  },
  {
   "cell_type": "code",
   "execution_count": 47,
   "metadata": {},
   "outputs": [
    {
     "name": "stdout",
     "output_type": "stream",
     "text": [
      "theta =  [0.         1.57079633 3.14159265]\n",
      "sin(theta) =  [0.0000000e+00 1.0000000e+00 1.2246468e-16]\n",
      "cos(theta) =  [ 1.000000e+00  6.123234e-17 -1.000000e+00]\n",
      "tan(theta) =  [ 0.00000000e+00  1.63312394e+16 -1.22464680e-16]\n",
      "x =  [-1, 0, 1]\n",
      "arcsin(x) =  [-1.57079633  0.          1.57079633]\n",
      "arccos(x) =  [3.14159265 1.57079633 0.        ]\n",
      "arctan(x) =  [-0.78539816  0.          0.78539816]\n"
     ]
    }
   ],
   "source": [
    "theta = np.linspace(0, np.pi, 3) #cos, sin, tan, arc\n",
    "print(\"theta = \", theta)\n",
    "print(\"sin(theta) = \", np.sin(theta))\n",
    "print(\"cos(theta) = \", np.cos(theta))\n",
    "print(\"tan(theta) = \", np.tan(theta))\n",
    "x = [-1, 0, 1]\n",
    "print(\"x = \", x)\n",
    "print(\"arcsin(x) = \", np.arcsin(x))\n",
    "print(\"arccos(x) = \", np.arccos(x))\n",
    "print(\"arctan(x) = \", np.arctan(x))"
   ]
  },
  {
   "cell_type": "code",
   "execution_count": 48,
   "metadata": {},
   "outputs": [
    {
     "name": "stdout",
     "output_type": "stream",
     "text": [
      "x = [1, 2, 3]\n",
      "e^x = [ 2.71828183  7.3890561  20.08553692]\n",
      "2^x = [2. 4. 8.]\n",
      "3^x = [ 3  9 27]\n"
     ]
    }
   ],
   "source": [
    "x = [1, 2, 3] #exponent\n",
    "print(\"x =\", x)\n",
    "print(\"e^x =\", np.exp(x))\n",
    "print(\"2^x =\", np.exp2(x))\n",
    "print(\"3^x =\", np.power(3, x))"
   ]
  },
  {
   "cell_type": "code",
   "execution_count": 49,
   "metadata": {},
   "outputs": [
    {
     "name": "stdout",
     "output_type": "stream",
     "text": [
      "x = [1, 2, 4, 10]\n",
      "ln(x) = [0.         0.69314718 1.38629436 2.30258509]\n",
      "log2(x) = [0.         1.         2.         3.32192809]\n",
      "log10(x) = [0.         0.30103    0.60205999 1.        ]\n"
     ]
    }
   ],
   "source": [
    "x = [1, 2, 4, 10] #logorithm\n",
    "print(\"x =\", x)\n",
    "print(\"ln(x) =\", np.log(x))\n",
    "print(\"log2(x) =\", np.log2(x))\n",
    "print(\"log10(x) =\", np.log10(x))"
   ]
  },
  {
   "cell_type": "code",
   "execution_count": 50,
   "metadata": {},
   "outputs": [
    {
     "name": "stdout",
     "output_type": "stream",
     "text": [
      "exp(x) - 1 = [0.         0.0010005  0.01005017 0.10517092]\n",
      "log(1 + x) = [0.         0.0009995  0.00995033 0.09531018]\n"
     ]
    }
   ],
   "source": [
    "x = [0, 0.001, 0.01, 0.1]\n",
    "print(\"exp(x) - 1 =\", np.expm1(x))\n",
    "print(\"log(1 + x) =\", np.log1p(x))"
   ]
  },
  {
   "cell_type": "markdown",
   "metadata": {},
   "source": [
    "# 1.4 scipy.special"
   ]
  },
  {
   "cell_type": "code",
   "execution_count": 51,
   "metadata": {},
   "outputs": [],
   "source": [
    "from scipy import special"
   ]
  },
  {
   "cell_type": "code",
   "execution_count": 52,
   "metadata": {},
   "outputs": [
    {
     "name": "stdout",
     "output_type": "stream",
     "text": [
      "gamma(x) = [1.0000e+00 2.4000e+01 3.6288e+05]\n",
      "ln|gamma(x)| = [ 0.          3.17805383 12.80182748]\n",
      "beta(x, 2) = [0.5        0.03333333 0.00909091]\n"
     ]
    }
   ],
   "source": [
    "# Gamma functions (generalized factorials) and related functions\n",
    "x = [1, 5, 10]\n",
    "print(\"gamma(x) =\", special.gamma(x))\n",
    "print(\"ln|gamma(x)| =\", special.gammaln(x))\n",
    "print(\"beta(x, 2) =\", special.beta(x, 2))"
   ]
  },
  {
   "cell_type": "code",
   "execution_count": 53,
   "metadata": {},
   "outputs": [
    {
     "name": "stdout",
     "output_type": "stream",
     "text": [
      "erf(x) = [0.         0.32862676 0.67780119 0.84270079]\n",
      "erfc(x) = [1.         0.67137324 0.32219881 0.15729921]\n",
      "erfinv(x) = [0.         0.27246271 0.73286908        inf]\n"
     ]
    }
   ],
   "source": [
    "# Error function (integral of Gaussian)\n",
    "# its complement, and its inverse\n",
    "x = np.array([0, 0.3, 0.7, 1.0])\n",
    "print(\"erf(x) =\", special.erf(x))\n",
    "print(\"erfc(x) =\", special.erfc(x))\n",
    "print(\"erfinv(x) =\", special.erfinv(x))"
   ]
  },
  {
   "cell_type": "code",
   "execution_count": 54,
   "metadata": {},
   "outputs": [
    {
     "name": "stdout",
     "output_type": "stream",
     "text": [
      "[ 0. 10. 20. 30. 40.]\n"
     ]
    }
   ],
   "source": [
    "x = np.arange(5)\n",
    "y = np.empty(5)\n",
    "np.multiply(x, 10 , out=y) #return y\n",
    "print(y)"
   ]
  },
  {
   "cell_type": "code",
   "execution_count": 55,
   "metadata": {},
   "outputs": [
    {
     "data": {
      "text/plain": [
       "array([ 1.,  2.,  4.,  8., 16.])"
      ]
     },
     "execution_count": 55,
     "metadata": {},
     "output_type": "execute_result"
    }
   ],
   "source": [
    "y = np.zeros(10)\n",
    "np.power(2, x, out=y[::2]) #with slice"
   ]
  },
  {
   "cell_type": "markdown",
   "metadata": {},
   "source": [
    "# 1.5 Aggregates"
   ]
  },
  {
   "cell_type": "code",
   "execution_count": 56,
   "metadata": {},
   "outputs": [
    {
     "data": {
      "text/plain": [
       "15"
      ]
     },
     "execution_count": 56,
     "metadata": {},
     "output_type": "execute_result"
    }
   ],
   "source": [
    "x = np.arange(1, 6)\n",
    "np.add.reduce(x)        #reduce with some computes until only a single result remains"
   ]
  },
  {
   "cell_type": "code",
   "execution_count": 57,
   "metadata": {},
   "outputs": [
    {
     "data": {
      "text/plain": [
       "120"
      ]
     },
     "execution_count": 57,
     "metadata": {},
     "output_type": "execute_result"
    }
   ],
   "source": [
    "np.multiply.reduce(x) #reduce with some computes until only a single result remains"
   ]
  },
  {
   "cell_type": "code",
   "execution_count": 58,
   "metadata": {},
   "outputs": [
    {
     "data": {
      "text/plain": [
       "array([ 1,  3,  6, 10, 15], dtype=int32)"
      ]
     },
     "execution_count": 58,
     "metadata": {},
     "output_type": "execute_result"
    }
   ],
   "source": [
    "np.add.accumulate(x) #accumulates results with some computes "
   ]
  },
  {
   "cell_type": "code",
   "execution_count": 59,
   "metadata": {},
   "outputs": [
    {
     "data": {
      "text/plain": [
       "array([  1,   2,   6,  24, 120], dtype=int32)"
      ]
     },
     "execution_count": 59,
     "metadata": {},
     "output_type": "execute_result"
    }
   ],
   "source": [
    "np.multiply.accumulate(x) #accumulates results with some computes can use np.sum, np.prod, np.cumsum, np.cumprod"
   ]
  },
  {
   "cell_type": "code",
   "execution_count": 60,
   "metadata": {},
   "outputs": [
    {
     "data": {
      "text/plain": [
       "array([[ 1,  2,  3,  4,  5],\n",
       "       [ 2,  4,  6,  8, 10],\n",
       "       [ 3,  6,  9, 12, 15],\n",
       "       [ 4,  8, 12, 16, 20],\n",
       "       [ 5, 10, 15, 20, 25]])"
      ]
     },
     "execution_count": 60,
     "metadata": {},
     "output_type": "execute_result"
    }
   ],
   "source": [
    "x = np.arange(1, 6)\n",
    "np.multiply.outer(x, x)"
   ]
  },
  {
   "cell_type": "markdown",
   "metadata": {},
   "source": [
    "# 1.6 Aggregations: Min, Max, and Everything in Between"
   ]
  },
  {
   "cell_type": "code",
   "execution_count": 61,
   "metadata": {},
   "outputs": [
    {
     "data": {
      "text/plain": [
       "45"
      ]
     },
     "execution_count": 61,
     "metadata": {},
     "output_type": "execute_result"
    }
   ],
   "source": [
    "big_array = np.random.rand(1000000)\n",
    "sum(L)\n",
    "np.sum(L) #more quickly"
   ]
  },
  {
   "cell_type": "code",
   "execution_count": 62,
   "metadata": {},
   "outputs": [
    {
     "data": {
      "text/plain": [
       "(9.02422155668603e-07, 0.9999986011048051)"
      ]
     },
     "execution_count": 62,
     "metadata": {},
     "output_type": "execute_result"
    }
   ],
   "source": [
    "min(big_array), max(big_array)\n",
    "np.min(big_array), np.max(big_array) #more quickly"
   ]
  },
  {
   "cell_type": "code",
   "execution_count": 63,
   "metadata": {},
   "outputs": [
    {
     "name": "stdout",
     "output_type": "stream",
     "text": [
      "9.02422155668603e-07 0.9999986011048051 500089.7572064047\n"
     ]
    }
   ],
   "source": [
    "print(big_array.min(), big_array.max(), big_array.sum())"
   ]
  },
  {
   "cell_type": "code",
   "execution_count": 64,
   "metadata": {},
   "outputs": [
    {
     "name": "stdout",
     "output_type": "stream",
     "text": [
      "[[0.79695765 0.28926665 0.80090796 0.74688715]\n",
      " [0.88489315 0.40226095 0.82802473 0.27527881]\n",
      " [0.04621441 0.32106061 0.01578858 0.30029183]]\n"
     ]
    }
   ],
   "source": [
    "M = np.random.random((3, 4))\n",
    "print(M)"
   ]
  },
  {
   "cell_type": "code",
   "execution_count": 65,
   "metadata": {},
   "outputs": [
    {
     "data": {
      "text/plain": [
       "array([0.04621441, 0.28926665, 0.01578858, 0.27527881])"
      ]
     },
     "execution_count": 65,
     "metadata": {},
     "output_type": "execute_result"
    }
   ],
   "source": [
    "M.min(axis=0)"
   ]
  },
  {
   "cell_type": "code",
   "execution_count": 66,
   "metadata": {},
   "outputs": [
    {
     "data": {
      "text/plain": [
       "array([0.80090796, 0.88489315, 0.32106061])"
      ]
     },
     "execution_count": 66,
     "metadata": {},
     "output_type": "execute_result"
    }
   ],
   "source": [
    "M.max(axis=1)"
   ]
  },
  {
   "cell_type": "code",
   "execution_count": 67,
   "metadata": {},
   "outputs": [],
   "source": [
    "#np.sum np.nansum Compute sum of elements\n",
    "#np.prod np.nanprod Compute product of elements\n",
    "#np.mean np.nanmean Compute median of elements\n",
    "#np.std np.nanstd Compute standard deviation\n",
    "#np.var np.nanvar Compute variance\n",
    "#np.min np.nanmin Find minimum value\n",
    "#np.max np.nanmax Find maximum value\n",
    "#np.argmin np.nanargmin Find index of minimum value\n",
    "#np.argmax np.nanargmax Find index of maximum value\n",
    "#np.median np.nanmedian Compute median of elements\n",
    "#np.percentile np.nanpercentile Compute rank-based statistics of elements\n",
    "#np.any N/A Evaluate whether any elements are true\n",
    "#np.all N/A Evaluate whether all elements are true"
   ]
  },
  {
   "cell_type": "markdown",
   "metadata": {},
   "source": [
    "# 1.7 Broadcasting"
   ]
  },
  {
   "cell_type": "code",
   "execution_count": 68,
   "metadata": {},
   "outputs": [],
   "source": [
    "M = np.ones((2, 3))\n",
    "a = np.arange(3)"
   ]
  },
  {
   "cell_type": "code",
   "execution_count": 69,
   "metadata": {},
   "outputs": [
    {
     "data": {
      "text/plain": [
       "array([0, 1, 2])"
      ]
     },
     "execution_count": 69,
     "metadata": {},
     "output_type": "execute_result"
    }
   ],
   "source": [
    "a"
   ]
  },
  {
   "cell_type": "code",
   "execution_count": 70,
   "metadata": {},
   "outputs": [
    {
     "data": {
      "text/plain": [
       "array([[1., 1., 1.],\n",
       "       [1., 1., 1.]])"
      ]
     },
     "execution_count": 70,
     "metadata": {},
     "output_type": "execute_result"
    }
   ],
   "source": [
    "M"
   ]
  },
  {
   "cell_type": "code",
   "execution_count": 71,
   "metadata": {},
   "outputs": [
    {
     "data": {
      "text/plain": [
       "array([[1., 2., 3.],\n",
       "       [1., 2., 3.]])"
      ]
     },
     "execution_count": 71,
     "metadata": {},
     "output_type": "execute_result"
    }
   ],
   "source": [
    "M + a"
   ]
  },
  {
   "cell_type": "code",
   "execution_count": 72,
   "metadata": {},
   "outputs": [],
   "source": [
    "a = np.arange(3).reshape((3, 1))\n",
    "b = np.arange(3)"
   ]
  },
  {
   "cell_type": "code",
   "execution_count": 73,
   "metadata": {},
   "outputs": [
    {
     "data": {
      "text/plain": [
       "array([[0],\n",
       "       [1],\n",
       "       [2]])"
      ]
     },
     "execution_count": 73,
     "metadata": {},
     "output_type": "execute_result"
    }
   ],
   "source": [
    "a"
   ]
  },
  {
   "cell_type": "code",
   "execution_count": 74,
   "metadata": {},
   "outputs": [
    {
     "data": {
      "text/plain": [
       "array([0, 1, 2])"
      ]
     },
     "execution_count": 74,
     "metadata": {},
     "output_type": "execute_result"
    }
   ],
   "source": [
    "b"
   ]
  },
  {
   "cell_type": "code",
   "execution_count": 75,
   "metadata": {},
   "outputs": [
    {
     "data": {
      "text/plain": [
       "array([[0, 1, 2],\n",
       "       [1, 2, 3],\n",
       "       [2, 3, 4]])"
      ]
     },
     "execution_count": 75,
     "metadata": {},
     "output_type": "execute_result"
    }
   ],
   "source": [
    "a+b"
   ]
  },
  {
   "cell_type": "code",
   "execution_count": 76,
   "metadata": {},
   "outputs": [],
   "source": [
    "M = np.ones((3, 2))\n",
    "a = np.arange(3)"
   ]
  },
  {
   "cell_type": "code",
   "execution_count": 77,
   "metadata": {},
   "outputs": [
    {
     "data": {
      "text/plain": [
       "array([[1., 1.],\n",
       "       [1., 1.],\n",
       "       [1., 1.]])"
      ]
     },
     "execution_count": 77,
     "metadata": {},
     "output_type": "execute_result"
    }
   ],
   "source": [
    "M"
   ]
  },
  {
   "cell_type": "code",
   "execution_count": 78,
   "metadata": {},
   "outputs": [
    {
     "data": {
      "text/plain": [
       "array([0, 1, 2])"
      ]
     },
     "execution_count": 78,
     "metadata": {},
     "output_type": "execute_result"
    }
   ],
   "source": [
    "a"
   ]
  },
  {
   "cell_type": "code",
   "execution_count": 79,
   "metadata": {},
   "outputs": [
    {
     "ename": "ValueError",
     "evalue": "operands could not be broadcast together with shapes (3,2) (3,) ",
     "output_type": "error",
     "traceback": [
      "\u001b[1;31m---------------------------------------------------------------------------\u001b[0m",
      "\u001b[1;31mValueError\u001b[0m                                Traceback (most recent call last)",
      "\u001b[1;32m<ipython-input-79-5cd73706df81>\u001b[0m in \u001b[0;36m<module>\u001b[1;34m\u001b[0m\n\u001b[1;32m----> 1\u001b[1;33m \u001b[0mM\u001b[0m\u001b[1;33m+\u001b[0m\u001b[0ma\u001b[0m \u001b[1;31m#not compatible\u001b[0m\u001b[1;33m\u001b[0m\u001b[1;33m\u001b[0m\u001b[0m\n\u001b[0m",
      "\u001b[1;31mValueError\u001b[0m: operands could not be broadcast together with shapes (3,2) (3,) "
     ]
    }
   ],
   "source": [
    "M+a #not compatible"
   ]
  },
  {
   "cell_type": "markdown",
   "metadata": {},
   "source": [
    "# 1.8 Broadcast arithmetic"
   ]
  },
  {
   "cell_type": "code",
   "execution_count": 81,
   "metadata": {},
   "outputs": [
    {
     "data": {
      "text/plain": [
       "array([[0.25347023, 0.00245744, 0.73714209],\n",
       "       [0.42007057, 0.52839021, 0.05148997],\n",
       "       [0.47843779, 0.56816926, 0.00869997],\n",
       "       [0.40709633, 0.45971583, 0.02503438],\n",
       "       [0.97207339, 0.55207459, 0.86537605],\n",
       "       [0.89464216, 0.8361483 , 0.49735059],\n",
       "       [0.25442344, 0.17205127, 0.44031618],\n",
       "       [0.81878986, 0.80415238, 0.22643513],\n",
       "       [0.29004133, 0.87581488, 0.13911844],\n",
       "       [0.55364903, 0.71200473, 0.2692503 ]])"
      ]
     },
     "execution_count": 81,
     "metadata": {},
     "output_type": "execute_result"
    }
   ],
   "source": [
    "X = np.random.random((10, 3))\n",
    "X"
   ]
  },
  {
   "cell_type": "code",
   "execution_count": 82,
   "metadata": {},
   "outputs": [],
   "source": [
    "x_centred = X - X.mean(0) #centred array"
   ]
  },
  {
   "cell_type": "code",
   "execution_count": 83,
   "metadata": {},
   "outputs": [
    {
     "data": {
      "text/plain": [
       "3.3306690738754695e-17"
      ]
     },
     "execution_count": 83,
     "metadata": {},
     "output_type": "execute_result"
    }
   ],
   "source": [
    "x_centred.mean() #0"
   ]
  },
  {
   "cell_type": "code",
   "execution_count": 84,
   "metadata": {},
   "outputs": [],
   "source": [
    "# x and y have 50 steps from 0 to 5\n",
    "x = np.linspace(0, 5, 50)\n",
    "y = np.linspace(0, 5, 50)[:, np.newaxis]"
   ]
  },
  {
   "cell_type": "code",
   "execution_count": 85,
   "metadata": {},
   "outputs": [],
   "source": [
    "z = np.sin(x) ** 10 + np.cos(10 + y * x) * np.cos(x)"
   ]
  },
  {
   "cell_type": "code",
   "execution_count": 86,
   "metadata": {},
   "outputs": [
    {
     "data": {
      "text/plain": [
       "array([[-0.83907153, -0.83470697, -0.8216586 , ...,  0.8956708 ,\n",
       "         0.68617261,  0.41940746],\n",
       "       [-0.83907153, -0.82902677, -0.8103873 , ...,  0.92522407,\n",
       "         0.75321348,  0.52508175],\n",
       "       [-0.83907153, -0.82325668, -0.79876457, ...,  0.96427357,\n",
       "         0.84172689,  0.66446403],\n",
       "       ...,\n",
       "       [-0.83907153, -0.48233077, -0.01646558, ...,  0.96449925,\n",
       "         0.75196531,  0.41982581],\n",
       "       [-0.83907153, -0.47324558,  0.00392612, ...,  0.92542163,\n",
       "         0.68540362,  0.37440839],\n",
       "       [-0.83907153, -0.46410908,  0.02431613, ...,  0.89579384,\n",
       "         0.65690314,  0.40107702]])"
      ]
     },
     "execution_count": 86,
     "metadata": {},
     "output_type": "execute_result"
    }
   ],
   "source": [
    "z"
   ]
  },
  {
   "cell_type": "code",
   "execution_count": 87,
   "metadata": {},
   "outputs": [
    {
     "data": {
      "image/png": "[encoded data removed]",
      "text/plain": [
       "<Figure size 432x288 with 2 Axes>"
      ]
     },
     "metadata": {
      "needs_background": "light"
     },
     "output_type": "display_data"
    }
   ],
   "source": [
    "%matplotlib inline\n",
    "import matplotlib.pyplot as plt\n",
    "plt.imshow(z, origin='lower', extent=[0, 5, 0, 5],\n",
    "cmap='viridis')\n",
    "plt.colorbar();"
   ]
  },
  {
   "cell_type": "code",
   "execution_count": 88,
   "metadata": {},
   "outputs": [
    {
     "data": {
      "text/plain": [
       "(365,)"
      ]
     },
     "execution_count": 88,
     "metadata": {},
     "output_type": "execute_result"
    }
   ],
   "source": [
    "import numpy as np\n",
    "import pandas as pd\n",
    "# use Pandas to extract rainfall inches as a NumPy array\n",
    "rainfall = pd.read_csv('Seattle2014.txt')['PRCP'].values\n",
    "inches = rainfall / 254 # 1/10mm -> inches\n",
    "inches.shape"
   ]
  },
  {
   "cell_type": "code",
   "execution_count": 89,
   "metadata": {},
   "outputs": [
    {
     "data": {
      "image/png": "[encoded data removed]",
      "text/plain": [
       "<Figure size 432x288 with 1 Axes>"
      ]
     },
     "metadata": {},
     "output_type": "display_data"
    }
   ],
   "source": [
    "%matplotlib inline\n",
    "import matplotlib.pyplot as plt\n",
    "import seaborn; seaborn.set() # set plot styles\n",
    "plt.hist(inches, 40);"
   ]
  },
  {
   "cell_type": "markdown",
   "metadata": {},
   "source": [
    "# 1.9 Broadcast Comparison compare ufuncs "
   ]
  },
  {
   "cell_type": "code",
   "execution_count": 90,
   "metadata": {},
   "outputs": [],
   "source": [
    "x = np.array([1, 2, 3, 4, 5])"
   ]
  },
  {
   "cell_type": "code",
   "execution_count": 97,
   "metadata": {},
   "outputs": [
    {
     "name": "stdout",
     "output_type": "stream",
     "text": [
      "[ True  True False False False]\n",
      "[False False False  True  True]\n",
      "[ True  True  True False False]\n",
      "[False False  True  True  True]\n",
      "[ True  True False  True  True]\n",
      "[False False  True False False]\n",
      "[False  True False False False]\n"
     ]
    }
   ],
   "source": [
    "print(x < 3) # less than\n",
    "print(x > 3) # greater than\n",
    "print(x <= 3) # less than or equal\n",
    "print(x >= 3) # greater than or equal\n",
    "print(x != 3) # not equal\n",
    "print(x == 3)# equal\n",
    "print((2 * x) == (x ** 2))"
   ]
  },
  {
   "cell_type": "code",
   "execution_count": null,
   "metadata": {},
   "outputs": [],
   "source": [
    "#== np.equal        #compare ufuncs \n",
    "#!= np.not_equal\n",
    "#< np.less\n",
    "#<= np.less_equal\n",
    "#> np.greater\n",
    "#>= np.greater_equal"
   ]
  },
  {
   "cell_type": "code",
   "execution_count": 98,
   "metadata": {},
   "outputs": [
    {
     "data": {
      "text/plain": [
       "array([[5, 0, 3, 3],\n",
       "       [7, 9, 3, 5],\n",
       "       [2, 4, 7, 6]])"
      ]
     },
     "execution_count": 98,
     "metadata": {},
     "output_type": "execute_result"
    }
   ],
   "source": [
    "rng = np.random.RandomState(0)\n",
    "x = rng.randint(10, size=(3, 4))\n",
    "x"
   ]
  },
  {
   "cell_type": "code",
   "execution_count": 99,
   "metadata": {},
   "outputs": [
    {
     "data": {
      "text/plain": [
       "8"
      ]
     },
     "execution_count": 99,
     "metadata": {},
     "output_type": "execute_result"
    }
   ],
   "source": [
    "np.count_nonzero(x < 6) # how many values less than 6?"
   ]
  },
  {
   "cell_type": "code",
   "execution_count": 101,
   "metadata": {},
   "outputs": [
    {
     "data": {
      "text/plain": [
       "8"
      ]
     },
     "execution_count": 101,
     "metadata": {},
     "output_type": "execute_result"
    }
   ],
   "source": [
    "np.sum(x < 6) # how many values less than 6?"
   ]
  },
  {
   "cell_type": "code",
   "execution_count": 102,
   "metadata": {},
   "outputs": [
    {
     "data": {
      "text/plain": [
       "array([4, 2, 2])"
      ]
     },
     "execution_count": 102,
     "metadata": {},
     "output_type": "execute_result"
    }
   ],
   "source": [
    "np.sum(x < 6, axis=1) # how many values less than 6 in each row?"
   ]
  },
  {
   "cell_type": "code",
   "execution_count": 103,
   "metadata": {},
   "outputs": [
    {
     "data": {
      "text/plain": [
       "True"
      ]
     },
     "execution_count": 103,
     "metadata": {},
     "output_type": "execute_result"
    }
   ],
   "source": [
    "# are there any values greater than 8?\n",
    "np.any(x > 8)"
   ]
  },
  {
   "cell_type": "code",
   "execution_count": 104,
   "metadata": {},
   "outputs": [
    {
     "data": {
      "text/plain": [
       "True"
      ]
     },
     "execution_count": 104,
     "metadata": {},
     "output_type": "execute_result"
    }
   ],
   "source": [
    "# are all values less than 10?\n",
    "np.all(x < 10)"
   ]
  },
  {
   "cell_type": "code",
   "execution_count": 107,
   "metadata": {},
   "outputs": [
    {
     "data": {
      "text/plain": [
       "array([ True, False,  True])"
      ]
     },
     "execution_count": 107,
     "metadata": {},
     "output_type": "execute_result"
    }
   ],
   "source": [
    "# are all values in each row less than 8?\n",
    "np.all(x < 8, axis=1)"
   ]
  },
  {
   "cell_type": "markdown",
   "metadata": {},
   "source": [
    "# 1.10 bitwise logic operators, &, |, ^, and ~. boolean ufuncs"
   ]
  },
  {
   "cell_type": "code",
   "execution_count": 108,
   "metadata": {},
   "outputs": [
    {
     "data": {
      "text/plain": [
       "29"
      ]
     },
     "execution_count": 108,
     "metadata": {},
     "output_type": "execute_result"
    }
   ],
   "source": [
    "np.sum((inches > 0.5) & (inches < 1))"
   ]
  },
  {
   "cell_type": "code",
   "execution_count": 110,
   "metadata": {},
   "outputs": [
    {
     "data": {
      "text/plain": [
       "29"
      ]
     },
     "execution_count": 110,
     "metadata": {},
     "output_type": "execute_result"
    }
   ],
   "source": [
    "np.sum(~( (inches <= 0.5) | (inches >= 1) ))"
   ]
  },
  {
   "cell_type": "code",
   "execution_count": null,
   "metadata": {},
   "outputs": [],
   "source": [
    "#& np.bitwise_and boolean ufuncs\n",
    "#| np.bitwise_or\n",
    "#^ np.bitwise_xor\n",
    "#~ np.bitwise_not"
   ]
  },
  {
   "cell_type": "code",
   "execution_count": 111,
   "metadata": {},
   "outputs": [
    {
     "name": "stdout",
     "output_type": "stream",
     "text": [
      "Number days without rain:  215\n",
      "Number days with rain:  150\n",
      "Days with more than 0.5 inches: 37\n",
      "Rainy days with < 0.1 inches : 75\n"
     ]
    }
   ],
   "source": [
    "print(\"Number days without rain: \", np.sum(inches == 0))\n",
    "print(\"Number days with rain: \", np.sum(inches != 0))\n",
    "print(\"Days with more than 0.5 inches:\", np.sum(inches > 0.5))\n",
    "print(\"Rainy days with < 0.1 inches :\", np.sum((inches > 0) &\n",
    "(inches < 0.2)))"
   ]
  },
  {
   "cell_type": "markdown",
   "metadata": {},
   "source": [
    "# 1.11 Boolean Arrays as Masks"
   ]
  },
  {
   "cell_type": "code",
   "execution_count": 113,
   "metadata": {},
   "outputs": [
    {
     "data": {
      "text/plain": [
       "array([[5, 0, 3, 3],\n",
       "       [7, 9, 3, 5],\n",
       "       [2, 4, 7, 6]])"
      ]
     },
     "execution_count": 113,
     "metadata": {},
     "output_type": "execute_result"
    }
   ],
   "source": [
    "x"
   ]
  },
  {
   "cell_type": "code",
   "execution_count": 112,
   "metadata": {},
   "outputs": [
    {
     "data": {
      "text/plain": [
       "array([0, 3, 3, 3, 2, 4])"
      ]
     },
     "execution_count": 112,
     "metadata": {},
     "output_type": "execute_result"
    }
   ],
   "source": [
    "x[x < 5]"
   ]
  },
  {
   "cell_type": "code",
   "execution_count": 114,
   "metadata": {},
   "outputs": [],
   "source": [
    "# construct a mask of all rainy days\n",
    "rainy = (inches > 0)"
   ]
  },
  {
   "cell_type": "code",
   "execution_count": 116,
   "metadata": {},
   "outputs": [],
   "source": [
    "# construct a mask of all summer days (June 21st is the 172nd day)\n",
    "summer = (np.arange(365) - 172 < 90) & (np.arange(365) - 172 > 0)"
   ]
  },
  {
   "cell_type": "code",
   "execution_count": 117,
   "metadata": {},
   "outputs": [
    {
     "name": "stdout",
     "output_type": "stream",
     "text": [
      "Median precip on rainy days in 2014 (inches):  0.19488188976377951\n",
      "Median precip on summer days in 2014 (inches):  0.0\n",
      "Maximum precip on summer days in 2014 (inches):  0.8503937007874016\n",
      "Median precip on non-summer rainy days (inches): 0.20078740157480315\n"
     ]
    }
   ],
   "source": [
    "print(\"Median precip on rainy days in 2014 (inches): \",\n",
    "np.median(inches[rainy]))\n",
    "print(\"Median precip on summer days in 2014 (inches): \",\n",
    "np.median(inches[summer]))\n",
    "print(\"Maximum precip on summer days in 2014 (inches): \",\n",
    "np.max(inches[summer]))\n",
    "print(\"Median precip on non-summer rainy days (inches):\",\n",
    "np.median(inches[rainy & ~summer]))"
   ]
  },
  {
   "cell_type": "markdown",
   "metadata": {},
   "source": [
    "# 1.12 Fancy Indexing"
   ]
  },
  {
   "cell_type": "code",
   "execution_count": 118,
   "metadata": {},
   "outputs": [
    {
     "name": "stdout",
     "output_type": "stream",
     "text": [
      "[51 92 14 71 60 20 82 86 74 74]\n"
     ]
    }
   ],
   "source": [
    "import numpy as np\n",
    "rand = np.random.RandomState(42)\n",
    "x = rand.randint(100, size=10)\n",
    "print(x)"
   ]
  },
  {
   "cell_type": "code",
   "execution_count": 119,
   "metadata": {},
   "outputs": [
    {
     "data": {
      "text/plain": [
       "array([71, 86, 60])"
      ]
     },
     "execution_count": 119,
     "metadata": {},
     "output_type": "execute_result"
    }
   ],
   "source": [
    "ind = [3, 7, 4]\n",
    "x[ind]"
   ]
  },
  {
   "cell_type": "code",
   "execution_count": 120,
   "metadata": {},
   "outputs": [
    {
     "data": {
      "text/plain": [
       "array([[71, 86],\n",
       "       [60, 20]])"
      ]
     },
     "execution_count": 120,
     "metadata": {},
     "output_type": "execute_result"
    }
   ],
   "source": [
    "ind = np.array([[3, 7],\n",
    "[4, 5]])\n",
    "x[ind]"
   ]
  },
  {
   "cell_type": "code",
   "execution_count": 121,
   "metadata": {},
   "outputs": [
    {
     "data": {
      "text/plain": [
       "array([[ 0,  1,  2,  3],\n",
       "       [ 4,  5,  6,  7],\n",
       "       [ 8,  9, 10, 11]])"
      ]
     },
     "execution_count": 121,
     "metadata": {},
     "output_type": "execute_result"
    }
   ],
   "source": [
    "X = np.arange(12).reshape((3, 4))\n",
    "X"
   ]
  },
  {
   "cell_type": "code",
   "execution_count": 122,
   "metadata": {},
   "outputs": [
    {
     "data": {
      "text/plain": [
       "array([ 2,  5, 11])"
      ]
     },
     "execution_count": 122,
     "metadata": {},
     "output_type": "execute_result"
    }
   ],
   "source": [
    "row = np.array([0, 1, 2])\n",
    "col = np.array([2, 1, 3])\n",
    "X[row, col]"
   ]
  },
  {
   "cell_type": "code",
   "execution_count": 123,
   "metadata": {},
   "outputs": [
    {
     "data": {
      "text/plain": [
       "array([[ 2,  1,  3],\n",
       "       [ 6,  5,  7],\n",
       "       [10,  9, 11]])"
      ]
     },
     "execution_count": 123,
     "metadata": {},
     "output_type": "execute_result"
    }
   ],
   "source": [
    "X[row[:, np.newaxis], col]"
   ]
  },
  {
   "cell_type": "code",
   "execution_count": 124,
   "metadata": {},
   "outputs": [
    {
     "name": "stdout",
     "output_type": "stream",
     "text": [
      "[[ 0  1  2  3]\n",
      " [ 4  5  6  7]\n",
      " [ 8  9 10 11]]\n"
     ]
    }
   ],
   "source": [
    "print(X)"
   ]
  },
  {
   "cell_type": "code",
   "execution_count": 125,
   "metadata": {},
   "outputs": [
    {
     "data": {
      "text/plain": [
       "array([10,  8,  9])"
      ]
     },
     "execution_count": 125,
     "metadata": {},
     "output_type": "execute_result"
    }
   ],
   "source": [
    "X[2, [2, 0, 1]] #combine"
   ]
  },
  {
   "cell_type": "code",
   "execution_count": 126,
   "metadata": {},
   "outputs": [
    {
     "data": {
      "text/plain": [
       "array([[ 6,  4,  5],\n",
       "       [10,  8,  9]])"
      ]
     },
     "execution_count": 126,
     "metadata": {},
     "output_type": "execute_result"
    }
   ],
   "source": [
    "X[1:, [2, 0, 1]] #combine with slicing"
   ]
  },
  {
   "cell_type": "code",
   "execution_count": 127,
   "metadata": {},
   "outputs": [
    {
     "data": {
      "text/plain": [
       "array([[ 0,  2],\n",
       "       [ 4,  6],\n",
       "       [ 8, 10]])"
      ]
     },
     "execution_count": 127,
     "metadata": {},
     "output_type": "execute_result"
    }
   ],
   "source": [
    "mask = np.array([1, 0, 1, 0], dtype=bool)\n",
    "X[row[:, np.newaxis], mask]           #combine with masking"
   ]
  },
  {
   "cell_type": "code",
   "execution_count": 128,
   "metadata": {},
   "outputs": [
    {
     "data": {
      "text/plain": [
       "(100, 2)"
      ]
     },
     "execution_count": 128,
     "metadata": {},
     "output_type": "execute_result"
    }
   ],
   "source": [
    "mean = [0, 0]\n",
    "cov = [[1, 2],\n",
    "[2, 5]]\n",
    "X = rand.multivariate_normal(mean, cov, 100)\n",
    "X.shape"
   ]
  },
  {
   "cell_type": "code",
   "execution_count": 129,
   "metadata": {},
   "outputs": [
    {
     "data": {
      "image/png": "[encoded data removed]",
      "text/plain": [
       "<Figure size 432x288 with 1 Axes>"
      ]
     },
     "metadata": {},
     "output_type": "display_data"
    }
   ],
   "source": [
    "%matplotlib inline\n",
    "import matplotlib.pyplot as plt\n",
    "import seaborn; seaborn.set() # for plot styling\n",
    "plt.scatter(X[:, 0], X[:, 1]);"
   ]
  },
  {
   "cell_type": "code",
   "execution_count": 131,
   "metadata": {},
   "outputs": [
    {
     "data": {
      "text/plain": [
       "array([50, 60, 13, 38, 54, 77, 41, 98,  0, 45, 97, 90, 25,  5,  9, 87, 15,\n",
       "       76,  6, 19])"
      ]
     },
     "execution_count": 131,
     "metadata": {},
     "output_type": "execute_result"
    }
   ],
   "source": [
    "indices = np.random.choice(X.shape[0], 20, replace=False)\n",
    "indices"
   ]
  },
  {
   "cell_type": "code",
   "execution_count": 132,
   "metadata": {},
   "outputs": [
    {
     "data": {
      "text/plain": [
       "(20, 2)"
      ]
     },
     "execution_count": 132,
     "metadata": {},
     "output_type": "execute_result"
    }
   ],
   "source": [
    "selection = X[indices] # fancy indexing here\n",
    "selection.shape"
   ]
  },
  {
   "cell_type": "code",
   "execution_count": 133,
   "metadata": {},
   "outputs": [
    {
     "data": {
      "image/png": "[encoded data removed]",
      "text/plain": [
       "<Figure size 432x288 with 1 Axes>"
      ]
     },
     "metadata": {},
     "output_type": "display_data"
    }
   ],
   "source": [
    "plt.scatter(X[:, 0], X[:, 1], alpha=0.3)\n",
    "plt.scatter(selection[:, 0], selection[:, 1],\n",
    "facecolor='none', s=200);"
   ]
  },
  {
   "cell_type": "code",
   "execution_count": 135,
   "metadata": {},
   "outputs": [
    {
     "name": "stdout",
     "output_type": "stream",
     "text": [
      "[0. 0. 1. 2. 3. 0. 0. 0. 0. 0.]\n"
     ]
    }
   ],
   "source": [
    "i = [2, 3, 3, 4, 4, 4]\n",
    "x = np.zeros(10)\n",
    "np.add.at(x, i, 1) #vectorized operation with at()! reduceat() is alike one\n",
    "print(x)"
   ]
  },
  {
   "cell_type": "code",
   "execution_count": 136,
   "metadata": {},
   "outputs": [],
   "source": [
    "np.random.seed(42)\n",
    "x = np.random.randn(100)"
   ]
  },
  {
   "cell_type": "code",
   "execution_count": 138,
   "metadata": {},
   "outputs": [],
   "source": [
    "# compute a histogram by hand\n",
    "bins = np.linspace(-5, 5, 20)\n",
    "counts = np.zeros_like(bins)"
   ]
  },
  {
   "cell_type": "code",
   "execution_count": 139,
   "metadata": {},
   "outputs": [],
   "source": [
    "# find the appropriate bin for each x\n",
    "i = np.searchsorted(bins, x)"
   ]
  },
  {
   "cell_type": "code",
   "execution_count": 140,
   "metadata": {},
   "outputs": [],
   "source": [
    "# add 1 to each of these bins\n",
    "np.add.at(counts, i, 1)"
   ]
  },
  {
   "cell_type": "code",
   "execution_count": 141,
   "metadata": {},
   "outputs": [
    {
     "name": "stderr",
     "output_type": "stream",
     "text": [
      "C:\\Users\\Titan\\Anaconda3\\lib\\site-packages\\ipykernel_launcher.py:2: MatplotlibDeprecationWarning: Passing the drawstyle with the linestyle as a single string is deprecated since Matplotlib 3.1 and support will be removed in 3.3; please pass the drawstyle separately using the drawstyle keyword argument to Line2D or set_drawstyle() method (or ds/set_ds()).\n",
      "  \n"
     ]
    },
    {
     "data": {
      "image/png": "[encoded data removed]",
      "text/plain": [
       "<Figure size 432x288 with 1 Axes>"
      ]
     },
     "metadata": {},
     "output_type": "display_data"
    }
   ],
   "source": [
    "# plot the results\n",
    "plt.plot(bins, counts, linestyle='steps');"
   ]
  },
  {
   "cell_type": "code",
   "execution_count": 143,
   "metadata": {},
   "outputs": [
    {
     "data": {
      "text/plain": [
       "array([ 0.,  0.,  0.,  0.,  0.,  1.,  3.,  7.,  9., 23., 22., 17., 10.,\n",
       "        7.,  1.,  0.,  0.,  0.,  0.,  0.])"
      ]
     },
     "execution_count": 143,
     "metadata": {},
     "output_type": "execute_result"
    }
   ],
   "source": [
    "counts"
   ]
  },
  {
   "cell_type": "code",
   "execution_count": 145,
   "metadata": {},
   "outputs": [
    {
     "data": {
      "image/png": "[encoded data removed]",
      "text/plain": [
       "<Figure size 432x288 with 1 Axes>"
      ]
     },
     "metadata": {},
     "output_type": "display_data"
    }
   ],
   "source": [
    "plt.hist(x, bins, histtype='step');"
   ]
  },
  {
   "cell_type": "code",
   "execution_count": 146,
   "metadata": {},
   "outputs": [
    {
     "name": "stdout",
     "output_type": "stream",
     "text": [
      "NumPy routine:\n",
      "17.1 µs ± 160 ns per loop (mean ± std. dev. of 7 runs, 100000 loops each)\n",
      "Custom routine:\n",
      "11.9 µs ± 76.6 ns per loop (mean ± std. dev. of 7 runs, 100000 loops each)\n"
     ]
    }
   ],
   "source": [
    "print(\"NumPy routine:\")\n",
    "%timeit counts, edges = np.histogram(x, bins)\n",
    "print(\"Custom routine:\")\n",
    "%timeit np.add.at(counts, np.searchsorted(bins, x), 1)"
   ]
  },
  {
   "cell_type": "code",
   "execution_count": 147,
   "metadata": {},
   "outputs": [],
   "source": [
    "#np.histogram?? #source code"
   ]
  },
  {
   "cell_type": "markdown",
   "metadata": {},
   "source": [
    "# 1.13 Array sorting"
   ]
  },
  {
   "cell_type": "code",
   "execution_count": 1,
   "metadata": {},
   "outputs": [
    {
     "data": {
      "text/plain": [
       "array([1, 2, 3, 4, 5])"
      ]
     },
     "execution_count": 1,
     "metadata": {},
     "output_type": "execute_result"
    }
   ],
   "source": [
    "import numpy as np\n",
    "def selection_sort(x):           #array sorting too slow to be useful for larger arrays \n",
    "    for i in range(len(x)):                #For a list of N values, it requires N loops\n",
    "        swap = i + np.argmin(x[i:])         #O(N^2)\n",
    "        (x[i], x[swap]) = (x[swap], x[i])\n",
    "    return x\n",
    "x = np.array([2, 1, 4, 3, 5])\n",
    "selection_sort(x)"
   ]
  },
  {
   "cell_type": "code",
   "execution_count": 2,
   "metadata": {},
   "outputs": [
    {
     "data": {
      "text/plain": [
       "array([1, 2, 3, 4, 5])"
      ]
     },
     "execution_count": 2,
     "metadata": {},
     "output_type": "execute_result"
    }
   ],
   "source": [
    "def bogosort(x):\n",
    "    while np.any(x[:-1] > x[1:]):        #O (N × N!) baddest thing\n",
    "        np.random.shuffle(x)\n",
    "    return x\n",
    "x = np.array([2, 1, 4, 3, 5])\n",
    "bogosort(x)"
   ]
  },
  {
   "cell_type": "code",
   "execution_count": 3,
   "metadata": {},
   "outputs": [
    {
     "data": {
      "text/plain": [
       "array([1, 2, 3, 4, 5])"
      ]
     },
     "execution_count": 3,
     "metadata": {},
     "output_type": "execute_result"
    }
   ],
   "source": [
    "x = np.array([2, 1, 4, 3, 5])\n",
    "np.sort(x)                     #np.sort uses an O N log N , quicksort algorithm"
   ]
  },
  {
   "cell_type": "code",
   "execution_count": 4,
   "metadata": {},
   "outputs": [
    {
     "name": "stdout",
     "output_type": "stream",
     "text": [
      "[1 2 3 4 5]\n"
     ]
    }
   ],
   "source": [
    "x.sort() #method\n",
    "print(x)"
   ]
  },
  {
   "cell_type": "code",
   "execution_count": 5,
   "metadata": {},
   "outputs": [
    {
     "name": "stdout",
     "output_type": "stream",
     "text": [
      "[1 0 3 2 4]\n"
     ]
    }
   ],
   "source": [
    "x = np.array([2, 1, 4, 3, 5])\n",
    "i = np.argsort(x)          #returns the indices of the sorted\n",
    "print(i)"
   ]
  },
  {
   "cell_type": "code",
   "execution_count": 6,
   "metadata": {},
   "outputs": [
    {
     "name": "stdout",
     "output_type": "stream",
     "text": [
      "[[6 3 7 4 6 9]\n",
      " [2 6 7 4 3 7]\n",
      " [7 2 5 4 1 7]\n",
      " [5 1 4 0 9 5]]\n"
     ]
    }
   ],
   "source": [
    "rand = np.random.RandomState(42)\n",
    "X = rand.randint(0, 10, (4, 6))\n",
    "print(X)"
   ]
  },
  {
   "cell_type": "code",
   "execution_count": 7,
   "metadata": {},
   "outputs": [
    {
     "data": {
      "text/plain": [
       "array([[2, 1, 4, 0, 1, 5],\n",
       "       [5, 2, 5, 4, 3, 7],\n",
       "       [6, 3, 7, 4, 6, 7],\n",
       "       [7, 6, 7, 4, 9, 9]])"
      ]
     },
     "execution_count": 7,
     "metadata": {},
     "output_type": "execute_result"
    }
   ],
   "source": [
    "#Sorting along rows or columns\n",
    "# sort each column of X\n",
    "np.sort(X, axis=0)"
   ]
  },
  {
   "cell_type": "code",
   "execution_count": 8,
   "metadata": {},
   "outputs": [
    {
     "data": {
      "text/plain": [
       "array([2, 1, 3, 4, 6, 5, 7])"
      ]
     },
     "execution_count": 8,
     "metadata": {},
     "output_type": "execute_result"
    }
   ],
   "source": [
    "x = np.array([7, 2, 3, 1, 6, 5, 4])\n",
    "np.partition(x, 3)                      #first three values in the resulting array are the three smallest in the\n",
    "                                        #array elements have arbitrary order"
   ]
  },
  {
   "cell_type": "code",
   "execution_count": 9,
   "metadata": {},
   "outputs": [
    {
     "data": {
      "text/plain": [
       "array([[3, 4, 6, 7, 6, 9],\n",
       "       [2, 3, 4, 7, 6, 7],\n",
       "       [1, 2, 4, 5, 7, 7],\n",
       "       [0, 1, 4, 5, 9, 5]])"
      ]
     },
     "execution_count": 9,
     "metadata": {},
     "output_type": "execute_result"
    }
   ],
   "source": [
    "np.partition(X, 2, axis=1)  #two slots in each row contain the smallest values"
   ]
  },
  {
   "cell_type": "code",
   "execution_count": 11,
   "metadata": {},
   "outputs": [
    {
     "data": {
      "text/plain": [
       "array([[0.23089383, 0.24102547],\n",
       "       [0.68326352, 0.60999666],\n",
       "       [0.83319491, 0.17336465],\n",
       "       [0.39106061, 0.18223609],\n",
       "       [0.75536141, 0.42515587],\n",
       "       [0.20794166, 0.56770033],\n",
       "       [0.03131329, 0.84228477],\n",
       "       [0.44975413, 0.39515024],\n",
       "       [0.92665887, 0.727272  ],\n",
       "       [0.32654077, 0.57044397]])"
      ]
     },
     "execution_count": 11,
     "metadata": {},
     "output_type": "execute_result"
    }
   ],
   "source": [
    "X = rand.rand(10, 2)\n",
    "X"
   ]
  },
  {
   "cell_type": "code",
   "execution_count": 12,
   "metadata": {},
   "outputs": [
    {
     "data": {
      "image/png": "[encoded data removed]",
      "text/plain": [
       "<Figure size 432x288 with 1 Axes>"
      ]
     },
     "metadata": {},
     "output_type": "display_data"
    }
   ],
   "source": [
    "%matplotlib inline\n",
    "import matplotlib.pyplot as plt\n",
    "import seaborn; seaborn.set() # Plot styling\n",
    "plt.scatter(X[:, 0], X[:, 1], s=100);"
   ]
  },
  {
   "cell_type": "code",
   "execution_count": 14,
   "metadata": {},
   "outputs": [
    {
     "data": {
      "text/plain": [
       "array([[0.        , 0.34077808, 0.36734458, 0.02910959, 0.30897025,\n",
       "        0.10724327, 0.40134515, 0.07165428, 0.72052468, 0.11766489],\n",
       "       [0.34077808, 0.        , 0.21312693, 0.26836165, 0.03936422,\n",
       "        0.22771985, 0.47899687, 0.10068562, 0.0729948 , 0.12881554],\n",
       "       [0.36734458, 0.21312693, 0.        , 0.19556145, 0.06945687,\n",
       "        0.54644225, 1.09046826, 0.19621568, 0.31554885, 0.41437041],\n",
       "       [0.02910959, 0.26836165, 0.19556145, 0.        , 0.1917251 ,\n",
       "        0.18211523, 0.5650824 , 0.04877736, 0.58392964, 0.15486817],\n",
       "       [0.30897025, 0.03936422, 0.06945687, 0.1917251 , 0.        ,\n",
       "        0.3199873 , 0.6982422 , 0.09429615, 0.12061697, 0.20499577],\n",
       "       [0.10724327, 0.22771985, 0.54644225, 0.18211523, 0.3199873 ,\n",
       "        0.        , 0.1065942 , 0.08824681, 0.54201754, 0.01407328],\n",
       "       [0.40134515, 0.47899687, 1.09046826, 0.5650824 , 0.6982422 ,\n",
       "        0.1065942 , 0.        , 0.37502203, 0.81487163, 0.16105668],\n",
       "       [0.07165428, 0.10068562, 0.19621568, 0.04877736, 0.09429615,\n",
       "        0.08824681, 0.37502203, 0.        , 0.33774299, 0.04590943],\n",
       "       [0.72052468, 0.0729948 , 0.31554885, 0.58392964, 0.12061697,\n",
       "        0.54201754, 0.81487163, 0.33774299, 0.        , 0.38473676],\n",
       "       [0.11766489, 0.12881554, 0.41437041, 0.15486817, 0.20499577,\n",
       "        0.01407328, 0.16105668, 0.04590943, 0.38473676, 0.        ]])"
      ]
     },
     "execution_count": 14,
     "metadata": {},
     "output_type": "execute_result"
    }
   ],
   "source": [
    "dist_sq = np.sum((X[:,np.newaxis,:] - X[np.newaxis,:,:]) ** 2, axis=-1)\n",
    "dist_sq                     #squared distance between all points"
   ]
  },
  {
   "cell_type": "code",
   "execution_count": 15,
   "metadata": {},
   "outputs": [
    {
     "data": {
      "text/plain": [
       "array([0., 0., 0., 0., 0., 0., 0., 0., 0., 0.])"
      ]
     },
     "execution_count": 15,
     "metadata": {},
     "output_type": "execute_result"
    }
   ],
   "source": [
    "dist_sq.diagonal() #diagonal"
   ]
  },
  {
   "cell_type": "code",
   "execution_count": 16,
   "metadata": {},
   "outputs": [
    {
     "name": "stdout",
     "output_type": "stream",
     "text": [
      "[[0 3 7 5 9 4 1 2 6 8]\n",
      " [1 4 8 7 9 2 5 3 0 6]\n",
      " [2 4 3 7 1 8 0 9 5 6]\n",
      " [3 0 7 9 5 4 2 1 6 8]\n",
      " [4 1 2 7 8 3 9 0 5 6]\n",
      " [5 9 7 6 0 3 1 4 8 2]\n",
      " [6 5 9 7 0 1 3 4 8 2]\n",
      " [7 9 3 0 5 4 1 2 8 6]\n",
      " [8 1 4 2 7 9 5 3 0 6]\n",
      " [9 5 7 0 1 3 6 4 8 2]]\n"
     ]
    }
   ],
   "source": [
    "nearest = np.argsort(dist_sq, axis=1)\n",
    "print(nearest)"
   ]
  },
  {
   "cell_type": "code",
   "execution_count": 20,
   "metadata": {},
   "outputs": [
    {
     "data": {
      "image/png": "[encoded data removed]",
      "text/plain": [
       "<Figure size 432x288 with 1 Axes>"
      ]
     },
     "metadata": {
      "needs_background": "light"
     },
     "output_type": "display_data"
    }
   ],
   "source": [
    "plt.scatter(X[:, 0], X[:, 1], s=100)\n",
    "# draw lines from each point to its two nearest neighbors\n",
    "K = 2\n",
    "nearest_partition = np.argpartition(dist_sq, K + 1, axis=1)\n",
    "for i in range(X.shape[0]):\n",
    "    for j in nearest_partition[i, :K+1]:\n",
    "        # plot a line from X[i] to X[j]\n",
    "        # use some zip magic to make it happen:\n",
    "        plt.plot(*zip(X[j], X[i]), color='black')"
   ]
  },
  {
   "cell_type": "markdown",
   "metadata": {},
   "source": [
    "# 1.14 NumPy’s Structured Arrays"
   ]
  },
  {
   "cell_type": "code",
   "execution_count": 13,
   "metadata": {},
   "outputs": [],
   "source": [
    "name = ['Alice', 'Bob', 'Cathy', 'Doug']\n",
    "age = [25, 45, 37, 19]\n",
    "weight = [55.0, 85.5, 68.0, 61.5]"
   ]
  },
  {
   "cell_type": "code",
   "execution_count": 15,
   "metadata": {},
   "outputs": [
    {
     "name": "stdout",
     "output_type": "stream",
     "text": [
      "[('name', '<U10'), ('age', '<i4'), ('weight', '<f8')]\n",
      "[('', 0, 0.) ('', 0, 0.) ('', 0, 0.) ('', 0, 0.)]\n"
     ]
    }
   ],
   "source": [
    "import numpy as np\n",
    "# Use a compound data type for structured arrays\n",
    "data = np.zeros(4, dtype={'names':('name', 'age', 'weight'),\n",
    "                            'formats':('U10', 'i4', 'f8')})\n",
    "print(data.dtype)\n",
    "print(data)\n",
    "#'U10' translates to “Unicode string of maximum length 10,”\n",
    "#'i4' translates to “4-byte (i.e., 32 bit) integer,”\n",
    "#'f8' translates to “8-byte (i.e., 64 bit) float.”"
   ]
  },
  {
   "cell_type": "code",
   "execution_count": 16,
   "metadata": {},
   "outputs": [
    {
     "name": "stdout",
     "output_type": "stream",
     "text": [
      "[('Alice', 25, 55. ) ('Bob', 45, 85.5) ('Cathy', 37, 68. )\n",
      " ('Doug', 19, 61.5)]\n"
     ]
    }
   ],
   "source": [
    "data['name'] = name\n",
    "data['age'] = age\n",
    "data['weight'] = weight\n",
    "print(data)"
   ]
  },
  {
   "cell_type": "code",
   "execution_count": 17,
   "metadata": {},
   "outputs": [
    {
     "data": {
      "text/plain": [
       "array(['Alice', 'Bob', 'Cathy', 'Doug'], dtype='<U10')"
      ]
     },
     "execution_count": 17,
     "metadata": {},
     "output_type": "execute_result"
    }
   ],
   "source": [
    "# Get all names\n",
    "data['name']"
   ]
  },
  {
   "cell_type": "code",
   "execution_count": 18,
   "metadata": {},
   "outputs": [
    {
     "data": {
      "text/plain": [
       "('Alice', 25, 55.)"
      ]
     },
     "execution_count": 18,
     "metadata": {},
     "output_type": "execute_result"
    }
   ],
   "source": [
    "# Get first row of data\n",
    "data[0]"
   ]
  },
  {
   "cell_type": "code",
   "execution_count": 19,
   "metadata": {},
   "outputs": [
    {
     "data": {
      "text/plain": [
       "array(['Alice', 'Doug'], dtype='<U10')"
      ]
     },
     "execution_count": 19,
     "metadata": {},
     "output_type": "execute_result"
    }
   ],
   "source": [
    "# Get names where age is under 30\n",
    "data[data['age'] < 30]['name']"
   ]
  },
  {
   "cell_type": "code",
   "execution_count": 20,
   "metadata": {},
   "outputs": [
    {
     "data": {
      "text/plain": [
       "dtype([('name', '<U10'), ('age', '<i4'), ('weight', '<f8')])"
      ]
     },
     "execution_count": 20,
     "metadata": {},
     "output_type": "execute_result"
    }
   ],
   "source": [
    "np.dtype({'names':('name', 'age', 'weight'),\n",
    "            'formats':('U10', 'i4', 'f8')})"
   ]
  },
  {
   "cell_type": "code",
   "execution_count": 21,
   "metadata": {},
   "outputs": [
    {
     "data": {
      "text/plain": [
       "dtype([('name', '<U10'), ('age', '<i4'), ('weight', '<f4')])"
      ]
     },
     "execution_count": 21,
     "metadata": {},
     "output_type": "execute_result"
    }
   ],
   "source": [
    "np.dtype({'names':('name', 'age', 'weight'),\n",
    "            'formats':((np.str_, 10), int, np.float32)})"
   ]
  },
  {
   "cell_type": "code",
   "execution_count": 22,
   "metadata": {},
   "outputs": [
    {
     "data": {
      "text/plain": [
       "dtype([('name', 'S10'), ('age', '<i4'), ('weight', '<f8')])"
      ]
     },
     "execution_count": 22,
     "metadata": {},
     "output_type": "execute_result"
    }
   ],
   "source": [
    "np.dtype([('name', 'S10'), ('age', 'i4'), ('weight', 'f8')])"
   ]
  },
  {
   "cell_type": "code",
   "execution_count": 23,
   "metadata": {},
   "outputs": [
    {
     "data": {
      "text/plain": [
       "dtype([('f0', 'S10'), ('f1', '<i4'), ('f2', '<f8')])"
      ]
     },
     "execution_count": 23,
     "metadata": {},
     "output_type": "execute_result"
    }
   ],
   "source": [
    "np.dtype('S10,i4,f8')          #types"
   ]
  },
  {
   "cell_type": "code",
   "execution_count": null,
   "metadata": {},
   "outputs": [],
   "source": [
    "#formats\n",
    "#'b' Byte np.dtype('b')\n",
    "#'i' Signed integer np.dtype('i4') == np.int32\n",
    "#'u' Unsigned integer np.dtype('u1') == np.uint8\n",
    "#'f' Floating point np.dtype('f8') == np.int64\n",
    "#'c' Complex floating point np.dtype('c16') == np.complex128\n",
    "#'S', 'a' string np.dtype('S5')\n",
    "#'U' Unicode string np.dtype('U') == np.str_\n",
    "#'V' Raw data (void) np.dtype('V') == np.void"
   ]
  },
  {
   "cell_type": "code",
   "execution_count": 24,
   "metadata": {},
   "outputs": [
    {
     "name": "stdout",
     "output_type": "stream",
     "text": [
      "(0, [[0., 0., 0.], [0., 0., 0.], [0., 0., 0.]])\n",
      "[[0. 0. 0.]\n",
      " [0. 0. 0.]\n",
      " [0. 0. 0.]]\n"
     ]
    }
   ],
   "source": [
    "tp = np.dtype([('id', 'i8'), ('mat', 'f8', (3, 3))])\n",
    "X = np.zeros(1, dtype=tp)\n",
    "print(X[0])\n",
    "print(X['mat'][0])"
   ]
  },
  {
   "cell_type": "code",
   "execution_count": 26,
   "metadata": {},
   "outputs": [
    {
     "data": {
      "text/plain": [
       "array([(0, [[0., 0., 0.], [0., 0., 0.], [0., 0., 0.]])],\n",
       "      dtype=[('id', '<i8'), ('mat', '<f8', (3, 3))])"
      ]
     },
     "execution_count": 26,
     "metadata": {},
     "output_type": "execute_result"
    }
   ],
   "source": [
    "X"
   ]
  },
  {
   "cell_type": "markdown",
   "metadata": {},
   "source": [
    "# 1.15 RecordArrays: Structured Arrays with a Twist np.recarray"
   ]
  },
  {
   "cell_type": "code",
   "execution_count": 27,
   "metadata": {},
   "outputs": [
    {
     "data": {
      "text/plain": [
       "array([25, 45, 37, 19])"
      ]
     },
     "execution_count": 27,
     "metadata": {},
     "output_type": "execute_result"
    }
   ],
   "source": [
    "data_rec = data.view(np.recarray) #np.recarray\n",
    "data_rec.age"
   ]
  }
 ],
 "metadata": {
  "kernelspec": {
   "display_name": "Python 3",
   "language": "python",
   "name": "python3"
  },
  "language_info": {
   "codemirror_mode": {
    "name": "ipython",
    "version": 3
   },
   "file_extension": ".py",
   "mimetype": "text/x-python",
   "name": "python",
   "nbconvert_exporter": "python",
   "pygments_lexer": "ipython3",
   "version": "3.7.4"
  }
 },
 "nbformat": 4,
 "nbformat_minor": 2
}
