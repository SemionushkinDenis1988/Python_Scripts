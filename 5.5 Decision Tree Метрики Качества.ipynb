{
 "cells": [
  {
   "cell_type": "markdown",
   "metadata": {},
   "source": [
    "# Метрики качества "
   ]
  },
  {
   "cell_type": "code",
   "execution_count": null,
   "metadata": {},
   "outputs": [],
   "source": [
    "#Метрики качества - это такие метрики, с помощью которых мы можем понять, как хорошо наша модель справляется с задачей\n",
    "#классификации\n",
    "#Метрика accuracy - общий процент правильных ответов, зачастую бесполезна, и даже может вводить нас в заблуждение, например\n",
    "#в случае, когда из 100 переменных 90 - ноль, то если наша модель предскажет 100 нулей, тогда будет точность предсказания 90%\n",
    "#поэтому нам нужно понимать насколько хорошо наша модель справляется с правильностью классификации внутри каждого из классов,\n",
    "#например 90 нулей и 10 единиц, насколько хорошо она ищет 1 и 0"
   ]
  },
  {
   "cell_type": "markdown",
   "metadata": {},
   "source": [
    "# Базовые метрики:"
   ]
  },
  {
   "cell_type": "code",
   "execution_count": null,
   "metadata": {},
   "outputs": [],
   "source": [
    "#Три базовые метрики:\n",
    "#1)Presision \n",
    "#2)Recall\n",
    "#3)F-мера"
   ]
  },
  {
   "cell_type": "code",
   "execution_count": null,
   "metadata": {},
   "outputs": [],
   "source": [
    "#Precision = TP/TP+FP, где TP - true positive(верное предсказание), FP - false positive(неверное предсказание)\n",
    "#в случае если всё верное предсказано, Precision = 1\n",
    "#если есть ложные срабатывания(например FP=7)  Precision = 6/6+7 = 0.46\n",
    "#если у нас не срабатывает алгоритм, когда должен(например FN = 4) Precision = 1"
   ]
  },
  {
   "cell_type": "code",
   "execution_count": null,
   "metadata": {},
   "outputs": [],
   "source": [
    "#Recall = TP/TP+FN, где TP - true positive(верное предсказание), FN - false negative(неверное не предсказание)\n",
    "#в случае если всё верное предсказано, Recall = 1\n",
    "#если есть ложные срабатывания(например FP=7)  Recall всё равно остается равным 1\n",
    "#если у нас не срабатывает алгоритм, когда должен(например FN = 4) Recall = 2/2+4 = 0.33"
   ]
  },
  {
   "cell_type": "code",
   "execution_count": null,
   "metadata": {},
   "outputs": [],
   "source": [
    "#Precision и Recall показывают в какие стороны наш алгоритм может уйти, показывают, как хорошо нашему классификатору удается\n",
    "#справляться с двумя задачами классификации\n",
    "#Precision(точность) - показывает как хорошо у нас получается находить положительные классы, то есть на сколько много \n",
    "#срабатываний оказались верными\n",
    "#Recall(полнота) - показывает на сколько много не срабатываний оказались не верны"
   ]
  },
  {
   "cell_type": "code",
   "execution_count": null,
   "metadata": {},
   "outputs": [],
   "source": [
    "# Precision и Recall не связаны друг с другом, и мы можем их оптимизировать по отдельности, но что делать если мы не знаем\n",
    "#Что нам нужно оптимизировать  Precision или Recall? Есть способ оптимизировать их одновременно.\n",
    "#Чтобы оптимизировать одновременно Precision и Recall используется F-мера(F1 score)\n",
    "#При этом в F-мере можно отдавать предпочтение одной из мер(Precision или Recall)"
   ]
  },
  {
   "cell_type": "code",
   "execution_count": null,
   "metadata": {},
   "outputs": [],
   "source": [
    "#Чтобы оптимизировать одновременно Precision и Recall используется F-мера(F1 score)\n",
    "#F-мера = 2*Precision*Recall/(Precision+Recall)\n",
    "#При этом в F-мере можно отдавать предпочтение одной из мер(Precision или Recall)"
   ]
  },
  {
   "cell_type": "code",
   "execution_count": null,
   "metadata": {},
   "outputs": [],
   "source": [
    "#Precision \n",
    "#https://scikit-learn.org/stable/modules/generated/sklearn.metrics.precision_score.html#sklearn.metrics.precision_score\n",
    "#Recall\n",
    "#https://scikit-learn.org/stable/modules/generated/sklearn.metrics.recall_score.html#sklearn.metrics.recall_score\n",
    "#F1 score\n",
    "#https://scikit-learn.org/stable/modules/generated/sklearn.metrics.f1_score.html"
   ]
  },
  {
   "cell_type": "code",
   "execution_count": null,
   "metadata": {},
   "outputs": [],
   "source": [
    "#Такой формат представления предсказания модели и реальных исходов называется confusion matrix. \n",
    "#Глядя на такую таблицу, легко можно понять, где именно ошибается наша модель. \n",
    "#А также рассчитать различные метрики качества модели."
   ]
  },
  {
   "cell_type": "markdown",
   "metadata": {},
   "source": [
    "# Пример тиндера"
   ]
  },
  {
   "cell_type": "code",
   "execution_count": null,
   "metadata": {},
   "outputs": [],
   "source": [
    "#Представим, что мы устроились аналитиком в Tinder приложение\n",
    "#Ключевые понятия для тиндера(метрики продукта): \n",
    "#1)Приток новой аудитории\n",
    "#2)Отток существующей аудитории\n",
    "#3)Доход\n",
    "#4)Удовлетворенность\n",
    "#Самое важное для нас - баланс между этими метриками ПРОДУКТА\n",
    "#Например, если мы будем давать пользователю только суперреллевантные данные, то он может перестать пользоваться нашим \n",
    "#приложением\n",
    "#Поэтому нам нужно оптимизировать нашу модель так, чтобы максимизировать метрики продукта.\n",
    "#С одной стороны модель можно оценить по качеству её работы, а с другой стороны можно оценить результаты воздействия модели\n",
    "#на продукт"
   ]
  },
  {
   "cell_type": "code",
   "execution_count": null,
   "metadata": {},
   "outputs": [],
   "source": [
    "#предсказания нашей системы разбиваются на два Positiv и Negative. \n",
    "#В Positive смотрим True positive и False positive\n",
    "#В Negative смотрим False Negative"
   ]
  },
  {
   "cell_type": "code",
   "execution_count": null,
   "metadata": {},
   "outputs": [],
   "source": [
    "#precision = \"не прихватить лишнее?\"\n",
    "#recall = \"не пропустить нужное ?\""
   ]
  },
  {
   "cell_type": "code",
   "execution_count": null,
   "metadata": {},
   "outputs": [],
   "source": [
    "import pandas as pd\n",
    "from sklearn.tree import DecisionTreeClassifier\n",
    "from sklearn.metrics import precision_score\n",
    "clf = DecisionTreeClassifier()                     #\n",
    "clf.fit(x_train, y_train)\n",
    "predictions = clf.predict(x_test)\n",
    "precision = precision_score(y_test, predictions, average='micro')"
   ]
  }
 ],
 "metadata": {
  "kernelspec": {
   "display_name": "Python 3",
   "language": "python",
   "name": "python3"
  },
  "language_info": {
   "codemirror_mode": {
    "name": "ipython",
    "version": 3
   },
   "file_extension": ".py",
   "mimetype": "text/x-python",
   "name": "python",
   "nbconvert_exporter": "python",
   "pygments_lexer": "ipython3",
   "version": "3.7.3"
  }
 },
 "nbformat": 4,
 "nbformat_minor": 2
}
