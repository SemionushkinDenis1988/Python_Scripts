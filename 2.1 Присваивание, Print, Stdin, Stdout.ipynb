{
 "cells": [
  {
   "cell_type": "markdown",
   "metadata": {},
   "source": [
    "# Инструкции"
   ]
  },
  {
   "cell_type": "code",
   "execution_count": null,
   "metadata": {},
   "outputs": [],
   "source": [
    "#1. Программы делятся на модули.\n",
    "#2. Модули содержат инструкции.\n",
    "#3. Инструкции состоят из выражений.\n",
    "#4. Выражения создают и обрабатывают объекты."
   ]
  },
  {
   "cell_type": "markdown",
   "metadata": {},
   "source": [
    "## Некоторые циклы While с try, break, except, finally"
   ]
  },
  {
   "cell_type": "code",
   "execution_count": 9,
   "metadata": {
    "scrolled": true
   },
   "outputs": [
    {
     "name": "stdout",
     "output_type": "stream",
     "text": [
      "Enter text:aaaa\n",
      "AAAA\n",
      "Enter text:stop\n"
     ]
    }
   ],
   "source": [
    "while True:\n",
    "    reply = input('Enter text:')\n",
    "    if reply == 'stop': break       #на одной строке\n",
    "    print(reply.upper())"
   ]
  },
  {
   "cell_type": "code",
   "execution_count": 52,
   "metadata": {},
   "outputs": [
    {
     "name": "stdout",
     "output_type": "stream",
     "text": [
      "Python\n"
     ]
    }
   ],
   "source": [
    "eval('print(\"Python\")') #Функция eval, с которой мы встретимся далее в книге, интерпретирует стро-\n",
    "                        #ку во входном аргументе как программный код на языке Python"
   ]
  },
  {
   "cell_type": "code",
   "execution_count": 13,
   "metadata": {},
   "outputs": [
    {
     "name": "stdout",
     "output_type": "stream",
     "text": [
      "Enter text:20\n",
      "400\n",
      "Enter text:xxx\n",
      "Bad!Bad!Bad!Bad!Bad!Bad!Bad!Bad!\n",
      "Enter text:stop\n",
      "Bye\n"
     ]
    }
   ],
   "source": [
    "while True:\n",
    "    reply = input('Enter text:')\n",
    "    if reply == 'stop':\n",
    "        break                     #использование break\n",
    "    elif not reply.isdigit( ):\n",
    "        print('Bad!' * 8)\n",
    "    else:\n",
    "        print(int(reply) ** 2)\n",
    "print('Bye')"
   ]
  },
  {
   "cell_type": "code",
   "execution_count": 16,
   "metadata": {
    "scrolled": true
   },
   "outputs": [
    {
     "name": "stdout",
     "output_type": "stream",
     "text": [
      "Enter text:2\n",
      "4\n",
      "Enter text:4\n",
      "16\n",
      "Enter text:xxx\n",
      "Bad!Bad!Bad!Bad!Bad!Bad!Bad!Bad!\n",
      "Enter text:stop\n",
      "Bye\n"
     ]
    }
   ],
   "source": [
    "while True:\n",
    "    reply = input('Enter text:')\n",
    "    if reply == 'stop': break\n",
    "    try:                            #использование try (try/except/finally)\n",
    "        num = int(reply) \n",
    "    except:                          #ловит любую ошибку\n",
    "        print('Bad!' * 8)\n",
    "    else:                           #часть else связана с инструкцией try, а не с условной инструкцией if\n",
    "        print(int(reply) ** 2)\n",
    "print('Bye')"
   ]
  },
  {
   "cell_type": "code",
   "execution_count": 17,
   "metadata": {},
   "outputs": [
    {
     "name": "stdout",
     "output_type": "stream",
     "text": [
      "Enter text:4\n",
      "16\n",
      "Enter text:6\n",
      "36\n",
      "Enter text:xxx\n",
      "Bad!Bad!Bad!Bad!Bad!Bad!Bad!Bad!\n"
     ]
    },
    {
     "ename": "ValueError",
     "evalue": "invalid literal for int() with base 10: 'xxx'",
     "output_type": "error",
     "traceback": [
      "\u001b[1;31m---------------------------------------------------------------------------\u001b[0m",
      "\u001b[1;31mValueError\u001b[0m                                Traceback (most recent call last)",
      "\u001b[1;32m<ipython-input-17-505f740457ff>\u001b[0m in \u001b[0;36m<module>\u001b[1;34m\u001b[0m\n\u001b[0;32m      7\u001b[0m         \u001b[0mprint\u001b[0m\u001b[1;33m(\u001b[0m\u001b[1;34m'Bad!'\u001b[0m \u001b[1;33m*\u001b[0m \u001b[1;36m8\u001b[0m\u001b[1;33m)\u001b[0m\u001b[1;33m\u001b[0m\u001b[1;33m\u001b[0m\u001b[0m\n\u001b[0;32m      8\u001b[0m     \u001b[1;32mfinally\u001b[0m\u001b[1;33m:\u001b[0m                           \u001b[1;31m#часть else связана с инструкцией try, а не с условной инструкцией if\u001b[0m\u001b[1;33m\u001b[0m\u001b[1;33m\u001b[0m\u001b[0m\n\u001b[1;32m----> 9\u001b[1;33m         \u001b[0mprint\u001b[0m\u001b[1;33m(\u001b[0m\u001b[0mint\u001b[0m\u001b[1;33m(\u001b[0m\u001b[0mreply\u001b[0m\u001b[1;33m)\u001b[0m \u001b[1;33m**\u001b[0m \u001b[1;36m2\u001b[0m\u001b[1;33m)\u001b[0m\u001b[1;33m\u001b[0m\u001b[1;33m\u001b[0m\u001b[0m\n\u001b[0m\u001b[0;32m     10\u001b[0m \u001b[0mprint\u001b[0m\u001b[1;33m(\u001b[0m\u001b[1;34m'Bye'\u001b[0m\u001b[1;33m)\u001b[0m\u001b[1;33m\u001b[0m\u001b[1;33m\u001b[0m\u001b[0m\n",
      "\u001b[1;31mValueError\u001b[0m: invalid literal for int() with base 10: 'xxx'"
     ]
    }
   ],
   "source": [
    "while True:\n",
    "    reply = input('Enter text:')\n",
    "    if reply == 'stop': break\n",
    "    try:                            #использование try (try/except/finally)\n",
    "        num = int(reply) \n",
    "    except:                          #ловит любую ошибку\n",
    "        print('Bad!' * 8)\n",
    "    finally:                           #finally выполняет действие независимо от ошибки\n",
    "        print(int(reply) ** 2)\n",
    "print('Bye')"
   ]
  },
  {
   "cell_type": "code",
   "execution_count": 15,
   "metadata": {},
   "outputs": [
    {
     "name": "stdout",
     "output_type": "stream",
     "text": [
      "100\n",
      "16\n",
      "64\n"
     ]
    }
   ],
   "source": [
    "s=\"\"\n",
    "x=int(input())\n",
    "base = int(input())\n",
    "while x>0:\n",
    "    s+=str(x%base)\n",
    "    x//=base\n",
    "print(s[::-1])"
   ]
  },
  {
   "cell_type": "code",
   "execution_count": 8,
   "metadata": {
    "scrolled": true
   },
   "outputs": [
    {
     "data": {
      "text/plain": [
       "[0, 1, 2]"
      ]
     },
     "execution_count": 8,
     "metadata": {},
     "output_type": "execute_result"
    }
   ],
   "source": [
    "list(range(3))"
   ]
  },
  {
   "cell_type": "code",
   "execution_count": 10,
   "metadata": {
    "scrolled": true
   },
   "outputs": [
    {
     "name": "stdout",
     "output_type": "stream",
     "text": [
      "1 [2, 3, 4]\n",
      "2 [3, 4]\n",
      "3 [4]\n",
      "4 []\n"
     ]
    }
   ],
   "source": [
    ">>> L = [1, 2, 3, 4]\n",
    ">>> while L:\n",
    "        front, L = L[0], L[1:] # уменьшение последовательности на 1 элемент\n",
    "        print(front, L)"
   ]
  },
  {
   "cell_type": "markdown",
   "metadata": {},
   "source": [
    "## Писваивание. Интересные моменты, *b создание списка"
   ]
  },
  {
   "cell_type": "code",
   "execution_count": 17,
   "metadata": {},
   "outputs": [
    {
     "data": {
      "text/plain": [
       "[2, 3]"
      ]
     },
     "execution_count": 17,
     "metadata": {},
     "output_type": "execute_result"
    }
   ],
   "source": [
    "a, *b, c = 1,2,3,4 # * позволяет присвоить список свободных элементов(которые не присвоились остальным переменным)\n",
    "b"
   ]
  },
  {
   "cell_type": "code",
   "execution_count": 18,
   "metadata": {
    "scrolled": true
   },
   "outputs": [
    {
     "name": "stdout",
     "output_type": "stream",
     "text": [
      "1 [2, 3, 4]\n",
      "2 [3, 4]\n",
      "3 [4]\n",
      "4 []\n"
     ]
    }
   ],
   "source": [
    ">>> L = [1, 2, 3, 4]\n",
    ">>> while L:\n",
    "        front, *L = L # *L - присваивает значение в L!\n",
    "        print(front, L) "
   ]
  },
  {
   "cell_type": "code",
   "execution_count": null,
   "metadata": {},
   "outputs": [],
   "source": [
    ">>> a, b, c, d, *e = seq\n",
    ">>> print(a, b, c, d, e) \n",
    "1 2 3 4 []                         #е в любом случае присваивается список, если нет значения, тогда пустой список"
   ]
  },
  {
   "cell_type": "code",
   "execution_count": 20,
   "metadata": {},
   "outputs": [
    {
     "data": {
      "text/plain": [
       "['s', 'e', 'q']"
      ]
     },
     "execution_count": 20,
     "metadata": {},
     "output_type": "execute_result"
    }
   ],
   "source": [
    "*a, = \"seq\"                #нельзя указывать *a без последовательности\n",
    "a"
   ]
  },
  {
   "cell_type": "code",
   "execution_count": 50,
   "metadata": {},
   "outputs": [
    {
     "data": {
      "text/plain": [
       "0"
      ]
     },
     "execution_count": 50,
     "metadata": {},
     "output_type": "execute_result"
    }
   ],
   "source": [
    "X,Y = 122,2222\n",
    "X >>= Y  #сдвиг вправо и присваивание ??????\n",
    "X"
   ]
  },
  {
   "cell_type": "code",
   "execution_count": null,
   "metadata": {},
   "outputs": [],
   "source": [
    "#Таблица 11.2. Комбинированные инструкции присваивания\n",
    "#X += Y                       X &= Y                                X -= Y X |= Y\n",
    "#X *= Y                       X ^= Y                                 X /= Y X >>= Y\n",
    "#X %= Y                       X <<= Y                                X **= Y X //= Y"
   ]
  },
  {
   "cell_type": "code",
   "execution_count": 51,
   "metadata": {},
   "outputs": [
    {
     "data": {
      "text/plain": [
       "[1, 2, 3, 4, 5, 6, 7, 8, 9, 10]"
      ]
     },
     "execution_count": 51,
     "metadata": {},
     "output_type": "execute_result"
    }
   ],
   "source": [
    ">>> L = [1, 2, 3, 4, 5, 6, 7, 8]\n",
    "L += [9, 10]                            #со списками работает как extend!!\n",
    "L"
   ]
  },
  {
   "cell_type": "markdown",
   "metadata": {},
   "source": [
    "## Стандартный ввод/вывод, перенаправление потока, восстановление потока stdin/out"
   ]
  },
  {
   "cell_type": "code",
   "execution_count": 69,
   "metadata": {},
   "outputs": [
    {
     "data": {
      "text/plain": [
       "ipykernel.iostream.OutStream"
      ]
     },
     "execution_count": 69,
     "metadata": {},
     "output_type": "execute_result"
    }
   ],
   "source": [
    "import sys\n",
    "sys.stdout #стандартный вывод это объекты-файлы!\n",
    "sys.stdin #стандартный ввод это объекты-файлы!"
   ]
  },
  {
   "cell_type": "code",
   "execution_count": null,
   "metadata": {},
   "outputs": [],
   "source": [
    "print(object, ..., sep=' ', end='\\n', file=sys.stdout)#аргумент функции print stdout, print подает объект на стандартный вывод"
   ]
  },
  {
   "cell_type": "code",
   "execution_count": 72,
   "metadata": {},
   "outputs": [
    {
     "name": "stdout",
     "output_type": "stream",
     "text": [
      "2 1 <ipykernel.iostream.OutStream object at 0x0000000004DB1208>\n",
      "2...1...<ipykernel.iostream.OutStream object at 0x0000000004DB1208>\n",
      "\n"
     ]
    }
   ],
   "source": [
    ">>> print(x, y, z, sep='...', file=open('data.txt', 'w'))  # Вывод в файл\n",
    ">>> print(x, y, z)                                         # Вывод в поток stdout\n",
    ">>> print(open('data.txt').read())                                   # Вывод содержимого текстового файла"
   ]
  },
  {
   "cell_type": "code",
   "execution_count": 73,
   "metadata": {},
   "outputs": [
    {
     "name": "stdout",
     "output_type": "stream",
     "text": [
      "hello world\n"
     ]
    }
   ],
   "source": [
    ">>> import sys # Вывод более сложным способом\n",
    ">>> sys.stdout.write('hello world\\n')                  #можно даже так!"
   ]
  },
  {
   "cell_type": "code",
   "execution_count": null,
   "metadata": {},
   "outputs": [],
   "source": [
    "import sys\n",
    "sys.stdout = open('log.txt', 'a') # Перенаправить вывод в файл"
   ]
  },
  {
   "cell_type": "code",
   "execution_count": null,
   "metadata": {},
   "outputs": [],
   "source": [
    ">>> import sys\n",
    ">>> temp = sys.stdout                                                       # Сохранить для последующего восстановления\n",
    ">>> sys.stdout = open('log.txt', 'a')                                         # Перенаправить вывод в файл\n",
    ">>> print('spam')                                                       # Выведет в файл, а не на экран\n",
    ">>> print(1, 2, 3)\n",
    ">>> sys.stdout.close()                                                           # Вытолкнуть буферы на диск\n",
    ">>> sys.stdout = temp                                                  # Восстановить первоначальный поток\n",
    ">>> print(‘back here’)                                              #  Вывести на экран\n",
    "back here\n",
    ">>> print(open('log.txt').read())                                             # Результаты более ранних обращений\n",
    "spam                                                               # к инструкции print"
   ]
  },
  {
   "cell_type": "code",
   "execution_count": 76,
   "metadata": {},
   "outputs": [
    {
     "name": "stdout",
     "output_type": "stream",
     "text": [
      "[] [42] 4\n"
     ]
    }
   ],
   "source": [
    "log = open('log.txt', 'a') # 3.0\n",
    "print(x, y, z, file=log) #            Вывести в объект, напоминающий файл\n",
    "print(a, b, c)                            # Вывести в оригинальный поток вывода"
   ]
  },
  {
   "cell_type": "code",
   "execution_count": null,
   "metadata": {},
   "outputs": [],
   "source": [
    ">>> import sys\n",
    ">>> sys.stderr.write(('Bad!' * 8) + '\\n')     #стандартный поток ошибок"
   ]
  },
  {
   "cell_type": "code",
   "execution_count": null,
   "metadata": {},
   "outputs": [],
   "source": [
    ">>> X = 1; Y = 2\n",
    ">>> print(X, Y) # Вывод: простой способ\n",
    "1 2\n",
    ">>> import sys # Вывод: сложный способ\n",
    ">>> sys.stdout.write(str(X) + ‘ ‘ + str(Y) + ‘\\n’)\n",
    "1 2\n",
    "4\n",
    ">>> print(X, Y, file=open(‘temp1’, ‘w’)) # Перенаправление в файл\n",
    ">>> open(‘temp2’, ‘w’).write(str(X) + ‘ ‘ + str(Y) + ‘\\n’) # Запись в файл\n",
    "4\n",
    ">>> print(open(‘temp1’, ‘rb’).read()) # Двоичный режим\n",
    "b’1 2\\r\\n’\n",
    ">>> print(open(‘temp2’, ‘rb’).read())\n",
    "b’1 2\\r\\n’"
   ]
  },
  {
   "cell_type": "code",
   "execution_count": null,
   "metadata": {},
   "outputs": [],
   "source": [
    "#input() читает данные из файла sys.stdin, поток тоже можно перенаправить"
   ]
  }
 ],
 "metadata": {
  "kernelspec": {
   "display_name": "Python 3",
   "language": "python",
   "name": "python3"
  },
  "language_info": {
   "codemirror_mode": {
    "name": "ipython",
    "version": 3
   },
   "file_extension": ".py",
   "mimetype": "text/x-python",
   "name": "python",
   "nbconvert_exporter": "python",
   "pygments_lexer": "ipython3",
   "version": "3.7.3"
  }
 },
 "nbformat": 4,
 "nbformat_minor": 2
}
