{
 "cells": [
  {
   "cell_type": "markdown",
   "metadata": {},
   "source": [
    "# Нейронные сети"
   ]
  },
  {
   "cell_type": "code",
   "execution_count": null,
   "metadata": {},
   "outputs": [],
   "source": [
    "#Слабая сторона Decision tree, Random Forest в том, что они хорошо работают только на высокоуровневых ранговых фичах, \n",
    "#но если наши данные представляют например закрашенные или незакрашенные пиксели, тут возникают проблемы\n",
    "#Чтобы решать задачи связанные с интерпретацией например изображений, используются Нейросети"
   ]
  },
  {
   "cell_type": "code",
   "execution_count": null,
   "metadata": {},
   "outputs": [],
   "source": [
    "#в логистической регрессии y=f(w1*x1 +w2*x2), предположим, что x1 - положительный случай, x2 - отрицательный\n",
    "#x1, x2, w - это векторы в осях x y, тогда для отрицательной классификации x2 нужно, чтобы скалярное произведение\n",
    "#вектора x2 и w давало отрицательный результат, а для этого cos угла между ними должен быть отрицательный, то есть угол\n",
    "#между ними должен быть тупой, в тоже время для положительного случая угол должен быть острый \n",
    "#алгоритм двигает вектор так, чтобы все точки на графике классифицировать правильно\n",
    "#Если взять несколько логистических регрессий, подать в каждую x1,x2, и выходные данные из этих лог.регрессий подать в\n",
    "#еще одну логистическую регрессию, получится небольшая нейросеть"
   ]
  },
  {
   "cell_type": "code",
   "execution_count": 91,
   "metadata": {},
   "outputs": [],
   "source": [
    "#Когда мы обучаем нейронные сети, мы подбираем такие веса, чтобы классификация пикселей в фотографии была как можно лучше"
   ]
  },
  {
   "cell_type": "code",
   "execution_count": null,
   "metadata": {},
   "outputs": [],
   "source": [
    "#Визуализация работы нейронной сети:\n",
    "#https://playground.tensorflow.org/#activation=tanh&batchSize=10&dataset=circle&regDataset=reg-plane&learningRate=0.03&regularizationRate=0&noise=0&networkShape=4,2&seed=0.39892&showTestData=false&discretize=false&percTrainData=50&x=true&y=true&xTimesY=false&xSquared=false&ySquared=false&cosX=false&sinX=false&cosY=false&sinY=false&collectStats=false&problem=classification&initZero=false&hideText=false\n",
    "#Объяснение обучения ANN:\n",
    "#https://medium.com/datathings/neural-networks-and-backpropagation-explained-in-a-simple-way-f540a3611f5e\n",
    "#Введение в ANN:\n",
    "#https://blog.goodaudience.com/artificial-neural-networks-explained-436fcf36e75\n",
    "#Краткий обзор некоторых видов сетей\n",
    "#https://medium.com/datadriveninvestor/neural-networks-explained-6e21c70d7818\n",
    "#Объяснение работы свёрточных нейронных сетей \n",
    "#(тех самых, которые используются для разделения картинок с людьми и солнышком от других)\n",
    "#https://towardsdatascience.com/intuitively-understanding-convolutions-for-deep-learning-1f6f42faee1"
   ]
  },
  {
   "cell_type": "code",
   "execution_count": null,
   "metadata": {},
   "outputs": [],
   "source": [
    "#Речь пойдёт об алгоритме для подбора параметров нейронных сетей, так что вкратце обговорим их  устройство, чтобы понимать \n",
    "#о чём идёт речь. Нейронные сети можно представлять как набор нейронов, соединённых связями. Каждый нейрон - это вычислительная \n",
    "#единица, принимающая числовые значения от входных связей, умножающая их на соответствующие им веса. Затем получившиеся \n",
    "#результаты складываются, и к ним применяется активационная функция нейрона. Результат передаётся по выходным связям.\n",
    "#То есть нейронную сеть можно представить как граф, где вершинами являются нейроны, а рёбрами - связи между ними. \n",
    "#Пространственно нейроны обычно организованы в виде слоёв, и информация (значения переменных во входных данных и результаты \n",
    "#вычислений нейронов) передаётся слева направо."
   ]
  },
  {
   "cell_type": "code",
   "execution_count": null,
   "metadata": {},
   "outputs": [],
   "source": [
    "#На рисунке выше приведена схема нейронной сети - слева на нейроны поступают значения переменных для наблюдения, \n",
    "#они процессируются нейронами 1-ого слоя и результат вычислений передаётся на нейроны 2-ого слоя по связям, и так далее. \n",
    "#Последний слой предсказывает класс (в случае классификации).\n",
    "\n",
    "#В отличие от решающих деревьев и Random Forest нейронные сети потрясающе разнообразны - число нейронов, их расположение\n",
    "#по слоям, активационные функции, наличие связей между нейронами и их величина могут варьироваться для получения более\n",
    "#эффективных нейронных сетей.\n",
    "\n",
    "#Об одном из способов подбора этих параметров и пойдёт речь."
   ]
  },
  {
   "cell_type": "code",
   "execution_count": null,
   "metadata": {},
   "outputs": [],
   "source": [
    "#В нейросети можно менять:\n",
    "#1)Количество слоев нейронов\n",
    "#2)Активные функции нейронов\n",
    "#3)повторять пункты 1 и 2, чтобы подобрать более хорошую архитектуру"
   ]
  },
  {
   "cell_type": "markdown",
   "metadata": {},
   "source": [
    "# Нейроэволюция"
   ]
  },
  {
   "cell_type": "code",
   "execution_count": null,
   "metadata": {},
   "outputs": [],
   "source": [
    "#Соединение эволюционных алгоритмов, с обучением нейронных сетей с целью улучшить работу нейросети"
   ]
  },
  {
   "cell_type": "code",
   "execution_count": null,
   "metadata": {},
   "outputs": [],
   "source": [
    "#У нейронных сетей существует огромное количество архитектур\n",
    "#Чтобы нейронная сеть правильно решала поставленную задачу ей необходимы: \n",
    "#1)Правильно подобранная архитектура\n",
    "#2)Правильно подобранные веса\n",
    "#с проблемой подбора весов справляется алгоритм bag propagation\n",
    "#Но вопрос структуры(количество слоев, количество нейронов, функции) остается открытым"
   ]
  },
  {
   "cell_type": "code",
   "execution_count": null,
   "metadata": {},
   "outputs": [],
   "source": [
    "#Генетический алгоритм - один из способов нейроэволюции"
   ]
  },
  {
   "cell_type": "code",
   "execution_count": null,
   "metadata": {},
   "outputs": [],
   "source": []
  },
  {
   "cell_type": "code",
   "execution_count": null,
   "metadata": {},
   "outputs": [],
   "source": []
  },
  {
   "cell_type": "code",
   "execution_count": null,
   "metadata": {},
   "outputs": [],
   "source": []
  },
  {
   "cell_type": "code",
   "execution_count": null,
   "metadata": {},
   "outputs": [],
   "source": []
  },
  {
   "cell_type": "code",
   "execution_count": null,
   "metadata": {},
   "outputs": [],
   "source": []
  },
  {
   "cell_type": "code",
   "execution_count": null,
   "metadata": {},
   "outputs": [],
   "source": []
  }
 ],
 "metadata": {
  "kernelspec": {
   "display_name": "Python 3",
   "language": "python",
   "name": "python3"
  },
  "language_info": {
   "codemirror_mode": {
    "name": "ipython",
    "version": 3
   },
   "file_extension": ".py",
   "mimetype": "text/x-python",
   "name": "python",
   "nbconvert_exporter": "python",
   "pygments_lexer": "ipython3",
   "version": "3.7.3"
  }
 },
 "nbformat": 4,
 "nbformat_minor": 2
}
