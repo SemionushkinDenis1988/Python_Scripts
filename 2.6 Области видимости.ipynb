{
 "cells": [
  {
   "cell_type": "markdown",
   "metadata": {},
   "source": [
    "# Области видимости"
   ]
  },
  {
   "cell_type": "markdown",
   "metadata": {},
   "source": [
    "# nonlocal"
   ]
  },
  {
   "cell_type": "code",
   "execution_count": 31,
   "metadata": {},
   "outputs": [
    {
     "data": {
      "text/plain": [
       "1"
      ]
     },
     "execution_count": 31,
     "metadata": {},
     "output_type": "execute_result"
    }
   ],
   "source": [
    "#Если необходимо присвоить значение имени, которое находится \n",
    "#в объемлющей инструкции def, в Python 3.0 это имя необходимо \n",
    "#объявить внутри функции с помощью инструкции nonlocal.\n",
    "#Если имя X объявлено нелокальным внутри функции\n",
    "#операция присваивания создает или изменяет имя X\n",
    "#в ближайшей области видимости объемлющей функции.\n",
    "#nonlocal ограничивает область поиска областями видимости объемлющих\n",
    "#функций; она требует, чтобы перечисленные в инструкции имена уже су-\n",
    "#ществовали, и позволяет присваивать им новые значения. В область поиска\n",
    "#не входят глобальная и встроенная области видимости."
   ]
  },
  {
   "cell_type": "code",
   "execution_count": 129,
   "metadata": {},
   "outputs": [
    {
     "data": {
      "text/plain": [
       "4"
      ]
     },
     "execution_count": 129,
     "metadata": {},
     "output_type": "execute_result"
    }
   ],
   "source": [
    "x=10\n",
    "def func1():\n",
    "    x = 1\n",
    "    def func2():\n",
    "        def func3():\n",
    "            nonlocal x\n",
    "            x+=3            #изменяет значение переменной x из func1 \n",
    "        func3()\n",
    "    func2()\n",
    "    return(x)\n",
    "func1()"
   ]
  },
  {
   "cell_type": "code",
   "execution_count": 145,
   "metadata": {},
   "outputs": [
    {
     "name": "stdout",
     "output_type": "stream",
     "text": [
      "spam 42\n"
     ]
    }
   ],
   "source": [
    ">>> G = tester(42) # Создаст новую функцию, которая начнет счет с 42\n",
    ">>> G('spam')"
   ]
  },
  {
   "cell_type": "code",
   "execution_count": 146,
   "metadata": {},
   "outputs": [
    {
     "name": "stdout",
     "output_type": "stream",
     "text": [
      "eggs 43\n"
     ]
    }
   ],
   "source": [
    ">>> G('eggs')"
   ]
  },
  {
   "cell_type": "code",
   "execution_count": 131,
   "metadata": {},
   "outputs": [
    {
     "data": {
      "text/plain": [
       "6"
      ]
     },
     "execution_count": 131,
     "metadata": {},
     "output_type": "execute_result"
    }
   ],
   "source": [
    "x=10\n",
    "def func1():\n",
    "    x = 2\n",
    "    def func2():\n",
    "        x = 3\n",
    "        def func3():\n",
    "            nonlocal x\n",
    "            x+=3            #изменяет значение переменной x из func2\n",
    "        func3()\n",
    "        return(x)\n",
    "    return(func2())\n",
    "func1()"
   ]
  },
  {
   "cell_type": "code",
   "execution_count": 141,
   "metadata": {},
   "outputs": [],
   "source": [
    ">>> def tester(start):\n",
    "...     state = start # В каждом вызове сохраняется свое значение state\n",
    "...     def nested(label):\n",
    "...         nonlocal state # Объект state находится\n",
    "...         print(label, state) # в объемлющей области видимости\n",
    "...         state += 1 # Изменит значение переменной, объявленной как nonlocal\n",
    "...     return nested"
   ]
  },
  {
   "cell_type": "code",
   "execution_count": 142,
   "metadata": {},
   "outputs": [
    {
     "name": "stdout",
     "output_type": "stream",
     "text": [
      "spam 0\n"
     ]
    }
   ],
   "source": [
    ">>> F = tester(0)\n",
    ">>> F('spam') # Будет увеличивать значение state при каждом вызове"
   ]
  },
  {
   "cell_type": "code",
   "execution_count": 144,
   "metadata": {},
   "outputs": [
    {
     "name": "stdout",
     "output_type": "stream",
     "text": [
      "ham 1\n"
     ]
    }
   ],
   "source": [
    ">>> F('ham') # Будет увеличивать значение state при каждом вызове"
   ]
  },
  {
   "cell_type": "code",
   "execution_count": 156,
   "metadata": {},
   "outputs": [],
   "source": [
    ">>> def tester(start):\n",
    "        def nested(label):\n",
    "            print(label, nested.state) # nested – объемлющая область видимости\n",
    "            nested.state += 1 # Изменит атрибут, а не значение имени nested\n",
    "        nested.state = start # Инициализация после создания функции\n",
    "        return nested"
   ]
  },
  {
   "cell_type": "code",
   "execution_count": 157,
   "metadata": {
    "scrolled": true
   },
   "outputs": [
    {
     "name": "stdout",
     "output_type": "stream",
     "text": [
      "spam 0\n"
     ]
    }
   ],
   "source": [
    ">>> F = tester(0)\n",
    ">>> F('spam') # Будет увеличивать значение state при каждом вызове"
   ]
  },
  {
   "cell_type": "code",
   "execution_count": 158,
   "metadata": {},
   "outputs": [
    {
     "name": "stdout",
     "output_type": "stream",
     "text": [
      "ham 1\n"
     ]
    }
   ],
   "source": [
    ">>> F('ham') # Будет увеличивать значение state при каждом вызове"
   ]
  },
  {
   "cell_type": "markdown",
   "metadata": {},
   "source": [
    "# global"
   ]
  },
  {
   "cell_type": "code",
   "execution_count": null,
   "metadata": {},
   "outputs": [],
   "source": [
    "#Если необходимо присвоить значение имени верхнего уровня\n",
    "#в модуле, который вмещает функцию, это имя необходимо объявить вну-\n",
    "#три функции глобальным с помощью инструкции global. \n",
    "#global вынуждает интерпретатор начинать поиск имен с области объемлю-\n",
    "#щего модуля и позволяет присваивать переменным новые значения. Об-\n",
    "#ласть поиска простирается вплоть до встроенной области видимости, если\n",
    "#искомое имя не будет найдено в модуле, при этом операция присваивания\n",
    "#значений глобальным именам всегда будет создавать или изменять пере-\n",
    "#менные в области видимости модуля."
   ]
  },
  {
   "cell_type": "code",
   "execution_count": 65,
   "metadata": {},
   "outputs": [
    {
     "data": {
      "text/plain": [
       "3"
      ]
     },
     "execution_count": 65,
     "metadata": {},
     "output_type": "execute_result"
    }
   ],
   "source": [
    "def func1():\n",
    "    def func2():\n",
    "        def func3():\n",
    "            global y\n",
    "            y=3            #присваивает значение глобвальной переменной\n",
    "            return(y)\n",
    "        func3()\n",
    "        return(y)\n",
    "    func2()\n",
    "    return(y)\n",
    "func1()"
   ]
  },
  {
   "cell_type": "code",
   "execution_count": 126,
   "metadata": {},
   "outputs": [
    {
     "data": {
      "text/plain": [
       "(13, 24)"
      ]
     },
     "execution_count": 126,
     "metadata": {},
     "output_type": "execute_result"
    }
   ],
   "source": [
    "y = 10\n",
    "x = 20\n",
    "def func1():\n",
    "    def func2():\n",
    "        def func3():\n",
    "            global y, x\n",
    "            y += 3\n",
    "            x += 4                     #присваивает значение глобвальной переменной\n",
    "        func3()\n",
    "    func2()\n",
    "    return(y, x)\n",
    "func1()"
   ]
  },
  {
   "cell_type": "code",
   "execution_count": 81,
   "metadata": {},
   "outputs": [
    {
     "data": {
      "text/plain": [
       "(13, 24)"
      ]
     },
     "execution_count": 81,
     "metadata": {},
     "output_type": "execute_result"
    }
   ],
   "source": [
    "y = 10\n",
    "x = 20\n",
    "def func1():\n",
    "    def func2():\n",
    "        def func3():\n",
    "            global y, x\n",
    "            y += 3\n",
    "            x += 4                     #присваивает значение глобвальной переменной\n",
    "        func3()\n",
    "    func2()\n",
    "func1()\n",
    "y,x"
   ]
  },
  {
   "cell_type": "code",
   "execution_count": 75,
   "metadata": {},
   "outputs": [
    {
     "data": {
      "text/plain": [
       "10"
      ]
     },
     "execution_count": 75,
     "metadata": {},
     "output_type": "execute_result"
    }
   ],
   "source": [
    "y=10\n",
    "def func1():\n",
    "    def func2():\n",
    "        def func3():\n",
    "            y=3            #присваивает значение локальной переменной\n",
    "            return(y)\n",
    "        func3()\n",
    "        return(y)\n",
    "    func2()\n",
    "    return(y)\n",
    "func1()              #возвращает глобальную"
   ]
  },
  {
   "cell_type": "code",
   "execution_count": 90,
   "metadata": {},
   "outputs": [
    {
     "data": {
      "text/plain": [
       "3"
      ]
     },
     "execution_count": 90,
     "metadata": {},
     "output_type": "execute_result"
    }
   ],
   "source": [
    "y, z = 1, 2 # Глобальные переменные в модуле\n",
    "def all_global():\n",
    "    global m # Объявляется глобальной для присваивания, создаст m в глобальном поле видимости\n",
    "    m = y + z # Объявлять y, z не требуется: применяется правило LEGB\n",
    "all_global()\n",
    "m"
   ]
  },
  {
   "cell_type": "markdown",
   "metadata": {},
   "source": [
    "# Правило поиска в областяхвидимостиLEGB(local,enclosing,lobal,uilt-ins)"
   ]
  },
  {
   "cell_type": "code",
   "execution_count": null,
   "metadata": {},
   "outputs": [],
   "source": [
    "#сначала имя ищется в локальной, потом в объемлющей, потом к глобальной, и наконец в билт инс областях видимости"
   ]
  },
  {
   "cell_type": "code",
   "execution_count": 76,
   "metadata": {
    "collapsed": true
   },
   "outputs": [
    {
     "data": {
      "text/plain": [
       "['ArithmeticError',\n",
       " 'AssertionError',\n",
       " 'AttributeError',\n",
       " 'BaseException',\n",
       " 'BlockingIOError',\n",
       " 'BrokenPipeError',\n",
       " 'BufferError',\n",
       " 'BytesWarning',\n",
       " 'ChildProcessError',\n",
       " 'ConnectionAbortedError',\n",
       " 'ConnectionError',\n",
       " 'ConnectionRefusedError',\n",
       " 'ConnectionResetError',\n",
       " 'DeprecationWarning',\n",
       " 'EOFError',\n",
       " 'Ellipsis',\n",
       " 'EnvironmentError',\n",
       " 'Exception',\n",
       " 'False',\n",
       " 'FileExistsError',\n",
       " 'FileNotFoundError',\n",
       " 'FloatingPointError',\n",
       " 'FutureWarning',\n",
       " 'GeneratorExit',\n",
       " 'IOError',\n",
       " 'ImportError',\n",
       " 'ImportWarning',\n",
       " 'IndentationError',\n",
       " 'IndexError',\n",
       " 'InterruptedError',\n",
       " 'IsADirectoryError',\n",
       " 'KeyError',\n",
       " 'KeyboardInterrupt',\n",
       " 'LookupError',\n",
       " 'MemoryError',\n",
       " 'ModuleNotFoundError',\n",
       " 'NameError',\n",
       " 'None',\n",
       " 'NotADirectoryError',\n",
       " 'NotImplemented',\n",
       " 'NotImplementedError',\n",
       " 'OSError',\n",
       " 'OverflowError',\n",
       " 'PendingDeprecationWarning',\n",
       " 'PermissionError',\n",
       " 'ProcessLookupError',\n",
       " 'RecursionError',\n",
       " 'ReferenceError',\n",
       " 'ResourceWarning',\n",
       " 'RuntimeError',\n",
       " 'RuntimeWarning',\n",
       " 'StopAsyncIteration',\n",
       " 'StopIteration',\n",
       " 'SyntaxError',\n",
       " 'SyntaxWarning',\n",
       " 'SystemError',\n",
       " 'SystemExit',\n",
       " 'TabError',\n",
       " 'TimeoutError',\n",
       " 'True',\n",
       " 'TypeError',\n",
       " 'UnboundLocalError',\n",
       " 'UnicodeDecodeError',\n",
       " 'UnicodeEncodeError',\n",
       " 'UnicodeError',\n",
       " 'UnicodeTranslateError',\n",
       " 'UnicodeWarning',\n",
       " 'UserWarning',\n",
       " 'ValueError',\n",
       " 'Warning',\n",
       " 'WindowsError',\n",
       " 'ZeroDivisionError',\n",
       " '__IPYTHON__',\n",
       " '__build_class__',\n",
       " '__debug__',\n",
       " '__doc__',\n",
       " '__import__',\n",
       " '__loader__',\n",
       " '__name__',\n",
       " '__package__',\n",
       " '__spec__',\n",
       " 'abs',\n",
       " 'all',\n",
       " 'any',\n",
       " 'ascii',\n",
       " 'bin',\n",
       " 'bool',\n",
       " 'breakpoint',\n",
       " 'bytearray',\n",
       " 'bytes',\n",
       " 'callable',\n",
       " 'chr',\n",
       " 'classmethod',\n",
       " 'compile',\n",
       " 'complex',\n",
       " 'copyright',\n",
       " 'credits',\n",
       " 'delattr',\n",
       " 'dict',\n",
       " 'dir',\n",
       " 'display',\n",
       " 'divmod',\n",
       " 'enumerate',\n",
       " 'eval',\n",
       " 'exec',\n",
       " 'filter',\n",
       " 'float',\n",
       " 'format',\n",
       " 'frozenset',\n",
       " 'get_ipython',\n",
       " 'getattr',\n",
       " 'globals',\n",
       " 'hasattr',\n",
       " 'hash',\n",
       " 'help',\n",
       " 'hex',\n",
       " 'id',\n",
       " 'input',\n",
       " 'int',\n",
       " 'isinstance',\n",
       " 'issubclass',\n",
       " 'iter',\n",
       " 'len',\n",
       " 'license',\n",
       " 'list',\n",
       " 'locals',\n",
       " 'map',\n",
       " 'max',\n",
       " 'memoryview',\n",
       " 'min',\n",
       " 'next',\n",
       " 'object',\n",
       " 'oct',\n",
       " 'open',\n",
       " 'ord',\n",
       " 'pow',\n",
       " 'print',\n",
       " 'property',\n",
       " 'range',\n",
       " 'repr',\n",
       " 'reversed',\n",
       " 'round',\n",
       " 'set',\n",
       " 'setattr',\n",
       " 'slice',\n",
       " 'sorted',\n",
       " 'staticmethod',\n",
       " 'str',\n",
       " 'sum',\n",
       " 'super',\n",
       " 'tuple',\n",
       " 'type',\n",
       " 'vars',\n",
       " 'zip']"
      ]
     },
     "execution_count": 76,
     "metadata": {},
     "output_type": "execute_result"
    }
   ],
   "source": [
    ">>> import builtins\n",
    ">>> dir(builtins)"
   ]
  },
  {
   "cell_type": "markdown",
   "metadata": {},
   "source": [
    "# Вложенные функции"
   ]
  },
  {
   "cell_type": "code",
   "execution_count": 107,
   "metadata": {},
   "outputs": [
    {
     "name": "stdout",
     "output_type": "stream",
     "text": [
      "<function maker.<locals>.action at 0x0000000007C3B620>\n",
      "9\n"
     ]
    }
   ],
   "source": [
    ">>> def maker(N):\n",
    "...     def action(X): # Создать и вернуть функцию\n",
    "...         return X ** N # Функция action запоминает значение N в объемлющей\n",
    "...     return(action) # области видимости\n",
    "print(maker(2))\n",
    "f = maker(2)\n",
    "print(f(3))"
   ]
  },
  {
   "cell_type": "markdown",
   "metadata": {},
   "source": [
    "# Вложенные области видимости и lambda-выражения"
   ]
  },
  {
   "cell_type": "code",
   "execution_count": 111,
   "metadata": {},
   "outputs": [
    {
     "name": "stdout",
     "output_type": "stream",
     "text": [
      "16\n"
     ]
    }
   ],
   "source": [
    "def func():\n",
    "    x = 4\n",
    "    action = (lambda n: x ** n) # запоминается x из объемлющей инструкции def\n",
    "    return action\n",
    "x = func()\n",
    "print(x(2))"
   ]
  },
  {
   "cell_type": "code",
   "execution_count": 112,
   "metadata": {},
   "outputs": [
    {
     "name": "stdout",
     "output_type": "stream",
     "text": [
      "16\n"
     ]
    }
   ],
   "source": [
    "def func():\n",
    "    x = 4\n",
    "    action = (lambda n, x=x: x ** n) # Передача x вручную (устаревшее)\n",
    "    return action\n",
    "x = func()\n",
    "print(x(2))"
   ]
  },
  {
   "cell_type": "markdown",
   "metadata": {},
   "source": [
    "# Генерация функций c lambda"
   ]
  },
  {
   "cell_type": "code",
   "execution_count": 118,
   "metadata": {},
   "outputs": [
    {
     "data": {
      "text/plain": [
       "0"
      ]
     },
     "execution_count": 118,
     "metadata": {},
     "output_type": "execute_result"
    }
   ],
   "source": [
    ">>> def makeActions():\n",
    "...     acts = []\n",
    "...     for i in range(5):                      # Использовать значения по умолчанию\n",
    "...         acts.append(lambda x, i=i: i ** x) # Сохранить текущее значение i\n",
    "...     return acts\n",
    "...\n",
    ">>> acts = makeActions()\n",
    ">>> acts[0](2) # 0 ** 2"
   ]
  },
  {
   "cell_type": "code",
   "execution_count": 120,
   "metadata": {},
   "outputs": [
    {
     "data": {
      "text/plain": [
       "4"
      ]
     },
     "execution_count": 120,
     "metadata": {},
     "output_type": "execute_result"
    }
   ],
   "source": [
    ">>> acts[2](2) # 2 ** 2"
   ]
  },
  {
   "cell_type": "code",
   "execution_count": 121,
   "metadata": {},
   "outputs": [
    {
     "data": {
      "text/plain": [
       "16"
      ]
     },
     "execution_count": 121,
     "metadata": {},
     "output_type": "execute_result"
    }
   ],
   "source": [
    ">>> acts[4](2)"
   ]
  },
  {
   "cell_type": "markdown",
   "metadata": {},
   "source": [
    "# Сохранение информации с помощью классов"
   ]
  },
  {
   "cell_type": "code",
   "execution_count": 147,
   "metadata": {},
   "outputs": [],
   "source": [
    ">>> class tester: # Альтернативное решение на основе классов (Часть VI)\n",
    "        def __init__(self, start): # Конструктор объекта,\n",
    "            self.state = start # сохранение информации в новом объекте\n",
    "        def nested(self, label):\n",
    "            print(label, self.state) # Явное обращение к информации\n",
    "            self.state += 1 # Изменения всегда допустимы"
   ]
  },
  {
   "cell_type": "code",
   "execution_count": 149,
   "metadata": {},
   "outputs": [
    {
     "name": "stdout",
     "output_type": "stream",
     "text": [
      "spam 0\n"
     ]
    }
   ],
   "source": [
    "F = tester(0)\n",
    "F.nested('spam')"
   ]
  },
  {
   "cell_type": "code",
   "execution_count": 152,
   "metadata": {},
   "outputs": [
    {
     "name": "stdout",
     "output_type": "stream",
     "text": [
      "ham 1\n"
     ]
    }
   ],
   "source": [
    "F.nested('ham')"
   ]
  },
  {
   "cell_type": "code",
   "execution_count": 153,
   "metadata": {},
   "outputs": [],
   "source": [
    ">>> class tester: # Альтернативное решение на основе классов (Часть VI)\n",
    "        def __init__(self, start): # Конструктор объекта,\n",
    "            self.state = start # сохранение информации в новом объекте\n",
    "        def __call__(self, label):          # Вызывается при вызове экземпляра\n",
    "            print(label, self.state)           # Благодаря этому отпадает\n",
    "            self.state += 1                    # необходимость в методе .nested()"
   ]
  },
  {
   "cell_type": "code",
   "execution_count": 154,
   "metadata": {
    "scrolled": true
   },
   "outputs": [
    {
     "name": "stdout",
     "output_type": "stream",
     "text": [
      "juice 99\n"
     ]
    }
   ],
   "source": [
    ">>> H = tester(99)\n",
    ">>> H('juice')"
   ]
  },
  {
   "cell_type": "code",
   "execution_count": 155,
   "metadata": {},
   "outputs": [
    {
     "name": "stdout",
     "output_type": "stream",
     "text": [
      "pancakes 100\n"
     ]
    }
   ],
   "source": [
    ">>> H('pancakes') # Вызовет метод __call__ по умолчанию"
   ]
  }
 ],
 "metadata": {
  "kernelspec": {
   "display_name": "Python 3",
   "language": "python",
   "name": "python3"
  },
  "language_info": {
   "codemirror_mode": {
    "name": "ipython",
    "version": 3
   },
   "file_extension": ".py",
   "mimetype": "text/x-python",
   "name": "python",
   "nbconvert_exporter": "python",
   "pygments_lexer": "ipython3",
   "version": "3.7.3"
  }
 },
 "nbformat": 4,
 "nbformat_minor": 2
}
