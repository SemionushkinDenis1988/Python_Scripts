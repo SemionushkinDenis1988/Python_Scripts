{
 "cells": [
  {
   "cell_type": "markdown",
   "metadata": {},
   "source": [
    "# Classes OOP"
   ]
  },
  {
   "cell_type": "markdown",
   "metadata": {},
   "source": [
    "# Концепции механизма ООП в языке Python"
   ]
  },
  {
   "cell_type": "code",
   "execution_count": null,
   "metadata": {},
   "outputs": [],
   "source": [
    "#•• Создание экземпляров – заполнение атрибутов экземпляров.\n",
    "#•• Методы, реализующие поведение, – инкапсуляция логики в методах класса.\n",
    "#•• Перегрузка операторов – реализация поддержки встроенных операций, та-\n",
    "#ких как вывод.\n",
    "#•• Адаптация поведения – переопределение специализированных версий ме-\n",
    "#тодов в подклассах.\n",
    "#•• Адаптация конструкторов – добавление логики инициализации, в допол-\n",
    "#нение к логике суперкласса."
   ]
  },
  {
   "cell_type": "code",
   "execution_count": null,
   "metadata": {},
   "outputs": [],
   "source": [
    "#Композиция - это структура, каждый объект, которой может определяться как класс\n",
    "#Общие идеи ООП, такие как наследование и композиция, применимы к любым\n",
    "#приложениям, которые могут быть разложены на ряд объектов."
   ]
  },
  {
   "cell_type": "code",
   "execution_count": 3,
   "metadata": {},
   "outputs": [],
   "source": [
    "class C2: ... # Создать объекты классов (овалы)\n",
    "class C3: ...\n",
    "class C1(C2, C3): ... # Связанные с суперклассами\n",
    "I1 = C1() # Создать объекты экземпляров (прямоугольники),\n",
    "I2 = C1() # связанные со своими классами"
   ]
  },
  {
   "cell_type": "code",
   "execution_count": 5,
   "metadata": {},
   "outputs": [
    {
     "name": "stdout",
     "output_type": "stream",
     "text": [
      "bob\n"
     ]
    }
   ],
   "source": [
    "class C1(C2, C3): # Создать и связать класс C1\n",
    "    def setname(self, who): # Присвоить: C1.setname\n",
    "        self.name = who # self – либо I1, либо I2\n",
    "\n",
    "I1 = C1() # Создать два экземпляра\n",
    "I2 = C1()\n",
    "I1.setname('bob') # Записать ‘bob’ в I1.name\n",
    "I2.setname('mel') # Записать ‘mel’ в I2.name\n",
    "print(I1.name) # Выведет ‘bob’"
   ]
  },
  {
   "cell_type": "markdown",
   "metadata": {},
   "source": [
    "# _ init _ (initialisation)"
   ]
  },
  {
   "cell_type": "code",
   "execution_count": 7,
   "metadata": {},
   "outputs": [
    {
     "name": "stdout",
     "output_type": "stream",
     "text": [
      "bob\n"
     ]
    }
   ],
   "source": [
    "class C1(C2, C3):\n",
    "    def __init__(self, who): # Создать имя при создании класса\n",
    "        self.name = who # Self – либо I1, либо I2\n",
    "I1 = C1('bob') # Записать ‘bob’ в I1.name\n",
    "I2 = C1('mel') # Записать ‘mel’ в I2.name\n",
    "print(I1.name) # Выведет ‘bob’"
   ]
  },
  {
   "cell_type": "code",
   "execution_count": null,
   "metadata": {},
   "outputs": [],
   "source": [
    "#Метод __init__ известен как конструктор, так как он запускается на этапе\n",
    "#конструирования экземпляра. Этот метод является типичным представителем\n",
    "#большого класса методов, которые называются методами перегрузки операто-\n",
    "#ров.\n",
    "#а их имена начина-\n",
    "#ются и заканчиваются двумя символами подчеркивания, чтобы подчеркнуть\n",
    "#их особенное назначение"
   ]
  },
  {
   "cell_type": "code",
   "execution_count": 10,
   "metadata": {},
   "outputs": [],
   "source": [
    "class Employee: # Общий суперкласс\n",
    "    def computeSalary(self): ... # Общее поведение\n",
    "    def giveRaise(self): ...\n",
    "    def promote(self): ...\n",
    "    def retire(self): ..."
   ]
  },
  {
   "cell_type": "code",
   "execution_count": 11,
   "metadata": {},
   "outputs": [],
   "source": [
    "class Engineer(Employee): # Специализированный подкласс\n",
    "    def computeSalary(self): ... # Особенная реализация"
   ]
  },
  {
   "cell_type": "code",
   "execution_count": 12,
   "metadata": {},
   "outputs": [],
   "source": [
    "bob = Employee() # Поведение по умолчанию\n",
    "mel = Engineer() # Особые правила начисления зарплаты\n",
    "\n",
    "#В перспективе эти два объекта экземпляров могли бы быть встроены\n",
    "#в больший контейнерный объект (например, в список или в экземпляр другого\n",
    "#класса), который представляет отдел или компанию, реализуя идею компози-\n",
    "#ции, упомянутую в начале главы."
   ]
  },
  {
   "cell_type": "code",
   "execution_count": null,
   "metadata": {},
   "outputs": [],
   "source": [
    "company = [bob, mel] # Составной объект\n",
    "for emp in company:\n",
    "    print(emp.computeSalary()) # Вызвать версию метода для данного объекта"
   ]
  },
  {
   "cell_type": "markdown",
   "metadata": {},
   "source": [
    "# Incapsulation"
   ]
  },
  {
   "cell_type": "code",
   "execution_count": null,
   "metadata": {},
   "outputs": [],
   "source": [
    "#Идея инкапсуляции\n",
    "#заключается в том, чтобы спрятать логику операций за интерфейсами и тем\n",
    "#самым добиться, чтобы каждая операция имела единственную реализацию\n",
    "#в нашей программе."
   ]
  },
  {
   "cell_type": "code",
   "execution_count": null,
   "metadata": {},
   "outputs": [],
   "source": [
    "def processor(reader, converter, writer):\n",
    "    while 1:\n",
    "        data = reader.read()\n",
    "        if not data: break\n",
    "        data = converter(data)\n",
    "        writer.write(data)\n",
    "#В других приложениях\n",
    "#полиморфизм может также использоваться для сокрытия (то есть для инкап-\n",
    "#суляции) различий интерфейсов. Например, программа, которая обрабатывает\n",
    "#потоки данных, может работать с объектами, имеющими методы ввода и выво-\n",
    "#да, не заботясь о том, что эти методы делают в действительности:"
   ]
  },
  {
   "cell_type": "code",
   "execution_count": null,
   "metadata": {},
   "outputs": [],
   "source": [
    "class Reader:\n",
    "    def read(self): ... # Поведение и инструменты по умолчанию\n",
    "    def other(self): ...\n",
    "class FileReader(Reader):\n",
    "    def read(self): ... # Чтение из локального файла\n",
    "class SocketReader(Reader):\n",
    "    def read(self): ... # Чтение из сокета\n",
    "...\n",
    "processor(FileReader(...), Converter, FileWriter(...))\n",
    "processor(SocketReader(...), Converter, TapeWriter(...))\n",
    "processor(FtpReader(...), Converter, XmlWriter(...))"
   ]
  },
  {
   "cell_type": "code",
   "execution_count": null,
   "metadata": {},
   "outputs": [],
   "source": [
    "#На практике во многих прикладных областях вы можете получить или купить\n",
    "#библиотеки суперклассов, известных как фреймворки, в которых реализованы\n",
    "#наиболее часто встречающиеся задачи программирования на основе классов,\n",
    "#готовые к использованию в ваших приложениях. Такие фреймворки могут\n",
    "#предоставлять интерфейсы к базам данных, протоколы тестирования, сред-\n",
    "#ства создания графического интерфейса и так далее. В среде такого фреймвор-\n",
    "#ка вам часто будет достаточно создать свой подкласс, добавив в него один-два\n",
    "#своих метода, а основная работа будет выполняться классами фреймворка, рас-\n",
    "#положенными выше в дереве наследования. Программирование в мире ООП –\n",
    "#это лишь вопрос сборки уже отлаженного программного кода и настройки его\n",
    "#путем написания своих собственных подклассов."
   ]
  },
  {
   "cell_type": "code",
   "execution_count": 1,
   "metadata": {},
   "outputs": [],
   "source": [
    ">>> class FirstClass: # Определяет объект класса\n",
    "        def setdata(self, value): # Определяет метод класса\n",
    "            self.data = value # self – это экземпляр\n",
    "        def display(self):\n",
    "            print(self.data) # self.data: данные экземпляров"
   ]
  },
  {
   "cell_type": "code",
   "execution_count": 2,
   "metadata": {},
   "outputs": [],
   "source": [
    ">>> x = FirstClass() # Создаются два экземпляра\n",
    ">>> y = FirstClass() # Каждый является отдельным пространством имен"
   ]
  },
  {
   "cell_type": "code",
   "execution_count": 3,
   "metadata": {},
   "outputs": [],
   "source": [
    ">>> x.setdata(\"King Arthur\") # Вызов метода: self – это x\n",
    ">>> y.setdata(3.14159) # Эквивалентно: FirstClass.setdata(y, 3.14159)"
   ]
  },
  {
   "cell_type": "code",
   "execution_count": 5,
   "metadata": {},
   "outputs": [
    {
     "name": "stdout",
     "output_type": "stream",
     "text": [
      "King Arthur\n"
     ]
    }
   ],
   "source": [
    ">>> x.display() # В каждом экземпляре свое значение self.data"
   ]
  },
  {
   "cell_type": "code",
   "execution_count": 6,
   "metadata": {},
   "outputs": [
    {
     "name": "stdout",
     "output_type": "stream",
     "text": [
      "3.14159\n"
     ]
    }
   ],
   "source": [
    ">>> y.display()"
   ]
  },
  {
   "cell_type": "code",
   "execution_count": 7,
   "metadata": {},
   "outputs": [
    {
     "name": "stdout",
     "output_type": "stream",
     "text": [
      "New value\n"
     ]
    }
   ],
   "source": [
    ">>> x.data = \"New value\" # Можно получать/записывать значения атрибутов\n",
    ">>> x.display() # И за пределами класса тоже"
   ]
  },
  {
   "cell_type": "code",
   "execution_count": 8,
   "metadata": {},
   "outputs": [],
   "source": [
    ">>> x.anothername = \"spam\" # Здесь также можно создавать новые атрибуты"
   ]
  },
  {
   "cell_type": "code",
   "execution_count": 10,
   "metadata": {},
   "outputs": [],
   "source": [
    ">>> class SecondClass(FirstClass): # Наследует setdata\n",
    "        def display(self): # Изменяет display\n",
    "            print('Current value = \"%s\"' % self.data)\n",
    "#В этом случае мы говорим, что класс SecondClass переопределяет\n",
    "#метод display класса FirstClass. Иногда такая замена атрибутов за счет их пере-\n",
    "#определения ниже в дереве классов называется перегрузкой."
   ]
  },
  {
   "cell_type": "code",
   "execution_count": 11,
   "metadata": {},
   "outputs": [
    {
     "name": "stdout",
     "output_type": "stream",
     "text": [
      "Current value = \"42\"\n"
     ]
    }
   ],
   "source": [
    ">>> z = SecondClass()\n",
    ">>> z.setdata(42) # Найдет setdata в FirstClass\n",
    ">>> z.display() # Найдет переопределенный метод в SecondClass"
   ]
  },
  {
   "cell_type": "code",
   "execution_count": 13,
   "metadata": {},
   "outputs": [
    {
     "name": "stdout",
     "output_type": "stream",
     "text": [
      "New value\n"
     ]
    }
   ],
   "source": [
    ">>> x.display() # x по-прежнему экземпляр FirstClass (старое сообщение)"
   ]
  },
  {
   "cell_type": "code",
   "execution_count": null,
   "metadata": {},
   "outputs": [],
   "source": [
    "from modulename import FirstClass # Скопировать имя в мою область видимости\n",
    "class SecondClass(FirstClass): # Использовать имя класса непосредственно\n",
    "    def display(self): ...\n",
    "#Или эквивалентный вариант:\n",
    "import modulename # Доступ ко всему модулю целиком\n",
    "class SecondClass(modulename.FirstClass): # Указать полное имя\n",
    "    def display(self): ..."
   ]
  },
  {
   "cell_type": "code",
   "execution_count": 14,
   "metadata": {},
   "outputs": [
    {
     "ename": "TypeError",
     "evalue": "unsupported operand type(s) for +: 'FirstClass' and 'FirstClass'",
     "output_type": "error",
     "traceback": [
      "\u001b[1;31m---------------------------------------------------------------------------\u001b[0m",
      "\u001b[1;31mTypeError\u001b[0m                                 Traceback (most recent call last)",
      "\u001b[1;32m<ipython-input-14-259706549f3d>\u001b[0m in \u001b[0;36m<module>\u001b[1;34m\u001b[0m\n\u001b[1;32m----> 1\u001b[1;33m \u001b[0mx\u001b[0m\u001b[1;33m+\u001b[0m\u001b[0my\u001b[0m\u001b[1;33m\u001b[0m\u001b[1;33m\u001b[0m\u001b[0m\n\u001b[0m",
      "\u001b[1;31mTypeError\u001b[0m: unsupported operand type(s) for +: 'FirstClass' and 'FirstClass'"
     ]
    }
   ],
   "source": [
    "x+y #чтобы участвовать в сложении необходима перегрузка оператора \"+\" при помощи метода __add__"
   ]
  },
  {
   "cell_type": "code",
   "execution_count": null,
   "metadata": {},
   "outputs": [],
   "source": [
    "#имеется один метод перегрузки оператора, который можно встретить практически в любом классе: метод __init__"
   ]
  },
  {
   "cell_type": "code",
   "execution_count": 18,
   "metadata": {},
   "outputs": [],
   "source": [
    ">>> class ThirdClass(SecondClass): # Наследует SecondClass\n",
    "        def __init__(self, value): # Вызывается из ThirdClass(value)\n",
    "            self.data = value\n",
    "        def __add__(self, other): # Для выражения “self + other”\n",
    "            return ThirdClass(self.data + other)\n",
    "        def __str__(self): # Вызывается из print(self), str()\n",
    "            return '[ThirdClass: %s]' % self.data\n",
    "        def mul(self, other): # Изменяет сам объект: обычный метод\n",
    "            self.data *= other"
   ]
  },
  {
   "cell_type": "code",
   "execution_count": 20,
   "metadata": {},
   "outputs": [
    {
     "name": "stdout",
     "output_type": "stream",
     "text": [
      "Current value = \"abc\"\n"
     ]
    }
   ],
   "source": [
    ">>> a = ThirdClass(\"abc\") # Вызывается новый метод __init__\n",
    ">>> a.display() # Унаследованный метод"
   ]
  },
  {
   "cell_type": "code",
   "execution_count": 21,
   "metadata": {},
   "outputs": [
    {
     "name": "stdout",
     "output_type": "stream",
     "text": [
      "[ThirdClass: abc]\n"
     ]
    }
   ],
   "source": [
    ">>> print(a) # __str__: возвращает строку"
   ]
  },
  {
   "cell_type": "code",
   "execution_count": 22,
   "metadata": {},
   "outputs": [
    {
     "name": "stdout",
     "output_type": "stream",
     "text": [
      "Current value = \"abcxyz\"\n"
     ]
    }
   ],
   "source": [
    ">>> b = a + 'xyz' # Новый __add__: создается новый экземпляр\n",
    ">>> b.display() #display наследуется от 2 класса"
   ]
  },
  {
   "cell_type": "code",
   "execution_count": 23,
   "metadata": {},
   "outputs": [
    {
     "name": "stdout",
     "output_type": "stream",
     "text": [
      "[ThirdClass: abcxyz]\n"
     ]
    }
   ],
   "source": [
    ">>> print(b)"
   ]
  },
  {
   "cell_type": "code",
   "execution_count": 24,
   "metadata": {},
   "outputs": [
    {
     "name": "stdout",
     "output_type": "stream",
     "text": [
      "[ThirdClass: abcabcabc]\n"
     ]
    }
   ],
   "source": [
    ">>> a.mul(3) # mul: изменяется сам экземпляр\n",
    ">>> print(a)"
   ]
  },
  {
   "cell_type": "markdown",
   "metadata": {},
   "source": [
    "# Person, manager"
   ]
  },
  {
   "cell_type": "code",
   "execution_count": 2,
   "metadata": {},
   "outputs": [],
   "source": [
    "class Person:\n",
    "    def __init__(self, name, job=None, pay=0): # Конструктор принимает 3 аргумента\n",
    "        self.name = name # Заполняет поля при создании\n",
    "        self.job = job # self – новый экземпляр класса\n",
    "        self.pay = pay"
   ]
  },
  {
   "cell_type": "code",
   "execution_count": 17,
   "metadata": {},
   "outputs": [
    {
     "name": "stdout",
     "output_type": "stream",
     "text": [
      "Bob Smith 0\n",
      "Sue Jones 100000\n"
     ]
    }
   ],
   "source": [
    "bob = Person('Bob Smith') # Тестирование класса\n",
    "sue = Person('Sue Jones', job='dev', pay=100000) # Запустит __init__\n",
    "# автоматически\n",
    "print(bob.name, bob.pay) # Извлечет атрибуты\n",
    "print(sue.name, sue.pay) # Атрибуты в объектах sue и\n",
    "# отличаются"
   ]
  },
  {
   "cell_type": "code",
   "execution_count": 16,
   "metadata": {},
   "outputs": [],
   "source": [
    "class Person:\n",
    "    def __init__(self, name, job=None, pay=0):\n",
    "        self.name = name\n",
    "        self.job = job\n",
    "        self.pay = pay\n",
    "    def lastName(self): # Методы, реализующие поведение экземпляров\n",
    "        return self.name.split()[-1] # self – подразумеваемый экземпляр\n",
    "    def giveRaise(self, percent):\n",
    "        self.pay = int(self.pay * (1 + percent)) # Изменения придется вносить только в одном месте\n",
    "    def __str__(self): # Добавленный метод\n",
    "        return '[Person: %s, %s]' % (self.name, self.pay) # Строка для вывода"
   ]
  },
  {
   "cell_type": "code",
   "execution_count": 18,
   "metadata": {},
   "outputs": [
    {
     "name": "stdout",
     "output_type": "stream",
     "text": [
      "[Person: Sue Jones, 100000]\n"
     ]
    }
   ],
   "source": [
    "print(sue)"
   ]
  },
  {
   "cell_type": "markdown",
   "metadata": {},
   "source": [
    "# Наследование"
   ]
  },
  {
   "cell_type": "code",
   "execution_count": 22,
   "metadata": {},
   "outputs": [],
   "source": [
    "class Manager(Person): # Наследует атрибута класса Person\n",
    "    def __init__(self, name, pay): # Переопределенный конструктор\n",
    "        Person.__init__(self, name, 'mgr', pay) # Вызов оригинального\n",
    "    def giveRaise(self, percent, bonus=.10): \n",
    "        Person.giveRaise(self, percent + bonus) # Правильно: дополняет оригинал"
   ]
  },
  {
   "cell_type": "markdown",
   "metadata": {},
   "source": [
    "# Делегирование Комбинирование методом вложения(вместо наследования) перегрузка оператора _ getattr _"
   ]
  },
  {
   "cell_type": "code",
   "execution_count": 24,
   "metadata": {},
   "outputs": [],
   "source": [
    "class Manager:\n",
    "    def __init__(self, name, pay):\n",
    "        self.person = Person(name, 'mgr', pay) # Вложенный объект Person\n",
    "    def giveRaise(self, percent, bonus=.10): # Перехватывает и делегирует\n",
    "        self.person.giveRaise(percent + bonus)\n",
    "    def __getattr__(self, attr): # Делегирует обращения\n",
    "        return getattr(self.person, attr) # ко всем остальным атрибутам\n",
    "    def __str__(self):\n",
    "        return str(self.person) # Требуется перегрузка (в 3.0)"
   ]
  },
  {
   "cell_type": "code",
   "execution_count": 25,
   "metadata": {},
   "outputs": [],
   "source": [
    "class Department:\n",
    "    def __init__(self, *args):\n",
    "        self.members = list(args)\n",
    "    def addMember(self, person):\n",
    "        self.members.append(person)\n",
    "    def giveRaises(self, percent):\n",
    "        for person in self.members:\n",
    "            person.giveRaise(percent)\n",
    "    def showAll(self):\n",
    "        for person in self.members:\n",
    "            print(person)"
   ]
  },
  {
   "cell_type": "code",
   "execution_count": 29,
   "metadata": {},
   "outputs": [],
   "source": [
    "tom = Person(\"Will Ferrell\")"
   ]
  },
  {
   "cell_type": "code",
   "execution_count": 32,
   "metadata": {},
   "outputs": [
    {
     "name": "stdout",
     "output_type": "stream",
     "text": [
      "[Person: Bob Smith, 0]\n",
      "[Person: Sue Jones, 121000]\n",
      "[Person: Will Ferrell, 0]\n"
     ]
    }
   ],
   "source": [
    "development = Department(bob, sue) # Встраивание объектов в составной объект\n",
    "development.addMember(tom)\n",
    "development.giveRaises(.10)\n",
    "development.showAll()"
   ]
  },
  {
   "cell_type": "code",
   "execution_count": 35,
   "metadata": {},
   "outputs": [
    {
     "name": "stdout",
     "output_type": "stream",
     "text": [
      "name => Bob Smith\n",
      "job => None\n",
      "pay => 0\n"
     ]
    }
   ],
   "source": [
    ">>> for key in bob.__dict__:\n",
    "        print(key, '=>', getattr(bob, key))"
   ]
  },
  {
   "cell_type": "markdown",
   "metadata": {},
   "source": [
    "# Суперкласс для вывода всех атрибутов"
   ]
  },
  {
   "cell_type": "code",
   "execution_count": 6,
   "metadata": {},
   "outputs": [],
   "source": [
    "class AttrDisplay:\n",
    "    \"\"\"Реализует наследуемый метод перегрузки операции вывода, отображающий\n",
    "имена классов экземпляров и все атрибуты в виде пар имя=значение,\n",
    "имеющиеся в экземплярах (исключая атрибуты, унаследованные от классов).\n",
    "Может добавляться в любые классы и способен работать с любыми\n",
    "экземплярами.\"\"\"\n",
    "    def gatherAttrs(self):\n",
    "        attrs = []\n",
    "        for key in sorted(self.__dict__):\n",
    "            attrs.append('%s=%s' % (key, getattr(self, key)))\n",
    "        return ', '.join(attrs)\n",
    "    def __str__(self):\n",
    "        return '[%s: %s]' % (self.__class__.__name__, self.gatherAttrs())"
   ]
  },
  {
   "cell_type": "code",
   "execution_count": 7,
   "metadata": {},
   "outputs": [],
   "source": [
    "class TopTest(AttrDisplay):\n",
    "    count = 0\n",
    "    def __init__(self):\n",
    "        self.attr1 = TopTest.count\n",
    "        self.attr2 = TopTest.count+1\n",
    "        TopTest.count += 2\n",
    "class SubTest(TopTest):\n",
    "    pass"
   ]
  },
  {
   "cell_type": "code",
   "execution_count": 8,
   "metadata": {},
   "outputs": [
    {
     "name": "stdout",
     "output_type": "stream",
     "text": [
      "[TopTest: attr1=0, attr2=1]\n",
      "[SubTest: attr1=2, attr2=3]\n"
     ]
    }
   ],
   "source": [
    "X, Y = TopTest(), SubTest()\n",
    "print(X) # Выведет все атрибуты экземпляра\n",
    "print(Y) # Выведет имя класса,\n",
    "# самого близкого в дереве наследования"
   ]
  },
  {
   "cell_type": "code",
   "execution_count": 9,
   "metadata": {},
   "outputs": [
    {
     "data": {
      "text/plain": [
       "['__class__',\n",
       " '__delattr__',\n",
       " '__dict__',\n",
       " '__dir__',\n",
       " '__doc__',\n",
       " '__eq__',\n",
       " '__format__',\n",
       " '__ge__',\n",
       " '__getattribute__',\n",
       " '__gt__',\n",
       " '__hash__',\n",
       " '__init__',\n",
       " '__init_subclass__',\n",
       " '__le__',\n",
       " '__lt__',\n",
       " '__module__',\n",
       " '__ne__',\n",
       " '__new__',\n",
       " '__reduce__',\n",
       " '__reduce_ex__',\n",
       " '__repr__',\n",
       " '__setattr__',\n",
       " '__sizeof__',\n",
       " '__str__',\n",
       " '__subclasshook__',\n",
       " '__weakref__',\n",
       " 'attr1',\n",
       " 'attr2',\n",
       " 'count',\n",
       " 'gatherAttrs']"
      ]
     },
     "execution_count": 9,
     "metadata": {},
     "output_type": "execute_result"
    }
   ],
   "source": [
    "dir(X)"
   ]
  },
  {
   "cell_type": "code",
   "execution_count": 13,
   "metadata": {},
   "outputs": [],
   "source": [
    "class Person(AttrDisplay):\n",
    "    \"\"\"\n",
    "Создает и обрабатывает записи с информацией о людях\n",
    "    \"\"\"\n",
    "    def __init__(self, name, job=None, pay=0):\n",
    "        self.name = name\n",
    "        self.job = job\n",
    "        self.pay = pay\n",
    "    def lastName(self): # Предполагается, что фамилия\n",
    "        return self.name.split()[-1] # указана последней\n",
    "    def giveRaise(self, percent): # Процент – величина в диапазоне 0..1\n",
    "        self.pay = int(self.pay * (1 + percent))"
   ]
  },
  {
   "cell_type": "code",
   "execution_count": 14,
   "metadata": {},
   "outputs": [],
   "source": [
    "class Manager(Person):\n",
    "    \"\"\"\n",
    "Версия класса Person, адаптированная в соответствии\n",
    "со специальными требованиями\n",
    "    \"\"\"\n",
    "    def __init__(self, name, pay):\n",
    "        Person.__init__(self, name, 'mgr', pay)\n",
    "    def giveRaise(self, percent, bonus=.10):\n",
    "        Person.giveRaise(self, percent + bonus)"
   ]
  },
  {
   "cell_type": "code",
   "execution_count": 17,
   "metadata": {},
   "outputs": [
    {
     "name": "stdout",
     "output_type": "stream",
     "text": [
      "[Person: job=None, name=Bob Smith, pay=0]\n",
      "[Person: job=dev, name=Sue Jones, pay=100000]\n"
     ]
    }
   ],
   "source": [
    "bob = Person('Bob Smith') # Тестирование класса\n",
    "sue = Person('Sue Jones', job='dev', pay=100000) # Запустит __init__\n",
    "# автоматически\n",
    "print(bob) \n",
    "print(sue) "
   ]
  },
  {
   "cell_type": "markdown",
   "metadata": {},
   "source": [
    "# Сохранение данных. Модули pickle, shelve и dbm хранилище объектов"
   ]
  },
  {
   "cell_type": "code",
   "execution_count": null,
   "metadata": {},
   "outputs": [],
   "source": [
    "#pickle\n",
    "#Преобразует произвольные объекты на языке Python в строку байтов и об-ратно.\n",
    "#dbm (в Python 2.6 называется anydbm)\n",
    "#Реализует сохранение строк в файлах, обеспечивающих возможность обращения по ключу.\n",
    "#shelve\n",
    "#Использует первые два модуля, позволяя сохранять объекты в файлах-\n",
    "#хранилищах, обеспечивающих возможность обращения по ключу."
   ]
  },
  {
   "cell_type": "code",
   "execution_count": null,
   "metadata": {},
   "outputs": [],
   "source": [
    "from person import Person, Manager # Импортирует наши классы\n",
    "bob = Person(‘Bob Smith’) # Создание объектов для сохранения\n",
    "sue = Person(‘Sue Jones’, job=’dev’, pay=100000)\n",
    "tom = Manager(‘Tom Jones’, 50000)\n",
    "import shelve\n",
    "db = shelve.open(‘persondb’) # Имя файла хранилища\n",
    "for object in (bob, sue, tom): # В качестве ключа использовать атрибут name\n",
    "    db[object.name] = object # Сохранить объект в хранилище\n",
    "db.close() # Закрыть после внесения изменени"
   ]
  },
  {
   "cell_type": "code",
   "execution_count": null,
   "metadata": {},
   "outputs": [],
   "source": [
    "import shelve\n",
    "db = shelve.open(‘persondb’) # Открыть хранилище в файле с указанным именем\n",
    "for key in sorted(db): # Обойти и отобразить объекты в базе данных\n",
    "    print(key, ‘\\t=>’, db[key]) # Вывод в требуемом формате\n",
    "sue = db[‘Sue Jones’] # Извлечь объект по ключу\n",
    "sue.giveRaise(.10) # Изменить объект в памяти вызовом метода\n",
    "db[‘Sue Jones’] = sue # Присвоить по ключу,\n",
    "# чтобы обновить объект в хранилище\n",
    "db.close() # Закрыть после внесения изменений"
   ]
  },
  {
   "cell_type": "markdown",
   "metadata": {},
   "source": [
    "# raise"
   ]
  },
  {
   "cell_type": "code",
   "execution_count": 4,
   "metadata": {
    "collapsed": true
   },
   "outputs": [
    {
     "ename": "NotImplementedError",
     "evalue": "action must be defined!",
     "output_type": "error",
     "traceback": [
      "\u001b[1;31m---------------------------------------------------------------------------\u001b[0m",
      "\u001b[1;31mNotImplementedError\u001b[0m                       Traceback (most recent call last)",
      "\u001b[1;32m<ipython-input-4-c8d61b026a01>\u001b[0m in \u001b[0;36m<module>\u001b[1;34m\u001b[0m\n\u001b[0;32m      5\u001b[0m         \u001b[1;32mraise\u001b[0m \u001b[0mNotImplementedError\u001b[0m\u001b[1;33m(\u001b[0m\u001b[1;34m'action must be defined!'\u001b[0m\u001b[1;33m)\u001b[0m\u001b[1;33m\u001b[0m\u001b[1;33m\u001b[0m\u001b[0m\n\u001b[0;32m      6\u001b[0m \u001b[0mX\u001b[0m \u001b[1;33m=\u001b[0m \u001b[0mSuper\u001b[0m\u001b[1;33m(\u001b[0m\u001b[1;33m)\u001b[0m\u001b[1;33m\u001b[0m\u001b[1;33m\u001b[0m\u001b[0m\n\u001b[1;32m----> 7\u001b[1;33m \u001b[0mX\u001b[0m\u001b[1;33m.\u001b[0m\u001b[0mdelegate\u001b[0m\u001b[1;33m(\u001b[0m\u001b[1;33m)\u001b[0m\u001b[1;33m\u001b[0m\u001b[1;33m\u001b[0m\u001b[0m\n\u001b[0m",
      "\u001b[1;32m<ipython-input-4-c8d61b026a01>\u001b[0m in \u001b[0;36mdelegate\u001b[1;34m(self)\u001b[0m\n\u001b[0;32m      1\u001b[0m \u001b[1;32mclass\u001b[0m \u001b[0mSuper\u001b[0m\u001b[1;33m:\u001b[0m\u001b[1;33m\u001b[0m\u001b[1;33m\u001b[0m\u001b[0m\n\u001b[0;32m      2\u001b[0m     \u001b[1;32mdef\u001b[0m \u001b[0mdelegate\u001b[0m\u001b[1;33m(\u001b[0m\u001b[0mself\u001b[0m\u001b[1;33m)\u001b[0m\u001b[1;33m:\u001b[0m\u001b[1;33m\u001b[0m\u001b[1;33m\u001b[0m\u001b[0m\n\u001b[1;32m----> 3\u001b[1;33m         \u001b[0mself\u001b[0m\u001b[1;33m.\u001b[0m\u001b[0maction\u001b[0m\u001b[1;33m(\u001b[0m\u001b[1;33m)\u001b[0m\u001b[1;33m\u001b[0m\u001b[1;33m\u001b[0m\u001b[0m\n\u001b[0m\u001b[0;32m      4\u001b[0m     \u001b[1;32mdef\u001b[0m \u001b[0maction\u001b[0m\u001b[1;33m(\u001b[0m\u001b[0mself\u001b[0m\u001b[1;33m)\u001b[0m\u001b[1;33m:\u001b[0m\u001b[1;33m\u001b[0m\u001b[1;33m\u001b[0m\u001b[0m\n\u001b[0;32m      5\u001b[0m         \u001b[1;32mraise\u001b[0m \u001b[0mNotImplementedError\u001b[0m\u001b[1;33m(\u001b[0m\u001b[1;34m'action must be defined!'\u001b[0m\u001b[1;33m)\u001b[0m\u001b[1;33m\u001b[0m\u001b[1;33m\u001b[0m\u001b[0m\n",
      "\u001b[1;32m<ipython-input-4-c8d61b026a01>\u001b[0m in \u001b[0;36maction\u001b[1;34m(self)\u001b[0m\n\u001b[0;32m      3\u001b[0m         \u001b[0mself\u001b[0m\u001b[1;33m.\u001b[0m\u001b[0maction\u001b[0m\u001b[1;33m(\u001b[0m\u001b[1;33m)\u001b[0m\u001b[1;33m\u001b[0m\u001b[1;33m\u001b[0m\u001b[0m\n\u001b[0;32m      4\u001b[0m     \u001b[1;32mdef\u001b[0m \u001b[0maction\u001b[0m\u001b[1;33m(\u001b[0m\u001b[0mself\u001b[0m\u001b[1;33m)\u001b[0m\u001b[1;33m:\u001b[0m\u001b[1;33m\u001b[0m\u001b[1;33m\u001b[0m\u001b[0m\n\u001b[1;32m----> 5\u001b[1;33m         \u001b[1;32mraise\u001b[0m \u001b[0mNotImplementedError\u001b[0m\u001b[1;33m(\u001b[0m\u001b[1;34m'action must be defined!'\u001b[0m\u001b[1;33m)\u001b[0m\u001b[1;33m\u001b[0m\u001b[1;33m\u001b[0m\u001b[0m\n\u001b[0m\u001b[0;32m      6\u001b[0m \u001b[0mX\u001b[0m \u001b[1;33m=\u001b[0m \u001b[0mSuper\u001b[0m\u001b[1;33m(\u001b[0m\u001b[1;33m)\u001b[0m\u001b[1;33m\u001b[0m\u001b[1;33m\u001b[0m\u001b[0m\n\u001b[0;32m      7\u001b[0m \u001b[0mX\u001b[0m\u001b[1;33m.\u001b[0m\u001b[0mdelegate\u001b[0m\u001b[1;33m(\u001b[0m\u001b[1;33m)\u001b[0m\u001b[1;33m\u001b[0m\u001b[1;33m\u001b[0m\u001b[0m\n",
      "\u001b[1;31mNotImplementedError\u001b[0m: action must be defined!"
     ]
    }
   ],
   "source": [
    "class Super:\n",
    "    def delegate(self):\n",
    "        self.action()\n",
    "    def action(self):\n",
    "        raise NotImplementedError('action must be defined!')\n",
    "X = Super()\n",
    "X.delegate()"
   ]
  },
  {
   "cell_type": "markdown",
   "metadata": {},
   "source": [
    "# Абстрактные суперклассы"
   ]
  },
  {
   "cell_type": "code",
   "execution_count": null,
   "metadata": {},
   "outputs": [],
   "source": [
    "#В версиях Python 2.6 и 3.0 абстрактные суперклассы (они же «абстрактные\n",
    "#базовые классы»), представленные в предыдущем разделе, которые требуют,\n",
    "#чтобы подклассы переопределяли некоторые методы, могут быть реализованы\n",
    "#с применением специальной синтаксической конструкции определения клас-\n",
    "#са.\n",
    "#В Python 3.0 для этих целей используется именованный аргумент\n",
    "#в заголовке инструкции class и специальный декоратор @abstract методов. Обе\n",
    "#конструкции мы будем подробно рассматривать далее, в этой книге:"
   ]
  },
  {
   "cell_type": "code",
   "execution_count": null,
   "metadata": {},
   "outputs": [],
   "source": [
    "from abc import ABCMeta, abstractmethod\n",
    "class Super(metaclass=ABCMeta):\n",
    "    @abstractmethod\n",
    "    def method(self, ...):\n",
    "        pass"
   ]
  },
  {
   "cell_type": "code",
   "execution_count": 6,
   "metadata": {},
   "outputs": [],
   "source": [
    "from abc import ABCMeta, abstractmethod\n",
    "\n",
    "class Super(metaclass=ABCMeta):\n",
    "    def delegate(self):\n",
    "        self.action()\n",
    "    @abstractmethod\n",
    "    def action(self):\n",
    "        pass"
   ]
  },
  {
   "cell_type": "code",
   "execution_count": 7,
   "metadata": {},
   "outputs": [
    {
     "ename": "TypeError",
     "evalue": "Can't instantiate abstract class Super with abstract methods action",
     "output_type": "error",
     "traceback": [
      "\u001b[1;31m---------------------------------------------------------------------------\u001b[0m",
      "\u001b[1;31mTypeError\u001b[0m                                 Traceback (most recent call last)",
      "\u001b[1;32m<ipython-input-7-ea1510062678>\u001b[0m in \u001b[0;36m<module>\u001b[1;34m\u001b[0m\n\u001b[1;32m----> 1\u001b[1;33m \u001b[0mX\u001b[0m \u001b[1;33m=\u001b[0m \u001b[0mSuper\u001b[0m\u001b[1;33m(\u001b[0m\u001b[1;33m)\u001b[0m\u001b[1;33m\u001b[0m\u001b[1;33m\u001b[0m\u001b[0m\n\u001b[0m",
      "\u001b[1;31mTypeError\u001b[0m: Can't instantiate abstract class Super with abstract methods action"
     ]
    }
   ],
   "source": [
    "X = Super() #нельзя создать наследующий класс не определив у него метод action"
   ]
  },
  {
   "cell_type": "markdown",
   "metadata": {},
   "source": [
    "# class iterator hasmethod __next__, __iter__"
   ]
  },
  {
   "cell_type": "code",
   "execution_count": 11,
   "metadata": {},
   "outputs": [],
   "source": [
    "class Series(object):\n",
    "    def __init__(self, low, high):\n",
    "        self.current = low\n",
    "        self.high = high\n",
    "\n",
    "    def __iter__(self):\n",
    "        return self\n",
    "\n",
    "    def __next__(self):\n",
    "        if self.current > self.high:\n",
    "            raise StopIteration\n",
    "        else:\n",
    "            self.current += 1\n",
    "            return self.current - 1"
   ]
  },
  {
   "cell_type": "markdown",
   "metadata": {},
   "source": [
    "# Фреймворки"
   ]
  },
  {
   "cell_type": "markdown",
   "metadata": {},
   "source": [
    "# Графический интерфейс пользователя"
   ]
  },
  {
   "cell_type": "code",
   "execution_count": null,
   "metadata": {},
   "outputs": [],
   "source": [
    "#В настоящий момент мы можем взаимодействовать с нашей базой данных\n",
    "#только с помощью командного интерфейса интерактивной оболочки и сце-\n",
    "#нариев. Однако мы могли бы повысить удобство использования базы данных\n",
    "#объектов, добавив графический интерфейс пользователя, позволяющий\n",
    "#просматривать и изменять записи. Имеется возможность создавать перено-\n",
    "#симые графические интерфейсы с помощью пакета tkinter (Tkinter – в 2.6),\n",
    "#входящего в состав стандартной библиотеки Python, или с помощью сторон-\n",
    "#них инструментов, таких как WxPython и PyQt. Пакет tkinter распростра-\n",
    "#няется в составе Python, позволяет быстро создавать простые графические\n",
    "#интерфейсы и идеально подходит для изучения приемов разработки гра-\n",
    "#фического интерфейса. WxPython и PyQt являются более сложными в ис-\n",
    "#пользовании, но зачастую позволяют получать более высококачественные\n",
    "#графические интерфейсы."
   ]
  },
  {
   "cell_type": "markdown",
   "metadata": {},
   "source": [
    "# Веб-сайты"
   ]
  },
  {
   "cell_type": "code",
   "execution_count": null,
   "metadata": {},
   "outputs": [],
   "source": [
    "#Хотя графические интерфейсы удобны в использовании и обладают вы-\n",
    "#сокой скоростью работы, тем не менее они не могут состязаться с веб-\n",
    "#интерфейсами в смысле доступности. Вместо или в дополнение к графиче-\n",
    "#скому интерфейсу и интерактивной оболочке мы могли бы также реализо-\n",
    "#вать веб-сайт, позволяющий просматривать и изменять записи. Веб-сайты\n",
    "#можно строить на основе простых инструментов создания CGI-сценариев,\n",
    "#входящих в состав Python, или использовать полноценные веб-фреймворки\n",
    "#от сторонних производителей, такие как Django, TurboGears, Pylons, eb-\n",
    "#2Py, Zope или Google App Engine. При использовании веб-интерфейса дан-\n",
    "#ные по-прежнему могут сохраняться в файлах с помощью модулей shelve,\n",
    "#pickle или других инструментов, предназначенных для использования\n",
    "#в программах на языке Python. Сценарии, обрабатывающие эти файлы,\n",
    "#вызываются сервером автоматически, в ответ на запросы, поступающие от\n",
    "#веб-броузеров и других клиентов, и возвращают разметку HTML, обеспе-\n",
    "#чивающую взаимодействие с пользователем, либо непосредственно, либо\n",
    "#с применением фреймворка."
   ]
  },
  {
   "cell_type": "markdown",
   "metadata": {},
   "source": [
    "# Веб-службы"
   ]
  },
  {
   "cell_type": "code",
   "execution_count": null,
   "metadata": {},
   "outputs": [],
   "source": [
    "#Веб-клиенты часто сами могут выполнять анализ информации, получен-\n",
    "#ной в ответе от веб-сайта (этот прием известен под красочным называнием\n",
    "#«screen scraping»1). Однако мы могли бы пойти еще дальше и предоставить\n",
    "#более прямой способ извлечения записей из базы данных на стороне веб-\n",
    "#сервера – посредством интерфейсов веб-служб, таких как SOAP или XMLRPC,\n",
    "#поддержка которых или включена в состав Python, или может быть\n",
    "#добавлена за счет установки сторонних, свободно распространяемых паке-\n",
    "#тов и модулей. Веб-службы возвращают данные в более непосредственном\n",
    "#виде, по сравнению со страницами HTML, возвращаемыми веб-сервером."
   ]
  },
  {
   "cell_type": "markdown",
   "metadata": {},
   "source": [
    "# Базы данных"
   ]
  },
  {
   "cell_type": "code",
   "execution_count": null,
   "metadata": {},
   "outputs": [],
   "source": [
    "#Если база данных должна хранить большой объем данных или эти данные\n",
    "#имеют большое значение, мы могли бы отказаться от использования моду-\n",
    "#ля shelve и использовать более полноценный механизм хранения данных,\n",
    "#такой как ZODB (свободно распространяемая, объектно-ориентированная\n",
    "#база данных, ООДБ), или более традиционную реляционную базу данных,\n",
    "#такую как MySQL,Oracle, PostgreSQL или SQLite. В состав Pythonуже вхо-\n",
    "#дит поддержка встраиваемой системы баз данных SQLite, однако в Сети\n",
    "#вы найдете и другие свободно распространяемые альтернативы. Механизм\n",
    "#ZODB, например, своими особенностями напоминает модуль shelve, однако\n",
    "#в ZODB отсутствуют многие ограничения, присущие shelve; он поддержи-\n",
    "#вает возможность работы с большими базами данных, параллельное изме-\n",
    "#нение данных, транзакции и автоматическую сквозную запись изменений,\n",
    "#выполняемых в памяти. Базы данных SQL, такие как MySQL, обеспечива-\n",
    "#ют инструментальные средства по организации хранилищ данных уровня\n",
    "#предприятия и могут напрямую использоваться из сценариев на языке Python."
   ]
  },
  {
   "cell_type": "markdown",
   "metadata": {},
   "source": [
    "# ORM!"
   ]
  },
  {
   "cell_type": "code",
   "execution_count": null,
   "metadata": {},
   "outputs": [],
   "source": [
    "#Механизмы объектно-реляционных отображений (ORM)\n",
    "#При переходе на использование системы управления реляционными ба-\n",
    "#зами данных нам не придется отказываться от инструментов ООП, имею-\n",
    "#щихся в языке Python. Механизмы объектно-реляционного отображения\n",
    "#(object-relational mapping, ORM), такие как SQLObject и SQLAlchemy, могут\n",
    "#автоматически отображать реляционные таблицы и записи в классы и эк-\n",
    "#земпляры на языке Python и обратно, благодаря чему мы можем обраба-\n",
    "#тывать хранимые данные, используя привычный синтаксис классов языка\n",
    "#Python. Эти механизмы обеспечивают альтернативу использованию ООДБ,\n",
    "#таких как shelve и ZODB, и позволяют объединить сильные стороны реля-\n",
    "#ционных баз данных и модели классов в языке Python."
   ]
  }
 ],
 "metadata": {
  "kernelspec": {
   "display_name": "Python 3",
   "language": "python",
   "name": "python3"
  },
  "language_info": {
   "codemirror_mode": {
    "name": "ipython",
    "version": 3
   },
   "file_extension": ".py",
   "mimetype": "text/x-python",
   "name": "python",
   "nbconvert_exporter": "python",
   "pygments_lexer": "ipython3",
   "version": "3.7.4"
  }
 },
 "nbformat": 4,
 "nbformat_minor": 2
}
