{
 "cells": [
  {
   "cell_type": "markdown",
   "metadata": {},
   "source": [
    "# Параллельный обход: zip и map"
   ]
  },
  {
   "cell_type": "code",
   "execution_count": 43,
   "metadata": {},
   "outputs": [
    {
     "data": {
      "text/plain": [
       "[(1, 5), (2, 6), (3, 7), (4, 8)]"
      ]
     },
     "execution_count": 43,
     "metadata": {},
     "output_type": "execute_result"
    }
   ],
   "source": [
    ">>> L1 = [1,2,3,4]\n",
    ">>> L2 = [5,6,7,8,9]\n",
    "list(zip(L1,L2))    #возвращает кортеж из пар элементов последовательностей, по кротчайшей длине можно использовать для итерации"
   ]
  },
  {
   "cell_type": "code",
   "execution_count": 31,
   "metadata": {},
   "outputs": [
    {
     "data": {
      "text/plain": [
       "[(1, 4, 7), (2, 5, 8), (3, 6, 9)]"
      ]
     },
     "execution_count": 31,
     "metadata": {},
     "output_type": "execute_result"
    }
   ],
   "source": [
    ">>> T1, T2, T3 = (1,2,3), (4,5,6), (7,8,9)\n",
    ">>> T3\n",
    "(7, 8, 9)\n",
    ">>> list(zip(T1,T2,T3))\n",
    "[(1, 4, 7), (2, 5, 8), (3, 6, 9)]"
   ]
  },
  {
   "cell_type": "code",
   "execution_count": 30,
   "metadata": {
    "scrolled": true
   },
   "outputs": [
    {
     "name": "stdout",
     "output_type": "stream",
     "text": [
      "1 5 -- 6\n",
      "2 6 -- 8\n",
      "3 7 -- 10\n",
      "4 8 -- 12\n"
     ]
    }
   ],
   "source": [
    ">>> for (x, y) in zip(L1, L2):\n",
    "         print(x, y, '--', x+y)           #параллельный обход последовательностей"
   ]
  },
  {
   "cell_type": "code",
   "execution_count": 48,
   "metadata": {},
   "outputs": [
    {
     "data": {
      "text/plain": [
       "{'spam': 1, 'eggs': 3, 'toast': 5}"
      ]
     },
     "execution_count": 48,
     "metadata": {},
     "output_type": "execute_result"
    }
   ],
   "source": [
    ">>> keys = ['spam', 'eggs', 'toast']\n",
    ">>> vals = [1, 3, 5]\n",
    ">>> D3 = dict(zip(keys, vals))                 #генерация словаря без цикла фор!\n",
    ">>> D3"
   ]
  },
  {
   "cell_type": "code",
   "execution_count": 42,
   "metadata": {
    "scrolled": true
   },
   "outputs": [
    {
     "data": {
      "text/plain": [
       "['LINE 1\\n',\n",
       " 'LINE 2\\n',\n",
       " 'LINE 3\\n',\n",
       " 'HELLO\\n',\n",
       " 'HELLO\\n',\n",
       " 'HELLO\\n',\n",
       " 'HELLO\\n',\n",
       " 'HELLO\\n']"
      ]
     },
     "execution_count": 42,
     "metadata": {},
     "output_type": "execute_result"
    }
   ],
   "source": [
    "list(map(str.upper, open('test.txt'))) #функция map применяет функцию ко всем объектам, map принимает только функцию,\n",
    "#а не произвольное выражение"
   ]
  },
  {
   "cell_type": "code",
   "execution_count": 51,
   "metadata": {
    "scrolled": true
   },
   "outputs": [
    {
     "data": {
      "text/plain": [
       "['A', 'B', 'C']"
      ]
     },
     "execution_count": 51,
     "metadata": {},
     "output_type": "execute_result"
    }
   ],
   "source": [
    "L = ['a', 'b', 'c']\n",
    "I = iter(L)\n",
    "list(map(str.upper, I)))#map вызывает заданную функцию к заданному итератору списка ей можно передать только функцию, \n",
    "#а не произвольное выражение"
   ]
  },
  {
   "cell_type": "markdown",
   "metadata": {},
   "source": [
    "# Получение элемента последовательности и его индекса ennumirate"
   ]
  },
  {
   "cell_type": "code",
   "execution_count": 51,
   "metadata": {
    "scrolled": true
   },
   "outputs": [
    {
     "name": "stdout",
     "output_type": "stream",
     "text": [
      "s appears at offset 0\n",
      "p appears at offset 1\n",
      "a appears at offset 2\n",
      "m appears at offset 3\n"
     ]
    }
   ],
   "source": [
    ">>> S = 'spam'\n",
    ">>> for (offset, item) in enumerate(S):     #enumerate возвращает кортеж содержащий пары значение индекс\n",
    "        print(item, 'appears at offset', offset)"
   ]
  },
  {
   "cell_type": "code",
   "execution_count": 55,
   "metadata": {},
   "outputs": [
    {
     "data": {
      "text/plain": [
       "['', 'p', 'aa', 'mmm']"
      ]
     },
     "execution_count": 55,
     "metadata": {},
     "output_type": "execute_result"
    }
   ],
   "source": [
    "[c * i for (i, c) in enumerate(S)] #enumerate возвращает кортеж содержащий пары значение индекс"
   ]
  },
  {
   "cell_type": "code",
   "execution_count": 54,
   "metadata": {},
   "outputs": [
    {
     "data": {
      "text/plain": [
       "[(0, 's'), (1, 'p'), (2, 'a'), (3, 'm')]"
      ]
     },
     "execution_count": 54,
     "metadata": {},
     "output_type": "execute_result"
    }
   ],
   "source": [
    "list(enumerate(S)) #возвращает кортеж содержащий пары значение индекс"
   ]
  },
  {
   "cell_type": "markdown",
   "metadata": {},
   "source": [
    "# Чтение файлов"
   ]
  },
  {
   "cell_type": "code",
   "execution_count": null,
   "metadata": {},
   "outputs": [],
   "source": [
    "file = open(‘test.txt’)\n",
    "while True:                                               #чтение по одному символу в цикле while\n",
    "    char = file.read(1) # Читать по одному символу\n",
    "    if not char: break\n",
    "    print(char)\n",
    "for char in open(‘test.txt’).read():                       #чтение по одному символу в цикле for                \n",
    "    print(char)"
   ]
  },
  {
   "cell_type": "code",
   "execution_count": null,
   "metadata": {},
   "outputs": [],
   "source": [
    "file = open(‘test.txt’)\n",
    "while True:\n",
    "    line = file.readline() # Читать строку за строкой\n",
    "    if not line: break\n",
    "    print(line, end=’ ‘)      # Прочитанная строка уже содержит символ \\n\n",
    "file = open(‘test.txt’, ‘rb’)\n",
    "while True:\n",
    "    chunk = file.read(10) # Читать блоками по 10 байтов\n",
    "    if not chunk: break\n",
    "    print(chunk)"
   ]
  },
  {
   "cell_type": "code",
   "execution_count": null,
   "metadata": {},
   "outputs": [],
   "source": [
    "for line in open(‘test.txt’).readlines():\n",
    "    print(line, end=’’)\n",
    "for line in open(‘test.txt’): # Использование итератора: лучший способ\n",
    "    print(line, end=’’) # чтения текста"
   ]
  },
  {
   "cell_type": "markdown",
   "metadata": {},
   "source": [
    "# range "
   ]
  },
  {
   "cell_type": "code",
   "execution_count": 19,
   "metadata": {},
   "outputs": [
    {
     "data": {
      "text/plain": [
       "([0, 1, 2, 3, 4],\n",
       " [2, 3, 4],\n",
       " [0, 2, 4, 6, 8],\n",
       " [-1, -2, -3, -4],\n",
       " [-5, -4, -3, -2, -1, 0, 1, 2, 3, 4])"
      ]
     },
     "execution_count": 19,
     "metadata": {},
     "output_type": "execute_result"
    }
   ],
   "source": [
    ">>> list(range(5)), list(range(2, 5)), list(range(0, 10, 2)), list(range(-1,-5,-1)), list(range(-5, 5))\n"
   ]
  },
  {
   "cell_type": "code",
   "execution_count": null,
   "metadata": {},
   "outputs": [],
   "source": [
    ">>> for c in S[::2]: print(c, end=’ ‘) #оптимально использовать срез, чтобы получать последовательности элементов"
   ]
  },
  {
   "cell_type": "markdown",
   "metadata": {},
   "source": [
    "# Циклы while "
   ]
  },
  {
   "cell_type": "code",
   "execution_count": 1,
   "metadata": {},
   "outputs": [
    {
     "name": "stdout",
     "output_type": "stream",
     "text": [
      "5 4 3 2 1 "
     ]
    }
   ],
   "source": [
    "a = 5\n",
    "while a > 0:           \n",
    "    print(a, end=' ')\n",
    "    pass     #pass - пустая инструкция, ничего не делает, может использоваться в try, ввиде пустого тела функции или класса\n",
    "    a -= 1"
   ]
  },
  {
   "cell_type": "markdown",
   "metadata": {},
   "source": [
    "## Цикл while со счетчиком"
   ]
  },
  {
   "cell_type": "code",
   "execution_count": 2,
   "metadata": {
    "scrolled": true
   },
   "outputs": [
    {
     "name": "stdout",
     "output_type": "stream",
     "text": [
      "5 7 9 11 13 15 17 19 21 23 25 27 29 31 33 35 37 39 41 43 45 47 49 51 53 55 "
     ]
    }
   ],
   "source": [
    "a = 5\n",
    "while a <= 55:\n",
    "    print(a, end=' ')\n",
    "    a += 2"
   ]
  },
  {
   "cell_type": "markdown",
   "metadata": {},
   "source": [
    "## Умножаем строку в цикле"
   ]
  },
  {
   "cell_type": "code",
   "execution_count": 3,
   "metadata": {
    "scrolled": true
   },
   "outputs": [
    {
     "name": "stdout",
     "output_type": "stream",
     "text": [
      "6\n",
      "*\n",
      "**\n",
      "***\n",
      "****\n",
      "*****\n",
      "******\n"
     ]
    }
   ],
   "source": [
    "n = int(input()) \n",
    "c = 1\n",
    "while c <= n:\n",
    "    print('*' * c)\n",
    "    c += 1"
   ]
  },
  {
   "cell_type": "markdown",
   "metadata": {},
   "source": [
    "## Считаем сумму чисел от a до b"
   ]
  },
  {
   "cell_type": "code",
   "execution_count": null,
   "metadata": {},
   "outputs": [],
   "source": [
    "a = int(input()) \n",
    "b = int(input())\n",
    "s = 0\n",
    "i = a\n",
    "while i <= b: \n",
    "    s += i\n",
    "    i += 1\n",
    "print(s)"
   ]
  },
  {
   "cell_type": "markdown",
   "metadata": {},
   "source": [
    "## Выводим произведение пяти пар чисел, ввод по очереди"
   ]
  },
  {
   "cell_type": "code",
   "execution_count": 7,
   "metadata": {},
   "outputs": [
    {
     "name": "stdout",
     "output_type": "stream",
     "text": [
      "1 2\n",
      "2\n",
      "3 4\n",
      "12\n",
      "5 6\n",
      "30\n",
      "7 8\n",
      "56\n",
      "9 10\n",
      "90\n"
     ]
    }
   ],
   "source": [
    "i = 0\n",
    "while i < 5:\n",
    "    a, b = input().split()  # split() разбивает строку на части по пробелам\n",
    "    a = int(a)\n",
    "    b = int(b)\n",
    "    print(a * b)\n",
    "    i += 1"
   ]
  },
  {
   "cell_type": "markdown",
   "metadata": {},
   "source": [
    "# Операторы break, continue"
   ]
  },
  {
   "cell_type": "code",
   "execution_count": 11,
   "metadata": {
    "scrolled": true
   },
   "outputs": [
    {
     "name": "stdout",
     "output_type": "stream",
     "text": [
      "0 0\n"
     ]
    }
   ],
   "source": [
    "i = 0\n",
    "while i < 5:\n",
    "    a, b = input().split()\n",
    "    a = int(a)\n",
    "    b = int(b)\n",
    "    if (a == 0) and (b == 0):\n",
    "        break                     # досрочно завершаем цикл\n",
    "    print(a * b)\n",
    "    i += 1"
   ]
  },
  {
   "cell_type": "code",
   "execution_count": 12,
   "metadata": {},
   "outputs": [
    {
     "name": "stdout",
     "output_type": "stream",
     "text": [
      "0 1\n",
      "0 2\n",
      "2 3\n",
      "6\n",
      "0 0\n"
     ]
    }
   ],
   "source": [
    "\n",
    "i = 0\n",
    "while i < 5:\n",
    "    a, b = input().split()\n",
    "    a = int(a)\n",
    "    b = int(b)\n",
    "    if (a == 0) and (b == 0):\n",
    "        break                        # досрочно завершаем цикл\n",
    "    if (a == 0) or (b == 0):\n",
    "        continue                     # переходим к следующей итерации\n",
    "    print(a * b)\n",
    "    i += 1"
   ]
  },
  {
   "cell_type": "code",
   "execution_count": 15,
   "metadata": {},
   "outputs": [
    {
     "name": "stdout",
     "output_type": "stream",
     "text": [
      "Составное число\n"
     ]
    }
   ],
   "source": [
    "n = 200\n",
    "i = 2\n",
    "while i * i <= n:\n",
    "    if n % i == 0:\n",
    "        print('Составное число')\n",
    "        break\n",
    "    i += 1\n",
    "else:  \n",
    "    print('Простое число')  # будет выполняться, если не произошло выхода из цикла по break"
   ]
  },
  {
   "cell_type": "markdown",
   "metadata": {},
   "source": [
    "# Цикл For"
   ]
  },
  {
   "cell_type": "markdown",
   "metadata": {},
   "source": [
    "## простой цикл"
   ]
  },
  {
   "cell_type": "code",
   "execution_count": 16,
   "metadata": {
    "scrolled": true
   },
   "outputs": [
    {
     "name": "stdout",
     "output_type": "stream",
     "text": [
      "4\n",
      "9\n",
      "25\n"
     ]
    }
   ],
   "source": [
    "for i in 2, 3, 5: \n",
    "    print(i * i)"
   ]
  },
  {
   "cell_type": "code",
   "execution_count": 3,
   "metadata": {},
   "outputs": [
    {
     "name": "stdout",
     "output_type": "stream",
     "text": [
      "1 2 3\n",
      "4 5 6\n"
     ]
    }
   ],
   "source": [
    ">>> for (a, b, c) in [(1, 2, 3), (4, 5, 6)]: # присваивание кортежу переменных кортежа из данных\n",
    "        print(a, b, c)"
   ]
  },
  {
   "cell_type": "code",
   "execution_count": 4,
   "metadata": {},
   "outputs": [
    {
     "name": "stdout",
     "output_type": "stream",
     "text": [
      "1 [2, 3] 4\n",
      "5 [6, 7] 8\n"
     ]
    }
   ],
   "source": [
    ">>> for (a, *b, c) in [(1, 2, 3, 4), (5, 6, 7, 8)]: #присваивание всех свободных значений *b\n",
    "        print(a, b, c)"
   ]
  },
  {
   "cell_type": "markdown",
   "metadata": {},
   "source": [
    "## цикл с range"
   ]
  },
  {
   "cell_type": "code",
   "execution_count": null,
   "metadata": {},
   "outputs": [],
   "source": [
    "for i in range(10):\n",
    "    print(i * i)"
   ]
  },
  {
   "cell_type": "markdown",
   "metadata": {},
   "source": [
    "# #выводим квадрат звездочек"
   ]
  },
  {
   "cell_type": "code",
   "execution_count": 17,
   "metadata": {
    "scrolled": true
   },
   "outputs": [
    {
     "name": "stdout",
     "output_type": "stream",
     "text": [
      "4\n",
      "****\n",
      "****\n",
      "****\n",
      "****\n"
     ]
    }
   ],
   "source": [
    "n = int(input())\n",
    "for i in range(n):\n",
    "    print('*' * n)"
   ]
  },
  {
   "cell_type": "markdown",
   "metadata": {},
   "source": [
    "# # цикл с вложением"
   ]
  },
  {
   "cell_type": "code",
   "execution_count": 18,
   "metadata": {},
   "outputs": [
    {
     "name": "stdout",
     "output_type": "stream",
     "text": [
      "4\n",
      "****\n",
      "****\n",
      "****\n",
      "****\n"
     ]
    }
   ],
   "source": [
    "n = int(input())\n",
    "for i in range(n):\n",
    "    for j in range(n):\n",
    "        print('*', end='')\n",
    "    print()"
   ]
  },
  {
   "cell_type": "markdown",
   "metadata": {},
   "source": [
    "# #Сумма нечетных чисел на отрезке от a до b"
   ]
  },
  {
   "cell_type": "code",
   "execution_count": 20,
   "metadata": {},
   "outputs": [
    {
     "name": "stdout",
     "output_type": "stream",
     "text": [
      "4 5\n",
      "5\n"
     ]
    }
   ],
   "source": [
    "a, b = input().split()\n",
    "a = int(a)\n",
    "b = int(b)\n",
    "s = 0\n",
    "for i in range(a, b + 1):\n",
    "    if i % 2 == 1:\n",
    "        s += i\n",
    "print(s)"
   ]
  },
  {
   "cell_type": "markdown",
   "metadata": {},
   "source": [
    "# #Сумма нечетных чисел на отрезке от a до b"
   ]
  },
  {
   "cell_type": "code",
   "execution_count": 22,
   "metadata": {},
   "outputs": [
    {
     "name": "stdout",
     "output_type": "stream",
     "text": [
      "3 9\n",
      "24\n"
     ]
    }
   ],
   "source": [
    "a, b = input().split()\n",
    "a = int(a)\n",
    "b = int(b)\n",
    "s = 0\n",
    "if a % 2 == 0:\n",
    "    a += 1\n",
    "for i in range(a, b + 1, 2):\n",
    "    s += i\n",
    "print(s)"
   ]
  },
  {
   "cell_type": "markdown",
   "metadata": {},
   "source": [
    "# #перебор строки"
   ]
  },
  {
   "cell_type": "code",
   "execution_count": 24,
   "metadata": {},
   "outputs": [
    {
     "name": "stdout",
     "output_type": "stream",
     "text": [
      "g\n",
      "e\n",
      "n\n",
      "o\n",
      "m\n",
      "e\n"
     ]
    }
   ],
   "source": [
    "for c in 'genome':\n",
    "    print(c)"
   ]
  },
  {
   "cell_type": "markdown",
   "metadata": {},
   "source": [
    "## Подсчет числа символов 'g' в строк"
   ]
  },
  {
   "cell_type": "code",
   "execution_count": 27,
   "metadata": {},
   "outputs": [
    {
     "name": "stdout",
     "output_type": "stream",
     "text": [
      "1\n"
     ]
    }
   ],
   "source": [
    "cnt = 0\n",
    "for n in \"genome\":\n",
    "    if n == 'g':\n",
    "        cnt += 1\n",
    "print(cnt)"
   ]
  },
  {
   "cell_type": "markdown",
   "metadata": {},
   "source": [
    "# #Проверка строки на палиндром"
   ]
  },
  {
   "cell_type": "code",
   "execution_count": 28,
   "metadata": {},
   "outputs": [
    {
     "name": "stdout",
     "output_type": "stream",
     "text": [
      "ANNA\n",
      "YES\n"
     ]
    }
   ],
   "source": [
    "s = input()\n",
    "i = 0\n",
    "j = len(s) - 1\n",
    "is_palindrom = True\n",
    "while i < j:\n",
    "    if s[i] != s[j]:\n",
    "        is_palindrom = False\n",
    "    i += 1\n",
    "    j -= 1\n",
    "if is_palindrom:\n",
    "    print('YES')\n",
    "else:\n",
    "    print('NO')"
   ]
  },
  {
   "cell_type": "markdown",
   "metadata": {},
   "source": [
    "# #Поле для игры Сапер"
   ]
  },
  {
   "cell_type": "code",
   "execution_count": 31,
   "metadata": {},
   "outputs": [
    {
     "name": "stdout",
     "output_type": "stream",
     "text": [
      "3 4 5\n",
      "1 2\n",
      "2 1\n",
      "1 2\n",
      "2 1\n",
      "2 1\n",
      "2*1.\n",
      "*21.\n",
      "11..\n"
     ]
    }
   ],
   "source": [
    "n, m, k = (int(i) for i in input().split())  # чтение размеров поля и числа мин\n",
    "a = [[0 for j in range(m)] for i in range(n)]  # заполнение поля нулями\n",
    "for i in range(k):\n",
    "    row, col = (int(i) - 1 for i in input().split())\n",
    "    a[row][col] = -1  # расставляем мины\n",
    "for i in range(n):\n",
    "    for j in range(m):\n",
    "        if a[i][j] == 0:  # в этой клетке мины нет, поэтому считаем число мин вокруг\n",
    "            for di in range(-1, 2):\n",
    "                for dj in range(-1, 2):\n",
    "                    ai = i + di\n",
    "                    aj = j + dj\n",
    "                    # (ai, aj)\n",
    "                    if 0 <= ai < n and 0 <= aj < m and a[ai][aj] == -1:\n",
    "                        a[i][j] += 1\n",
    "# вывод результата\n",
    "for i in range(n):\n",
    "    for j in range(m):\n",
    "        if a[i][j] == -1:\n",
    "            print('*', end='')\n",
    "        elif a[i][j] == 0:\n",
    "            print('.', end='')\n",
    "        else:\n",
    "            print(a[i][j], end='')\n",
    "    print()"
   ]
  }
 ],
 "metadata": {
  "kernelspec": {
   "display_name": "Python 3",
   "language": "python",
   "name": "python3"
  },
  "language_info": {
   "codemirror_mode": {
    "name": "ipython",
    "version": 3
   },
   "file_extension": ".py",
   "mimetype": "text/x-python",
   "name": "python",
   "nbconvert_exporter": "python",
   "pygments_lexer": "ipython3",
   "version": "3.7.3"
  }
 },
 "nbformat": 4,
 "nbformat_minor": 2
}
