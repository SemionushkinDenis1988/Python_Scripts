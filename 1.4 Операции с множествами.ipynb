{
 "cells": [
  {
   "cell_type": "markdown",
   "metadata": {},
   "source": [
    "# Операции с множествами"
   ]
  },
  {
   "cell_type": "code",
   "execution_count": 109,
   "metadata": {},
   "outputs": [
    {
     "data": {
      "text/plain": [
       "frozenset({'a', 'b', 'c'})"
      ]
     },
     "execution_count": 109,
     "metadata": {},
     "output_type": "execute_result"
    }
   ],
   "source": [
    "Y = frozenset(\"abc\") #создает НЕИЗМЕНЯЕМОЕ МНОЖЕСТВО!!\n",
    ">>> X = set('spam') # В 2.6 и 3.0 можно создавать из последовательностей\n",
    "Y"
   ]
  },
  {
   "cell_type": "code",
   "execution_count": 217,
   "metadata": {},
   "outputs": [
    {
     "data": {
      "text/plain": [
       "{'a', 'h', 'm'}"
      ]
     },
     "execution_count": 217,
     "metadata": {},
     "output_type": "execute_result"
    }
   ],
   "source": [
    "Y = {'h', 'a', 'm'} # В 3.0 можно определять литералы множеств\n",
    "Y"
   ]
  },
  {
   "cell_type": "code",
   "execution_count": 222,
   "metadata": {},
   "outputs": [
    {
     "data": {
      "text/plain": [
       "({'a', 'm', 'p', 's'}, {'a', 'h', 'm'})"
      ]
     },
     "execution_count": 222,
     "metadata": {},
     "output_type": "execute_result"
    }
   ],
   "source": [
    "X, Y #такая запись создает кортеж..........!!!!!"
   ]
  },
  {
   "cell_type": "code",
   "execution_count": 223,
   "metadata": {},
   "outputs": [
    {
     "data": {
      "text/plain": [
       "{'a', 'm'}"
      ]
     },
     "execution_count": 223,
     "metadata": {},
     "output_type": "execute_result"
    }
   ],
   "source": [
    ">>> X & Y # Пересечение"
   ]
  },
  {
   "cell_type": "code",
   "execution_count": 224,
   "metadata": {},
   "outputs": [
    {
     "data": {
      "text/plain": [
       "{'a', 'h', 'm', 'p', 's'}"
      ]
     },
     "execution_count": 224,
     "metadata": {},
     "output_type": "execute_result"
    }
   ],
   "source": [
    ">>> X | Y # Объединение"
   ]
  },
  {
   "cell_type": "code",
   "execution_count": 226,
   "metadata": {},
   "outputs": [
    {
     "data": {
      "text/plain": [
       "{'p', 's'}"
      ]
     },
     "execution_count": 226,
     "metadata": {},
     "output_type": "execute_result"
    }
   ],
   "source": [
    ">>> X - Y # Разность"
   ]
  },
  {
   "cell_type": "code",
   "execution_count": 227,
   "metadata": {
    "scrolled": true
   },
   "outputs": [
    {
     "data": {
      "text/plain": [
       "{1, 4, 9, 16}"
      ]
     },
     "execution_count": 227,
     "metadata": {},
     "output_type": "execute_result"
    }
   ],
   "source": [
    ">>> {x ** 2 for x in [1, 2, 3, 4]} # Генератор множеств в 3.0"
   ]
  },
  {
   "cell_type": "code",
   "execution_count": 229,
   "metadata": {
    "collapsed": true
   },
   "outputs": [
    {
     "data": {
      "text/plain": [
       "['__and__',\n",
       " '__class__',\n",
       " '__contains__',\n",
       " '__delattr__',\n",
       " '__dir__',\n",
       " '__doc__',\n",
       " '__eq__',\n",
       " '__format__',\n",
       " '__ge__',\n",
       " '__getattribute__',\n",
       " '__gt__',\n",
       " '__hash__',\n",
       " '__iand__',\n",
       " '__init__',\n",
       " '__init_subclass__',\n",
       " '__ior__',\n",
       " '__isub__',\n",
       " '__iter__',\n",
       " '__ixor__',\n",
       " '__le__',\n",
       " '__len__',\n",
       " '__lt__',\n",
       " '__ne__',\n",
       " '__new__',\n",
       " '__or__',\n",
       " '__rand__',\n",
       " '__reduce__',\n",
       " '__reduce_ex__',\n",
       " '__repr__',\n",
       " '__ror__',\n",
       " '__rsub__',\n",
       " '__rxor__',\n",
       " '__setattr__',\n",
       " '__sizeof__',\n",
       " '__str__',\n",
       " '__sub__',\n",
       " '__subclasshook__',\n",
       " '__xor__',\n",
       " 'add',\n",
       " 'clear',\n",
       " 'copy',\n",
       " 'difference',\n",
       " 'difference_update',\n",
       " 'discard',\n",
       " 'intersection',\n",
       " 'intersection_update',\n",
       " 'isdisjoint',\n",
       " 'issubset',\n",
       " 'issuperset',\n",
       " 'pop',\n",
       " 'remove',\n",
       " 'symmetric_difference',\n",
       " 'symmetric_difference_update',\n",
       " 'union',\n",
       " 'update']"
      ]
     },
     "execution_count": 229,
     "metadata": {},
     "output_type": "execute_result"
    }
   ],
   "source": [
    "dir(X)"
   ]
  },
  {
   "cell_type": "code",
   "execution_count": 319,
   "metadata": {},
   "outputs": [
    {
     "name": "stdout",
     "output_type": "stream",
     "text": [
      "set()\n",
      "{'p', 'a', 'm'}\n",
      "None\n",
      "{'m'}\n",
      "None\n",
      "False\n",
      "True\n",
      "False\n",
      "p\n",
      "None\n",
      "{'s', 'm'}\n",
      "None\n",
      "{'X', 'F', 'S', 'G', 'Z'}\n",
      "None\n"
     ]
    }
   ],
   "source": [
    "X = set('spam')\n",
    "X.add('zzzzzz') #добавляет аргумент в сет\n",
    "X.clear() #очищает сет\n",
    "print(X.copy()) #возвращает shalow копию сета то есть копия со \"ссылками\" на оригинал, бывает еще deepcopy копия полная без \"ссылок\"\n",
    "X = set('spam')\n",
    "print(X.difference(set('ss'))) #возвращает различе между сетами\n",
    "X = set('spam')\n",
    "X.difference_update(set('sa')) #удаляет совпавшие символы сета и аргумента\n",
    "print(X.discard('sp')) #удаляет элементы из сета если они там есть, если нет то ничего не возвращает\n",
    "print(X.intersection(\"sm\")) #возвращает новый сет состоящий из совпадений между сетами\n",
    "print(X.intersection_update()) #оставляет в сете только совпадения\n",
    "print(X.isdisjoint('spam')) #Return True if two sets have a null intersection (совпадений)\n",
    "print(X.issubset('spam')) #возвращает True если X сет - это сабсет аргумента\n",
    "print(X.issuperset('spam')) #возвращает True если X сет содержит сет из аргумента\n",
    "print(X.pop()) #удаляет и возвращает произвольный элемент сета, если сет пуст возвращает ошибку\n",
    "print(X.remove('m')) #удаляет указанный элемент из сета\n",
    "print(X.symmetric_difference('sm')) #возвращает новый сет состоящий из разницы двух сетов\n",
    "print(X.symmetric_difference_update('XGSFGSZ')) #оставляет в сете(X) только его различия с сетом из аргумента\n",
    "print(X.union(\"ZZZZ\")) #возвращает новый сет состоящий из объединения двух сетов\n",
    "print(X.update(\"Z\")) # обновляет сет объединяя с сетом из скобок"
   ]
  },
  {
   "cell_type": "code",
   "execution_count": 314,
   "metadata": {},
   "outputs": [
    {
     "name": "stdout",
     "output_type": "stream",
     "text": [
      "Help on built-in function update:\n",
      "\n",
      "update(...) method of builtins.set instance\n",
      "    Update a set with the union of itself and others.\n",
      "\n"
     ]
    }
   ],
   "source": [
    "help(X.update)"
   ]
  },
  {
   "cell_type": "code",
   "execution_count": 320,
   "metadata": {},
   "outputs": [
    {
     "data": {
      "text/plain": [
       "{'Z', 'a', 'd', 'f', 'g', 'm', 'p', 's', 'x'}"
      ]
     },
     "execution_count": 320,
     "metadata": {},
     "output_type": "execute_result"
    }
   ],
   "source": [
    "X = set('spamspamspaspamspax')\n",
    "X.update(\"ZZZZfdsgdsdg\")\n",
    "X"
   ]
  },
  {
   "cell_type": "code",
   "execution_count": 122,
   "metadata": {
    "scrolled": true
   },
   "outputs": [
    {
     "name": "stdout",
     "output_type": "stream",
     "text": [
      "True\n",
      "{'sue'}\n",
      "{'vic', 'sue', 'bob', 'ann', 'tom'}\n",
      "{'vic', 'bob', 'ann'}\n",
      "{'tom'}\n",
      "False\n",
      "True\n",
      "True\n",
      "{'vic', 'tom', 'bob', 'ann'}\n",
      "{'sue'}\n"
     ]
    }
   ],
   "source": [
    ">>> engineers = {'bob', 'sue', 'ann', 'vic'}\n",
    ">>> managers = {'tom', 'sue'}\n",
    "print('bob' in engineers) # bob – инженер?\n",
    "print(engineers & managers) # Кто одновременно является\n",
    "# инженером и менеджером?\n",
    "print(engineers | managers) # Все сотрудники из обеих категорий\n",
    "print(engineers - managers) # Инженеры, не являющиеся менеджерами\n",
    "print(managers - engineers) # Менеджеры, не являющиеся инженерам\n",
    "print(engineers > managers) # Все менеджеры являются инженерами?\n",
    "# (надмножество)\n",
    "print({'bob', 'sue'} < engineers) # Оба сотрудника - инженеры? (подмножество)\n",
    "print((managers | engineers) > managers) # Множество всех сотрудников является\n",
    "# надмножеством менеджеров?\n",
    "print(managers ^ engineers) # Сотрудники, принадлежащие к какой-то одной\n",
    "# категории\n",
    "print((managers | engineers) - (managers ^ engineers)) # Пересечение!"
   ]
  }
 ],
 "metadata": {
  "kernelspec": {
   "display_name": "Python 3",
   "language": "python",
   "name": "python3"
  },
  "language_info": {
   "codemirror_mode": {
    "name": "ipython",
    "version": 3
   },
   "file_extension": ".py",
   "mimetype": "text/x-python",
   "name": "python",
   "nbconvert_exporter": "python",
   "pygments_lexer": "ipython3",
   "version": "3.7.4"
  }
 },
 "nbformat": 4,
 "nbformat_minor": 2
}
