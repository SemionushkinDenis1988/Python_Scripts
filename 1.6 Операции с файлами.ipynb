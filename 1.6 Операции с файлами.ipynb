{
 "cells": [
  {
   "cell_type": "markdown",
   "metadata": {},
   "source": [
    "# Операции с файлами"
   ]
  },
  {
   "cell_type": "code",
   "execution_count": 10,
   "metadata": {
    "collapsed": true
   },
   "outputs": [
    {
     "data": {
      "text/plain": [
       "['_CHUNK_SIZE',\n",
       " '__class__',\n",
       " '__del__',\n",
       " '__delattr__',\n",
       " '__dict__',\n",
       " '__dir__',\n",
       " '__doc__',\n",
       " '__enter__',\n",
       " '__eq__',\n",
       " '__exit__',\n",
       " '__format__',\n",
       " '__ge__',\n",
       " '__getattribute__',\n",
       " '__getstate__',\n",
       " '__gt__',\n",
       " '__hash__',\n",
       " '__init__',\n",
       " '__init_subclass__',\n",
       " '__iter__',\n",
       " '__le__',\n",
       " '__lt__',\n",
       " '__ne__',\n",
       " '__new__',\n",
       " '__next__',\n",
       " '__reduce__',\n",
       " '__reduce_ex__',\n",
       " '__repr__',\n",
       " '__setattr__',\n",
       " '__sizeof__',\n",
       " '__str__',\n",
       " '__subclasshook__',\n",
       " '_checkClosed',\n",
       " '_checkReadable',\n",
       " '_checkSeekable',\n",
       " '_checkWritable',\n",
       " '_finalizing',\n",
       " 'buffer',\n",
       " 'close',\n",
       " 'closed',\n",
       " 'detach',\n",
       " 'encoding',\n",
       " 'errors',\n",
       " 'fileno',\n",
       " 'flush',\n",
       " 'isatty',\n",
       " 'line_buffering',\n",
       " 'mode',\n",
       " 'name',\n",
       " 'newlines',\n",
       " 'read',\n",
       " 'readable',\n",
       " 'readline',\n",
       " 'readlines',\n",
       " 'reconfigure',\n",
       " 'seek',\n",
       " 'seekable',\n",
       " 'tell',\n",
       " 'truncate',\n",
       " 'writable',\n",
       " 'write',\n",
       " 'write_through',\n",
       " 'writelines']"
      ]
     },
     "execution_count": 10,
     "metadata": {},
     "output_type": "execute_result"
    }
   ],
   "source": [
    "dir(f)"
   ]
  },
  {
   "cell_type": "code",
   "execution_count": 6,
   "metadata": {},
   "outputs": [
    {
     "name": "stdout",
     "output_type": "stream",
     "text": [
      "['Line 1\\n', 'Line 2\\n', 'Line 3\\n', 'Hello\\n', 'Hello\\n', 'Hello\\n', 'Hello\\n', 'Hello\\n']\n",
      "('Line 1\\n', 'Line 2\\n', 'Line 3\\n', 'Hello\\n', 'Hello\\n', 'Hello\\n', 'Hello\\n', 'Hello\\n')\n",
      "Line 1\n",
      "xxLine 2\n",
      "xxLine 3\n",
      "xxHello\n",
      "xxHello\n",
      "xxHello\n",
      "xxHello\n",
      "xxHello\n",
      "\n",
      "Line 1\n",
      " ['Hello\\n', 'Hello\\n', 'Hello\\n', 'Hello\\n', 'Hello\\n']\n",
      "{'Hello\\n', 'Line 2\\n', 'Line 1\\n', 'Line 3\\n'}\n"
     ]
    }
   ],
   "source": [
    "print(list(open('test.txt')))             #у файлов есть встроенный итератор, поэтому их можно прямо загружать в функции\n",
    "print(tuple(open('test.txt')))          #у файлов есть встроенный итератор, поэтому их можно прямо загружать в функции\n",
    "print(\"xx\".join(open('test.txt')))        #у файлов есть встроенный итератор, поэтому их можно прямо загружать в функции\n",
    "a, b, c, *d = open('test.txt')            #у файлов есть встроенный итератор, поэтому их можно прямо загружать в функции\n",
    "print(a,d)\n",
    "print(set(open('test.txt')))          #у файлов есть встроенный итератор, поэтому их можно прямо загружать в функции"
   ]
  },
  {
   "cell_type": "code",
   "execution_count": 1,
   "metadata": {},
   "outputs": [],
   "source": [
    ">>> f = open('data.txt', 'w') # Создается новый файл для вывода\n",
    "f.write('Hello\\n') # Запись строки байтов в файл возвращает количество символов\n",
    ">>> f.write('world\\n')\n",
    "f.close() # Закрывает файл и выталкивает выходные буферы на диск(то есть записывает файл)"
   ]
  },
  {
   "cell_type": "code",
   "execution_count": 6,
   "metadata": {
    "scrolled": true
   },
   "outputs": [
    {
     "data": {
      "text/plain": [
       "'Hello\\nworld\\n'"
      ]
     },
     "execution_count": 6,
     "metadata": {},
     "output_type": "execute_result"
    }
   ],
   "source": [
    ">>> f = open('data.txt') # ‘r’ – это режим доступа к файлу по умолчанию\n",
    ">>> text = f.read() # Файл читается целиком в единственную строку, функция принимает количество байт как аргумент\n",
    ">>> text"
   ]
  },
  {
   "cell_type": "code",
   "execution_count": 8,
   "metadata": {},
   "outputs": [
    {
     "name": "stdout",
     "output_type": "stream",
     "text": [
      "Hello\n",
      "world\n",
      "\n"
     ]
    }
   ],
   "source": [
    "print(text) # Вывод, с попутной интерпретацией служебных символов"
   ]
  },
  {
   "cell_type": "code",
   "execution_count": 9,
   "metadata": {
    "scrolled": true
   },
   "outputs": [
    {
     "data": {
      "text/plain": [
       "['Hello', 'world']"
      ]
     },
     "execution_count": 9,
     "metadata": {},
     "output_type": "execute_result"
    }
   ],
   "source": [
    ">>> text.split() # Содержимое файла всегда является строкой"
   ]
  },
  {
   "cell_type": "code",
   "execution_count": 11,
   "metadata": {},
   "outputs": [],
   "source": [
    "#f.buffer()  ХЗ ЧТО ЭТО\n",
    "f.close() #закрывает файл"
   ]
  },
  {
   "cell_type": "code",
   "execution_count": 12,
   "metadata": {},
   "outputs": [
    {
     "data": {
      "text/plain": [
       "True"
      ]
     },
     "execution_count": 12,
     "metadata": {},
     "output_type": "execute_result"
    }
   ],
   "source": [
    "f.closed #возвращает тру если файл закрыт, фолс если открыт "
   ]
  },
  {
   "cell_type": "code",
   "execution_count": 13,
   "metadata": {},
   "outputs": [
    {
     "data": {
      "text/plain": [
       "<function TextIOWrapper.detach()>"
      ]
     },
     "execution_count": 13,
     "metadata": {},
     "output_type": "execute_result"
    }
   ],
   "source": [
    "f = open('data.txt')\n",
    "f.detach # ХЗ ЧТО ТАКОЕ"
   ]
  },
  {
   "cell_type": "code",
   "execution_count": 14,
   "metadata": {},
   "outputs": [
    {
     "data": {
      "text/plain": [
       "'cp1251'"
      ]
     },
     "execution_count": 14,
     "metadata": {},
     "output_type": "execute_result"
    }
   ],
   "source": [
    "f = open('data.txt')\n",
    "f.encoding # возвращает кодировку???"
   ]
  },
  {
   "cell_type": "code",
   "execution_count": 15,
   "metadata": {},
   "outputs": [
    {
     "data": {
      "text/plain": [
       "'strict'"
      ]
     },
     "execution_count": 15,
     "metadata": {},
     "output_type": "execute_result"
    }
   ],
   "source": [
    "f = open('data.txt')\n",
    "f.errors # возвращает какой-то \"strict\"???"
   ]
  },
  {
   "cell_type": "code",
   "execution_count": 16,
   "metadata": {},
   "outputs": [
    {
     "data": {
      "text/plain": [
       "5"
      ]
     },
     "execution_count": 16,
     "metadata": {},
     "output_type": "execute_result"
    }
   ],
   "source": [
    "f = open('data.txt')\n",
    "f.fileno()#Возвращает основной файловый дескриптор (целое число) потока, если он существует. ???"
   ]
  },
  {
   "cell_type": "code",
   "execution_count": 18,
   "metadata": {},
   "outputs": [],
   "source": [
    "f = open('data.txt')\n",
    "f.flush() #Выталкивает выходные буферы на диск, файл остается открытым, буферы выталкиваются в файл только по компанде close или\n",
    "#flush"
   ]
  },
  {
   "cell_type": "code",
   "execution_count": 19,
   "metadata": {},
   "outputs": [
    {
     "data": {
      "text/plain": [
       "False"
      ]
     },
     "execution_count": 19,
     "metadata": {},
     "output_type": "execute_result"
    }
   ],
   "source": [
    "f = open('data.txt')\n",
    "f.isatty() #Возвращает True, если поток является интерактивным (т. Е. Подключен к терминалу / устройству tty)."
   ]
  },
  {
   "cell_type": "code",
   "execution_count": 20,
   "metadata": {
    "collapsed": true
   },
   "outputs": [
    {
     "ename": "TypeError",
     "evalue": "'bool' object is not callable",
     "output_type": "error",
     "traceback": [
      "\u001b[1;31m---------------------------------------------------------------------------\u001b[0m",
      "\u001b[1;31mTypeError\u001b[0m                                 Traceback (most recent call last)",
      "\u001b[1;32m<ipython-input-20-6759128ede60>\u001b[0m in \u001b[0;36m<module>\u001b[1;34m\u001b[0m\n\u001b[0;32m      1\u001b[0m \u001b[0mf\u001b[0m \u001b[1;33m=\u001b[0m \u001b[0mopen\u001b[0m\u001b[1;33m(\u001b[0m\u001b[1;34m'data.txt'\u001b[0m\u001b[1;33m)\u001b[0m\u001b[1;33m\u001b[0m\u001b[1;33m\u001b[0m\u001b[0m\n\u001b[1;32m----> 2\u001b[1;33m \u001b[0mf\u001b[0m\u001b[1;33m.\u001b[0m\u001b[0mline_buffering\u001b[0m\u001b[1;33m(\u001b[0m\u001b[1;33m)\u001b[0m \u001b[1;31m# ХЗ ЧТО ТАКОЕ\u001b[0m\u001b[1;33m\u001b[0m\u001b[1;33m\u001b[0m\u001b[0m\n\u001b[0m",
      "\u001b[1;31mTypeError\u001b[0m: 'bool' object is not callable"
     ]
    }
   ],
   "source": [
    "f = open('data.txt')\n",
    "f.line_buffering() # ХЗ ЧТО ТАКОЕ"
   ]
  },
  {
   "cell_type": "code",
   "execution_count": 21,
   "metadata": {
    "collapsed": true
   },
   "outputs": [
    {
     "ename": "TypeError",
     "evalue": "'str' object is not callable",
     "output_type": "error",
     "traceback": [
      "\u001b[1;31m---------------------------------------------------------------------------\u001b[0m",
      "\u001b[1;31mTypeError\u001b[0m                                 Traceback (most recent call last)",
      "\u001b[1;32m<ipython-input-21-a8902a7010b1>\u001b[0m in \u001b[0;36m<module>\u001b[1;34m\u001b[0m\n\u001b[0;32m      1\u001b[0m \u001b[0mf\u001b[0m \u001b[1;33m=\u001b[0m \u001b[0mopen\u001b[0m\u001b[1;33m(\u001b[0m\u001b[1;34m'data.txt'\u001b[0m\u001b[1;33m)\u001b[0m\u001b[1;33m\u001b[0m\u001b[1;33m\u001b[0m\u001b[0m\n\u001b[1;32m----> 2\u001b[1;33m \u001b[0mf\u001b[0m\u001b[1;33m.\u001b[0m\u001b[0mmode\u001b[0m\u001b[1;33m(\u001b[0m\u001b[1;33m)\u001b[0m \u001b[1;31m#ХЗ ЧТО ТАКОЕ какой-то режим указанный в конструкторе\u001b[0m\u001b[1;33m\u001b[0m\u001b[1;33m\u001b[0m\u001b[0m\n\u001b[0m",
      "\u001b[1;31mTypeError\u001b[0m: 'str' object is not callable"
     ]
    }
   ],
   "source": [
    "f = open('data.txt')\n",
    "f.mode() #ХЗ ЧТО ТАКОЕ какой-то режим указанный в конструкторе"
   ]
  },
  {
   "cell_type": "code",
   "execution_count": 22,
   "metadata": {
    "collapsed": true
   },
   "outputs": [
    {
     "ename": "TypeError",
     "evalue": "'str' object is not callable",
     "output_type": "error",
     "traceback": [
      "\u001b[1;31m---------------------------------------------------------------------------\u001b[0m",
      "\u001b[1;31mTypeError\u001b[0m                                 Traceback (most recent call last)",
      "\u001b[1;32m<ipython-input-22-45634662c7be>\u001b[0m in \u001b[0;36m<module>\u001b[1;34m\u001b[0m\n\u001b[0;32m      1\u001b[0m \u001b[0mf\u001b[0m \u001b[1;33m=\u001b[0m \u001b[0mopen\u001b[0m\u001b[1;33m(\u001b[0m\u001b[1;34m'data.txt'\u001b[0m\u001b[1;33m)\u001b[0m\u001b[1;33m\u001b[0m\u001b[1;33m\u001b[0m\u001b[0m\n\u001b[1;32m----> 2\u001b[1;33m \u001b[0mf\u001b[0m\u001b[1;33m.\u001b[0m\u001b[0mname\u001b[0m\u001b[1;33m(\u001b[0m\u001b[1;33m)\u001b[0m \u001b[1;31m#ХЗ ЧТО ТАКОЕ Имя файла Это дескриптор файла, когда в конструкторе не указано имя.\u001b[0m\u001b[1;33m\u001b[0m\u001b[1;33m\u001b[0m\u001b[0m\n\u001b[0m",
      "\u001b[1;31mTypeError\u001b[0m: 'str' object is not callable"
     ]
    }
   ],
   "source": [
    "f = open('data.txt')\n",
    "f.name() #ХЗ ЧТО ТАКОЕ Имя файла Это дескриптор файла, когда в конструкторе не указано имя."
   ]
  },
  {
   "cell_type": "code",
   "execution_count": 23,
   "metadata": {
    "collapsed": true
   },
   "outputs": [
    {
     "ename": "TypeError",
     "evalue": "'NoneType' object is not callable",
     "output_type": "error",
     "traceback": [
      "\u001b[1;31m---------------------------------------------------------------------------\u001b[0m",
      "\u001b[1;31mTypeError\u001b[0m                                 Traceback (most recent call last)",
      "\u001b[1;32m<ipython-input-23-958b3adc628c>\u001b[0m in \u001b[0;36m<module>\u001b[1;34m\u001b[0m\n\u001b[0;32m      1\u001b[0m \u001b[0mf\u001b[0m \u001b[1;33m=\u001b[0m \u001b[0mopen\u001b[0m\u001b[1;33m(\u001b[0m\u001b[1;34m'data.txt'\u001b[0m\u001b[1;33m)\u001b[0m\u001b[1;33m\u001b[0m\u001b[1;33m\u001b[0m\u001b[0m\n\u001b[1;32m----> 2\u001b[1;33m \u001b[0mf\u001b[0m\u001b[1;33m.\u001b[0m\u001b[0mnewlines\u001b[0m\u001b[1;33m(\u001b[0m\u001b[1;33m)\u001b[0m \u001b[1;31m#ХЗ ЧТО ЭТО Строка, кортеж строк или None, указывающие переведенные строки. В зависимости от реализации и флагов исходного конструктора это может быть недоступно.\u001b[0m\u001b[1;33m\u001b[0m\u001b[1;33m\u001b[0m\u001b[0m\n\u001b[0m",
      "\u001b[1;31mTypeError\u001b[0m: 'NoneType' object is not callable"
     ]
    }
   ],
   "source": [
    "f = open('data.txt')\n",
    "f.newlines() #ХЗ ЧТО ЭТО Строка, кортеж строк или None, указывающие переведенные строки. В зависимости от реализации и флагов исходного конструктора это может быть недоступно."
   ]
  },
  {
   "cell_type": "code",
   "execution_count": 24,
   "metadata": {},
   "outputs": [
    {
     "data": {
      "text/plain": [
       "False"
      ]
     },
     "execution_count": 24,
     "metadata": {},
     "output_type": "execute_result"
    }
   ],
   "source": [
    "f = open('data.txt', 'w')\n",
    "f.readable() # возращает тру если объект открыт для чтения, фалс если для других целей"
   ]
  },
  {
   "cell_type": "code",
   "execution_count": 25,
   "metadata": {},
   "outputs": [
    {
     "data": {
      "text/plain": [
       "''"
      ]
     },
     "execution_count": 25,
     "metadata": {},
     "output_type": "execute_result"
    }
   ],
   "source": [
    "f = open('data.txt')\n",
    "f.readline(2) #читает одну линию или количество символов заданное в аргументе size ="
   ]
  },
  {
   "cell_type": "code",
   "execution_count": 26,
   "metadata": {},
   "outputs": [
    {
     "data": {
      "text/plain": [
       "[]"
      ]
     },
     "execution_count": 26,
     "metadata": {},
     "output_type": "execute_result"
    }
   ],
   "source": [
    "f = open('data.txt')\n",
    "f.readlines(28) #читает все строки или количество строк заданное в аргументе hint = "
   ]
  },
  {
   "cell_type": "code",
   "execution_count": 27,
   "metadata": {
    "collapsed": true
   },
   "outputs": [
    {
     "ename": "SyntaxError",
     "evalue": "invalid syntax (<ipython-input-27-f837fc3494f0>, line 2)",
     "output_type": "error",
     "traceback": [
      "\u001b[1;36m  File \u001b[1;32m\"<ipython-input-27-f837fc3494f0>\"\u001b[1;36m, line \u001b[1;32m2\u001b[0m\n\u001b[1;33m    f.reconfigure(*, encoding=None, errors=None, newline=None, line_buffering=None, write_through=None) #ХЗ ЧТО ЭТО переконфигурирует \"поток с новыми параметрами\u001b[0m\n\u001b[1;37m                   ^\u001b[0m\n\u001b[1;31mSyntaxError\u001b[0m\u001b[1;31m:\u001b[0m invalid syntax\n"
     ]
    }
   ],
   "source": [
    "f = open('data.txt')\n",
    "f.reconfigure(*, encoding=None, errors=None, newline=None, line_buffering=None, write_through=None) #ХЗ ЧТО ЭТО переконфигурирует \"поток с новыми параметрами"
   ]
  },
  {
   "cell_type": "code",
   "execution_count": 28,
   "metadata": {},
   "outputs": [
    {
     "data": {
      "text/plain": [
       "10"
      ]
     },
     "execution_count": 28,
     "metadata": {},
     "output_type": "execute_result"
    }
   ],
   "source": [
    "f = open('data.txt')\n",
    "f.seek(10,0) #перемещает позицию чтения/записи в файле \"(cookie, whence=0, /)\"  \n",
    "#Values for whence are:\n",
    "#0 -- start of stream (the default); offset should be zero or positive\n",
    "#1 -- current stream position; offset may be negative\n",
    "#2 -- end of stream; offset is usually negative"
   ]
  },
  {
   "cell_type": "code",
   "execution_count": 29,
   "metadata": {},
   "outputs": [
    {
     "data": {
      "text/plain": [
       "True"
      ]
     },
     "execution_count": 29,
     "metadata": {},
     "output_type": "execute_result"
    }
   ],
   "source": [
    "f = open('data.txt')\n",
    "f.seekable() #If False, seek(), tell() and truncate() will raise OSError."
   ]
  },
  {
   "cell_type": "code",
   "execution_count": null,
   "metadata": {},
   "outputs": [],
   "source": [
    "f = open('data.txt')\n",
    "f.tell() # Return current stream position. ???f = open('data.txt')"
   ]
  },
  {
   "cell_type": "code",
   "execution_count": 30,
   "metadata": {},
   "outputs": [
    {
     "data": {
      "text/plain": [
       "0"
      ]
     },
     "execution_count": 30,
     "metadata": {},
     "output_type": "execute_result"
    }
   ],
   "source": [
    "f = open('data.txt','w')\n",
    "f.truncate() #ХЗ ЧТО ТАКОЕ ОБРЕЗАЕТ ДО РАЗМЕРА В БАЙТАХ???"
   ]
  },
  {
   "cell_type": "code",
   "execution_count": 31,
   "metadata": {},
   "outputs": [
    {
     "data": {
      "text/plain": [
       "True"
      ]
     },
     "execution_count": 31,
     "metadata": {},
     "output_type": "execute_result"
    }
   ],
   "source": [
    "f = open('data.txt','w')\n",
    "f.writable() # If False, write() will raise OSError."
   ]
  },
  {
   "cell_type": "code",
   "execution_count": 32,
   "metadata": {},
   "outputs": [],
   "source": [
    "f.close() #закрывает файл"
   ]
  },
  {
   "cell_type": "code",
   "execution_count": 33,
   "metadata": {},
   "outputs": [],
   "source": [
    "f = open('data.txt','w')\n",
    "f.write(\"AAAAAASSSSSSSS\") #записывает строку в буфер, строка попадает в файл только после close()\n",
    "f.close()"
   ]
  },
  {
   "cell_type": "code",
   "execution_count": 34,
   "metadata": {
    "collapsed": true
   },
   "outputs": [
    {
     "ename": "TypeError",
     "evalue": "'bool' object is not callable",
     "output_type": "error",
     "traceback": [
      "\u001b[1;31m---------------------------------------------------------------------------\u001b[0m",
      "\u001b[1;31mTypeError\u001b[0m                                 Traceback (most recent call last)",
      "\u001b[1;32m<ipython-input-34-4ccb455b95cc>\u001b[0m in \u001b[0;36m<module>\u001b[1;34m\u001b[0m\n\u001b[0;32m      1\u001b[0m \u001b[0mf\u001b[0m \u001b[1;33m=\u001b[0m \u001b[0mopen\u001b[0m\u001b[1;33m(\u001b[0m\u001b[1;34m'data.txt'\u001b[0m\u001b[1;33m,\u001b[0m\u001b[1;34m'w'\u001b[0m\u001b[1;33m)\u001b[0m\u001b[1;33m\u001b[0m\u001b[1;33m\u001b[0m\u001b[0m\n\u001b[1;32m----> 2\u001b[1;33m \u001b[0mf\u001b[0m\u001b[1;33m.\u001b[0m\u001b[0mwrite_through\u001b[0m\u001b[1;33m(\u001b[0m\u001b[1;34m'SSSSSSSSSSSSS'\u001b[0m\u001b[1;33m)\u001b[0m \u001b[1;31m#хз что это Передаются ли записи немедленно в основной двоичный буфер\u001b[0m\u001b[1;33m\u001b[0m\u001b[1;33m\u001b[0m\u001b[0m\n\u001b[0m",
      "\u001b[1;31mTypeError\u001b[0m: 'bool' object is not callable"
     ]
    }
   ],
   "source": [
    "f = open('data.txt','w')\n",
    "f.write_through('SSSSSSSSSSSSS') #хз что это Передаются ли записи немедленно в основной двоичный буфер"
   ]
  },
  {
   "cell_type": "code",
   "execution_count": 35,
   "metadata": {},
   "outputs": [],
   "source": [
    "f = open('data.txt','w')\n",
    "f.writelines([\"AAAA\",\"AAAAAASSSSSSSS\"]) #записывает строки в файл, принимает строку или лист строк в качестве аргументы\n",
    "f.close()"
   ]
  },
  {
   "cell_type": "code",
   "execution_count": 36,
   "metadata": {},
   "outputs": [
    {
     "data": {
      "text/plain": [
       "b'aaaaaaaaaaaaaaaaaaaaaaaaaaaaa\\r\\nb\\xe2\\x80\\x99\\\\x00\\\\x00\\\\x00\\\\x07spam\\\\x00\\\\x08\\xe2\\x80\\x99'"
      ]
     },
     "execution_count": 36,
     "metadata": {},
     "output_type": "execute_result"
    }
   ],
   "source": [
    ">>> data = open(\"data7.bin\", \"rb\").read()# Файл открывается в двоичном режиме\n",
    ">>> data # Строка байтов хранит двоичные данные"
   ]
  },
  {
   "cell_type": "code",
   "execution_count": 37,
   "metadata": {
    "scrolled": true
   },
   "outputs": [
    {
     "name": "stdout",
     "output_type": "stream",
     "text": [
      "97\n",
      "b'aaaaaaaaaaaaaaaaaaaaaaaaa\\r\\nb\\xe2\\x80\\x99\\\\x00\\\\x00\\\\x00\\\\x07spam\\\\x00\\\\x08\\xe2\\x80\\x99'\n"
     ]
    }
   ],
   "source": [
    "print(data[2]) # Файл в двоичном режиме\n",
    "print(data[4:140]) # Строка байтов хранит двоичные данные"
   ]
  },
  {
   "cell_type": "code",
   "execution_count": null,
   "metadata": {},
   "outputs": [],
   "source": [
    "for line in open('data.txt'): #Итерации по файлу, построчное чтение\n",
    "#операции над line"
   ]
  },
  {
   "cell_type": "code",
   "execution_count": null,
   "metadata": {},
   "outputs": [],
   "source": [
    ">>> for line in open('myfile.txt'): # Используйте итераторы, а не методы чтения\n",
    "        print(line, end='') #Обычно такой способ компактнее, эффектив-\n",
    "#нее использует память и может оказаться быстрее некоторых других вариан-\n",
    "#тов (конечно, это зависит от множества параметров)."
   ]
  },
  {
   "cell_type": "code",
   "execution_count": 6,
   "metadata": {},
   "outputs": [
    {
     "data": {
      "text/plain": [
       "b'aaaaaaaaaaaaaaaaaaaaaaaaaaaaa\\r\\nb\\xe2\\x80\\x99\\\\x00\\\\x00\\\\x00\\\\x07spam\\\\x00\\\\x08\\xe2\\x80\\x99'"
      ]
     },
     "execution_count": 6,
     "metadata": {},
     "output_type": "execute_result"
    }
   ],
   "source": [
    ">>> data = open('data7.bin', 'rb').read() # Открыть двоичный файл для чтения\n",
    ">>> data # Строка bytes хранит двоичные данные"
   ]
  },
  {
   "cell_type": "code",
   "execution_count": 7,
   "metadata": {},
   "outputs": [
    {
     "data": {
      "text/plain": [
       "b'aaaa'"
      ]
     },
     "execution_count": 7,
     "metadata": {},
     "output_type": "execute_result"
    }
   ],
   "source": [
    ">>> data[4:8] # Ведет себя как строка"
   ]
  },
  {
   "cell_type": "code",
   "execution_count": 8,
   "metadata": {},
   "outputs": [
    {
     "data": {
      "text/plain": [
       "97"
      ]
     },
     "execution_count": 8,
     "metadata": {},
     "output_type": "execute_result"
    }
   ],
   "source": [
    ">>> data[4:8][0] # Но в действительности хранит 8-битные целые числа"
   ]
  },
  {
   "cell_type": "code",
   "execution_count": 9,
   "metadata": {},
   "outputs": [
    {
     "data": {
      "text/plain": [
       "'0b1100001'"
      ]
     },
     "execution_count": 9,
     "metadata": {},
     "output_type": "execute_result"
    }
   ],
   "source": [
    ">>> bin(data[4:8][0]) # Функция bin() в Python 3.0"
   ]
  },
  {
   "cell_type": "code",
   "execution_count": 12,
   "metadata": {},
   "outputs": [],
   "source": [
    ">>> X, Y, Z = 43, 44, 45 # Объекты языка Python должны\n",
    ">>> S = 'Spam' # записываться в файл только в виде строк\n",
    ">>> D = {'a': 1, 'b': 2}\n",
    ">>> L = [1, 2, 3]\n",
    ">>>\n",
    ">>> F = open('datafile.txt', 'w') # Создает файл для записи\n",
    ">>> F.write(S + '\\n') # Строки завершаются символом\n",
    ">>> F.write('%s,%s,%s\\n' % (X, Y, Z)) # Преобразует числа в строки\n",
    ">>> F.write(str(L) + '$' + str(D) + '\\n') # Преобразует и разделяет символом $\n",
    ">>> F.close()"
   ]
  },
  {
   "cell_type": "code",
   "execution_count": 15,
   "metadata": {},
   "outputs": [
    {
     "data": {
      "text/plain": [
       "{'a': 1, 'b': 2}"
      ]
     },
     "execution_count": 15,
     "metadata": {},
     "output_type": "execute_result"
    }
   ],
   "source": [
    "eval(\"{'a': 1, 'b': 2}\\n\") #функция eval интерпретирует строку как программный код python"
   ]
  },
  {
   "cell_type": "code",
   "execution_count": null,
   "metadata": {},
   "outputs": [],
   "source": [
    "with open(r'C:\\misc\\data.txt') as myfile: # автоматическое закрытие файла\n",
    "for line in myfile:"
   ]
  },
  {
   "cell_type": "code",
   "execution_count": 28,
   "metadata": {},
   "outputs": [
    {
     "ename": "TypeError",
     "evalue": "string argument without an encoding",
     "output_type": "error",
     "traceback": [
      "\u001b[1;31m---------------------------------------------------------------------------\u001b[0m",
      "\u001b[1;31mTypeError\u001b[0m                                 Traceback (most recent call last)",
      "\u001b[1;32m<ipython-input-28-46d49ede9350>\u001b[0m in \u001b[0;36m<module>\u001b[1;34m\u001b[0m\n\u001b[1;32m----> 1\u001b[1;33m \u001b[0ms\u001b[0m \u001b[1;33m=\u001b[0m \u001b[0mbytearray\u001b[0m\u001b[1;33m(\u001b[0m\u001b[1;34m\"aaaaaaaaaa\"\u001b[0m\u001b[1;33m)\u001b[0m\u001b[1;33m\u001b[0m\u001b[1;33m\u001b[0m\u001b[0m\n\u001b[0m\u001b[0;32m      2\u001b[0m \u001b[0ms\u001b[0m\u001b[1;33m\u001b[0m\u001b[1;33m\u001b[0m\u001b[0m\n",
      "\u001b[1;31mTypeError\u001b[0m: string argument without an encoding"
     ]
    }
   ],
   "source": [
    "s = bytearray(\"aaaaaaaaaa\")\n",
    "s"
   ]
  },
  {
   "cell_type": "markdown",
   "metadata": {},
   "source": [
    "## Режимы открытия файлов"
   ]
  },
  {
   "cell_type": "code",
   "execution_count": null,
   "metadata": {},
   "outputs": [],
   "source": [
    "#Режим\tОбозначение\n",
    "#'r'\tоткрытие на чтение (является значением по умолчанию).\n",
    "#'w'\tоткрытие на запись, содержимое файла удаляется, если файла не существует, создается новый.\n",
    "#'x'\tоткрытие на запись, если файла не существует, иначе исключение.\n",
    "#'a'\tоткрытие на дозапись, информация добавляется в конец файла.\n",
    "#'b'\tоткрытие в двоичном режиме.\n",
    "#'t'\tоткрытие в текстовом режиме (является значением по умолчанию).\n",
    "#'+'\tоткрытие на чтение и запись"
   ]
  },
  {
   "cell_type": "markdown",
   "metadata": {},
   "source": [
    "## Модуль pickle"
   ]
  },
  {
   "cell_type": "code",
   "execution_count": null,
   "metadata": {},
   "outputs": [],
   "source": [
    "#Модуль pickle позволяет сохранять в файлах практически любые объекты\n",
    "#Python без необходимости с нашей стороны выполнять какие-либо преобразования\n",
    "#Модуль pickle выполняет то,\n",
    "#что называется сериализацией объектов, – преобразование объектов в строку\n",
    "#байтов и обратно, не требуя от нас почти никаких действий."
   ]
  },
  {
   "cell_type": "code",
   "execution_count": 16,
   "metadata": {},
   "outputs": [],
   "source": [
    "import pickle"
   ]
  },
  {
   "cell_type": "code",
   "execution_count": 17,
   "metadata": {},
   "outputs": [],
   "source": [
    ">>> D = {'a': 1, 'b': 2}\n",
    ">>> F = open('datafile.pkl', 'wb') #wb! файл открыт в двоичном режиме!!!\n",
    ">>> import pickle\n",
    ">>> pickle.dump(D, F) # Модуль pickle запишет в файл любой объект\n",
    ">>> F.close()"
   ]
  },
  {
   "cell_type": "code",
   "execution_count": 20,
   "metadata": {},
   "outputs": [
    {
     "data": {
      "text/plain": [
       "{'a': 1, 'b': 2}"
      ]
     },
     "execution_count": 20,
     "metadata": {},
     "output_type": "execute_result"
    }
   ],
   "source": [
    ">>> F = open('datafile.pkl','rb')\n",
    ">>> E = pickle.load(F) # Загружает любые объекты из файла\n",
    ">>> E"
   ]
  },
  {
   "cell_type": "code",
   "execution_count": 21,
   "metadata": {},
   "outputs": [
    {
     "data": {
      "text/plain": [
       "b'\\x80\\x03}q\\x00(X\\x01\\x00\\x00\\x00aq\\x01K\\x01X\\x01\\x00\\x00\\x00bq\\x02K\\x02u.'"
      ]
     },
     "execution_count": 21,
     "metadata": {},
     "output_type": "execute_result"
    }
   ],
   "source": [
    ">>> open('datafile.pkl', 'rb').read() # Формат может измениться"
   ]
  },
  {
   "cell_type": "code",
   "execution_count": null,
   "metadata": {},
   "outputs": [],
   "source": [
    "#Когда будете заниматься исследованием этого\n",
    "#модуля, обратите также внимание на модуль shelve – инструмент, который ис-\n",
    "#пользует модуль pickle для сохранения объектов Python в файлах с доступом по\n",
    "#ключу"
   ]
  },
  {
   "cell_type": "markdown",
   "metadata": {},
   "source": [
    "## модуль struct "
   ]
  },
  {
   "cell_type": "code",
   "execution_count": null,
   "metadata": {},
   "outputs": [],
   "source": [
    "#в некоторых приложениях приходится иметь дело с упакованными двоичными данными, которые создаются, например, программами\n",
    "#на языке C\n",
    "#модуль struct  позволяет сохранять и восстанавливать упакованные двоичные данные\n",
    "#модуль struct интерпретируen строкив файлах как двоичные данные."
   ]
  },
  {
   "cell_type": "code",
   "execution_count": null,
   "metadata": {
    "scrolled": true
   },
   "outputs": [],
   "source": [
    ">>> F = open('data.bin', 'wb') # Открыть файл для записи в двоичном режиме\n",
    ">>> import struct\n"
   ]
  },
  {
   "cell_type": "code",
   "execution_count": null,
   "metadata": {},
   "outputs": [],
   "source": [
    ">>> data = struct.pack('>i4sh', 7, 'spam', 8) # Создать пакет двоичных данных\n",
    ">>> data"
   ]
  },
  {
   "cell_type": "code",
   "execution_count": null,
   "metadata": {},
   "outputs": [],
   "source": [
    ">>> F.write('data.bin') # Записать строку байтов\n",
    ">>> F.close()"
   ]
  },
  {
   "cell_type": "markdown",
   "metadata": {},
   "source": [
    "## Работа с копиями "
   ]
  },
  {
   "cell_type": "code",
   "execution_count": null,
   "metadata": {},
   "outputs": [],
   "source": [
    "#Одно замечание по поводу копий: выражение извлечения среза с пустыми зна-\n",
    "#чениями пределов и метод словаря copy создают поверхностные копии – то\n",
    "#есть они не копируют вложенные структуры данных, даже если таковые при-\n",
    "#сутствуют. Если необходима полная копия структуры произвольной глубины\n",
    "#вложенности, следует использовать стандартный модуль copy: добавьте ин-\n",
    "#струкцию import copy и вставьте выражение X = copy.deepcopy(Y), которое создаст\n",
    "#полную копию объекта Y со сколь угодно большой глубиной вложенности."
   ]
  }
 ],
 "metadata": {
  "kernelspec": {
   "display_name": "Python 3",
   "language": "python",
   "name": "python3"
  },
  "language_info": {
   "codemirror_mode": {
    "name": "ipython",
    "version": 3
   },
   "file_extension": ".py",
   "mimetype": "text/x-python",
   "name": "python",
   "nbconvert_exporter": "python",
   "pygments_lexer": "ipython3",
   "version": "3.7.3"
  }
 },
 "nbformat": 4,
 "nbformat_minor": 2
}
